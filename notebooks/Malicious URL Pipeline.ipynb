{
 "cells": [
  {
   "cell_type": "markdown",
   "metadata": {
    "application/vnd.databricks.v1+cell": {
     "cellMetadata": {
      "byteLimit": 2048000,
      "rowLimit": 10000
     },
     "inputWidgets": {},
     "nuid": "a71f4336-2118-4f9b-b892-ee0c3bd39062",
     "showTitle": false,
     "tableResultSettingsMap": {},
     "title": ""
    }
   },
   "source": [
    "# Malicious URL Pipeline"
   ]
  },
  {
   "cell_type": "code",
   "execution_count": 0,
   "metadata": {
    "application/vnd.databricks.v1+cell": {
     "cellMetadata": {
      "byteLimit": 2048000,
      "rowLimit": 10000
     },
     "inputWidgets": {},
     "nuid": "752216c5-5915-41ef-a707-c062a9f7d96c",
     "showTitle": false,
     "tableResultSettingsMap": {},
     "title": ""
    }
   },
   "outputs": [],
   "source": [
    "#Install Python Packages\n",
    "%pip install tldextract python-whois\n",
    "\n",
    "from urllib.parse import urlparse\n",
    "import tldextract\n",
    "import whois\n",
    "from pyspark.sql import functions as F\n",
    "from pyspark.sql.types import StringType, IntegerType, BooleanType\n",
    "import pandas as pd"
   ]
  },
  {
   "cell_type": "code",
   "execution_count": 0,
   "metadata": {
    "application/vnd.databricks.v1+cell": {
     "cellMetadata": {
      "byteLimit": 2048000,
      "rowLimit": 10000
     },
     "inputWidgets": {},
     "nuid": "55e70c68-99d9-4a57-b261-3e09f1e6846c",
     "showTitle": false,
     "tableResultSettingsMap": {},
     "title": ""
    }
   },
   "outputs": [],
   "source": [
    "# Secrets to access storage\n",
    "processed_sas_token = dbutils.secrets.get(scope=\"trecombs\", key=\"ProcessedSASToken\")\n",
    "sas_url = dbutils.secrets.get(scope=\"trecombs\", key=\"sasurlvalue\")\n",
    "# Define storage account + container\n",
    "storage_account = \"formula1dl122334\"\n",
    "container_name = \"processed\"\n",
    "\n",
    "# -----------------------------\n",
    "# 3️⃣ Configure Spark with SAS token\n",
    "# -----------------------------\n",
    "spark.conf.set(\n",
    "    f\"fs.azure.sas.{container_name}.{storage_account}.blob.core.windows.net\",\n",
    "    processed_sas_token\n",
    ")\n",
    "spark.conf.set(\n",
    "    \"fs.azure.account.key.formula1dl122334.dfs.core.windows.net\",\n",
    "    dbutils.secrets.get(scope=\"trecombs\", key=\"azurestoragekey\")\n",
    ")"
   ]
  },
  {
   "cell_type": "code",
   "execution_count": 0,
   "metadata": {
    "application/vnd.databricks.v1+cell": {
     "cellMetadata": {
      "byteLimit": 2048000,
      "rowLimit": 10000
     },
     "inputWidgets": {},
     "nuid": "6bd36f3e-5797-4481-8620-207585fe09e4",
     "showTitle": false,
     "tableResultSettingsMap": {},
     "title": ""
    }
   },
   "outputs": [
    {
     "output_type": "display_data",
     "data": {
      "text/html": [
       "<style scoped>\n",
       "  .table-result-container {\n",
       "    max-height: 300px;\n",
       "    overflow: auto;\n",
       "  }\n",
       "  table, th, td {\n",
       "    border: 1px solid black;\n",
       "    border-collapse: collapse;\n",
       "  }\n",
       "  th, td {\n",
       "    padding: 5px;\n",
       "  }\n",
       "  th {\n",
       "    text-align: left;\n",
       "  }\n",
       "</style><div class='table-result-container'><table class='table-result'><thead style='background-color: white'><tr><th>url</th><th>type</th><th>domain</th><th>tld</th><th>owner</th><th>e_count</th><th>has_A_and_T</th></tr></thead><tbody><tr><td>br-icloud.com.br</td><td>phishing</td><td>br-icloud.com.br</td><td>com.br</td><td>Toweb Brasil LTDA EPP</td><td>0</td><td>false</td></tr><tr><td>mp3raid.com/music/krizz_kaliko.html</td><td>benign</td><td>mp3raid.com</td><td>com</td><td>GoDaddy.com, LLC</td><td>0</td><td>false</td></tr><tr><td>bopsecrets.org/rexroth/cr/1.htm</td><td>benign</td><td>bopsecrets.org</td><td>org</td><td>REDACTED</td><td>2</td><td>false</td></tr><tr><td>http://www.garage-pirenne.be/index.php?option=com_content&view=article&id=70&vsig70_0=15</td><td>defacement</td><td>garage-pirenne.be</td><td>be</td><td>Above.com Domain Privacy</td><td>4</td><td>false</td></tr><tr><td>http://adventure-nicaragua.net/index.php?option=com_mailto&tmpl=component&link=aHR0cDovL2FkdmVudHVyZS1uaWNhcmFndWEubmV0L2luZGV4LnBocD9vcHRpb249Y29tX2NvbnRlbnQmdmlldz1hcnRpY2xlJmlkPTQ3OmFib3V0JmNhdGlkPTM2OmRlbW8tYXJ0aWNsZXMmSXRlbWlkPTU0</td><td>defacement</td><td>adventure-nicaragua.net</td><td>net</td><td>Above.com Pty Ltd.</td><td>3</td><td>true</td></tr><tr><td>http://buzzfil.net/m/show-art/ils-etaient-loin-de-s-imaginer-que-le-hibou-allait-faire-ceci-quand-ils-filmaient-2.html</td><td>benign</td><td>buzzfil.net</td><td>net</td><td>REDACTED FOR PRIVACY</td><td>1</td><td>false</td></tr><tr><td>espn.go.com/nba/player/_/id/3457/brandon-rush</td><td>benign</td><td>go.com</td><td>com</td><td>CSC Corporate Domains, Inc.</td><td>0</td><td>false</td></tr><tr><td>yourbittorrent.com/?q=anthony-hamilton-soulife</td><td>benign</td><td>yourbittorrent.com</td><td>com</td><td>Whois Privacy Corp.</td><td>1</td><td>false</td></tr><tr><td>http://www.pashminaonline.com/pure-pashminas</td><td>defacement</td><td>pashminaonline.com</td><td>com</td><td>REDACTED FOR PRIVACY</td><td>1</td><td>false</td></tr><tr><td>allmusic.com/album/crazy-from-the-heat-r16990</td><td>benign</td><td>allmusic.com</td><td>com</td><td>All Media Network, LLC</td><td>0</td><td>false</td></tr></tbody></table></div>"
      ]
     },
     "metadata": {
      "application/vnd.databricks.v1+output": {
       "addedWidgets": {},
       "aggData": [],
       "aggError": "",
       "aggOverflow": false,
       "aggSchema": [],
       "aggSeriesLimitReached": false,
       "aggType": "",
       "arguments": {},
       "columnCustomDisplayInfos": {},
       "data": [
        [
         "br-icloud.com.br",
         "phishing",
         "br-icloud.com.br",
         "com.br",
         "Toweb Brasil LTDA EPP",
         0,
         false
        ],
        [
         "mp3raid.com/music/krizz_kaliko.html",
         "benign",
         "mp3raid.com",
         "com",
         "GoDaddy.com, LLC",
         0,
         false
        ],
        [
         "bopsecrets.org/rexroth/cr/1.htm",
         "benign",
         "bopsecrets.org",
         "org",
         "REDACTED",
         2,
         false
        ],
        [
         "http://www.garage-pirenne.be/index.php?option=com_content&view=article&id=70&vsig70_0=15",
         "defacement",
         "garage-pirenne.be",
         "be",
         "Above.com Domain Privacy",
         4,
         false
        ],
        [
         "http://adventure-nicaragua.net/index.php?option=com_mailto&tmpl=component&link=aHR0cDovL2FkdmVudHVyZS1uaWNhcmFndWEubmV0L2luZGV4LnBocD9vcHRpb249Y29tX2NvbnRlbnQmdmlldz1hcnRpY2xlJmlkPTQ3OmFib3V0JmNhdGlkPTM2OmRlbW8tYXJ0aWNsZXMmSXRlbWlkPTU0",
         "defacement",
         "adventure-nicaragua.net",
         "net",
         "Above.com Pty Ltd.",
         3,
         true
        ],
        [
         "http://buzzfil.net/m/show-art/ils-etaient-loin-de-s-imaginer-que-le-hibou-allait-faire-ceci-quand-ils-filmaient-2.html",
         "benign",
         "buzzfil.net",
         "net",
         "REDACTED FOR PRIVACY",
         1,
         false
        ],
        [
         "espn.go.com/nba/player/_/id/3457/brandon-rush",
         "benign",
         "go.com",
         "com",
         "CSC Corporate Domains, Inc.",
         0,
         false
        ],
        [
         "yourbittorrent.com/?q=anthony-hamilton-soulife",
         "benign",
         "yourbittorrent.com",
         "com",
         "Whois Privacy Corp.",
         1,
         false
        ],
        [
         "http://www.pashminaonline.com/pure-pashminas",
         "defacement",
         "pashminaonline.com",
         "com",
         "REDACTED FOR PRIVACY",
         1,
         false
        ],
        [
         "allmusic.com/album/crazy-from-the-heat-r16990",
         "benign",
         "allmusic.com",
         "com",
         "All Media Network, LLC",
         0,
         false
        ]
       ],
       "datasetInfos": [],
       "dbfsResultPath": null,
       "isJsonSchema": true,
       "metadata": {},
       "overflow": false,
       "plotOptions": {
        "customPlotOptions": {},
        "displayType": "table",
        "pivotAggregation": null,
        "pivotColumns": null,
        "xColumns": null,
        "yColumns": null
       },
       "removedWidgets": [],
       "schema": [
        {
         "metadata": "{}",
         "name": "url",
         "type": "\"string\""
        },
        {
         "metadata": "{}",
         "name": "type",
         "type": "\"string\""
        },
        {
         "metadata": "{}",
         "name": "domain",
         "type": "\"string\""
        },
        {
         "metadata": "{}",
         "name": "tld",
         "type": "\"string\""
        },
        {
         "metadata": "{}",
         "name": "owner",
         "type": "\"string\""
        },
        {
         "metadata": "{}",
         "name": "e_count",
         "type": "\"integer\""
        },
        {
         "metadata": "{}",
         "name": "has_A_and_T",
         "type": "\"boolean\""
        }
       ],
       "type": "table"
      }
     },
     "output_type": "display_data"
    },
    {
     "output_type": "stream",
     "name": "stdout",
     "output_type": "stream",
     "text": [
      "Records with A and T in domain that are malware or phishing: 42\n"
     ]
    },
    {
     "output_type": "execute_result",
     "data": {
      "text/plain": [
       "DataFrame[num_affected_rows: bigint, num_inserted_rows: bigint]"
      ]
     },
     "execution_count": 107,
     "metadata": {},
     "output_type": "execute_result"
    }
   ],
   "source": [
    "# Load CSV into Spark using pandas\n",
    "sas_url = dbutils.secrets.get(scope=\"trecombs\", key=\"sas_url\")\n",
    "pdf = pd.read_csv(\"sas_url\")\n",
    "\n",
    "# Convert Pandas DataFrame to Spark DataFrame\n",
    "df = spark.createDataFrame(pdf)\n",
    "\n",
    "# Helpers for URL parsing\n",
    "def extract_domain(url: str) -> str:\n",
    "    if not url:\n",
    "        return None\n",
    "    try:\n",
    "        parsed = urlparse(url if \"://\" in url else f\"http://{url}\")\n",
    "        host = parsed.netloc if parsed.netloc else parsed.path\n",
    "        ext = tldextract.extract(host)\n",
    "        if ext.domain and ext.suffix:\n",
    "            return f\"{ext.domain}.{ext.suffix}\".lower()\n",
    "        elif host:\n",
    "            return host.lower()\n",
    "        return None\n",
    "    except Exception:\n",
    "        return None\n",
    "\n",
    "def extract_tld(url: str) -> str:\n",
    "    if not url:\n",
    "        return None\n",
    "    try:\n",
    "        parsed = urlparse(url if \"://\" in url else f\"http://{url}\")\n",
    "        host = parsed.netloc if parsed.netloc else parsed.path\n",
    "        ext = tldextract.extract(host)\n",
    "        return ext.suffix.lower() if ext.suffix else None\n",
    "    except Exception:\n",
    "        return None\n",
    "\n",
    "def whois_owner(domain: str) -> str:\n",
    "    if not domain:\n",
    "        return None\n",
    "    try:\n",
    "        w = whois.whois(domain)\n",
    "        for key in [\"org\", \"organization\", \"registrant_name\", \"name\", \"registrant_organization\"]:\n",
    "            val = w.get(key)\n",
    "            if isinstance(val, list):\n",
    "                val = val[0] if val else None\n",
    "            if val:\n",
    "                return str(val)\n",
    "        registrar = w.get(\"registrar\")\n",
    "        if registrar:\n",
    "            return str(registrar)\n",
    "    except Exception:\n",
    "        pass\n",
    "    return None\n",
    "\n",
    "def count_e_in_domain(domain: str) -> int:\n",
    "    return domain.count(\"e\") if domain else 0\n",
    "\n",
    "def has_A_and_T(domain: str) -> bool:\n",
    "    if not domain:\n",
    "        return False\n",
    "    d = domain.upper()\n",
    "    return (\"A\" in d) and (\"T\" in d)\n",
    "\n",
    "# UDFs\n",
    "extract_domain_udf = F.udf(extract_domain, StringType())\n",
    "extract_tld_udf    = F.udf(extract_tld, StringType())\n",
    "owner_udf          = F.udf(whois_owner, StringType())\n",
    "count_e_udf        = F.udf(count_e_in_domain, IntegerType())\n",
    "has_AT_udf         = F.udf(has_A_and_T, BooleanType())\n",
    "\n",
    "\n",
    "# Transform Data\n",
    "enriched = (df\n",
    "    .withColumn(\"domain\", extract_domain_udf(F.col(\"url\")))\n",
    "    .withColumn(\"tld\", extract_tld_udf(F.col(\"url\")))\n",
    "    .withColumn(\"owner\", owner_udf(F.col(\"domain\")))        \n",
    "    .withColumn(\"e_count\", count_e_udf(F.col(\"domain\")))\n",
    "    .withColumn(\"has_A_and_T\", has_AT_udf(F.col(\"domain\")))\n",
    ")\n",
    "\n",
    "display(enriched.limit(10))\n",
    "\n",
    "# Count malware/phishing with A and T\n",
    "\n",
    "malware_phishing_AT = (enriched\n",
    "    .filter( (F.upper(F.col(\"type\")).isin(\"MALWARE\", \"PHISHING\")) & (F.col(\"has_A_and_T\") == True) )\n",
    "    .count()\n",
    ")\n",
    "\n",
    "print(f\"Records with A and T in domain that are malware or phishing: {malware_phishing_AT}\")\n",
    "\n",
    "table_name = \"malicious_urls_project_catalog.enriched_data.malicious_urls_enriched\"\n",
    "\n",
    "# Drop/create table using CREATE OR REPLACE TABLE\n",
    "enriched.createOrReplaceTempView(\"temp_enriched\")  # create a temp view\n",
    "\n",
    "spark.sql(f\"\"\"\n",
    "CREATE OR REPLACE TABLE {table_name}\n",
    "USING DELTA\n",
    "AS\n",
    "SELECT * FROM temp_enriched\n",
    "\"\"\")\n"
   ]
  },
  {
   "cell_type": "code",
   "execution_count": 0,
   "metadata": {
    "application/vnd.databricks.v1+cell": {
     "cellMetadata": {
      "byteLimit": 2048000,
      "implicitDf": true,
      "rowLimit": 10000
     },
     "inputWidgets": {},
     "nuid": "9c998787-158e-42d8-b4bf-2b10fa8d0d84",
     "showTitle": false,
     "tableResultSettingsMap": {},
     "title": ""
    }
   },
   "outputs": [
    {
     "output_type": "display_data",
     "data": {
      "text/html": [
       "<style scoped>\n",
       "  .table-result-container {\n",
       "    max-height: 300px;\n",
       "    overflow: auto;\n",
       "  }\n",
       "  table, th, td {\n",
       "    border: 1px solid black;\n",
       "    border-collapse: collapse;\n",
       "  }\n",
       "  th, td {\n",
       "    padding: 5px;\n",
       "  }\n",
       "  th {\n",
       "    text-align: left;\n",
       "  }\n",
       "</style><div class='table-result-container'><table class='table-result'><thead style='background-color: white'><tr><th>url</th><th>type</th><th>domain</th><th>tld</th><th>owner</th><th>e_count</th><th>has_A_and_T</th></tr></thead><tbody><tr><td>br-icloud.com.br</td><td>phishing</td><td>br-icloud.com.br</td><td>com.br</td><td>Toweb Brasil LTDA EPP</td><td>0</td><td>false</td></tr><tr><td>mp3raid.com/music/krizz_kaliko.html</td><td>benign</td><td>mp3raid.com</td><td>com</td><td>GoDaddy.com, LLC</td><td>0</td><td>false</td></tr><tr><td>bopsecrets.org/rexroth/cr/1.htm</td><td>benign</td><td>bopsecrets.org</td><td>org</td><td>REDACTED</td><td>2</td><td>false</td></tr><tr><td>http://www.garage-pirenne.be/index.php?option=com_content&view=article&id=70&vsig70_0=15</td><td>defacement</td><td>garage-pirenne.be</td><td>be</td><td>Above.com Domain Privacy</td><td>4</td><td>false</td></tr><tr><td>http://adventure-nicaragua.net/index.php?option=com_mailto&tmpl=component&link=aHR0cDovL2FkdmVudHVyZS1uaWNhcmFndWEubmV0L2luZGV4LnBocD9vcHRpb249Y29tX2NvbnRlbnQmdmlldz1hcnRpY2xlJmlkPTQ3OmFib3V0JmNhdGlkPTM2OmRlbW8tYXJ0aWNsZXMmSXRlbWlkPTU0</td><td>defacement</td><td>adventure-nicaragua.net</td><td>net</td><td>Above.com Pty Ltd.</td><td>3</td><td>true</td></tr><tr><td>http://buzzfil.net/m/show-art/ils-etaient-loin-de-s-imaginer-que-le-hibou-allait-faire-ceci-quand-ils-filmaient-2.html</td><td>benign</td><td>buzzfil.net</td><td>net</td><td>REDACTED FOR PRIVACY</td><td>1</td><td>false</td></tr><tr><td>espn.go.com/nba/player/_/id/3457/brandon-rush</td><td>benign</td><td>go.com</td><td>com</td><td>CSC Corporate Domains, Inc.</td><td>0</td><td>false</td></tr><tr><td>yourbittorrent.com/?q=anthony-hamilton-soulife</td><td>benign</td><td>yourbittorrent.com</td><td>com</td><td>Whois Privacy Corp.</td><td>1</td><td>false</td></tr><tr><td>http://www.pashminaonline.com/pure-pashminas</td><td>defacement</td><td>pashminaonline.com</td><td>com</td><td>REDACTED FOR PRIVACY</td><td>1</td><td>false</td></tr><tr><td>allmusic.com/album/crazy-from-the-heat-r16990</td><td>benign</td><td>allmusic.com</td><td>com</td><td>All Media Network, LLC</td><td>0</td><td>false</td></tr><tr><td>corporationwiki.com/Ohio/Columbus/frank-s-benson-P3333917.aspx</td><td>benign</td><td>corporationwiki.com</td><td>com</td><td>GoDaddy.com, LLC</td><td>0</td><td>true</td></tr><tr><td>http://www.ikenmijnkunst.nl/index.php/exposities/exposities-2006</td><td>defacement</td><td>ikenmijnkunst.nl</td><td>nl</td><td>null</td><td>1</td><td>false</td></tr><tr><td>myspace.com/video/vid/30602581</td><td>benign</td><td>myspace.com</td><td>com</td><td>GoDaddy.com, LLC</td><td>1</td><td>false</td></tr><tr><td>http://www.lebensmittel-ueberwachung.de/index.php/aktuelles.1</td><td>defacement</td><td>lebensmittel-ueberwachung.de</td><td>de</td><td>null</td><td>6</td><td>true</td></tr><tr><td>http://www.szabadmunkaero.hu/cimoldal.html?start=12</td><td>defacement</td><td>szabadmunkaero.hu</td><td>hu</td><td>null</td><td>1</td><td>false</td></tr><tr><td>http://larcadelcarnevale.com/catalogo/palloncini</td><td>defacement</td><td>larcadelcarnevale.com</td><td>com</td><td>null</td><td>3</td><td>false</td></tr><tr><td>quickfacts.census.gov/qfd/maps/iowa_map.html</td><td>benign</td><td>census.gov</td><td>gov</td><td>REDACTED FOR PRIVACY</td><td>1</td><td>false</td></tr><tr><td>nugget.ca/ArticleDisplay.aspx?archive=true&e=1160966</td><td>benign</td><td>nugget.ca</td><td>ca</td><td>Postmedia Network Inc.</td><td>1</td><td>true</td></tr><tr><td>uk.linkedin.com/pub/steve-rubenstein/8/718/755</td><td>benign</td><td>linkedin.com</td><td>com</td><td>LinkedIn Corporation</td><td>1</td><td>false</td></tr><tr><td>http://www.vnic.co/khach-hang.html</td><td>defacement</td><td>vnic.co</td><td>co</td><td>Cong ty TNHH Tu van Dau tu Viet Nam</td><td>0</td><td>false</td></tr><tr><td>baseball-reference.com/players/h/harrige01.shtml</td><td>benign</td><td>baseball-reference.com</td><td>com</td><td>Identity Protection Service</td><td>5</td><td>false</td></tr><tr><td>signin.eby.de.zukruygxctzmmqi.civpro.co.za</td><td>phishing</td><td>civpro.co.za</td><td>co.za</td><td>null</td><td>0</td><td>false</td></tr><tr><td>192.com/atoz/people/oakley/patrick/</td><td>benign</td><td>192.com</td><td>com</td><td>123-Reg Limited</td><td>0</td><td>false</td></tr><tr><td>nytimes.com/1998/03/29/style/cuttings-oh-that-brazen-raucous-glorious-hibiscus.html</td><td>benign</td><td>nytimes.com</td><td>com</td><td>The New York Times Company</td><td>1</td><td>false</td></tr><tr><td>escholarship.org/uc/item/5xt4952c</td><td>benign</td><td>escholarship.org</td><td>org</td><td>Identity Protection Service</td><td>1</td><td>false</td></tr><tr><td>songfacts.com/detail.php?id=13410</td><td>benign</td><td>songfacts.com</td><td>com</td><td>LLC, Songfacts,</td><td>0</td><td>true</td></tr><tr><td>casamanana.org/education/blba/</td><td>benign</td><td>casamanana.org</td><td>org</td><td>Casa Manana Theatre</td><td>0</td><td>false</td></tr><tr><td>http://hollywoodlife.com/2014/05/01/rihanna-iheartradio-music-awards-dress-2014-pics/</td><td>benign</td><td>hollywoodlife.com</td><td>com</td><td>Hollywoodlife.com, LLC</td><td>1</td><td>false</td></tr><tr><td>http://www.marketingbyinternet.com/mo/e56508df639f6ce7d55c81ee3fcd5ba8/</td><td>phishing</td><td>marketingbyinternet.com</td><td>com</td><td>Fundacion Privacy Services LTD</td><td>3</td><td>true</td></tr><tr><td>en.wikipedia.org/wiki/North_Dakota</td><td>benign</td><td>wikipedia.org</td><td>org</td><td>Wikimedia Foundation, Inc.</td><td>1</td><td>false</td></tr><tr><td>soaps.sheknows.com/daysofourlives/news/id/20259/Days_Of_Our_Lives_Casts_Ruta_Lee/</td><td>benign</td><td>sheknows.com</td><td>com</td><td>GoDaddy.com, LLC</td><td>1</td><td>false</td></tr><tr><td>perfectpeople.net/celebrity-star/6920/gidget-gein.htm</td><td>benign</td><td>perfectpeople.net</td><td>net</td><td>Super Privacy Service LTD c/o Dynadot</td><td>5</td><td>false</td></tr><tr><td>media.caltech.edu/press_releases/13186</td><td>benign</td><td>caltech.edu</td><td>edu</td><td>null</td><td>2</td><td>true</td></tr><tr><td>wikiobits.com/Obits/TonyProudfoot</td><td>benign</td><td>wikiobits.com</td><td>com</td><td>REDACTED FOR PRIVACY</td><td>0</td><td>false</td></tr><tr><td>vanderbilt.rivals.com/viewcoach.asp?coach=2079&sport=1&year=2011</td><td>benign</td><td>rivals.com</td><td>com</td><td>GoDaddy.com, LLC</td><td>0</td><td>false</td></tr><tr><td>http://peluqueriadeautor.com/index.php?option=com_virtuemart&page=shop.browse&category_id=31&Itemid=70</td><td>defacement</td><td>peluqueriadeautor.com</td><td>com</td><td>REDACTED FOR PRIVACY</td><td>3</td><td>true</td></tr><tr><td>movies.yahoo.com/shop?d=hv&cf=info&id=1800340831</td><td>benign</td><td>yahoo.com</td><td>com</td><td>null</td><td>0</td><td>false</td></tr><tr><td>cyndislist.com/us/pa/counties</td><td>benign</td><td>cyndislist.com</td><td>com</td><td>PERFECT PRIVACY, LLC</td><td>0</td><td>false</td></tr><tr><td>http://www.824555.com/app/member/SportOption.php?uid=guest&langx=gb</td><td>malware</td><td>824555.com</td><td>com</td><td>GoDaddy.com, LLC</td><td>0</td><td>false</td></tr><tr><td>http://www.raci.it/component/user/reset.html</td><td>defacement</td><td>raci.it</td><td>it</td><td>Raci Srl</td><td>0</td><td>true</td></tr><tr><td>https://docs.google.com/spreadsheet/viewform?formkey=dGg2Z1lCUHlSdjllTVNRUW50TFIzSkE6MQ</td><td>phishing</td><td>google.com</td><td>com</td><td>Google LLC</td><td>1</td><td>false</td></tr><tr><td>psychology.wikia.com/wiki/Phonemes</td><td>benign</td><td>wikia.com</td><td>com</td><td>Contact Privacy Inc. Customer 0130027609</td><td>0</td><td>false</td></tr><tr><td>info.centriq.com/content/fivereasons</td><td>benign</td><td>centriq.com</td><td>com</td><td>GoDaddy.com, LLC</td><td>1</td><td>false</td></tr><tr><td>articles.baltimoresun.com/1991-06-11/sports/1991162162_1_james-koehler-texas-rangers-terrell-lowery</td><td>benign</td><td>baltimoresun.com</td><td>com</td><td>GoDaddy Corporate Domains, LLC</td><td>1</td><td>true</td></tr><tr><td>infinitysw.com/</td><td>benign</td><td>infinitysw.com</td><td>com</td><td>Contact Privacy Inc. Customer 0136748958</td><td>0</td><td>false</td></tr><tr><td>strawberrycreekgardens.com/</td><td>benign</td><td>strawberrycreekgardens.com</td><td>com</td><td>null</td><td>4</td><td>true</td></tr><tr><td>http://earth-sure.com/industrial-tech/everlast-impact-resistant-dumpster-enclosure</td><td>defacement</td><td>earth-sure.com</td><td>com</td><td>GoDaddy.com, LLC</td><td>2</td><td>true</td></tr><tr><td>spoke.com/dir/p/desantis/nick</td><td>benign</td><td>spoke.com</td><td>com</td><td>GoDaddy.com, LLC</td><td>1</td><td>false</td></tr><tr><td>wordsmith.org/words/pignus.html</td><td>benign</td><td>wordsmith.org</td><td>org</td><td>REDACTED</td><td>0</td><td>false</td></tr><tr><td>http://interpark.com/displaycorner/FreeMarket.do?_method=itemCateList&free1=pc&free2=007001008003&free3=item&disp_no=007001008003</td><td>benign</td><td>interpark.com</td><td>com</td><td>Gabia, Inc.</td><td>1</td><td>true</td></tr><tr><td>http://www.newtec.ac.uk/courses/health-and-social-care/level-2-diploma-in-health-a-social-care-.html</td><td>defacement</td><td>newtec.ac.uk</td><td>ac.uk</td><td>The JNT Association</td><td>2</td><td>true</td></tr><tr><td>http://www.kingsmillshotel.com/spring/mothers-day</td><td>defacement</td><td>kingsmillshotel.com</td><td>com</td><td>123-Reg Limited</td><td>1</td><td>false</td></tr><tr><td>almanac.logos.com/Denominations</td><td>benign</td><td>logos.com</td><td>com</td><td>GoDaddy.com, LLC</td><td>0</td><td>false</td></tr><tr><td>gaming.wikia.com/wiki/Backbreaker_(video_game)</td><td>benign</td><td>wikia.com</td><td>com</td><td>Contact Privacy Inc. Customer 0130027609</td><td>0</td><td>false</td></tr><tr><td>ceu.hu/</td><td>benign</td><td>ceu.hu</td><td>hu</td><td>null</td><td>1</td><td>false</td></tr><tr><td>registry.weddingchannel.com/coupledir/20108/C/R314763282/JARED_CLOUGH_AND_TAJAI_RITCHIE.htm</td><td>benign</td><td>weddingchannel.com</td><td>com</td><td>GoDaddy Corporate Domains, LLC</td><td>2</td><td>false</td></tr><tr><td>linkedin.com/pub/george-cleveland/7/80a/599</td><td>benign</td><td>linkedin.com</td><td>com</td><td>LinkedIn Corporation</td><td>1</td><td>false</td></tr><tr><td>sunshinemills.com/</td><td>benign</td><td>sunshinemills.com</td><td>com</td><td>GoDaddy.com, LLC</td><td>1</td><td>false</td></tr><tr><td>agoda.com/north_america/canada/montreal_qc/attractions/hotels_near_mcgill_university_centre_for_continuing_education.html</td><td>benign</td><td>agoda.com</td><td>com</td><td>MarkMonitor Inc.</td><td>0</td><td>false</td></tr><tr><td>ctv.ca/generic/WebSpecials/sponsorship_scandal/</td><td>benign</td><td>ctv.ca</td><td>ca</td><td>Bell Canada</td><td>0</td><td>true</td></tr><tr><td>http://www.approvi.com.br/ck.htm</td><td>defacement</td><td>approvi.com.br</td><td>com.br</td><td>Approvi Cursos Preparat�rios Ltda.</td><td>0</td><td>false</td></tr><tr><td>http://www.shaborooz.ir/index.php?view=article&catid=7:1390-01-27-09-09-55&id=23:1390-04-12-08-07-33&tmpl=component&print=1&layout=default&page=&option=com_content&Itemid=2</td><td>defacement</td><td>shaborooz.ir</td><td>ir</td><td>null</td><td>0</td><td>false</td></tr><tr><td>veoox.com/tags/game.html</td><td>benign</td><td>veoox.com</td><td>com</td><td>GoDaddy.com, LLC</td><td>1</td><td>false</td></tr><tr><td>chuckwalkertrio.blogspot.com/</td><td>benign</td><td>blogspot.com</td><td>com</td><td>MarkMonitor Inc.</td><td>0</td><td>false</td></tr><tr><td>aerosolesshoes.org/</td><td>benign</td><td>aerosolesshoes.org</td><td>org</td><td>null</td><td>3</td><td>false</td></tr><tr><td>http://www.juventudelirica.com.br/index.html</td><td>defacement</td><td>juventudelirica.com.br</td><td>com.br</td><td>null</td><td>2</td><td>true</td></tr><tr><td>http://www.myenrg.com/southwest/9-texas</td><td>defacement</td><td>myenrg.com</td><td>com</td><td>Bluehost Inc.</td><td>1</td><td>false</td></tr><tr><td>recipelink.com/msgbrd/board_14/2007/DEC/29094.html</td><td>benign</td><td>recipelink.com</td><td>com</td><td>Privacy service provided by Withheld for Privacy ehf</td><td>2</td><td>false</td></tr><tr><td>http://www.musimagen.com/lista_socios.php?letra=\\303%91</td><td>defacement</td><td>musimagen.com</td><td>com</td><td>GDPR Masked</td><td>1</td><td>false</td></tr><tr><td>ideas.repec.org/f/pma235.html</td><td>benign</td><td>repec.org</td><td>org</td><td>REDACTED</td><td>2</td><td>false</td></tr><tr><td>peopleaz.org/firstname/Fowlkes/6</td><td>benign</td><td>peopleaz.org</td><td>org</td><td>null</td><td>2</td><td>false</td></tr><tr><td>orensamtraktrip.wordpress.com/</td><td>benign</td><td>wordpress.com</td><td>com</td><td>Automattic, Inc.</td><td>1</td><td>false</td></tr><tr><td>retajconsultancy.com</td><td>phishing</td><td>retajconsultancy.com</td><td>com</td><td>Gname 278 Inc</td><td>1</td><td>true</td></tr><tr><td>alexa.com/whatshot?q=james+arness</td><td>benign</td><td>alexa.com</td><td>com</td><td>MarkMonitor Inc.</td><td>1</td><td>false</td></tr><tr><td>jpopasia.com/group/arashi/discography/</td><td>benign</td><td>jpopasia.com</td><td>com</td><td>REDACTED FOR PRIVACY</td><td>0</td><td>false</td></tr><tr><td>kitsapsun.com/photos/2011/feb/25/177999/</td><td>benign</td><td>kitsapsun.com</td><td>com</td><td>GoDaddy Corporate Domains, LLC</td><td>0</td><td>true</td></tr><tr><td>local.yahoo.com/info-42862457-oakland-international-airport-oakland</td><td>benign</td><td>yahoo.com</td><td>com</td><td>MarkMonitor Inc.</td><td>0</td><td>false</td></tr><tr><td>tripadvisor.com/Restaurant_Review-g680765-d1768647-Reviews-Yacha_Yacha-Miyakojima_Okinawa_Prefecture_Kyushu_Okinawa.html</td><td>benign</td><td>tripadvisor.com</td><td>com</td><td>CSC Corporate Domains, Inc.</td><td>0</td><td>true</td></tr><tr><td>articles.elitefts.com/articles/training-articles/five-great-exercises-for-building-a-dominant-defensive-lineman/</td><td>benign</td><td>elitefts.com</td><td>com</td><td>Privacy service provided by Withheld for Privacy ehf</td><td>2</td><td>false</td></tr><tr><td>broadwaystars.com/classic/?source=www.playbill.com</td><td>benign</td><td>broadwaystars.com</td><td>com</td><td>DATA REDACTED</td><td>0</td><td>true</td></tr><tr><td>http://www.pn-wuppertal.de/links/2-linkseite/5-httpwwwkrebshilfede</td><td>defacement</td><td>pn-wuppertal.de</td><td>de</td><td>null</td><td>2</td><td>true</td></tr><tr><td>forums.networkinfrastructure.info/motorola-wireless-lan-switches/</td><td>benign</td><td>networkinfrastructure.info</td><td>info</td><td>null</td><td>2</td><td>true</td></tr><tr><td>youtube.com/watch?v=mwpoPQ1SPJU</td><td>benign</td><td>youtube.com</td><td>com</td><td>Google LLC</td><td>1</td><td>false</td></tr><tr><td>mccall-idchamber.org/</td><td>benign</td><td>mccall-idchamber.org</td><td>org</td><td>PrivacyGuardian.org llc</td><td>1</td><td>false</td></tr><tr><td>chacha.com/question/who-said-the-quote-%27say-what-you-mean%2C-mean-what-you-say-and-put-a-beat-to-it%27</td><td>benign</td><td>chacha.com</td><td>com</td><td>Alibaba Cloud Computing (Beijing) Co., Ltd.</td><td>0</td><td>false</td></tr><tr><td>friars.com/sports/m-baskbl/archive/prov-m-baskbl-2003.html</td><td>benign</td><td>friars.com</td><td>com</td><td>GoDaddy.com, LLC</td><td>0</td><td>false</td></tr><tr><td>http://asociacionkaribu.org/index.php/servicios/centro-jambo</td><td>defacement</td><td>asociacionkaribu.org</td><td>org</td><td>Asociacion Karibu, amigos del pueblo africano</td><td>0</td><td>false</td></tr><tr><td>http://www.martin-busker.de/administrator/help/en-GB/css/Facture/c4d12146ebce8e1684d3542308399779/8fa39dab95edb1b676b638a672278eae/particuliers-45636.php</td><td>phishing</td><td>martin-busker.de</td><td>de</td><td>null</td><td>2</td><td>true</td></tr><tr><td>pipl.com/directory/name/Whissell/180</td><td>benign</td><td>pipl.com</td><td>com</td><td>GoDaddy.com, LLC</td><td>0</td><td>false</td></tr><tr><td>spokeo.com/John+Collet</td><td>benign</td><td>spokeo.com</td><td>com</td><td>REDACTED FOR PRIVACY</td><td>1</td><td>false</td></tr><tr><td>http://www.parafiapiaski.pl/index.php?option=com_user&view=remind</td><td>defacement</td><td>parafiapiaski.pl</td><td>pl</td><td>Aftermarket.pl Limited</td><td>0</td><td>false</td></tr><tr><td>http://fanpage.gr/family/gineka/%ce%b1%cf%85%cf%84%ce%bf%ce%af-%ce%b5%ce%af%ce%bd%ce%b1%ce%b9-%ce%bf%ce%b9-13-%cf%89%cf%81%ce%b1%ce%b9%cf%8c%cf%84%ce%b5%cf%81%ce%bf%ce%b9-%ce%ad%ce%bb%ce%bb%ce%b7%ce%bd%ce%b5%cf%82-%ce%b1%ce%bd-2/</td><td>benign</td><td>fanpage.gr</td><td>gr</td><td>null</td><td>1</td><td>false</td></tr><tr><td>faqs.org/copyright/handbook-for-the-individual-or-group-culture-free/</td><td>benign</td><td>faqs.org</td><td>org</td><td>Advameg, Inc.</td><td>0</td><td>false</td></tr><tr><td>duckduckgo.com/1/c/Roman_Catholic_cathedrals_in_Canada</td><td>benign</td><td>duckduckgo.com</td><td>com</td><td>Privacy service provided by Withheld for Privacy ehf</td><td>0</td><td>false</td></tr><tr><td>alexpay2.beget.tech</td><td>phishing</td><td>beget.tech</td><td>tech</td><td>Beget LLC</td><td>3</td><td>false</td></tr><tr><td>http://worldoftanks.ru/ru/content/guide/payments_instruction/mobile-payments-rostelekom-ural-utel/</td><td>benign</td><td>worldoftanks.ru</td><td>ru</td><td>Wargaming.net Limited</td><td>0</td><td>true</td></tr><tr><td>http://www.artedesignsas.it/catalogo.html?page=shop.browse&category_id=14</td><td>defacement</td><td>artedesignsas.it</td><td>it</td><td>AD&Co S.a.s. di Esposito Carmen Debora</td><td>2</td><td>true</td></tr><tr><td>en.wikipedia.org/wiki/Lloyd_Bacon</td><td>benign</td><td>wikipedia.org</td><td>org</td><td>Wikimedia Foundation, Inc.</td><td>1</td><td>false</td></tr><tr><td>http://serverfault.com/questions/682832/squid-transparent-https-certificate-error-ssl-error-bad-cert-domain</td><td>benign</td><td>serverfault.com</td><td>com</td><td>CSC Corporate Domains, Inc.</td><td>2</td><td>true</td></tr><tr><td>http://www.viamanaus.com.br/index.php?option=com_wrapper&view=wrapper&Itemid=297</td><td>defacement</td><td>viamanaus.com.br</td><td>com.br</td><td>Via Turismo</td><td>0</td><td>false</td></tr><tr><td>ciajfk.com/harold.html</td><td>benign</td><td>ciajfk.com</td><td>com</td><td>Privacy service provided by Withheld for Privacy ehf</td><td>0</td><td>false</td></tr><tr><td>http://www.protect-effect.nl/diensten/62-telefonie</td><td>defacement</td><td>protect-effect.nl</td><td>nl</td><td>Realtime Register</td><td>3</td><td>false</td></tr><tr><td>indyweek.com/artery/archives/2011/10/07/come-back-to-the-1980s-at-the-escapism-film-festival-which-begins-friday</td><td>benign</td><td>indyweek.com</td><td>com</td><td>DATA REDACTED</td><td>2</td><td>false</td></tr><tr><td>linkedin.com/pub/charles-gariepy/2/642/28</td><td>benign</td><td>linkedin.com</td><td>com</td><td>LinkedIn Corporation</td><td>1</td><td>false</td></tr><tr><td>http://www.gst-ukraine.com.ua/ukraine/tours/2754-arboretum-alexandria-sofiyivka</td><td>defacement</td><td>gst-ukraine.com.ua</td><td>com.ua</td><td>null</td><td>1</td><td>true</td></tr><tr><td>facebook.unitedcolleges.net</td><td>phishing</td><td>unitedcolleges.net</td><td>net</td><td>null</td><td>4</td><td>false</td></tr><tr><td>http://www.bimabn.com/1-configurazione-supporto-apple.store-contatta/c/Apple-id/3d465e25b47e6bc23ae55f5de40e1bb1/</td><td>phishing</td><td>bimabn.com</td><td>com</td><td>null</td><td>0</td><td>false</td></tr><tr><td>eyeappealoptometry.com/</td><td>benign</td><td>eyeappealoptometry.com</td><td>com</td><td>GoDaddy.com, LLC</td><td>4</td><td>true</td></tr><tr><td>brophygen.com/</td><td>benign</td><td>brophygen.com</td><td>com</td><td>GoDaddy.com, LLC</td><td>1</td><td>false</td></tr><tr><td>icehockey.wikia.com/wiki/Dan_Blackburn</td><td>benign</td><td>wikia.com</td><td>com</td><td>Contact Privacy Inc. Customer 0130027609</td><td>0</td><td>false</td></tr><tr><td>gurufocus.com/news/116068/who-is-the-warren-buffett-of-canada-prem-watsa-of-fairfax-financial-ffh-or-paul-desmarais-of-power-corporation-of-canada-pow</td><td>benign</td><td>gurufocus.com</td><td>com</td><td>REDACTED FOR PRIVACY</td><td>0</td><td>false</td></tr><tr><td>http://www.bg-ricevimenti.it/index.php/location/osteria-del-molo.html?fontstyle=f-smaller</td><td>defacement</td><td>bg-ricevimenti.it</td><td>it</td><td>B & G Ristorazione Srl</td><td>2</td><td>false</td></tr><tr><td>stewstew.com/</td><td>benign</td><td>stewstew.com</td><td>com</td><td>Justin Ren</td><td>2</td><td>false</td></tr><tr><td>livingharvest.com/products/ice-cream-bars</td><td>benign</td><td>livingharvest.com</td><td>com</td><td>GoDaddy.com, LLC</td><td>1</td><td>true</td></tr><tr><td>http://icicibank.com/Personal-Banking/offers/offer-detail.page?id=offer-readers-digest-magazine-offer-20150202203953555</td><td>benign</td><td>icicibank.com</td><td>com</td><td>Network Solutions, LLC</td><td>0</td><td>false</td></tr><tr><td>http://9779.info/%E5%84%BF%E7%AB%A5%E7%AB%8B%E4%BD%93%E7%BA%B8%E8%B4%B4%E7%94%BB/</td><td>malware</td><td>9779.info</td><td>info</td><td>null</td><td>0</td><td>false</td></tr><tr><td>bleacherreport.com/articles/300242-doug-harvey-one-of-the-best-ever-to-play-the-game</td><td>benign</td><td>bleacherreport.com</td><td>com</td><td>The Bleacher Report, Inc.</td><td>3</td><td>true</td></tr><tr><td>htp://youtube.com/watch?v=6Ar7sf6aU_M&list=PLMSYnjOjlErdyy83UXCykRV0-dXAMtFW-</td><td>benign</td><td>youtube.com</td><td>com</td><td>Google LLC</td><td>1</td><td>false</td></tr><tr><td>http://www.boeuf-soufflenheim.com/de.feed?type=rss</td><td>defacement</td><td>boeuf-soufflenheim.com</td><td>com</td><td>REDACTED FOR PRIVACY</td><td>3</td><td>false</td></tr><tr><td>artfacts.net/it/istituzion/ms--muzeum-sztuki-lodz-2724/visione-generale.html</td><td>benign</td><td>artfacts.net</td><td>net</td><td>123-Reg Limited</td><td>1</td><td>true</td></tr><tr><td>parsippanysoccerclub.org/</td><td>benign</td><td>parsippanysoccerclub.org</td><td>org</td><td>Parsippany Soccer Club</td><td>1</td><td>false</td></tr><tr><td>international.uiowa.edu/services/language/allnet/resources/languages/turkish.asp</td><td>benign</td><td>uiowa.edu</td><td>edu</td><td>null</td><td>1</td><td>false</td></tr><tr><td>btscene.eu/verified-search/torrent/franco+piersanti/</td><td>benign</td><td>btscene.eu</td><td>eu</td><td>TLD Registrar Solutions Ltd</td><td>3</td><td>false</td></tr><tr><td>signature-editions.com/</td><td>benign</td><td>signature-editions.com</td><td>com</td><td>REDACTED FOR PRIVACY</td><td>2</td><td>true</td></tr><tr><td>en.wikipedia.org/wiki/Blessed_by_a_Broken_Heart</td><td>benign</td><td>wikipedia.org</td><td>org</td><td>Wikimedia Foundation, Inc.</td><td>1</td><td>false</td></tr><tr><td>http://www.trenker-bestattungen.de/index.php?option=com_content&view=article&id=13&Itemid=14</td><td>defacement</td><td>trenker-bestattungen.de</td><td>de</td><td>null</td><td>5</td><td>true</td></tr><tr><td>national.ca/Bold-Thinking/NATIONAL-Publications.aspx</td><td>benign</td><td>national.ca</td><td>ca</td><td>Le Cabinet de relations publiques NATIONAL inc.</td><td>0</td><td>true</td></tr><tr><td>halkbankparaf-para.com</td><td>phishing</td><td>halkbankparaf-para.com</td><td>com</td><td>null</td><td>0</td><td>false</td></tr><tr><td>http://motthegioi.vn/the-gioi-cuoi/clip-dai-gia-mac-ca-voi-co-ban-banh-my-185682.html</td><td>benign</td><td>motthegioi.vn</td><td>vn</td><td>null</td><td>1</td><td>false</td></tr><tr><td>metroactive.com/papers/metro/01.29.98/idiotflesh-9804.html</td><td>benign</td><td>metroactive.com</td><td>com</td><td>GoDaddy Online Services Cayman Islands Ltd.</td><td>2</td><td>true</td></tr><tr><td>https://twitter.com/home?status=%E3%83%8C%E3%81%91%E3%82%8B%EF%BC%81%E3%80%90%E3%82%A2%E3%83%8B%E3%83%A1%E3%80%91+http%3A%2F%2Fero-video.net%2Ft%2FwjfL4fhPp1lPxTZb+%E3%82%A2%E3%83%AA%E3%82%B5%E5%86%8D%E3%81%B3%EF%BC%81%E3%82%A8%E3%83%AD%E3%82%A2%E3%83%8B%E3%83%A1+%23ero+%23douga+%23agesage</td><td>benign</td><td>twitter.com</td><td>com</td><td>CSC Corporate Domains, Inc.</td><td>1</td><td>false</td></tr><tr><td>http://correios.com.br/para-sua-empresa/comunicacao/certificados-digitais/ajuda-interativa/informacoes-sobre-a-baixa-dos-certificados-a1</td><td>benign</td><td>correios.com.br</td><td>com.br</td><td>Empresa Brasileira de Correios e Tel�grafos</td><td>1</td><td>false</td></tr><tr><td>http://olx.ro/i2/electronice-si-electrocasnice/electrocasnice/masini-de-cusut/gtm.start</td><td>benign</td><td>olx.ro</td><td>ro</td><td>CSC Corporate Domains</td><td>0</td><td>false</td></tr><tr><td>http://www.aba-diagnostic.com/espace-prive/reset.html</td><td>defacement</td><td>aba-diagnostic.com</td><td>com</td><td>REDACTED FOR PRIVACY</td><td>0</td><td>true</td></tr><tr><td>msn.foxsports.com/nhl/player/yann-sauve/720461</td><td>benign</td><td>foxsports.com</td><td>com</td><td>GoDaddy Corporate Domains, LLC</td><td>0</td><td>false</td></tr><tr><td>hallmark.businessgreetings.com/</td><td>benign</td><td>businessgreetings.com</td><td>com</td><td>Hallmark Licensing LLC</td><td>3</td><td>false</td></tr><tr><td>musicstack.com/records-cds/toni+tony+tone</td><td>benign</td><td>musicstack.com</td><td>com</td><td>DATA REDACTED</td><td>0</td><td>true</td></tr><tr><td>nudecelebsnow.com/tags/1/victoria+justus.htm</td><td>benign</td><td>nudecelebsnow.com</td><td>com</td><td>null</td><td>3</td><td>false</td></tr><tr><td>http://www.paoarapanui.cl/index.php?option=com_contact&view=contact&id=1&Itemid=6</td><td>defacement</td><td>paoarapanui.cl</td><td>cl</td><td>null</td><td>0</td><td>false</td></tr><tr><td>worldwrestlinginsanity.com/am2/publish/ringofhonorlive/roh_sinclair_tv2.shtml</td><td>benign</td><td>worldwrestlinginsanity.com</td><td>com</td><td>Statutory Masking Enabled</td><td>1</td><td>true</td></tr><tr><td>http://www.designeremdoces.com/components/com_contact/ggdrives/</td><td>phishing</td><td>designeremdoces.com</td><td>com</td><td>null</td><td>4</td><td>false</td></tr><tr><td>http://slashdot.org/submission/2916707/facebook-to-include-profile-photos-in-its-facial-recognition-database</td><td>benign</td><td>slashdot.org</td><td>org</td><td>Domains By Proxy, LLC</td><td>0</td><td>true</td></tr><tr><td>facebook.com/people/Yui-Takeshita/100001611015714</td><td>benign</td><td>facebook.com</td><td>com</td><td>Meta Platforms, Inc.</td><td>1</td><td>false</td></tr><tr><td>sportsposterwarehouse.com/items_388__grandprixclassicscoll.html</td><td>benign</td><td>sportsposterwarehouse.com</td><td>com</td><td>Network Solutions, LLC</td><td>3</td><td>true</td></tr><tr><td>padmapper.com/search/apartments/Quebec/Montreal-est/</td><td>benign</td><td>padmapper.com</td><td>com</td><td>NameCheap, Inc.</td><td>1</td><td>false</td></tr><tr><td>mrskin.com/christina-ricci-nude-c868.html</td><td>benign</td><td>mrskin.com</td><td>com</td><td>Redacted for Privacy Purposes</td><td>0</td><td>false</td></tr><tr><td>lip-service.com/webzine/tag/post-apocalyptic-fashion/</td><td>benign</td><td>lip-service.com</td><td>com</td><td>GoDaddy.com, LLC</td><td>2</td><td>false</td></tr><tr><td>http://www.tiendagnulinux.com.ar/calcomanias-en-vinilo?page=shop.browse&category_id=52</td><td>defacement</td><td>tiendagnulinux.com.ar</td><td>com.ar</td><td>null</td><td>1</td><td>true</td></tr><tr><td>http://chelurao.ru/index.php?option=com_content&view=article&id=9&Itemid=10&lang=ru</td><td>defacement</td><td>chelurao.ru</td><td>ru</td><td>DOMAINSHOP-RU</td><td>1</td><td>false</td></tr><tr><td>linkedin.com/pub/dir/elizabeth/scarborough</td><td>benign</td><td>linkedin.com</td><td>com</td><td>LinkedIn Corporation</td><td>1</td><td>false</td></tr><tr><td>cqgcr.ca/ang/producer01.php</td><td>benign</td><td>cqgcr.ca</td><td>ca</td><td>Conseil du Québec de la Guilde canadienne des réalisateurs</td><td>0</td><td>false</td></tr><tr><td>huffingtonpost.com/2011/10/24/south-carolina-primary-case_n_1029599.html</td><td>benign</td><td>huffingtonpost.com</td><td>com</td><td>MarkMonitor Inc.</td><td>0</td><td>false</td></tr><tr><td>http://qz.com/403774/quartz-daily-brief-japanese-military-verizon-aol-sporty-branson-saucy-swedes/</td><td>benign</td><td>qz.com</td><td>com</td><td>Privacy service provided by Withheld for Privacy ehf</td><td>0</td><td>false</td></tr><tr><td>select.nytimes.com/gst/abstract.html?res=F70814F93B581A7A93CBA9178BD95F4C8385F9</td><td>benign</td><td>nytimes.com</td><td>com</td><td>The New York Times Company</td><td>1</td><td>false</td></tr><tr><td>startrekcostumes.net/</td><td>benign</td><td>startrekcostumes.net</td><td>net</td><td>null</td><td>3</td><td>true</td></tr><tr><td>en.wikipedia.org/wiki/Neil_Curtis</td><td>benign</td><td>wikipedia.org</td><td>org</td><td>Wikimedia Foundation, Inc.</td><td>1</td><td>false</td></tr><tr><td>music.carowinds.com/</td><td>benign</td><td>carowinds.com</td><td>com</td><td>Identity Protection Service</td><td>0</td><td>false</td></tr><tr><td>http://9779.info/%E6%A0%91%E5%8F%B6%E7%B2%98%E8%B4%B4%E7%94%BB/</td><td>malware</td><td>9779.info</td><td>info</td><td>null</td><td>0</td><td>false</td></tr><tr><td>newjersey.craigslist.org/</td><td>benign</td><td>craigslist.org</td><td>org</td><td>Craigslist</td><td>0</td><td>true</td></tr><tr><td>roverslands.net</td><td>phishing</td><td>roverslands.net</td><td>net</td><td>null</td><td>2</td><td>true</td></tr><tr><td>familypedia.wikia.com/wiki/Joseph_Philippe_Roi_de_Villere_%281727-1769%29</td><td>benign</td><td>wikia.com</td><td>com</td><td>Contact Privacy Inc. Customer 0130027609</td><td>0</td><td>false</td></tr><tr><td>http://mylust.com/videos/232790/hentai-slut-with-big-juicy-tits-gets-fucked-doggy-style/</td><td>benign</td><td>mylust.com</td><td>com</td><td>Whois Privacy (enumDNS dba)</td><td>0</td><td>false</td></tr><tr><td>acronymfinder.com/John-Burroughs-High-school-(Burbank%2c-CA)-(JBHS).html</td><td>benign</td><td>acronymfinder.com</td><td>com</td><td>DATA REDACTED</td><td>1</td><td>false</td></tr><tr><td>http://www.familienbund.org/index.php?option=com_content&view=article&id=291:stellungnahme-des-familienbundes-der-katholiken-zum-referentenentwurf-eines-gesetzes-zur-erweiterung-der-grosselternzeit-&catid=5:stellungnahmen&Itemid=8</td><td>defacement</td><td>familienbund.org</td><td>org</td><td>united-domains GmbH</td><td>1</td><td>false</td></tr><tr><td>http://www.vanoorschotkranen.nl/hoogwerker/hoogwerkers.pdf</td><td>defacement</td><td>vanoorschotkranen.nl</td><td>nl</td><td>Combell B.V.</td><td>1</td><td>true</td></tr><tr><td>youtube.com/watch?v=K_-bsYE-y08</td><td>benign</td><td>youtube.com</td><td>com</td><td>Google LLC</td><td>1</td><td>false</td></tr><tr><td>myspace.com/jking909</td><td>benign</td><td>myspace.com</td><td>com</td><td>GoDaddy.com, LLC</td><td>1</td><td>false</td></tr><tr><td>http://www.academiedumeuble.ca/index.php?option=com_seminar&task=3&cid=516&sem_midx=0&sem_jidx=0&Itemid=69</td><td>defacement</td><td>academiedumeuble.ca</td><td>ca</td><td>REDACTED FOR PRIVACY</td><td>4</td><td>false</td></tr><tr><td>corporacionrossenditotours.com</td><td>phishing</td><td>corporacionrossenditotours.com</td><td>com</td><td>null</td><td>1</td><td>true</td></tr><tr><td>http://maslen.sk/index.php?option=com_contact&view=contact&id=37:iados-o-obchodnu-spolupracu&catid=29:dopytformular&Itemid=5</td><td>defacement</td><td>maslen.sk</td><td>sk</td><td>MASLEN s.r.o.</td><td>1</td><td>false</td></tr><tr><td>http://www.clinicatecma.es/index.php/densiometria</td><td>defacement</td><td>clinicatecma.es</td><td>es</td><td>null</td><td>2</td><td>true</td></tr><tr><td>movies.msn.com/celebrities/celebrity/george-'gabby'-hayes/</td><td>benign</td><td>msn.com</td><td>com</td><td>Microsoft Corporation</td><td>0</td><td>false</td></tr><tr><td>idlebrain.com/news/functions/engagement-brahmini.html</td><td>benign</td><td>idlebrain.com</td><td>com</td><td>Idlebrain.com</td><td>1</td><td>false</td></tr><tr><td>vh1.com/video/that-metal-show/full-episodes/carmine-appice-dave-meniketti/1663564/playlist.jhtml</td><td>benign</td><td>vh1.com</td><td>com</td><td>MarkMonitor Inc.</td><td>0</td><td>false</td></tr><tr><td>archiver.rootsweb.ancestry.com/th/read/GEN-OBIT/2007-04/1176208149</td><td>benign</td><td>ancestry.com</td><td>com</td><td>MarkMonitor Inc.</td><td>1</td><td>true</td></tr><tr><td>perezhilton.com/category/william-shatner/</td><td>benign</td><td>perezhilton.com</td><td>com</td><td>GoDaddy.com, LLC</td><td>2</td><td>false</td></tr><tr><td>fsnaindia.com/</td><td>benign</td><td>fsnaindia.com</td><td>com</td><td>null</td><td>0</td><td>false</td></tr><tr><td>actionjaxon666.wordpress.com/2011/02/24/new-macbook-pros-secretly-16gb-capable/</td><td>benign</td><td>wordpress.com</td><td>com</td><td>MarkMonitor Inc.</td><td>1</td><td>false</td></tr><tr><td>en.wikipedia.org/wiki/Kenji_Nojima</td><td>benign</td><td>wikipedia.org</td><td>org</td><td>Wikimedia Foundation, Inc.</td><td>1</td><td>false</td></tr><tr><td>alaskajewelry.com/colored-stone-tanzanite-rings-c-21_72_91.html?=&infoBox=0</td><td>benign</td><td>alaskajewelry.com</td><td>com</td><td>Tucows Domains Inc.</td><td>2</td><td>false</td></tr><tr><td>greenparty.ca/campaign/24048</td><td>benign</td><td>greenparty.ca</td><td>ca</td><td>Green Party of Canada</td><td>2</td><td>true</td></tr><tr><td>http://mic.com/articles/117758/mtv-just-gave-these-artists-a-huge-platform-to-bring-attention-to-indigenous-rights</td><td>benign</td><td>mic.com</td><td>com</td><td>Identity Protection Service</td><td>0</td><td>false</td></tr><tr><td>randomhouse.com/book/84548/tapestry-of-spies-by-stephen-hunter</td><td>benign</td><td>randomhouse.com</td><td>com</td><td>CSC Corporate Domains, Inc.</td><td>1</td><td>false</td></tr><tr><td>argentinawarez.com/musica-mp3-gratis/65991-ost-boat-rocked-soundtrack-2cd-2009-a.html</td><td>benign</td><td>argentinawarez.com</td><td>com</td><td>Realtime Register B.V.</td><td>2</td><td>true</td></tr><tr><td>192.com/atoz/people/gerrard/steven/</td><td>benign</td><td>192.com</td><td>com</td><td>123-Reg Limited</td><td>0</td><td>false</td></tr><tr><td>users6.nofeehost.com/aldenh/493.html</td><td>benign</td><td>nofeehost.com</td><td>com</td><td>GoDaddy.com, LLC</td><td>2</td><td>false</td></tr><tr><td>facebook.com/opalhilldrive</td><td>benign</td><td>facebook.com</td><td>com</td><td>Meta Platforms, Inc.</td><td>1</td><td>false</td></tr><tr><td>scottss.com/</td><td>benign</td><td>scottss.com</td><td>com</td><td>Jan Everno</td><td>0</td><td>false</td></tr><tr><td>http://drive-google-com.fanalav.com/6a7ec96d6a4b8b887e9f9ace81b40a99/</td><td>phishing</td><td>fanalav.com</td><td>com</td><td>null</td><td>0</td><td>false</td></tr><tr><td>manta.com/ic/mt6fkz0/ca/residence-sault-au-recollet</td><td>benign</td><td>manta.com</td><td>com</td><td>Amazon Registrar, Inc.</td><td>0</td><td>true</td></tr><tr><td>http://www.perthshire-caravans.co.uk/stock-list/caravans/706-elddis-odyssey-540</td><td>defacement</td><td>perthshire-caravans.co.uk</td><td>co.uk</td><td>Ionos SE [Tag = 1AND1]</td><td>2</td><td>true</td></tr><tr><td>forum.exscn.net/archive/index.php/t-10778.html?pda=1</td><td>benign</td><td>exscn.net</td><td>net</td><td>GoDaddy.com, LLC</td><td>2</td><td>false</td></tr><tr><td>superpages.com/bp/Kansas-City-KS/Kansas-City-Terminal-Railway-L2170949422.htm</td><td>benign</td><td>superpages.com</td><td>com</td><td>CSC Corporate Domains, Inc.</td><td>2</td><td>false</td></tr><tr><td>maxlapointe.com/?p=141</td><td>benign</td><td>maxlapointe.com</td><td>com</td><td>null</td><td>1</td><td>true</td></tr><tr><td>http://rendeck.com/index.php/nl/vacatures/table/9/0/index.html?resetfilters=0</td><td>defacement</td><td>rendeck.com</td><td>com</td><td>null</td><td>2</td><td>false</td></tr><tr><td>ca.ratemyteachers.com/louise-trichet/106184-s</td><td>benign</td><td>ratemyteachers.com</td><td>com</td><td>GoDaddy.com, LLC</td><td>3</td><td>true</td></tr><tr><td>cardomain.com/ride/2424103/2006-pontiac-gto</td><td>benign</td><td>cardomain.com</td><td>com</td><td>CSC Corporate Domains, Inc.</td><td>0</td><td>false</td></tr><tr><td>apps.facebook.com/ilike/artist/Les+Respectables</td><td>benign</td><td>facebook.com</td><td>com</td><td>Meta Platforms, Inc.</td><td>1</td><td>false</td></tr><tr><td>cbssports.com/nba/players/playerpage/20626/paul-pierce</td><td>benign</td><td>cbssports.com</td><td>com</td><td>MarkMonitor Inc.</td><td>0</td><td>false</td></tr><tr><td>detkreimeier-fotografie.de</td><td>phishing</td><td>detkreimeier-fotografie.de</td><td>de</td><td>null</td><td>6</td><td>true</td></tr><tr><td>http://listovka.info/xmap.html</td><td>defacement</td><td>listovka.info</td><td>info</td><td>null</td><td>0</td><td>true</td></tr><tr><td>home.comcast.net/~jcage89/350z/navbox/index.htm</td><td>benign</td><td>comcast.net</td><td>net</td><td>CSC Corporate Domains, Inc.</td><td>1</td><td>true</td></tr><tr><td>margaritawill.com/hotdogs/</td><td>benign</td><td>margaritawill.com</td><td>com</td><td>Wild West Domains, LLC</td><td>0</td><td>true</td></tr><tr><td>pipl.com/directory/name/Pallas/Tony</td><td>benign</td><td>pipl.com</td><td>com</td><td>GoDaddy.com, LLC</td><td>0</td><td>false</td></tr><tr><td>newyorker.com/archive/1982/04/12/1982_04_12_039_TNY_CARDS_000335949</td><td>benign</td><td>newyorker.com</td><td>com</td><td>CSC Corporate Domains, Inc.</td><td>2</td><td>false</td></tr><tr><td>youtube.com/watch?v=eMY1FT3Pqh8</td><td>benign</td><td>youtube.com</td><td>com</td><td>Google LLC</td><td>1</td><td>false</td></tr><tr><td>law.cornell.edu/wex/Joint_venture</td><td>benign</td><td>cornell.edu</td><td>edu</td><td>null</td><td>2</td><td>false</td></tr><tr><td>pitchfork.com/reviews/albums/13979-broken-bells/</td><td>benign</td><td>pitchfork.com</td><td>com</td><td>CSC Corporate Domains, Inc.</td><td>0</td><td>false</td></tr><tr><td>http://skyrock.com/videos/eDJwODRhNzoxMw==-bug-1187-moi-ma-famille.html?top=3&period=recent</td><td>benign</td><td>skyrock.com</td><td>com</td><td>VORTEX</td><td>0</td><td>false</td></tr><tr><td>hollywood.com/movie/Biutiful/6870447</td><td>benign</td><td>hollywood.com</td><td>com</td><td>Hollywood.com, LLC</td><td>0</td><td>false</td></tr><tr><td>facebook.com/pages/The-Paul-Lynde-Halloween-Special-1976/280289980245</td><td>benign</td><td>facebook.com</td><td>com</td><td>Meta Platforms, Inc.</td><td>1</td><td>false</td></tr><tr><td>hot-people.info/Crossett_AR_Dorothy-Moore_Eric--Newton_1051.html</td><td>benign</td><td>hot-people.info</td><td>info</td><td>null</td><td>2</td><td>false</td></tr><tr><td>onlineradio7.com/listen/CFLO_1047</td><td>benign</td><td>onlineradio7.com</td><td>com</td><td>null</td><td>1</td><td>false</td></tr><tr><td>http://9779.info/%E5%8F%A4%E4%BB%A3%E4%BA%8C%E5%8D%81%E5%9B%9B%E5%AD%9D%E5%B8%83%E8%B4%B4%E7%94%BB/</td><td>malware</td><td>9779.info</td><td>info</td><td>null</td><td>0</td><td>false</td></tr><tr><td>http://www.jnpiraq.net/arabic/index.php?option=com_content&view=article&id=610&catid=5&Itemid=10</td><td>defacement</td><td>jnpiraq.net</td><td>net</td><td>null</td><td>1</td><td>true</td></tr><tr><td>artistswithaids.org/artforms/music/catalogue/rileyl.html</td><td>benign</td><td>artistswithaids.org</td><td>org</td><td>Super Privacy Service LTD c/o Dynadot</td><td>0</td><td>true</td></tr><tr><td>http://www.versverwerktegroenten.nl/bruine-bonen.html</td><td>defacement</td><td>versverwerktegroenten.nl</td><td>nl</td><td>RegistrarHub</td><td>6</td><td>false</td></tr><tr><td>mylife.com/dominicbouchard</td><td>benign</td><td>mylife.com</td><td>com</td><td>Network Solutions, LLC</td><td>1</td><td>false</td></tr><tr><td>mmagearguide.com/ufc-117-t-shirts-silva-vs-sonnen/</td><td>benign</td><td>mmagearguide.com</td><td>com</td><td>GoDaddy.com, LLC</td><td>2</td><td>false</td></tr><tr><td>worldtraveltours.org/4-alternative-places-you-can-choose-at-montreal-travel/.html</td><td>benign</td><td>worldtraveltours.org</td><td>org</td><td>null</td><td>1</td><td>true</td></tr><tr><td>iptv.org/</td><td>benign</td><td>iptv.org</td><td>org</td><td>Iowa Public Television</td><td>0</td><td>false</td></tr><tr><td>elliscountydivorcelawyer.com/ellis-county-post-divorce-modification.htm</td><td>benign</td><td>elliscountydivorcelawyer.com</td><td>com</td><td>Byron Winborne</td><td>3</td><td>true</td></tr><tr><td>http://grantland.com/the-triangle/2015-mlb-over-under-bets-chicago-cubs-houston-astros-oakland-as-tampa-bay-rays/</td><td>benign</td><td>grantland.com</td><td>com</td><td>CSC Corporate Domains, Inc.</td><td>0</td><td>true</td></tr><tr><td>fanpix.net/gallery/doug-savant-pictures.htm</td><td>benign</td><td>fanpix.net</td><td>net</td><td>REDACTED FOR PRIVACY</td><td>1</td><td>true</td></tr><tr><td>chacha.com/question/what-time-does-metro-center-mall-close</td><td>benign</td><td>chacha.com</td><td>com</td><td>Alibaba Cloud Computing (Beijing) Co., Ltd.</td><td>0</td><td>false</td></tr><tr><td>marcospecialties.com/storeitems.asp?game=Chicago%20Coin&Chicago%20Coin=RED%20BARON%20(Blue%20Max)</td><td>benign</td><td>marcospecialties.com</td><td>com</td><td>DATA REDACTED</td><td>2</td><td>true</td></tr><tr><td>hdlns.com/g508zf1457/Kansas+City+Star+Obituaries+Obituaries+from+Kansas+City+Star+Kansas+City%2C+MO</td><td>benign</td><td>hdlns.com</td><td>com</td><td>GoDaddy.com, LLC</td><td>0</td><td>false</td></tr><tr><td>familytreemaker.genealogy.com/users/v/e/r/James-R-Verrier/GENE7-0008.html</td><td>benign</td><td>genealogy.com</td><td>com</td><td>Ancestry.com Operations Inc.</td><td>2</td><td>false</td></tr><tr><td>therainmakersmessageboard.yuku.com/</td><td>benign</td><td>yuku.com</td><td>com</td><td>DATA REDACTED</td><td>0</td><td>false</td></tr><tr><td>tumblr.com/tagged/sebastien+lefebvre</td><td>benign</td><td>tumblr.com</td><td>com</td><td>MarkMonitor Inc.</td><td>0</td><td>false</td></tr><tr><td>ussoccer.com/News/Soccer-Wire/2002/10/U-S-Soccer-Wire-Galaxy-Claims-2002-MLS-Cup-With-1-0-Double-OT-Win-Over-Revs-Will-Go-For-Rare-Double.aspx</td><td>benign</td><td>ussoccer.com</td><td>com</td><td>GoDaddy.com, LLC</td><td>1</td><td>false</td></tr><tr><td>filmannex.com/movie/1984-olympics-fencing-men-saber/21938</td><td>benign</td><td>filmannex.com</td><td>com</td><td>GoDaddy.com, LLC</td><td>1</td><td>false</td></tr><tr><td>allaboutjazz.com/php/musician.php?id=3751</td><td>benign</td><td>allaboutjazz.com</td><td>com</td><td>Amazon Registrar, Inc.</td><td>0</td><td>true</td></tr><tr><td>info-pages.000webhostapp.com</td><td>phishing</td><td>000webhostapp.com</td><td>com</td><td>GDPR Masked</td><td>1</td><td>true</td></tr><tr><td>skiracing.com/?q=node/514</td><td>benign</td><td>skiracing.com</td><td>com</td><td>PERFECT PRIVACY, LLC</td><td>0</td><td>false</td></tr><tr><td>myptccash.com</td><td>phishing</td><td>myptccash.com</td><td>com</td><td>null</td><td>0</td><td>true</td></tr><tr><td>ertx.com/movie/2008/mad-about-mambo</td><td>benign</td><td>ertx.com</td><td>com</td><td>GoDaddy.com, LLC</td><td>1</td><td>false</td></tr><tr><td>classicbikepictures.co.uk/c319/p2499/for_sale/yamaha%C2%A0yfu1wyfu1-t_for_sale.html</td><td>benign</td><td>classicbikepictures.co.uk</td><td>co.uk</td><td>null</td><td>2</td><td>true</td></tr><tr><td>http://thenextweb.com/dd/2011/05/09/squarespace-to-begin-version-6-beta-testing/gtm.js/gtm.js</td><td>benign</td><td>thenextweb.com</td><td>com</td><td>Privacy service provided by Withheld for Privacy ehf</td><td>3</td><td>false</td></tr><tr><td>http://ecoledecoiffurecarolinelaprise.com/formations/pose-ongles/108.html</td><td>defacement</td><td>ecoledecoiffurecarolinelaprise.com</td><td>com</td><td>null</td><td>6</td><td>false</td></tr><tr><td>mtlasm.blogspot.com/</td><td>benign</td><td>blogspot.com</td><td>com</td><td>Google LLC</td><td>0</td><td>false</td></tr><tr><td>http://chinacxyy.com/piccodejs-000.asp?lm2=191&x=3&y=2&w=90&h=63&open=1&n=10&tj=0</td><td>malware</td><td>chinacxyy.com</td><td>com</td><td>null</td><td>0</td><td>false</td></tr><tr><td>medicinenet.com/heel_spurs/city.htm</td><td>benign</td><td>medicinenet.com</td><td>com</td><td>MarkMonitor Inc.</td><td>3</td><td>false</td></tr><tr><td>music.yahoo.com/nothingface/</td><td>benign</td><td>yahoo.com</td><td>com</td><td>MarkMonitor Inc.</td><td>0</td><td>false</td></tr><tr><td>http://9779.info/%E6%8A%98%E7%BA%B8%E6%89%87%E5%AD%90%E6%8B%BC%E8%B4%B4%E7%94%BB/</td><td>malware</td><td>9779.info</td><td>info</td><td>null</td><td>0</td><td>false</td></tr><tr><td>espn.go.com/college-football/team/_/id/2306/kansas-state-wildcats</td><td>benign</td><td>go.com</td><td>com</td><td>CSC Corporate Domains, Inc.</td><td>0</td><td>false</td></tr><tr><td>bleacherreport.com/articles/811265-mlb-power-rankings-comparing-every-mlb-team-to-a-classic-80s-rock-band</td><td>benign</td><td>bleacherreport.com</td><td>com</td><td>The Bleacher Report, Inc.</td><td>3</td><td>true</td></tr><tr><td>citiprepaid-salarysea-at.tk</td><td>phishing</td><td>citiprepaid-salarysea-at.tk</td><td>tk</td><td>null</td><td>2</td><td>true</td></tr><tr><td>famoushookups.com/site/relationship_detail.php?name=Martin-Brodeur&celebid=12150&relid=11371</td><td>benign</td><td>famoushookups.com</td><td>com</td><td>GoDaddy.com, LLC</td><td>0</td><td>false</td></tr><tr><td>genealogybuff.com/ar/clark/webbbs_config.pl/noframes/read/10</td><td>benign</td><td>genealogybuff.com</td><td>com</td><td>REDACTED FOR PRIVACY</td><td>2</td><td>false</td></tr><tr><td>microlabsltd.com/</td><td>benign</td><td>microlabsltd.com</td><td>com</td><td>BigRock Solutions Ltd</td><td>0</td><td>true</td></tr><tr><td>tripadvisor.com/ShowUserReviews-g57417-d1013388-r21219909-Mulligan_s-Stratton_Mountain_Vermont.html</td><td>benign</td><td>tripadvisor.com</td><td>com</td><td>CSC Corporate Domains, Inc.</td><td>0</td><td>true</td></tr><tr><td>http://www.smc-images.co.uk/images/index_hvoda_2311_10.html</td><td>phishing</td><td>smc-images.co.uk</td><td>co.uk</td><td>null</td><td>1</td><td>false</td></tr><tr><td>flickr.com/people/sleepingelf/</td><td>benign</td><td>flickr.com</td><td>com</td><td>GoDaddy Corporate Domains, LLC</td><td>0</td><td>false</td></tr><tr><td>http://www.nabu-gaildorf.de/index.php?option=com_jevents&task=day.listevents&year=2013&month=01&day=01&Itemid=33</td><td>defacement</td><td>nabu-gaildorf.de</td><td>de</td><td>null</td><td>1</td><td>false</td></tr><tr><td>subscene.com/Taking-Woodstock/subtitles-80048.aspx</td><td>benign</td><td>subscene.com</td><td>com</td><td>NameCheap, Inc.</td><td>2</td><td>false</td></tr><tr><td>http://kccs.nichost.ru/index.php?option=com_content&view=article&id=107:-24052012-213&catid=17:news&Itemid=35</td><td>defacement</td><td>nichost.ru</td><td>ru</td><td>JSC 'RU-CENTER'</td><td>0</td><td>false</td></tr><tr><td>http://www.nubiafarias.com/v1/index.php?option=com_mailto&tmpl=component&link=b9f337d1ca40d09a113ab5ae6426a96e642fb2af</td><td>defacement</td><td>nubiafarias.com</td><td>com</td><td>null</td><td>0</td><td>false</td></tr><tr><td>http://thenextweb.com/insider/2014/10/29/unbabel-integrates-mailchimp-offer-translation-service-promotional-emails/gtm.js/gtm.start</td><td>benign</td><td>thenextweb.com</td><td>com</td><td>NameCheap, Inc.</td><td>3</td><td>false</td></tr><tr><td>tabs.ultimate-guitar.com/a/audioslave/audioslave_album_btab.htm</td><td>benign</td><td>ultimate-guitar.com</td><td>com</td><td>PERFECT PRIVACY, LLC</td><td>1</td><td>true</td></tr><tr><td>sunjournal.com/section/news/5974</td><td>benign</td><td>sunjournal.com</td><td>com</td><td>Network Solutions, LLC</td><td>0</td><td>false</td></tr><tr><td>http://www.elektro-vozila.si/motocikli/novice/volta-bcn-city-je-elektricni-mestni-supermoto-iz-spanije</td><td>defacement</td><td>elektro-vozila.si</td><td>si</td><td>O960145</td><td>2</td><td>true</td></tr><tr><td>ethicalsuperstore.com/products/green-and-blacks/organic-hot-chocolate-drink/?_$ja=tsid:6494%7Ccc:%7Cprd:12744%7Ccat:Groceries+%26+Everyday+%3E+Drinks+%3E+Chocolate</td><td>benign</td><td>ethicalsuperstore.com</td><td>com</td><td>REDACTED FOR PRIVACY</td><td>3</td><td>true</td></tr><tr><td>lilliputreview.blogspot.com/2011/04/r-h-blyth-on-waka-and-haiku.html</td><td>benign</td><td>blogspot.com</td><td>com</td><td>Google LLC</td><td>0</td><td>false</td></tr><tr><td>http://www.musimagen.com/lista_socios.php?pagina=15&letra=</td><td>defacement</td><td>musimagen.com</td><td>com</td><td>GDPR Masked</td><td>1</td><td>false</td></tr><tr><td>basketball.wikia.com/wiki/Golden_State_Warriors</td><td>benign</td><td>wikia.com</td><td>com</td><td>Tucows Domains Inc.</td><td>0</td><td>false</td></tr><tr><td>ech.cwru.edu/ech-cgi/article.pl?id=PGS</td><td>benign</td><td>cwru.edu</td><td>edu</td><td>null</td><td>1</td><td>false</td></tr><tr><td>filmaffinity.com/es/search.php?stype=cast&stext=Elliott+Gould</td><td>benign</td><td>filmaffinity.com</td><td>com</td><td>REDACTED FOR PRIVACY</td><td>0</td><td>true</td></tr><tr><td>chicopeemasoniclodge.org/westover.htm</td><td>benign</td><td>chicopeemasoniclodge.org</td><td>org</td><td>null</td><td>3</td><td>false</td></tr><tr><td>filmcritic.com/features/2008/10/american-science-fiction-movies/</td><td>benign</td><td>filmcritic.com</td><td>com</td><td>Network Solutions, LLC</td><td>0</td><td>false</td></tr><tr><td>geographic.org/geographic_names/v/ve_014.html</td><td>benign</td><td>geographic.org</td><td>org</td><td>Statutory Masking Enabled</td><td>1</td><td>false</td></tr><tr><td>paperbackswap.com/Sadie-Rose-Adventure-Hilda-Stahl/book/0891076352/</td><td>benign</td><td>paperbackswap.com</td><td>com</td><td>REDACTED FOR PRIVACY</td><td>1</td><td>false</td></tr><tr><td>baseball-almanac.com/players/player.php?p=hengeda01</td><td>benign</td><td>baseball-almanac.com</td><td>com</td><td>Network Solutions, LLC</td><td>1</td><td>false</td></tr><tr><td>biographi.ca/EN/ShowBio.asp?BioId=41243</td><td>benign</td><td>biographi.ca</td><td>ca</td><td>Library and Archives of Canada</td><td>0</td><td>false</td></tr><tr><td>deborahfrances-white.com/stand-up.html</td><td>benign</td><td>deborahfrances-white.com</td><td>com</td><td>REDACTED FOR PRIVACY</td><td>3</td><td>true</td></tr><tr><td>spcmoray.com/</td><td>benign</td><td>spcmoray.com</td><td>com</td><td>Sav.com, LLC - 18</td><td>0</td><td>false</td></tr><tr><td>http://sexshop-bg.biz/products?page=shop.browse&category_id=276</td><td>defacement</td><td>sexshop-bg.biz</td><td>biz</td><td>null</td><td>1</td><td>false</td></tr><tr><td>edu.gov.on.ca/eng/sift/indexSec.asp</td><td>benign</td><td>gov.on.ca</td><td>on.ca</td><td>His Majesty the King in right of Ontario, Treasury Board Secretariat</td><td>0</td><td>false</td></tr><tr><td>benoitglazer.com/</td><td>benign</td><td>benoitglazer.com</td><td>com</td><td>Wild West Domains, LLC</td><td>2</td><td>true</td></tr><tr><td>judgepedia.org/index.php/Alan_Gold</td><td>benign</td><td>judgepedia.org</td><td>org</td><td>Domains By Proxy, LLC</td><td>2</td><td>false</td></tr><tr><td>http://mueblesjulianjimenez.es/index.php?page=shop.browse&category_id=14&option=com_virtuemart&Itemid=9</td><td>defacement</td><td>mueblesjulianjimenez.es</td><td>es</td><td>null</td><td>5</td><td>false</td></tr><tr><td>sbnation.com/ncaa-football/players/36729/brandon-smith</td><td>benign</td><td>sbnation.com</td><td>com</td><td>Identity Protection Service</td><td>0</td><td>true</td></tr><tr><td>isearch.com/searching.php?qloc=&showForm=name&qname=Robin+Kelly&refer=3338</td><td>benign</td><td>isearch.com</td><td>com</td><td>CSC Corporate Domains, Inc.</td><td>1</td><td>false</td></tr><tr><td>http://fischereiverein.org/bildergalerie/category/45-faenge-oktober-2010</td><td>defacement</td><td>fischereiverein.org</td><td>org</td><td>Bezirksfischereiverein Mühldorf - Altötting e. V.</td><td>4</td><td>false</td></tr><tr><td>ratemyteachers.com/amelia-high-school/15131-s</td><td>benign</td><td>ratemyteachers.com</td><td>com</td><td>GoDaddy.com, LLC</td><td>3</td><td>true</td></tr><tr><td>http://www.expatsalon.ru/index.php/2009-03-04-07-22-09/category/7-.html?start=20</td><td>defacement</td><td>expatsalon.ru</td><td>ru</td><td>OOO \"ExPat\"</td><td>1</td><td>true</td></tr><tr><td>http://apoiojur.com.br/index.php?%2FTable%2FAdministrativo%2F</td><td>defacement</td><td>apoiojur.com.br</td><td>com.br</td><td>Sensu Publica��es Juridicas Ltda</td><td>0</td><td>false</td></tr><tr><td>http://www.steffen-lemme.de/contact/berliner-buero/besuch-in-berlin</td><td>defacement</td><td>steffen-lemme.de</td><td>de</td><td>null</td><td>5</td><td>false</td></tr><tr><td>http://djsipke.nl/foto-album/1-cafedeknyp/detail/74-104.html?tmpl=component</td><td>defacement</td><td>djsipke.nl</td><td>nl</td><td>WebReus</td><td>1</td><td>false</td></tr><tr><td>carfloormatsforsale.com/door-sill/</td><td>benign</td><td>carfloormatsforsale.com</td><td>com</td><td>null</td><td>1</td><td>true</td></tr><tr><td>http://www.harley-davidson-dijon.com/component/adsmanager/1-/737-</td><td>defacement</td><td>harley-davidson-dijon.com</td><td>com</td><td>REDACTED FOR PRIVACY</td><td>1</td><td>false</td></tr><tr><td>facebook.com/pages/Liberman-Broadcasting/106123536086051?sk=info</td><td>benign</td><td>facebook.com</td><td>com</td><td>Meta Platforms, Inc.</td><td>1</td><td>false</td></tr><tr><td>thefreelibrary.com/No+Catholic+schools+in+Quebec.-a030534573</td><td>benign</td><td>thefreelibrary.com</td><td>com</td><td>DATA REDACTED</td><td>3</td><td>true</td></tr><tr><td>cngzhz.en.ec21.com/</td><td>benign</td><td>ec21.com</td><td>com</td><td>Gabia, Inc.</td><td>1</td><td>false</td></tr><tr><td>atlasshrugs2000.typepad.com/atlas_shrugs/2007/08/your-black-musl.html</td><td>benign</td><td>typepad.com</td><td>com</td><td>Domain.com, LLC</td><td>1</td><td>true</td></tr><tr><td>rotoworld.com/player/nhl/1413/player?r=1</td><td>benign</td><td>rotoworld.com</td><td>com</td><td>NBCUniversal Media, LLC</td><td>0</td><td>false</td></tr><tr><td>facebook.com/topic.php?uid=34012632110&topic=5794</td><td>benign</td><td>facebook.com</td><td>com</td><td>Meta Platforms, Inc.</td><td>1</td><td>false</td></tr><tr><td>tomdegan.blogspot.com/</td><td>benign</td><td>blogspot.com</td><td>com</td><td>MarkMonitor Inc.</td><td>0</td><td>false</td></tr><tr><td>http://www.smartphone.net.br/index.php?option=com_content&view=article&id=66&Itemid=60&lang=pt</td><td>defacement</td><td>smartphone.net.br</td><td>net.br</td><td>Rog�rio Ferreira Zero</td><td>2</td><td>true</td></tr><tr><td>http://www.annamodlo.com.ua/index.html</td><td>defacement</td><td>annamodlo.com.ua</td><td>com.ua</td><td>null</td><td>0</td><td>false</td></tr><tr><td>http://codecanyon.net/item/hide-my-joomla-hide-your-source-links/full_screen_preview/8988449</td><td>benign</td><td>codecanyon.net</td><td>net</td><td>Shutterstock, Inc.</td><td>2</td><td>true</td></tr><tr><td>cswisdom.com/</td><td>benign</td><td>cswisdom.com</td><td>com</td><td>GoDaddy.com, LLC</td><td>0</td><td>false</td></tr><tr><td>http://www.aquamarinadivingtenerife.com/en/sites-of-interest.html</td><td>defacement</td><td>aquamarinadivingtenerife.com</td><td>com</td><td>REDACTED FOR PRIVACY</td><td>3</td><td>true</td></tr><tr><td>http://www.lafavoritacb.com/index.php?option=com_content&view=article&id=107:horarioinvierno&catid=43:articulos&Itemid=77</td><td>defacement</td><td>lafavoritacb.com</td><td>com</td><td>REDACTED FOR PRIVACY</td><td>0</td><td>true</td></tr><tr><td>ibabuzz.com/outtakes/category/night-owl/crown-city-rockers/</td><td>benign</td><td>ibabuzz.com</td><td>com</td><td>CSC Corporate Domains, Inc.</td><td>0</td><td>false</td></tr><tr><td>youtube.com/watch?v=ueziUAQR9LU</td><td>benign</td><td>youtube.com</td><td>com</td><td>MarkMonitor Inc.</td><td>1</td><td>false</td></tr><tr><td>en.wikipedia.org/wiki/Simonne_Monet-Chartrand</td><td>benign</td><td>wikipedia.org</td><td>org</td><td>Wikimedia Foundation, Inc.</td><td>1</td><td>false</td></tr><tr><td>http://www.sidecocarrelli.it/x.txt</td><td>defacement</td><td>sidecocarrelli.it</td><td>it</td><td>null</td><td>2</td><td>true</td></tr><tr><td>http://www.metalsul.ind.br/site/index.php?option=com_morfeoshow&Itemid=</td><td>defacement</td><td>metalsul.ind.br</td><td>ind.br</td><td>Flaje Ferramentaria Ltda - Me</td><td>1</td><td>true</td></tr><tr><td>martindale.com/Brett-Donald-McIntosh/834737-lawyer.htm</td><td>benign</td><td>martindale.com</td><td>com</td><td>Register.com - Network Solutions, LLC</td><td>1</td><td>true</td></tr><tr><td>frillr.com/?q=taxonomy/term/1733</td><td>benign</td><td>frillr.com</td><td>com</td><td>GoDaddy.com, LLC</td><td>0</td><td>false</td></tr><tr><td>bankingblog.celent.com/?p=2493</td><td>benign</td><td>celent.com</td><td>com</td><td>REDACTED FOR PRIVACY</td><td>2</td><td>false</td></tr><tr><td>en.wikipedia.org/wiki/Category:American_religious_leaders</td><td>benign</td><td>wikipedia.org</td><td>org</td><td>Wikimedia Foundation, Inc.</td><td>1</td><td>false</td></tr><tr><td>narrativemagazine.com/authors/saul-bellow</td><td>benign</td><td>narrativemagazine.com</td><td>com</td><td>PrivacyGuardian.org llc</td><td>2</td><td>true</td></tr><tr><td>benmeadowcroft.com/reports/corbato/</td><td>benign</td><td>benmeadowcroft.com</td><td>com</td><td>Amazon Registrar, Inc.</td><td>2</td><td>true</td></tr><tr><td>spokeo.com/Mike+Burrows</td><td>benign</td><td>spokeo.com</td><td>com</td><td>REDACTED FOR PRIVACY</td><td>1</td><td>false</td></tr><tr><td>http://otomoto.pl/ciezarowe/EW4Hou_aN610rPsocimkJ_IuLBofatBy4b0MLqoh7Lf.B7/JOcK7gzdoyrcIT2176iLzhCz8UoPOGcT6Y1ax8FNTPf.l7</td><td>benign</td><td>otomoto.pl</td><td>pl</td><td>Corporation Service Company</td><td>0</td><td>false</td></tr><tr><td>youtube.com/watch?v=FXWq7qMYB2s</td><td>benign</td><td>youtube.com</td><td>com</td><td>MarkMonitor Inc.</td><td>1</td><td>false</td></tr><tr><td>cifstate.org/</td><td>benign</td><td>cifstate.org</td><td>org</td><td>Domains By Proxy, LLC</td><td>1</td><td>true</td></tr><tr><td>nchsband.com/</td><td>benign</td><td>nchsband.com</td><td>com</td><td>Network Solutions, LLC</td><td>0</td><td>false</td></tr><tr><td>tvguide.com/celebrities/peter-keleghan/169984</td><td>benign</td><td>tvguide.com</td><td>com</td><td>Tucows Domains Inc.</td><td>1</td><td>false</td></tr><tr><td>arstechnica.com/apple/news/2011/07/how-charlie-miller-discovered-the-apple-battery-hackhow-a-security-researcher-discovered-the-apple-battery-hack.ars</td><td>benign</td><td>arstechnica.com</td><td>com</td><td>CSC Corporate Domains, Inc.</td><td>1</td><td>true</td></tr><tr><td>blog.metmuseum.org/penandparchment/tag/hours-of-jeanne-devreux/</td><td>benign</td><td>metmuseum.org</td><td>org</td><td>The Metropolitan Museum of Art</td><td>2</td><td>false</td></tr><tr><td>divacafe.net/</td><td>benign</td><td>divacafe.net</td><td>net</td><td>null</td><td>2</td><td>true</td></tr><tr><td>archive.org/stream/lifeofmaryqueeno00headuoft/lifeofmaryqueeno00headuoft_djvu.txt</td><td>benign</td><td>archive.org</td><td>org</td><td>Internet Archive</td><td>1</td><td>false</td></tr><tr><td>http://buzzfil.net/article/5646/animaux/on-dirait-une-attaque-mais-la-realite-en-est-tout-autre-3.html?href=inner_website</td><td>benign</td><td>buzzfil.net</td><td>net</td><td>REDACTED FOR PRIVACY</td><td>1</td><td>false</td></tr><tr><td>http://portal.dddgaming.com/docs/rules/15022/cn/game_cn.html?amluMjAxNQ%3D%3D</td><td>malware</td><td>dddgaming.com</td><td>com</td><td>GoDaddy.com, LLC</td><td>0</td><td>false</td></tr><tr><td>manta.com/c/mmq1m7y/coldwell-banker-heart-america</td><td>benign</td><td>manta.com</td><td>com</td><td>Amazon Registrar, Inc.</td><td>0</td><td>true</td></tr><tr><td>superpages.com/bp/Milford-OH/Cliff-Riley-Insurance-L0125750056.htm</td><td>benign</td><td>superpages.com</td><td>com</td><td>CSC Corporate Domains, Inc.</td><td>2</td><td>false</td></tr><tr><td>ideas.repec.org/e/ppe73.html</td><td>benign</td><td>repec.org</td><td>org</td><td>REDACTED</td><td>2</td><td>false</td></tr><tr><td>http://www.school91.kiev.ua/index.php?option=com_content&view=category&layout=blog&id=38&Itemid=57</td><td>defacement</td><td>school91.kiev.ua</td><td>kiev.ua</td><td>null</td><td>1</td><td>false</td></tr><tr><td>flickr.com/photos/cornforthimages/5812399737/</td><td>benign</td><td>flickr.com</td><td>com</td><td>GoDaddy Corporate Domains, LLC</td><td>0</td><td>false</td></tr><tr><td>http://djkatrina.ru/sobytiya/meropriyatiya/klub-prime-otkryvaetsya-posle-remonta-i-razdaet-podarki.html</td><td>defacement</td><td>djkatrina.ru</td><td>ru</td><td>R01-RU</td><td>0</td><td>true</td></tr><tr><td>national.citysearch.com/profile/45753728/vacaville_ca/fentons_creamery.html</td><td>benign</td><td>citysearch.com</td><td>com</td><td>CSC Corporate Domains, Inc.</td><td>1</td><td>true</td></tr><tr><td>http://yourlust.com/videos/tight-euro-teen-anna-gets-properly-fucked-on-the-floor.html</td><td>benign</td><td>yourlust.com</td><td>com</td><td>Whois Privacy (enumDNS dba)</td><td>0</td><td>false</td></tr><tr><td>nytimes.com/pages/books/index.html</td><td>benign</td><td>nytimes.com</td><td>com</td><td>MarkMonitor Inc.</td><td>1</td><td>false</td></tr><tr><td>legendsofhockey.net/LegendsOfHockey/jsp/SearchPlayer.jsp?player=10372</td><td>benign</td><td>legendsofhockey.net</td><td>net</td><td>DATA REDACTED</td><td>4</td><td>false</td></tr><tr><td>http://szgs.ru/information-for-you/interesting-articles/13-2008-08-04-06-37-10.html</td><td>defacement</td><td>szgs.ru</td><td>ru</td><td>RU-CENTER-RU</td><td>0</td><td>false</td></tr><tr><td>http://www.sandroecicero.com.br/index.php?option=com_content&view=article&id=1&Itemid=3&vsig1_0=18</td><td>defacement</td><td>sandroecicero.com.br</td><td>com.br</td><td>Sandro & C�cero</td><td>2</td><td>false</td></tr><tr><td>homegain.com/local_real_estate/ND/argusville.html</td><td>benign</td><td>homegain.com</td><td>com</td><td>GoDaddy.com, LLC</td><td>1</td><td>false</td></tr><tr><td>http://9779.info/%E7%AE%80%E5%8D%95%E6%8A%98%E7%BA%B8%E7%B2%98%E8%B4%B4%E7%94%BB/</td><td>malware</td><td>9779.info</td><td>info</td><td>null</td><td>0</td><td>false</td></tr><tr><td>http://noticias.uol.com.br/album/bbc/2015/04/01/obras-de-anel-rodoviario-de-r-68-bilhoes-afetam-rios-e-nascentes-em-sp.htm</td><td>benign</td><td>uol.com.br</td><td>com.br</td><td>Universo Online S.A.</td><td>0</td><td>false</td></tr><tr><td>theglobeandmail.com/news/opinions/editorials/in-the-commons-the-kids-are-alright/article2011610/</td><td>benign</td><td>theglobeandmail.com</td><td>com</td><td>The Globe and Mail Limited</td><td>2</td><td>true</td></tr><tr><td>bw.edu/athletics/fb/staff/grabowski/</td><td>benign</td><td>bw.edu</td><td>edu</td><td>null</td><td>1</td><td>false</td></tr><tr><td>appieid-enable.com</td><td>phishing</td><td>appieid-enable.com</td><td>com</td><td>null</td><td>3</td><td>false</td></tr><tr><td>fadsplymouth.com/</td><td>benign</td><td>fadsplymouth.com</td><td>com</td><td>GoDaddy.com, LLC</td><td>0</td><td>true</td></tr><tr><td>locatetv.com/tv/ellen-degeneres-show/1964142/episode-guide</td><td>benign</td><td>locatetv.com</td><td>com</td><td>MarkMonitor Inc.</td><td>1</td><td>true</td></tr><tr><td>imdb.com/name/nm0769371/</td><td>benign</td><td>imdb.com</td><td>com</td><td>MarkMonitor Inc.</td><td>0</td><td>false</td></tr><tr><td>scotborders-folk.org.uk/labels.htm</td><td>benign</td><td>scotborders-folk.org.uk</td><td>org.uk</td><td>Team Blue Internet Services UK Limited [Tag = NAMESCO]</td><td>1</td><td>false</td></tr><tr><td>visa.ca/gvav/list2005.jsp?year=2005&curMonth=12</td><td>benign</td><td>visa.ca</td><td>ca</td><td>Visa Canada Corporation</td><td>0</td><td>false</td></tr><tr><td>autopostoajax.com.br</td><td>phishing</td><td>autopostoajax.com.br</td><td>com.br</td><td>null</td><td>0</td><td>true</td></tr><tr><td>en.wikipedia.org/wiki/Party_of_One_(Peter_Elkas_album)</td><td>benign</td><td>wikipedia.org</td><td>org</td><td>Wikimedia Foundation, Inc.</td><td>1</td><td>false</td></tr><tr><td>http://kienthuc.net.vn/diem-thi/diem-chuan-dai-hoc-bach-khoa-ha-noi-nam-2014-487293.html</td><td>benign</td><td>kienthuc.net.vn</td><td>net.vn</td><td>null</td><td>2</td><td>false</td></tr><tr><td>http://pikabu.ru/tag/%D0%BC%D0%B8%D0%BD%D0%B8%D0%BC%D0%B0%D0%BB%D0%B8%D0%B7%D0%BC/hot</td><td>benign</td><td>pikabu.ru</td><td>ru</td><td>Limited liability company \"Pikabu\"</td><td>0</td><td>false</td></tr><tr><td>http://www.ekino-neureut.de/index.php?option=com_content&view=article&id=15&Itemid=15</td><td>defacement</td><td>ekino-neureut.de</td><td>de</td><td>null</td><td>4</td><td>false</td></tr><tr><td>http://www.rockabilly.it/gruppi/52-four-stars.html</td><td>defacement</td><td>rockabilly.it</td><td>it</td><td>Rockabilly di Residori Luca</td><td>0</td><td>true</td></tr><tr><td>http://www.rathgaelgym.org/squads/mag.1</td><td>defacement</td><td>rathgaelgym.org</td><td>org</td><td>GDPR Masked</td><td>1</td><td>true</td></tr><tr><td>absoluteastronomy.com/topics/Legion_of_Merit</td><td>benign</td><td>absoluteastronomy.com</td><td>com</td><td>Domain.com, LLC</td><td>1</td><td>true</td></tr><tr><td>thaiairways.com/</td><td>benign</td><td>thaiairways.com</td><td>com</td><td>Amazon Registrar, Inc.</td><td>0</td><td>true</td></tr><tr><td>famouspeople.com/famous_biographies/Lizzie_Stanton.htm</td><td>benign</td><td>famouspeople.com</td><td>com</td><td>GoDaddy.com, LLC</td><td>2</td><td>false</td></tr><tr><td>triclopsband.com/</td><td>benign</td><td>triclopsband.com</td><td>com</td><td>Sav.com, LLC - 18</td><td>0</td><td>true</td></tr><tr><td>mp3raid.com/music/lo_key.html</td><td>benign</td><td>mp3raid.com</td><td>com</td><td>GoDaddy.com, LLC</td><td>0</td><td>false</td></tr><tr><td>amtrakcalifornia.com/index.cfm/routes/san-joaquin/</td><td>benign</td><td>amtrakcalifornia.com</td><td>com</td><td>DreamHost, LLC</td><td>0</td><td>true</td></tr><tr><td>4martinique.com/</td><td>benign</td><td>4martinique.com</td><td>com</td><td>null</td><td>1</td><td>true</td></tr><tr><td>http://apoiojur.com.br/index.php?%2FNoticias%2Fnoticias.html</td><td>defacement</td><td>apoiojur.com.br</td><td>com.br</td><td>Sensu Publica��es Juridicas Ltda</td><td>0</td><td>false</td></tr><tr><td>http://extratorrent.cc/torrent/4189694/Linux+User+%26+Developer+-+50+Critical+Fixes+%28Issue+152%2C+2015%29.html</td><td>benign</td><td>extratorrent.cc</td><td>cc</td><td>Tucows Domains Inc.</td><td>2</td><td>true</td></tr><tr><td>http://www.graz4u.at/de/produkte/187-high-level-e-mail-security.html</td><td>defacement</td><td>graz4u.at</td><td>at</td><td>graz4u.at</td><td>0</td><td>true</td></tr><tr><td>dwaynemeisner.com/</td><td>benign</td><td>dwaynemeisner.com</td><td>com</td><td>NameCheap, Inc.</td><td>3</td><td>false</td></tr><tr><td>linkedin.com/pub/john-barkley/7/764/916</td><td>benign</td><td>linkedin.com</td><td>com</td><td>MarkMonitor Inc.</td><td>1</td><td>false</td></tr><tr><td>flyershistory.com/cgi-bin/b-player.cgi?Bernie_Parent</td><td>benign</td><td>flyershistory.com</td><td>com</td><td>Tucows Domains Inc.</td><td>1</td><td>false</td></tr><tr><td>http://www.richpictures.co.uk/home/viewpost/232</td><td>defacement</td><td>richpictures.co.uk</td><td>co.uk</td><td>Fasthosts Internet Ltd [Tag = LIVEDOMAINS]</td><td>1</td><td>false</td></tr><tr><td>topix.com/ca/montreal-qc-montreal-nord</td><td>benign</td><td>topix.com</td><td>com</td><td>Network Solutions, LLC</td><td>0</td><td>false</td></tr><tr><td>http://9779.info/%E5%B9%BC%E5%84%BF%E7%B2%BD%E5%8F%B6%E8%B4%B4%E7%94%BB/</td><td>malware</td><td>9779.info</td><td>info</td><td>null</td><td>0</td><td>false</td></tr><tr><td>trssllc.com/</td><td>benign</td><td>trssllc.com</td><td>com</td><td>GoDaddy.com, LLC</td><td>0</td><td>false</td></tr><tr><td>allgame.com/game.php?id=39396</td><td>benign</td><td>allgame.com</td><td>com</td><td>Domain Protection Services, Inc.</td><td>1</td><td>false</td></tr><tr><td>renerichardcollections.com/media.html</td><td>benign</td><td>renerichardcollections.com</td><td>com</td><td>DreamHost, LLC</td><td>3</td><td>true</td></tr><tr><td>securityfirstinternationalholdings.com/</td><td>benign</td><td>securityfirstinternationalholdings.com</td><td>com</td><td>null</td><td>2</td><td>true</td></tr><tr><td>factbites.com/topics/Leyte</td><td>benign</td><td>factbites.com</td><td>com</td><td>Network Solutions, LLC</td><td>1</td><td>true</td></tr><tr><td>car-stuff.com/pontiacgrandprixparts.htm</td><td>benign</td><td>car-stuff.com</td><td>com</td><td>null</td><td>0</td><td>true</td></tr><tr><td>usa-people-search.com/Find-Steven-Schwartz-CO.aspx</td><td>benign</td><td>usa-people-search.com</td><td>com</td><td>null</td><td>3</td><td>false</td></tr><tr><td>muhanovabeauty.ru</td><td>phishing</td><td>muhanovabeauty.ru</td><td>ru</td><td>null</td><td>1</td><td>true</td></tr><tr><td>http://www.simmeurope.com/index.php?view=article&id=23:budget-economique-exploratoire-pour-lannee-2012&tmpl=component&print=1&layout=default&page=&option=com_content&Itemid=48</td><td>defacement</td><td>simmeurope.com</td><td>com</td><td>null</td><td>2</td><td>false</td></tr><tr><td>en.wordpress.com/tag/j-pop/</td><td>benign</td><td>wordpress.com</td><td>com</td><td>MarkMonitor Inc.</td><td>1</td><td>false</td></tr><tr><td>pinoyexchange.com/forums/archive/index.php/t-194687.html</td><td>benign</td><td>pinoyexchange.com</td><td>com</td><td>Network Solutions, LLC</td><td>2</td><td>false</td></tr><tr><td>classicflix.com/buster-keaton-shorts-collection-bluray-1920-1923-p-11169.html</td><td>benign</td><td>classicflix.com</td><td>com</td><td>Network Solutions, LLC</td><td>0</td><td>false</td></tr><tr><td>http://spplodz.nazwa.pl/archiwum/2006_08b.php</td><td>defacement</td><td>nazwa.pl</td><td>pl</td><td>nazwa.pl sp. z o.o.</td><td>0</td><td>false</td></tr><tr><td>vodacom.co.za/</td><td>benign</td><td>vodacom.co.za</td><td>co.za</td><td>IPTWINS</td><td>0</td><td>false</td></tr><tr><td>http://www.bertilohlsson.com/de/component/user/login?return=aHR0cDovL3d3dy5iZXJ0aWxvaGxzc29uLmNvbS9iaWxkZXJnYWxlcmllL2tsYXNzaXNjaGUtZG9zZW4vcnVuZGUtZm9ybT9sYW5nPWRl</td><td>defacement</td><td>bertilohlsson.com</td><td>com</td><td>HOSTINGER operations, UAB</td><td>1</td><td>false</td></tr><tr><td>uwsuper.edu/alumni/halloffame/individuals.cfm</td><td>benign</td><td>uwsuper.edu</td><td>edu</td><td>null</td><td>2</td><td>false</td></tr><tr><td>http://www.besztercekk.hu/index.php?option=com_lr&view=stadium&id=1&Itemid=162</td><td>defacement</td><td>besztercekk.hu</td><td>hu</td><td>null</td><td>3</td><td>false</td></tr><tr><td>suite.tekora.com/i/philippecoupjambet</td><td>benign</td><td>tekora.com</td><td>com</td><td>Name Operator LLC</td><td>1</td><td>true</td></tr><tr><td>medicine.mcgill.ca/radiology/home_teachinghospitals.htm</td><td>benign</td><td>mcgill.ca</td><td>ca</td><td>Spiro Mitsialis</td><td>0</td><td>false</td></tr><tr><td>http://gizmodo.com/one-year-after-the-first-snowden-leak-whats-really-cha-1586213046/all</td><td>benign</td><td>gizmodo.com</td><td>com</td><td>REDACTED FOR PRIVACY</td><td>0</td><td>false</td></tr><tr><td>jbmfilms.com/</td><td>benign</td><td>jbmfilms.com</td><td>com</td><td>GoDaddy.com, LLC</td><td>0</td><td>false</td></tr><tr><td>http://www.manganellipalace.it/de/willkommen-bei.html</td><td>defacement</td><td>manganellipalace.it</td><td>it</td><td>manganelli palace - progetto turismo Srl</td><td>2</td><td>true</td></tr><tr><td>en.wikipedia.org/wiki/Southeast_High_School_(Kansas_City%2C_Missouri)</td><td>benign</td><td>wikipedia.org</td><td>org</td><td>Wikimedia Foundation, Inc.</td><td>1</td><td>false</td></tr><tr><td>infopig.com/news/12-08-2009.html</td><td>benign</td><td>infopig.com</td><td>com</td><td>Network Solutions, LLC</td><td>0</td><td>false</td></tr><tr><td>http://uproxx.com/dimemag/2015/05/lebron-instagram-like-wants-to-leave-school-to-be-model-she-shouldnt/</td><td>benign</td><td>uproxx.com</td><td>com</td><td>GoDaddy.com, LLC</td><td>0</td><td>false</td></tr><tr><td>linkedin.com/pub/tim-stepanski/18/319/149</td><td>benign</td><td>linkedin.com</td><td>com</td><td>MarkMonitor Inc.</td><td>1</td><td>false</td></tr><tr><td>deafresources.info/</td><td>benign</td><td>deafresources.info</td><td>info</td><td>null</td><td>3</td><td>false</td></tr><tr><td>http://web.tv/liveCategory/17/language/1/index/changeLanguage/newshared/searchAutoComplete</td><td>benign</td><td>web.tv</td><td>tv</td><td>Registry Services, LLC</td><td>1</td><td>false</td></tr><tr><td>juggle.com/gary-pettis</td><td>benign</td><td>juggle.com</td><td>com</td><td>GoDaddy.com, LLC</td><td>1</td><td>false</td></tr><tr><td>weather.noaa.gov/weather/TX_cc_us.html</td><td>benign</td><td>noaa.gov</td><td>gov</td><td>REDACTED FOR PRIVACY</td><td>0</td><td>false</td></tr><tr><td>http://www.sikobv.eu/nl/component/mailto/index.html?tmpl=component&link=aHR0cDovL3d3dy5zaWtvYnYuZXUvbmwvY29tcG9uZW50L2NvbnRlbnQvYXJ0aWNsZS8yLXZvb3JwYWdpbmEtdGFiLzI0MC1kZWxvLW5ldy1jYXJ0cmlkZ2Utc3lzdGVtLmh0bWw=</td><td>defacement</td><td>sikobv.eu</td><td>eu</td><td>Hostnet bv</td><td>1</td><td>false</td></tr><tr><td>http://midas-medical.com/products/electrocardiographecg/cardio-max-series/cardio-max-cm-03c/index.html</td><td>defacement</td><td>midas-medical.com</td><td>com</td><td>Alibaba Cloud Computing (Beijing) Co., Ltd.</td><td>1</td><td>false</td></tr><tr><td>rcarpe95.beget.tech</td><td>phishing</td><td>beget.tech</td><td>tech</td><td>Beget LLC</td><td>3</td><td>false</td></tr><tr><td>answers.com/topic/the-northern-pikes</td><td>benign</td><td>answers.com</td><td>com</td><td>Whois Privacy Protection Service, Inc.</td><td>1</td><td>false</td></tr><tr><td>http://www.kommunalbit.de/index.php?option=com_content&view=section&id=5&Itemid=14</td><td>defacement</td><td>kommunalbit.de</td><td>de</td><td>null</td><td>1</td><td>true</td></tr><tr><td>http://www.galerie-unterm-maulbeerbaum.de/index.php?option=com_content&view=article&id=58&Itemid=57</td><td>defacement</td><td>galerie-unterm-maulbeerbaum.de</td><td>de</td><td>null</td><td>6</td><td>true</td></tr><tr><td>http://fb.com.accounts.login.userid.343441.fbsbk.com/</td><td>phishing</td><td>fbsbk.com</td><td>com</td><td>null</td><td>0</td><td>false</td></tr><tr><td>uk.ask.com/wiki/Lou_Holtz</td><td>benign</td><td>ask.com</td><td>com</td><td>MarkMonitor Inc.</td><td>0</td><td>false</td></tr><tr><td>adsoftheworld.com/profile/profile_country/Egypt?page=4</td><td>benign</td><td>adsoftheworld.com</td><td>com</td><td>REDACTED FOR PRIVACY</td><td>1</td><td>true</td></tr><tr><td>lifeskate.com/skate/2009/01/jessica-dub%C3%A9-and-bryce-davison-win-pairs-event-at-2009-canadian-figure-skating-championships.html</td><td>benign</td><td>lifeskate.com</td><td>com</td><td>Amazon Registrar, Inc.</td><td>2</td><td>true</td></tr><tr><td>flixster.com/actor/tyrone-benskin</td><td>benign</td><td>flixster.com</td><td>com</td><td>MarkMonitor Inc.</td><td>1</td><td>false</td></tr><tr><td>basil-poledouris.thelyricarchive.com/lonesome-dove/</td><td>benign</td><td>thelyricarchive.com</td><td>com</td><td>Private Person</td><td>2</td><td>true</td></tr><tr><td>monettecn.multiply.com/contacts</td><td>benign</td><td>multiply.com</td><td>com</td><td>Whois Privacy Protection Service, Inc.</td><td>0</td><td>false</td></tr><tr><td>collegehockeynews.com/news/2010/03/13_quinnipiac.php</td><td>benign</td><td>collegehockeynews.com</td><td>com</td><td>GoDaddy.com, LLC</td><td>4</td><td>false</td></tr><tr><td>summitconnects.com/In_the_News/ARCHIVE/2005_06.htm</td><td>benign</td><td>summitconnects.com</td><td>com</td><td>Network Solutions, LLC</td><td>1</td><td>false</td></tr><tr><td>http://yourlust.com/videos/frantic-european-blondie-rocks-the-show-with-masturbation-solo.html</td><td>benign</td><td>yourlust.com</td><td>com</td><td>Whois Privacy (enumDNS dba)</td><td>0</td><td>false</td></tr><tr><td>dailymotion.com/video/x3ytl9_wcw-superbrawl-1998-part-1_sport</td><td>benign</td><td>dailymotion.com</td><td>com</td><td>DAILYMOTION</td><td>0</td><td>true</td></tr><tr><td>imdb.com/name/nm0056924/</td><td>benign</td><td>imdb.com</td><td>com</td><td>MarkMonitor Inc.</td><td>0</td><td>false</td></tr><tr><td>wn.com/De_La_Rue</td><td>benign</td><td>wn.com</td><td>com</td><td>NameCheap, Inc.</td><td>0</td><td>false</td></tr><tr><td>ehow.com/list_7588256_solar-panel-manufacturing-companies.html</td><td>benign</td><td>ehow.com</td><td>com</td><td>TechnologyAdvice</td><td>1</td><td>false</td></tr><tr><td>http://www.smos.cn/Case.asp?id=14</td><td>defacement</td><td>smos.cn</td><td>cn</td><td>成都思默思科技有限责任公司</td><td>0</td><td>false</td></tr><tr><td>prnewswire.com/news-releases/reportlinker-adds-the-top-10-confectionery-companies-84485407.html</td><td>benign</td><td>prnewswire.com</td><td>com</td><td>CSC Corporate Domains, Inc.</td><td>2</td><td>false</td></tr><tr><td>sanfranciscobay.sierraclub.org/</td><td>benign</td><td>sierraclub.org</td><td>org</td><td>Domains By Proxy, LLC</td><td>1</td><td>false</td></tr><tr><td>http://www.nissad.com/nissad-contact.html</td><td>defacement</td><td>nissad.com</td><td>com</td><td>GDPR Masked</td><td>0</td><td>false</td></tr><tr><td>myspace.com/amyryan07</td><td>benign</td><td>myspace.com</td><td>com</td><td>GoDaddy.com, LLC</td><td>1</td><td>false</td></tr><tr><td>http://www.whitminsterinn.co.uk/specialevents/calendar-day/03/01/2013</td><td>defacement</td><td>whitminsterinn.co.uk</td><td>co.uk</td><td>Team Blue Internet Services UK Limited [Tag = LCN]</td><td>1</td><td>false</td></tr><tr><td>placesforafrica.com/exdeo/directions.php</td><td>benign</td><td>placesforafrica.com</td><td>com</td><td>GoDaddy.com, LLC</td><td>1</td><td>false</td></tr><tr><td>hmckc.maestroweb.com/</td><td>benign</td><td>maestroweb.com</td><td>com</td><td>Network Solutions, LLC</td><td>2</td><td>true</td></tr><tr><td>titaniumcorporate.co.za</td><td>phishing</td><td>titaniumcorporate.co.za</td><td>co.za</td><td>xneelo (Pty) Ltd</td><td>1</td><td>true</td></tr><tr><td>poemhunter.com/poem/the-ten-lepers/</td><td>benign</td><td>poemhunter.com</td><td>com</td><td>Privacy service provided by Withheld for Privacy ehf</td><td>2</td><td>false</td></tr><tr><td>fanpop.com/spots/jun-matsumoto/images</td><td>benign</td><td>fanpop.com</td><td>com</td><td>Network Solutions, LLC</td><td>0</td><td>false</td></tr><tr><td>facecouncil.org/</td><td>benign</td><td>facecouncil.org</td><td>org</td><td>REDACTED</td><td>1</td><td>false</td></tr><tr><td>factmonster.com/ce6/people/A0809182.html</td><td>benign</td><td>factmonster.com</td><td>com</td><td>CSC Corporate Domains, Inc.</td><td>1</td><td>true</td></tr><tr><td>mylife.com/c-2123302385</td><td>benign</td><td>mylife.com</td><td>com</td><td>Network Solutions, LLC</td><td>1</td><td>false</td></tr><tr><td>barnesandnoble.com/w/hero-living-rudy-reyes/1100173214</td><td>benign</td><td>barnesandnoble.com</td><td>com</td><td>CSC Corporate Domains, Inc.</td><td>2</td><td>false</td></tr><tr><td>facebook.com/pages/Sergio-Vitanza-Belgrave/179652016207</td><td>benign</td><td>facebook.com</td><td>com</td><td>Meta Platforms, Inc.</td><td>1</td><td>false</td></tr><tr><td>jigsaw.com/scid5327852/peter_m_blaikie.xhtml</td><td>benign</td><td>jigsaw.com</td><td>com</td><td>MarkMonitor Inc.</td><td>0</td><td>false</td></tr><tr><td>http://rt.com/in-vision/oles-buzina-last-respects/assassinated-oles-journalist-buzina/</td><td>benign</td><td>rt.com</td><td>com</td><td>ANO TV-Novosti</td><td>0</td><td>false</td></tr><tr><td>http://grasslandhotel.com.vn/index.php/component/djcatalog2/items/6-services</td><td>malware</td><td>grasslandhotel.com.vn</td><td>com.vn</td><td>null</td><td>1</td><td>true</td></tr><tr><td>http://torcache.net/torrent/2463A34D382BCD98F471FB5A7F028D2B49EBE011.torrent?title=[kickass.to]vmware.workstation.9.0.2.build.1031769.final.serial</td><td>benign</td><td>torcache.net</td><td>net</td><td>Jewella Privacy LLC Privacy ID# 1183090</td><td>2</td><td>true</td></tr><tr><td>ihavenet.com/nfl-2008-new-york-giants-aim-to-repeat-as-NFL-champions.html</td><td>benign</td><td>ihavenet.com</td><td>com</td><td>GoDaddy.com, LLC</td><td>2</td><td>true</td></tr><tr><td>ca.linkedin.com/pub/daniel-belanger/15/b37/b62</td><td>benign</td><td>linkedin.com</td><td>com</td><td>MarkMonitor Inc.</td><td>1</td><td>false</td></tr><tr><td>2merkato.com/20110920355/afdb-to-co-finance-ethiopian-power-line-to-kenya</td><td>benign</td><td>2merkato.com</td><td>com</td><td>NameCheap, Inc.</td><td>1</td><td>true</td></tr><tr><td>http://totallifechurchjax.com/index.php?option=com_content&view=article&id=182:may-29-teamwork-episode-07&catid=66:teamwork</td><td>defacement</td><td>totallifechurchjax.com</td><td>com</td><td>null</td><td>1</td><td>true</td></tr><tr><td>jdcarr.com/forsale.htm</td><td>benign</td><td>jdcarr.com</td><td>com</td><td>NameCheap, Inc.</td><td>0</td><td>false</td></tr><tr><td>lyrics.com/cant-hold-us-down-lyrics-christina-aguilera.html</td><td>benign</td><td>lyrics.com</td><td>com</td><td>GoDaddy.com, LLC</td><td>0</td><td>false</td></tr><tr><td>croonet.com/start/G_NDg4MDQwMQ%3D%3D/</td><td>benign</td><td>croonet.com</td><td>com</td><td>null</td><td>1</td><td>false</td></tr><tr><td>http://www.dolcevino.it/index.php?option=com_contact&view=contact&id=3&Itemid=111</td><td>defacement</td><td>dolcevino.it</td><td>it</td><td>NVA Online Advertising BV</td><td>1</td><td>false</td></tr><tr><td>http://9779.info/%E4%BA%94%E8%B0%B7%E6%9D%82%E7%B2%AE%E4%BA%BA%E7%89%A9%E7%B2%98%E8%B4%B4%E7%94%BB/</td><td>malware</td><td>9779.info</td><td>info</td><td>null</td><td>0</td><td>false</td></tr><tr><td>soloautotuning.com/nissan-juke/</td><td>benign</td><td>soloautotuning.com</td><td>com</td><td>null</td><td>0</td><td>true</td></tr><tr><td>http://danielfabri.com.ar/mapa-del-sitio/index.html</td><td>defacement</td><td>danielfabri.com.ar</td><td>com.ar</td><td>FABRI DANIEL PABLO</td><td>1</td><td>false</td></tr><tr><td>totalwrestlinguk.co.uk/wcw-ppv.php</td><td>benign</td><td>totalwrestlinguk.co.uk</td><td>co.uk</td><td>null</td><td>1</td><td>true</td></tr><tr><td>armchairgm.wikia.com/1957_NCAA_Men%27s_Division_I_Basketball_Tournament</td><td>benign</td><td>wikia.com</td><td>com</td><td>Tucows Domains Inc.</td><td>0</td><td>false</td></tr><tr><td>facebook.com/TheLateLateShowwithCraigFerguson?filter=3</td><td>benign</td><td>facebook.com</td><td>com</td><td>Meta Platforms, Inc.</td><td>1</td><td>false</td></tr><tr><td>baseball-almanac.com/teamstats/roster.php?y=1985&t=MON</td><td>benign</td><td>baseball-almanac.com</td><td>com</td><td>Network Solutions, LLC</td><td>1</td><td>false</td></tr><tr><td>alibris.com/search/books/author/Pratt%2C%20Fletcher</td><td>benign</td><td>alibris.com</td><td>com</td><td>GoDaddy.com, LLC</td><td>0</td><td>false</td></tr><tr><td>smartshoppingmontreal.com/store.php?s=146</td><td>benign</td><td>smartshoppingmontreal.com</td><td>com</td><td>Tucows Domains Inc.</td><td>1</td><td>true</td></tr><tr><td>http://elitedaily.com/entertainment/film/uncle-wears-princess-dress-movie-niece/976238/</td><td>benign</td><td>elitedaily.com</td><td>com</td><td>Identity Protection Service</td><td>2</td><td>true</td></tr><tr><td>dipity.com/timeline/NTSB-FedEx-Crash/</td><td>benign</td><td>dipity.com</td><td>com</td><td>GoDaddy.com, LLC</td><td>0</td><td>false</td></tr><tr><td>facebook.com/pages/London-Ice-Dawgs-Youth-Hockey-Club/221260881220211</td><td>benign</td><td>facebook.com</td><td>com</td><td>Meta Platforms, Inc.</td><td>1</td><td>false</td></tr><tr><td>http://bjgdhm.com/cn/product.asp?id_code=0007</td><td>defacement</td><td>bjgdhm.com</td><td>com</td><td>null</td><td>0</td><td>false</td></tr><tr><td>legendsofhockey.net/LegendsOfHockey/jsp/SearchPlayer.jsp?player=18648</td><td>benign</td><td>legendsofhockey.net</td><td>net</td><td>DATA REDACTED</td><td>4</td><td>false</td></tr><tr><td>kalamu.com/bol/2008/04/14/kevin-mahogany-%e2%80%9cjust-my-imagination%e2%80%9d/</td><td>benign</td><td>kalamu.com</td><td>com</td><td>GoDaddy.com, LLC</td><td>0</td><td>false</td></tr><tr><td>baltimorebeatdown.com/2010/4/20/1433515/baltimore-ravens-2010-schedule</td><td>benign</td><td>baltimorebeatdown.com</td><td>com</td><td>Identity Protection Service</td><td>2</td><td>true</td></tr><tr><td>mylife.com/roygiff</td><td>benign</td><td>mylife.com</td><td>com</td><td>Network Solutions, LLC</td><td>1</td><td>false</td></tr><tr><td>linkedin.com/pub/dir/chris/benoit</td><td>benign</td><td>linkedin.com</td><td>com</td><td>MarkMonitor Inc.</td><td>1</td><td>false</td></tr><tr><td>http://www.suiteorchestra.it/index.php?option=com_content&view=article&id=91:i-flauti&catid=38:rokstories&lang=it&Itemid=</td><td>defacement</td><td>suiteorchestra.it</td><td>it</td><td>null</td><td>2</td><td>true</td></tr><tr><td>http://rendeck.com/index.php/en/services/consultancy/joint-technology-selection</td><td>defacement</td><td>rendeck.com</td><td>com</td><td>null</td><td>2</td><td>false</td></tr><tr><td>youtube.com/watch?v=AEXM7LxEwig</td><td>benign</td><td>youtube.com</td><td>com</td><td>MarkMonitor Inc.</td><td>1</td><td>false</td></tr><tr><td>sydsarthaus.com</td><td>phishing</td><td>sydsarthaus.com</td><td>com</td><td>null</td><td>0</td><td>true</td></tr><tr><td>http://icomtec.com.my/westpac.au/login.westpac.au/update.billing/information/westpac.au/index.html</td><td>phishing</td><td>icomtec.com.my</td><td>com.my</td><td>null</td><td>1</td><td>false</td></tr><tr><td>afugowe.com</td><td>phishing</td><td>afugowe.com</td><td>com</td><td>null</td><td>1</td><td>false</td></tr><tr><td>allposters.co.uk/-st/Tessier-Posters_c82413_.htm</td><td>benign</td><td>allposters.co.uk</td><td>co.uk</td><td>Wal-Mart Stores, Inc.</td><td>1</td><td>true</td></tr><tr><td>montrealselectlimo.com/</td><td>benign</td><td>montrealselectlimo.com</td><td>com</td><td>GoDaddy.com, LLC</td><td>3</td><td>true</td></tr><tr><td>wiley.com/bw/editors.asp?ref=1098-1616</td><td>benign</td><td>wiley.com</td><td>com</td><td>GoDaddy Corporate Domains, LLC</td><td>1</td><td>false</td></tr><tr><td>theposselist.com/agencies/indiana/indianapolis/</td><td>benign</td><td>theposselist.com</td><td>com</td><td>GoDaddy.com, LLC</td><td>2</td><td>false</td></tr><tr><td>http://www.qrscelltech.com/de/component/content/article/44-qrs-fuer-leistungsorientierte-menschen?tmpl=component&print=1&page=</td><td>defacement</td><td>qrscelltech.com</td><td>com</td><td>Whoisprotection.cc</td><td>2</td><td>false</td></tr><tr><td>montrealgazette.com/sports/Horror+Hartford+silver+lining/5723049/story.html</td><td>benign</td><td>montrealgazette.com</td><td>com</td><td>Postmedia Network Inc.</td><td>3</td><td>true</td></tr><tr><td>katu.com/traffic/live</td><td>benign</td><td>katu.com</td><td>com</td><td>GoDaddy Corporate Domains, LLC</td><td>0</td><td>true</td></tr><tr><td>http://torcache.net/torrent/C17420F0CEB6D995732BAE67BD73B51B505005EA.torrent?title=[kickass.to]counter.strike.source</td><td>benign</td><td>torcache.net</td><td>net</td><td>Jewella Privacy LLC Privacy ID# 1183090</td><td>2</td><td>true</td></tr><tr><td>hollow-art.com/base/jessalyn-gilsig-heroes</td><td>benign</td><td>hollow-art.com</td><td>com</td><td>Mesh Digital Limited</td><td>0</td><td>true</td></tr><tr><td>theglobeandmail.com/life/health/leslie-roberts-works-out-hard-to-overcome-a-poor-family-health-history/article1558802/</td><td>benign</td><td>theglobeandmail.com</td><td>com</td><td>The Globe and Mail Limited</td><td>2</td><td>true</td></tr><tr><td>burbed.com/</td><td>benign</td><td>burbed.com</td><td>com</td><td>Proxy Protection LLC</td><td>1</td><td>false</td></tr><tr><td>http://www.identcode.cz/cs/laserove-snimace-stacionarni.php</td><td>defacement</td><td>identcode.cz</td><td>cz</td><td>SB:TT159-RIPE_XX</td><td>2</td><td>false</td></tr><tr><td>mylife.com/c-1956134312</td><td>benign</td><td>mylife.com</td><td>com</td><td>Network Solutions, LLC</td><td>1</td><td>false</td></tr><tr><td>ca.linkedin.com/pub/dir/Angela/+/ca-4880-Vancouver%2C-Canada-Area</td><td>benign</td><td>linkedin.com</td><td>com</td><td>MarkMonitor Inc.</td><td>1</td><td>false</td></tr><tr><td>mylife.com/damonhenrysr</td><td>benign</td><td>mylife.com</td><td>com</td><td>Network Solutions, LLC</td><td>1</td><td>false</td></tr><tr><td>rottentomatoes.com/m/the_swimming_pool/</td><td>benign</td><td>rottentomatoes.com</td><td>com</td><td>MarkMonitor Inc.</td><td>2</td><td>true</td></tr><tr><td>aceshowbiz.com/celebrity/dianne_wiest/</td><td>benign</td><td>aceshowbiz.com</td><td>com</td><td>Privacy service provided by Withheld for Privacy ehf</td><td>1</td><td>false</td></tr><tr><td>https://medium.com/human-parts/the-laziest-coming-out-story-you-ve-ever-heard-a9f877acdd14?source=has-recommended</td><td>benign</td><td>medium.com</td><td>com</td><td>Identity Protection Service</td><td>1</td><td>false</td></tr><tr><td>elyrics.net/read/p/prince-lyrics/why-you-wanna-treat-me-so-bad-lyrics.html</td><td>benign</td><td>elyrics.net</td><td>net</td><td>GoDaddy.com, LLC</td><td>2</td><td>false</td></tr><tr><td>http://9779.info/%E6%AF%9B%E7%BA%BF%E8%B4%B4%E7%94%BB%20%E5%9C%BA%E6%99%AF%E5%9B%BE/</td><td>malware</td><td>9779.info</td><td>info</td><td>null</td><td>0</td><td>false</td></tr><tr><td>checksure.biz/directors-da-121.htm</td><td>benign</td><td>checksure.biz</td><td>biz</td><td>REDACTED FOR PRIVACY</td><td>2</td><td>false</td></tr><tr><td>people.famouswhy.com/ramzi_yousef/</td><td>benign</td><td>famouswhy.com</td><td>com</td><td>REDACTED FOR PRIVACY</td><td>0</td><td>false</td></tr><tr><td>wn.com/Raymond</td><td>benign</td><td>wn.com</td><td>com</td><td>World News Pte Ltd</td><td>0</td><td>false</td></tr><tr><td>trtsport.cz</td><td>malware</td><td>trtsport.cz</td><td>cz</td><td>null</td><td>0</td><td>false</td></tr><tr><td>youtube.com/watch?v=aYRauv5oeXQ</td><td>benign</td><td>youtube.com</td><td>com</td><td>MarkMonitor Inc.</td><td>1</td><td>false</td></tr><tr><td>armchairgm.wikia.com/San_Diego_Chargers</td><td>benign</td><td>wikia.com</td><td>com</td><td>Tucows Domains Inc.</td><td>0</td><td>false</td></tr><tr><td>imartial.com/</td><td>benign</td><td>imartial.com</td><td>com</td><td>GoDaddy.com, LLC</td><td>0</td><td>true</td></tr><tr><td>http://style.org.hc360.com/css/detail/mysite/siteconfig/pro_control.css</td><td>malware</td><td>hc360.com</td><td>com</td><td>Alibaba Cloud Computing (Beijing) Co., Ltd.</td><td>0</td><td>false</td></tr><tr><td>ammmmazonm.temp.swtest.ru</td><td>phishing</td><td>swtest.ru</td><td>ru</td><td>SpaceWeb LLC</td><td>1</td><td>false</td></tr><tr><td>theglobeandmail.com/report-on-business/careers/susan-pinker/why-we-cant-really-assess-our-own-skills-and-performance/article1896412/</td><td>benign</td><td>theglobeandmail.com</td><td>com</td><td>The Globe and Mail Limited</td><td>2</td><td>true</td></tr><tr><td>doom.ocremix.org/</td><td>benign</td><td>ocremix.org</td><td>org</td><td>Iterations Productions</td><td>1</td><td>false</td></tr><tr><td>yidio.com/celebrity/ted+lange</td><td>benign</td><td>yidio.com</td><td>com</td><td>Yidio LLC</td><td>0</td><td>false</td></tr><tr><td>mondotimes.com/1/world/ca/63/3144/27447</td><td>benign</td><td>mondotimes.com</td><td>com</td><td>Mondo Code LLC</td><td>1</td><td>false</td></tr><tr><td>montrealgazette.com/health/Cancer+fight+hits+home+Alouettes+Marc+Olivier+Brouillette/5589710/story.html</td><td>benign</td><td>montrealgazette.com</td><td>com</td><td>Postmedia Network Inc.</td><td>3</td><td>true</td></tr><tr><td>wanderingcommuter.blogspot.com/2009/10/are-philippine-gay-indie-films-really.html</td><td>benign</td><td>blogspot.com</td><td>com</td><td>MarkMonitor Inc.</td><td>0</td><td>false</td></tr><tr><td>http://www.cannonvaleautopro.com.au/tools.html</td><td>defacement</td><td>cannonvaleautopro.com.au</td><td>com.au</td><td>CANNONVALE AUTO PRO</td><td>1</td><td>true</td></tr><tr><td>http://qz.com/371908/the-greeks-money-already-stuffed-under-mattresses-may-learn-their-fate-this-weekend/</td><td>benign</td><td>qz.com</td><td>com</td><td>NameCheap, Inc.</td><td>0</td><td>false</td></tr><tr><td>baseball-almanac.com/yearly/yr1887a.shtml</td><td>benign</td><td>baseball-almanac.com</td><td>com</td><td>Network Solutions, LLC</td><td>1</td><td>false</td></tr><tr><td>worthpoint.com/worthopedia/1881-rogers-silver-plate-tea-pot-sugar-bowl</td><td>benign</td><td>worthpoint.com</td><td>com</td><td>GoDaddy.com, LLC</td><td>0</td><td>false</td></tr><tr><td>daylife.com/topic/Gabriel_Aubry</td><td>benign</td><td>daylife.com</td><td>com</td><td>Amazon Registrar, Inc.</td><td>1</td><td>false</td></tr><tr><td>chnm.gmu.edu/dimenovels/romance_series.html</td><td>benign</td><td>gmu.edu</td><td>edu</td><td>null</td><td>1</td><td>false</td></tr><tr><td>mafiaslugger.blogspot.com/</td><td>benign</td><td>blogspot.com</td><td>com</td><td>MarkMonitor Inc.</td><td>0</td><td>false</td></tr><tr><td>forecaster.thehockeynews.com/hockeynews/hockey/player.cgi?990</td><td>benign</td><td>thehockeynews.com</td><td>com</td><td>GoDaddy.com, LLC</td><td>3</td><td>false</td></tr><tr><td>amazon.com/Lonely-Planet-British-Columbia-Fanselow/dp/1864502207</td><td>benign</td><td>amazon.com</td><td>com</td><td>MarkMonitor Inc.</td><td>0</td><td>false</td></tr><tr><td>flightsimhangar.com/fsblog/?p=1061</td><td>benign</td><td>flightsimhangar.com</td><td>com</td><td>HugeDomains.com</td><td>0</td><td>true</td></tr><tr><td>comtedegrasse.org/history.html</td><td>benign</td><td>comtedegrasse.org</td><td>org</td><td>null</td><td>3</td><td>true</td></tr><tr><td>section303.com/jp-dumont-bought-out-by-the-nashville-predators-11886</td><td>benign</td><td>section303.com</td><td>com</td><td>NameCheap, Inc.</td><td>1</td><td>false</td></tr><tr><td>zimbio.com/Marshon+Brooks</td><td>benign</td><td>zimbio.com</td><td>com</td><td>Privacy service provided by Withheld for Privacy ehf</td><td>0</td><td>false</td></tr><tr><td>linkedin.com/pub/dir/donald/harvey</td><td>benign</td><td>linkedin.com</td><td>com</td><td>MarkMonitor Inc.</td><td>1</td><td>false</td></tr><tr><td>scnow.com/sports/2011/mar/18/patriots-reflect-1986-naia-national-championship-ar-1598780/</td><td>benign</td><td>scnow.com</td><td>com</td><td>Tucows Domains Inc.</td><td>0</td><td>false</td></tr><tr><td>http://www.naylorantiques.com/d0y_qx_6_l_6hqo_ewkbketxbu1u7oy10gmkyfrgwnm8llrdhlxcps_ale1_d9b6mij__8tja_b1t__hke2i6dv4xmv0f1fr24/i5_mlqfp_znd5_khgrrgbwjyv__q6gz1yve5hq7agfj3o_pt8awujg9vuy1__d7hqr8yt42n__luu_hep_1et_dlku4_0f1_5_o/QDCHOZ0LZW.php</td><td>phishing</td><td>naylorantiques.com</td><td>com</td><td>GoDaddy.com, LLC</td><td>1</td><td>true</td></tr><tr><td>http://diddydeshi.com/latest-news/2-latest-news/261-speech-given-at-october-main-grading.html</td><td>defacement</td><td>diddydeshi.com</td><td>com</td><td>null</td><td>1</td><td>false</td></tr><tr><td>songlyrics.com/doobie-brothers/sweet-maxine-lyrics/</td><td>benign</td><td>songlyrics.com</td><td>com</td><td>Domain Protection Services, Inc.</td><td>0</td><td>false</td></tr><tr><td>http://babal.net/downloads_details/497/%D9%83%D8%A7%D8%B8%D9%85-%D8%A7%D9%84%D8%B3%D8%A7%D9%87%D8%B1---%D8%A7%D9%86%D8%AA-%D8%A7%D9%84%D8%AE%D8%A7%D8%B3%D8%B1</td><td>benign</td><td>babal.net</td><td>net</td><td>GoDaddy.com, LLC</td><td>1</td><td>true</td></tr><tr><td>http://zozo.jp/shop/americanragcie/?price=proper&p_ssy=2015&p_ssm=5&p_ssd=13&p_sey=2015&p_sem=5&p_sed=13&dstk=2</td><td>benign</td><td>zozo.jp</td><td>jp</td><td>null</td><td>0</td><td>false</td></tr><tr><td>http://pastehtml.com/view/b2i243gkw.html</td><td>phishing</td><td>pastehtml.com</td><td>com</td><td>Dynadot Inc</td><td>1</td><td>true</td></tr><tr><td>http://img14.360buyimg.com/n12/g12/M00/07/06/rBEQYVGV9NMIAAAAAAC3mn17ud8AABZ_wDjtTAAALey000.jpg%21q70.jpg</td><td>malware</td><td>360buyimg.com</td><td>com</td><td>MarkMonitor Information Technology (Shanghai) Co., Ltd.</td><td>0</td><td>false</td></tr><tr><td>crisiscampmontreal.wordpress.com/</td><td>benign</td><td>wordpress.com</td><td>com</td><td>MarkMonitor Inc.</td><td>1</td><td>false</td></tr><tr><td>http://9779.info/%E6%89%8B%E5%B7%A5%E6%B2%BE%E8%B4%B4%E7%94%BB%E5%9B%BE%E7%89%87/</td><td>malware</td><td>9779.info</td><td>info</td><td>null</td><td>0</td><td>false</td></tr><tr><td>http://www.natureevent.dk/component/mailto/index.html?tmpl=component&link=aHR0cDovL3d3dy5uYXR1cmVldmVudC5kay9ha3Rpdml0ZXRlci5odG1s</td><td>defacement</td><td>natureevent.dk</td><td>dk</td><td>Nature Event ApS</td><td>3</td><td>true</td></tr><tr><td>broadcasting-history.ca/index3.html?url=http%3A//www.broadcasting-history.ca/stations/tvlinks.html</td><td>benign</td><td>broadcasting-history.ca</td><td>ca</td><td>York University</td><td>0</td><td>true</td></tr><tr><td>johndouglasmindhunter.com/forums/viewtopic.php?t=6383</td><td>benign</td><td>johndouglasmindhunter.com</td><td>com</td><td>GoDaddy.com, LLC</td><td>1</td><td>true</td></tr><tr><td>rachelperry.wordpress.com/2010/07/02/zach-and-angie-houston-wedding-photography/</td><td>benign</td><td>wordpress.com</td><td>com</td><td>MarkMonitor Inc.</td><td>1</td><td>false</td></tr><tr><td>iraqwarheroes.org/wightman.htm</td><td>benign</td><td>iraqwarheroes.org</td><td>org</td><td>OurWarHeroes.org</td><td>2</td><td>false</td></tr><tr><td>legacy.com/obituaries/herald/obituary.aspx?n=jeffrey-m-klein&pid=149024269</td><td>benign</td><td>legacy.com</td><td>com</td><td>Network Solutions, LLC</td><td>1</td><td>false</td></tr><tr><td>associatedcontent.com/article/2907580/2010_nfl_predictions_buffalo_bills.html</td><td>benign</td><td>associatedcontent.com</td><td>com</td><td>MarkMonitor Inc.</td><td>2</td><td>true</td></tr><tr><td>company-formations-ireland.com/companies-registration-office.html</td><td>benign</td><td>company-formations-ireland.com</td><td>com</td><td>null</td><td>1</td><td>true</td></tr><tr><td>eagletribune.com/obituaries/x1305242071/Matilda-Sirois-81</td><td>benign</td><td>eagletribune.com</td><td>com</td><td>GoDaddy Corporate Domains, LLC</td><td>3</td><td>true</td></tr><tr><td>funnybumblog.com/just-for-laughs-gags-accidental-shooting-prank/</td><td>benign</td><td>funnybumblog.com</td><td>com</td><td>null</td><td>0</td><td>false</td></tr><tr><td>en.wikipedia.org/wiki/Aria_(disambiguation)</td><td>benign</td><td>wikipedia.org</td><td>org</td><td>Wikimedia Foundation, Inc.</td><td>1</td><td>false</td></tr><tr><td>http://sladkiybuket.net/index.php?page=shop.product_details&category_id=4&flypage=flypage_lite_pdf.tpl&product_id=37&option=com_virtuemart&Itemid=55</td><td>defacement</td><td>sladkiybuket.net</td><td>net</td><td>null</td><td>2</td><td>true</td></tr><tr><td>http://www.sklep-splawik.pl/index.php?option=com_content&view=article&id=17:pokaz-maver-2010&catid=7:pokazy-sprztu&Itemid=13</td><td>defacement</td><td>sklep-splawik.pl</td><td>pl</td><td>Aftermarket.pl Limited</td><td>1</td><td>false</td></tr><tr><td>urbanspoon.com/r/6/764245/restaurant/Locust-Street-Deli-Cafe-Walnut-Creek</td><td>benign</td><td>urbanspoon.com</td><td>com</td><td>https://www.101domain.com/</td><td>0</td><td>false</td></tr><tr><td>facebook.com/people/Randall-Moss/1118160021</td><td>benign</td><td>facebook.com</td><td>com</td><td>Meta Platforms, Inc.</td><td>1</td><td>false</td></tr><tr><td>http://www.latablepaysanne.fr/index.php?option=com_content&view=frontpage&Itemid=12</td><td>defacement</td><td>latablepaysanne.fr</td><td>fr</td><td>GANDI</td><td>2</td><td>true</td></tr><tr><td>http://www.lescoulissesdetanger.com/galeriesmusees</td><td>defacement</td><td>lescoulissesdetanger.com</td><td>com</td><td>null</td><td>4</td><td>true</td></tr><tr><td>http://www.akmediaproductions.ca/index.php?option=com_content&view=article&id=53:custom-templates&catid=36:web-development&Itemid=71</td><td>defacement</td><td>akmediaproductions.ca</td><td>ca</td><td>REDACTED FOR PRIVACY</td><td>1</td><td>true</td></tr><tr><td>kansas.com/2011/10/25/2076791/a-history-of-kemper-arena-in-pictures.html</td><td>benign</td><td>kansas.com</td><td>com</td><td>Network Solutions, LLC</td><td>0</td><td>false</td></tr><tr><td>en.wikipedia.org/wiki/KBWF</td><td>benign</td><td>wikipedia.org</td><td>org</td><td>Wikimedia Foundation, Inc.</td><td>1</td><td>false</td></tr><tr><td>manta.com/c/mt7wwmh/jason-rhoades</td><td>benign</td><td>manta.com</td><td>com</td><td>Identity Protection Service</td><td>0</td><td>true</td></tr><tr><td>amazon.com/Pink-Motel-VHS-Phyllis-Diller/dp/6301930185</td><td>benign</td><td>amazon.com</td><td>com</td><td>MarkMonitor Inc.</td><td>0</td><td>false</td></tr><tr><td>allensarchiveofearlyoldcountrymusic.blogspot.com/2011/01/fred-van-eps-vess-l-ossman-kings-of.html</td><td>benign</td><td>blogspot.com</td><td>com</td><td>MarkMonitor Inc.</td><td>0</td><td>false</td></tr><tr><td>wn.com/lewislavoie</td><td>benign</td><td>wn.com</td><td>com</td><td>NameCheap, Inc.</td><td>0</td><td>false</td></tr><tr><td>packersnews.greenbaypressgazette.com/article/20111027/PKR01/111027128/Green-Bay-Packers-quarterback-Aaron-Rodgers-zeroing-in-on-record-breaking-season</td><td>benign</td><td>greenbaypressgazette.com</td><td>com</td><td>GoDaddy Corporate Domains, LLC</td><td>5</td><td>true</td></tr><tr><td>en.wikipedia.org/wiki/Will_Work_for_Food_(TV_show)</td><td>benign</td><td>wikipedia.org</td><td>org</td><td>Wikimedia Foundation, Inc.</td><td>1</td><td>false</td></tr><tr><td>kwqc.com/Global/story.asp?S=15903666</td><td>benign</td><td>kwqc.com</td><td>com</td><td>GoDaddy Corporate Domains, LLC</td><td>0</td><td>false</td></tr><tr><td>christianacare.org/</td><td>benign</td><td>christianacare.org</td><td>org</td><td>REDACTED</td><td>1</td><td>true</td></tr><tr><td>http://annviviskennel.net/index.php?option=com_content&view=article&id=56&Itemid=79</td><td>defacement</td><td>annviviskennel.net</td><td>net</td><td>null</td><td>3</td><td>true</td></tr><tr><td>info-online-account.net</td><td>phishing</td><td>info-online-account.net</td><td>net</td><td>null</td><td>2</td><td>true</td></tr><tr><td>jets.nhl.com/club/news.htm?id=569847</td><td>benign</td><td>nhl.com</td><td>com</td><td>REDACTED FOR PRIVACY</td><td>0</td><td>false</td></tr><tr><td>gamefilmexpress.com/</td><td>benign</td><td>gamefilmexpress.com</td><td>com</td><td>IONOS SE</td><td>3</td><td>false</td></tr><tr><td>wolfslatkin.com/Attorneys/Albert-B-Wolf.shtml</td><td>benign</td><td>wolfslatkin.com</td><td>com</td><td>Network Solutions, LLC</td><td>0</td><td>true</td></tr><tr><td>tv.com/shows/bewitched/the-house-that-uncle-arthur-built-25554/</td><td>benign</td><td>tv.com</td><td>com</td><td>GoDaddy Corporate Domains, LLC</td><td>0</td><td>false</td></tr><tr><td>http://www.mo-priv.ru/index.php?option=com_content&view=article&id=838:2012-02-20-05-31-23&catid=39:2010-03-31-18-10-44&Itemid=62</td><td>defacement</td><td>mo-priv.ru</td><td>ru</td><td>Administracia MO \"Privoljskiy rayon\"</td><td>0</td><td>false</td></tr><tr><td>garybruce.bandcamp.com/</td><td>benign</td><td>bandcamp.com</td><td>com</td><td>GoDaddy.com, LLC</td><td>0</td><td>false</td></tr><tr><td>facebook.com/people/Chester-Brown/1321855909</td><td>benign</td><td>facebook.com</td><td>com</td><td>Meta Platforms, Inc.</td><td>1</td><td>false</td></tr><tr><td>movies.msn.com/celebrities/celebrity-biography/dean-stockwell/</td><td>benign</td><td>msn.com</td><td>com</td><td>MarkMonitor Inc.</td><td>0</td><td>false</td></tr><tr><td>http://www.dtcbv.nl/component/virtuemart/index.html?page=shop.browse&category_id=71</td><td>defacement</td><td>dtcbv.nl</td><td>nl</td><td>team.blue nl B.V.</td><td>0</td><td>false</td></tr><tr><td>http://www.real-house.nl/home/169-news-scene/964-the-calling-of-defected.html?tmpl=component&print=1&page=</td><td>defacement</td><td>real-house.nl</td><td>nl</td><td>null</td><td>2</td><td>false</td></tr><tr><td>ibnlive.in.com/news/ram-sampath-to-compose-for-rock-the-shaadi/190544-8-66.html</td><td>benign</td><td>in.com</td><td>com</td><td>Network18 Media and Investments Ltd.</td><td>0</td><td>false</td></tr><tr><td>washingtonexaminer.com/news/2011/11/safrica-top-politician-faces-bribery-accusations?category=18</td><td>benign</td><td>washingtonexaminer.com</td><td>com</td><td>GoDaddy.com, LLC</td><td>2</td><td>true</td></tr><tr><td>fordfocus2012.org/</td><td>benign</td><td>fordfocus2012.org</td><td>org</td><td>null</td><td>0</td><td>false</td></tr><tr><td>microencapsulation.readmyweather.com</td><td>malware</td><td>readmyweather.com</td><td>com</td><td>null</td><td>3</td><td>true</td></tr><tr><td>http://www.ondrejov.cz/programy/uzavrena-skupina</td><td>defacement</td><td>ondrejov.cz</td><td>cz</td><td>DPS-ONDREJOV</td><td>1</td><td>false</td></tr><tr><td>salary-money.com/samuel-eto-salary-euro-625000.php</td><td>benign</td><td>salary-money.com</td><td>com</td><td>Proxy Protection LLC</td><td>1</td><td>false</td></tr><tr><td>classicrockforums.com/forum/f53/rip-jim-clench-10766/</td><td>benign</td><td>classicrockforums.com</td><td>com</td><td>REDACTED FOR PRIVACY</td><td>0</td><td>false</td></tr><tr><td>youtube.com/watch?v=093nXYvngLc</td><td>benign</td><td>youtube.com</td><td>com</td><td>MarkMonitor Inc.</td><td>1</td><td>false</td></tr><tr><td>en.wikipedia.org/wiki/List_of_hemophilia_organizations</td><td>benign</td><td>wikipedia.org</td><td>org</td><td>Wikimedia Foundation, Inc.</td><td>1</td><td>false</td></tr><tr><td>last.fm/music/Arcade+Fire</td><td>benign</td><td>last.fm</td><td>fm</td><td>MarkMonitor, Inc.</td><td>0</td><td>true</td></tr><tr><td>evri.com/person/charles-l.-frink-0x5ae8da</td><td>benign</td><td>evri.com</td><td>com</td><td>Identity Protection Service</td><td>1</td><td>false</td></tr><tr><td>http://engine32truck16.com/component/content/article/87-anacostia-house.html</td><td>defacement</td><td>engine32truck16.com</td><td>com</td><td>null</td><td>2</td><td>false</td></tr><tr><td>http://onlineigri.net/all-games/igri-s-koli</td><td>defacement</td><td>onlineigri.net</td><td>net</td><td>DATA REDACTED</td><td>2</td><td>false</td></tr><tr><td>en.wikipedia.org/wiki/St._Vincent_Mercy_Children%27s_Hospital</td><td>benign</td><td>wikipedia.org</td><td>org</td><td>Wikimedia Foundation, Inc.</td><td>1</td><td>false</td></tr><tr><td>pennyfather.com/_nameindex.html</td><td>benign</td><td>pennyfather.com</td><td>com</td><td>null</td><td>2</td><td>true</td></tr><tr><td>http://www.vilagnomad.com/tables/payday-loans-direct-lenders-only.php</td><td>malware</td><td>vilagnomad.com</td><td>com</td><td>null</td><td>0</td><td>false</td></tr><tr><td>http://r-tuning.com.ua/index.php?option=com_virtuemart&page=shop.browse&category_id=420&Itemid=1</td><td>defacement</td><td>r-tuning.com.ua</td><td>com.ua</td><td>ФОП Хилюк Петро Миколайович</td><td>0</td><td>true</td></tr><tr><td>soccer365.com/news/u_s_news/m_l_s/6633/de_rosario_named_mls_mvp</td><td>benign</td><td>soccer365.com</td><td>com</td><td>GoDaddy.com, LLC</td><td>1</td><td>false</td></tr><tr><td>lindaguarino.com/detail.asp?listingid=w32666&agentid=111138&searchtype=ByCorp</td><td>benign</td><td>lindaguarino.com</td><td>com</td><td>null</td><td>0</td><td>false</td></tr><tr><td>facebook.com/pages/CFMB/107472729281906</td><td>benign</td><td>facebook.com</td><td>com</td><td>Meta Platforms, Inc.</td><td>1</td><td>false</td></tr><tr><td>jeopardylabs.com/</td><td>benign</td><td>jeopardylabs.com</td><td>com</td><td>Porkbun LLC</td><td>1</td><td>false</td></tr><tr><td>wn.com/The_Montreal_Star</td><td>benign</td><td>wn.com</td><td>com</td><td>World News Pte Ltd</td><td>0</td><td>false</td></tr><tr><td>linkedin.com/company/universal-studios</td><td>benign</td><td>linkedin.com</td><td>com</td><td>MarkMonitor Inc.</td><td>1</td><td>false</td></tr><tr><td>http://mixi.jp/share.pl?u=http://alfalfalfa.com/articles/117917.html&k=e09afc106e473491952cfe324aa83aabe5b07446</td><td>benign</td><td>mixi.jp</td><td>jp</td><td>null</td><td>0</td><td>false</td></tr><tr><td>facebook.com/WilburWatson</td><td>benign</td><td>facebook.com</td><td>com</td><td>Meta Platforms, Inc.</td><td>1</td><td>false</td></tr><tr><td>yougabsports.com/pt/The-Almost-All-Time-San-Diego-Chargers/blog.htm</td><td>benign</td><td>yougabsports.com</td><td>com</td><td>Redacted for privacy</td><td>0</td><td>true</td></tr><tr><td>http://svadebny.com/x.txt</td><td>defacement</td><td>svadebny.com</td><td>com</td><td>null</td><td>1</td><td>false</td></tr><tr><td>filecrop.com/GhostGirl-Tonya-Hurley-loca-por-amor-.pdf.html</td><td>benign</td><td>filecrop.com</td><td>com</td><td>Dynadot Inc</td><td>1</td><td>false</td></tr><tr><td>channel5.com/shows/the-vanessa-show</td><td>benign</td><td>channel5.com</td><td>com</td><td>MarkMonitor Inc.</td><td>1</td><td>false</td></tr><tr><td>http://www.ksra.ca/form/use/verify/form1.html</td><td>phishing</td><td>ksra.ca</td><td>ca</td><td>REDACTED FOR PRIVACY</td><td>0</td><td>false</td></tr><tr><td>camerchants.com/Canada-City/QC/Quebec/St-Barthelemy</td><td>benign</td><td>camerchants.com</td><td>com</td><td>Domain.com, LLC</td><td>1</td><td>true</td></tr><tr><td>videostravelguide.com/Virgin%20Islands/</td><td>benign</td><td>videostravelguide.com</td><td>com</td><td>NameBrightPrivacy.com</td><td>3</td><td>true</td></tr><tr><td>portlandmercury.com/portland/liam-finn-and-the-luyas/Event?oid=3633906</td><td>benign</td><td>portlandmercury.com</td><td>com</td><td>Index Newspapers, LLC</td><td>1</td><td>true</td></tr><tr><td>uncyclopedia.wikia.com/wiki/New_Zealand</td><td>benign</td><td>wikia.com</td><td>com</td><td>Tucows Domains Inc.</td><td>0</td><td>false</td></tr><tr><td>en-gb.facebook.com/clementine.bailly</td><td>benign</td><td>facebook.com</td><td>com</td><td>Meta Platforms, Inc.</td><td>1</td><td>false</td></tr><tr><td>http://distractify.com/post/related/id/5540d7154a0c4b3c311f252c/skip/10/limit/10/back/0</td><td>benign</td><td>distractify.com</td><td>com</td><td>GoDaddy.com, LLC</td><td>0</td><td>true</td></tr><tr><td>news.am/eng/news/77114.html</td><td>benign</td><td>news.am</td><td>am</td><td>abcdomain (ABCDomain LLC)</td><td>1</td><td>false</td></tr><tr><td>buckeyecablesystem.com/lineup/lineup-tol.html</td><td>benign</td><td>buckeyecablesystem.com</td><td>com</td><td>Network Solutions, LLC</td><td>4</td><td>true</td></tr><tr><td>omaopioridge.com/</td><td>benign</td><td>omaopioridge.com</td><td>com</td><td>null</td><td>1</td><td>false</td></tr><tr><td>http://kakaku.com/kaden/food-processor/ranking_2129/pricedown/div-gpt-ad-k/header_text</td><td>benign</td><td>kakaku.com</td><td>com</td><td>Kakaku.com, Inc.</td><td>0</td><td>false</td></tr><tr><td>forbes.com/sites/kitconews/2011/06/10/plan-nords-extension-of-route-167-key-for-mining-in-northern-quebec-stornoway-ceo/</td><td>benign</td><td>forbes.com</td><td>com</td><td>MarkMonitor Inc.</td><td>1</td><td>false</td></tr><tr><td>http://www.daytonaelectronics.co.za/index.php?option=com_content&view=article&id=47&Itemid=54</td><td>defacement</td><td>daytonaelectronics.co.za</td><td>co.za</td><td>Daytona Electronics cc</td><td>2</td><td>true</td></tr><tr><td>athletics.scout.com/2/621936.html</td><td>benign</td><td>scout.com</td><td>com</td><td>MarkMonitor Inc.</td><td>0</td><td>false</td></tr><tr><td>portland.daveknows.org/category/sport/timbers/</td><td>benign</td><td>daveknows.org</td><td>org</td><td>Jewella Privacy LLC</td><td>1</td><td>false</td></tr><tr><td>beyondrobson.com/music/2007/02/mixed_bag_book_of_lists_les_georges_leningrad_and_papercuts/</td><td>benign</td><td>beyondrobson.com</td><td>com</td><td>Dynadot Inc</td><td>1</td><td>false</td></tr><tr><td>5tothrive.net/cgi-bin/mt/mt-search.cgi?blog_id=1&tag=kaiser&limit=20</td><td>benign</td><td>5tothrive.net</td><td>net</td><td>Tucows Domains Inc.</td><td>2</td><td>false</td></tr><tr><td>en.wikipedia.org/wiki/Maurice_Richard_(film)</td><td>benign</td><td>wikipedia.org</td><td>org</td><td>Wikimedia Foundation, Inc.</td><td>1</td><td>false</td></tr><tr><td>ussoccer.com/News/Federation-Services/2009/06/University-Of-Miami-President-Donna-E-Shalala-Joins-Team-To-Bring-FIFA-World-Cup-To-United-States-In.aspx</td><td>benign</td><td>ussoccer.com</td><td>com</td><td>GoDaddy.com, LLC</td><td>1</td><td>false</td></tr><tr><td>washingtondc.bcg.com/</td><td>benign</td><td>bcg.com</td><td>com</td><td>CSC Corporate Domains, Inc.</td><td>0</td><td>false</td></tr><tr><td>http://www.ijsbaanapeldoorn.nl/fotos-videos.html?vsig4_0=18&vsig4_1=2</td><td>defacement</td><td>ijsbaanapeldoorn.nl</td><td>nl</td><td>Exonet B.V.</td><td>1</td><td>false</td></tr><tr><td>spokeo.com/Matthew+Dunkle</td><td>benign</td><td>spokeo.com</td><td>com</td><td>REDACTED FOR PRIVACY</td><td>1</td><td>false</td></tr><tr><td>http://www.easylivinggreenproducts.com.au/shop.html?page=shop.product_details&category_id=41&flypage=flypage.tpl&product_id=93</td><td>defacement</td><td>easylivinggreenproducts.com.au</td><td>com.au</td><td>null</td><td>3</td><td>true</td></tr><tr><td>http://sfhhz.com/channels/138.html</td><td>defacement</td><td>sfhhz.com</td><td>com</td><td>Redacted for privacy</td><td>0</td><td>false</td></tr><tr><td>maxalbums.com/index.php?artist=Loredana%20Groza%20Zaraza</td><td>benign</td><td>maxalbums.com</td><td>com</td><td>PrivacyGuardian.org llc</td><td>0</td><td>false</td></tr><tr><td>http://www.tvsk.com.au/index.php</td><td>defacement</td><td>tvsk.com.au</td><td>com.au</td><td>null</td><td>0</td><td>true</td></tr><tr><td>http://interpark.com/product/MallDisplay.do?_method=Detail&sc.shopNo=0000100000&sc.dispNo=001930&sc.prdNo=3104163110&bm1=bottom&bm2=prd</td><td>benign</td><td>interpark.com</td><td>com</td><td>Gabia, Inc.</td><td>1</td><td>true</td></tr><tr><td>temple.edu/classics/epic/index.html</td><td>benign</td><td>temple.edu</td><td>edu</td><td>null</td><td>3</td><td>false</td></tr><tr><td>kotaku.com/5395085/behold-the-single+player-fighting-game</td><td>benign</td><td>kotaku.com</td><td>com</td><td>Kotaku USA LLC</td><td>0</td><td>true</td></tr><tr><td>multilingualbooks.com/foreignvids-ital.html</td><td>benign</td><td>multilingualbooks.com</td><td>com</td><td>Network Solutions, LLC</td><td>0</td><td>true</td></tr><tr><td>amazon.com/Born-Losers/dp/B002ZW6YX8</td><td>benign</td><td>amazon.com</td><td>com</td><td>MarkMonitor Inc.</td><td>0</td><td>false</td></tr><tr><td>http://www.nabu-gaildorf.de/index.php?option=com_search&Itemid=5</td><td>defacement</td><td>nabu-gaildorf.de</td><td>de</td><td>null</td><td>1</td><td>false</td></tr><tr><td>bloggn.grainews.ca/scotts_equip/2011/08/agcos-kansas-city-stars.html</td><td>benign</td><td>grainews.ca</td><td>ca</td><td>Service Desk</td><td>1</td><td>false</td></tr><tr><td>amazon.com/Barometer-Rising-New-Canadian-Library/dp/0771099916</td><td>benign</td><td>amazon.com</td><td>com</td><td>MarkMonitor Inc.</td><td>0</td><td>false</td></tr><tr><td>areawidenews.com/story/1495635.html</td><td>benign</td><td>areawidenews.com</td><td>com</td><td>CherryRoad Technologies</td><td>3</td><td>false</td></tr><tr><td>uk.ask.com/wiki/Hershey_Felder</td><td>benign</td><td>ask.com</td><td>com</td><td>MarkMonitor Inc.</td><td>0</td><td>false</td></tr><tr><td>http://mylust.com/videos/69734/a-small-cock-of-that-guy-is-still-good-for-this-vintage-whore/</td><td>benign</td><td>mylust.com</td><td>com</td><td>Whois Privacy (enumDNS dba)</td><td>0</td><td>false</td></tr><tr><td>cartoonnetwork.com/feedback/index.html</td><td>benign</td><td>cartoonnetwork.com</td><td>com</td><td>Turner Broadcasting System, Inc.</td><td>1</td><td>true</td></tr><tr><td>twinkacademy.com/index2.htm</td><td>benign</td><td>twinkacademy.com</td><td>com</td><td>Wild West Domains, LLC</td><td>1</td><td>true</td></tr><tr><td>http://www.botoxina.com/index.php?view=article&id=81:b0toxina-injectable-b&tmpl=component&print=1&layout=default&page=&option=com_content&Itemid=105&lang=en</td><td>defacement</td><td>botoxina.com</td><td>com</td><td>REDACTED FOR PRIVACY</td><td>0</td><td>true</td></tr><tr><td>freepages.genealogy.rootsweb.ancestry.com/~rosdavies/SURNAMES/B/BruBry.htm</td><td>benign</td><td>ancestry.com</td><td>com</td><td>MarkMonitor Inc.</td><td>1</td><td>true</td></tr><tr><td>mortonsauto.com/</td><td>benign</td><td>mortonsauto.com</td><td>com</td><td>Launchpad.com Inc.</td><td>0</td><td>true</td></tr><tr><td>thecanadianencyclopedia.com/index.cfm?PgNm=TCE&Params=A1ARTA0002467</td><td>benign</td><td>thecanadianencyclopedia.com</td><td>com</td><td>REDACTED FOR PRIVACY</td><td>3</td><td>true</td></tr><tr><td>eveningtribune.com/features/x1638744422/Days-until-Sept-11-Remembrances-begin-Wednesday-and-continue-through-10-year-anniversary-or-terror-attacks</td><td>benign</td><td>eveningtribune.com</td><td>com</td><td>GoDaddy Corporate Domains, LLC</td><td>3</td><td>false</td></tr><tr><td>http://zshsq.com/news/html/index.html?429.html</td><td>defacement</td><td>zshsq.com</td><td>com</td><td>Redacted for privacy</td><td>0</td><td>false</td></tr><tr><td>encycl.opentopia.com/term/KPIX-TV</td><td>benign</td><td>opentopia.com</td><td>com</td><td>GoDaddy.com, LLC</td><td>1</td><td>true</td></tr><tr><td>http://www.sanpedrolee.com.ar/index.php?option=com_content&view=article&id=49&Itemid=70</td><td>defacement</td><td>sanpedrolee.com.ar</td><td>com.ar</td><td>null</td><td>3</td><td>false</td></tr><tr><td>semissourian.com/story/1753207.html</td><td>benign</td><td>semissourian.com</td><td>com</td><td>Network Solutions, LLC</td><td>1</td><td>false</td></tr><tr><td>capitals.nhl.com/club/page.htm?id=62951</td><td>benign</td><td>nhl.com</td><td>com</td><td>REDACTED FOR PRIVACY</td><td>0</td><td>false</td></tr><tr><td>manta.com/c/mmdjrmw/walls-alive-paper-hanging-inc</td><td>benign</td><td>manta.com</td><td>com</td><td>Identity Protection Service</td><td>0</td><td>true</td></tr><tr><td>richnye.com/</td><td>benign</td><td>richnye.com</td><td>com</td><td>Register.com - Network Solutions, LLC</td><td>1</td><td>false</td></tr><tr><td>bizofbaseball.com/index.php?option=com_content&task=view&id=1899&Itemid=81</td><td>benign</td><td>bizofbaseball.com</td><td>com</td><td>Tucows Domains Inc.</td><td>1</td><td>false</td></tr><tr><td>http://www.beriva.lt/index.html?di=akcijos&R=1&iid=602416</td><td>defacement</td><td>beriva.lt</td><td>lt</td><td>null</td><td>1</td><td>true</td></tr><tr><td>http://apoiojur.com.br/index.php</td><td>defacement</td><td>apoiojur.com.br</td><td>com.br</td><td>Sensu Publica��es Juridicas Ltda</td><td>0</td><td>false</td></tr><tr><td>http://dienlanhvn.com/index.php/lien-h.html</td><td>defacement</td><td>dienlanhvn.com</td><td>com</td><td>HugeDomains.com</td><td>1</td><td>false</td></tr><tr><td>cincinnati.reds.mlb.com/stats/historical/individual_stats_player.jsp?c_id=cin&playerID=115587&print=true&HS=True</td><td>benign</td><td>mlb.com</td><td>com</td><td>GoDaddy Corporate Domains, LLC</td><td>0</td><td>false</td></tr><tr><td>en.wikipedia.org/wiki/Dean_Marshall</td><td>benign</td><td>wikipedia.org</td><td>org</td><td>Wikimedia Foundation, Inc.</td><td>1</td><td>false</td></tr><tr><td>sfgate.com/sports/warriors/</td><td>benign</td><td>sfgate.com</td><td>com</td><td>CSC Corporate Domains, Inc.</td><td>1</td><td>true</td></tr><tr><td>http://www.nephotography.com.au/galleries/index.php?do=registry</td><td>defacement</td><td>nephotography.com.au</td><td>com.au</td><td>BONGERS, MARC ANTHONY</td><td>1</td><td>true</td></tr><tr><td>http://jcmt.nl/en/sitemap</td><td>defacement</td><td>jcmt.nl</td><td>nl</td><td>null</td><td>0</td><td>false</td></tr><tr><td>http://torcache.net/torrent/A53109A89F38C9D0BACB394E51703AE921F56967.torrent?title=[kickass.to]dum.laga.ke.haisha.2015.720p.blu.ray.hindi.x264.ac3.5.1.mafiaking.m2tv</td><td>benign</td><td>torcache.net</td><td>net</td><td>Jewella Privacy LLC Privacy ID# 1183090</td><td>2</td><td>true</td></tr><tr><td>http://www.suiteorchestra.it/index.php?option=com_content&view=article&id=64:pianoforte-e-basso&catid=38:rokstories&lang=it&Itemid=</td><td>defacement</td><td>suiteorchestra.it</td><td>it</td><td>null</td><td>2</td><td>true</td></tr><tr><td>arashixdream.com/2009/08/5x10-mp3-arashi-hidden-track-from-all.html</td><td>benign</td><td>arashixdream.com</td><td>com</td><td>Realtime Register B.V.</td><td>1</td><td>false</td></tr><tr><td>http://www.tochnogopvakantie.nl/reizen/Nederland/Nederland/Kort+(tot+1+week).html</td><td>defacement</td><td>tochnogopvakantie.nl</td><td>nl</td><td>null</td><td>1</td><td>true</td></tr><tr><td>tremblay-alvergne.com/</td><td>benign</td><td>tremblay-alvergne.com</td><td>com</td><td>null</td><td>3</td><td>true</td></tr><tr><td>goatlocker.org/oldlogs/oldlogc98.htm</td><td>benign</td><td>goatlocker.org</td><td>org</td><td>Goatlocker</td><td>1</td><td>true</td></tr><tr><td>xo3fhvm5lcvzy92q.download</td><td>malware</td><td>xo3fhvm5lcvzy92q.download</td><td>download</td><td>null</td><td>0</td><td>false</td></tr><tr><td>http://www.food-nrw.de/index.php/forum/257-forum-nachhaltigkeit-in-der-ernaehrungsindustrie-am-28112012</td><td>defacement</td><td>food-nrw.de</td><td>de</td><td>null</td><td>1</td><td>false</td></tr><tr><td>telusplanet.net/public/dgarneau/french14.htm</td><td>benign</td><td>telusplanet.net</td><td>net</td><td>MarkMonitor Inc.</td><td>3</td><td>true</td></tr><tr><td>en.wikipedia.org/wiki/Jim_Macpherson</td><td>benign</td><td>wikipedia.org</td><td>org</td><td>Wikimedia Foundation, Inc.</td><td>1</td><td>false</td></tr><tr><td>maa.org/features/012304mathinindustry.html</td><td>benign</td><td>maa.org</td><td>org</td><td>REDACTED</td><td>0</td><td>false</td></tr><tr><td>docstoc.com/docs/22027831/Council-on-Foreign-Relations--CFR--Membership-Lists-1950-2005</td><td>benign</td><td>docstoc.com</td><td>com</td><td>GoDaddy.com, LLC</td><td>0</td><td>false</td></tr><tr><td>nihahaw5.beget.tech</td><td>phishing</td><td>beget.tech</td><td>tech</td><td>Beget LLC</td><td>3</td><td>false</td></tr><tr><td>http://www.versverwerktegroenten.nl/gezondheid/oorzaken-lage-consumptie.html?page=gezondheid%2Foorzaken-lage-consumptie</td><td>defacement</td><td>versverwerktegroenten.nl</td><td>nl</td><td>RegistrarHub</td><td>6</td><td>false</td></tr><tr><td>sites.google.com/a/woodplanning.com/www/</td><td>benign</td><td>google.com</td><td>com</td><td>MarkMonitor Inc.</td><td>1</td><td>false</td></tr><tr><td>answers.yahoo.com/question/index?qid=20060825211359AAIp8Zb</td><td>benign</td><td>yahoo.com</td><td>com</td><td>MarkMonitor Inc.</td><td>0</td><td>false</td></tr><tr><td>theonion.com/</td><td>benign</td><td>theonion.com</td><td>com</td><td>MarkMonitor Inc.</td><td>1</td><td>false</td></tr><tr><td>http://www.hjlaw.biz/index.php?option=com_user&view=remind</td><td>defacement</td><td>hjlaw.biz</td><td>biz</td><td>REDACTED FOR PRIVACY</td><td>0</td><td>false</td></tr><tr><td>http://www.koenigsbacher-biergarten.de/cmx/index.php?option=com_mailto&tmpl=component&link=d13b686621cded856309f5b7690e6850817c2105</td><td>defacement</td><td>koenigsbacher-biergarten.de</td><td>de</td><td>null</td><td>5</td><td>true</td></tr><tr><td>http://babal.net/photos/46/%D8%A8%D9%86%D8%A7%D8%AA-%D9%84%D8%A8%D9%86%D8%A7%D9%86%D9%8A%D8%A9</td><td>benign</td><td>babal.net</td><td>net</td><td>GoDaddy.com, LLC</td><td>1</td><td>true</td></tr><tr><td>http://www.windwolke.de/index.php?option=com_mailto&tmpl=component&link=aHR0cDovL3d3dy53aW5kd29sa2UuZGUvaW5kZXgucGhwP29wdGlvbj1jb21fY29udGVudCZ2aWV3PWFydGljbGUmaWQ9Mjpkb21haW4td2luZHdvbGtlJmNhdGlkPTM6YmxvZyZJdGVtaWQ9Ng==</td><td>defacement</td><td>windwolke.de</td><td>de</td><td>null</td><td>2</td><td>false</td></tr><tr><td>docstoc.com/docs/66806077/1996-FORD-F-SERIES</td><td>benign</td><td>docstoc.com</td><td>com</td><td>GoDaddy.com, LLC</td><td>0</td><td>false</td></tr><tr><td>m2movie.blogspot.com/2011/05/watch-game-2011-hindi-movie-online.html</td><td>benign</td><td>blogspot.com</td><td>com</td><td>MarkMonitor Inc.</td><td>0</td><td>false</td></tr><tr><td>navweaps.com/index_reunions/reunion_usn_E.htm</td><td>benign</td><td>navweaps.com</td><td>com</td><td>NavWeaps</td><td>1</td><td>false</td></tr><tr><td>onlineradio2.com/listen/Mix_933</td><td>benign</td><td>onlineradio2.com</td><td>com</td><td>null</td><td>1</td><td>false</td></tr><tr><td>mapsofworld.com/usa/states/california/california-county-map.html</td><td>benign</td><td>mapsofworld.com</td><td>com</td><td>GoDaddy.com, LLC</td><td>0</td><td>false</td></tr><tr><td>http://www.prefina.it/notizie/notizie-generali/51-unifidi-garanzia-sugli-investimenti-materiali-immateriali-e-formazione-di-scorte.html?tmpl=component&print=1&layout=default&page=</td><td>defacement</td><td>prefina.it</td><td>it</td><td>Prefina S.r.l.</td><td>1</td><td>true</td></tr><tr><td>video.ca.msn.com/watch/video/dog-kills-quebec-baby/16a6etkt7</td><td>benign</td><td>msn.com</td><td>com</td><td>MarkMonitor Inc.</td><td>0</td><td>false</td></tr><tr><td>http://torrentdn.com/bbs/s.php?bo_table=torrent_util&wr_id=15244&k=%ED%8F%AC%ED%86%A0%EC%83%B5&page=1</td><td>benign</td><td>torrentdn.com</td><td>com</td><td>null</td><td>1</td><td>false</td></tr><tr><td>youtube.com/watch?v=tzooZPZEqwk</td><td>benign</td><td>youtube.com</td><td>com</td><td>MarkMonitor Inc.</td><td>1</td><td>false</td></tr><tr><td>waterviewdistillery.com</td><td>phishing</td><td>waterviewdistillery.com</td><td>com</td><td>GoDaddy.com, LLC</td><td>3</td><td>true</td></tr><tr><td>careers.state.gov/</td><td>benign</td><td>state.gov</td><td>gov</td><td>REDACTED FOR PRIVACY</td><td>1</td><td>true</td></tr><tr><td>elyrics.net/read/a/audrye-sessions-lyrics/relentless-lyrics.html</td><td>benign</td><td>elyrics.net</td><td>net</td><td>GoDaddy.com, LLC</td><td>2</td><td>false</td></tr><tr><td>onestophelp.state.mi.us/wiki/Limited_Liability_Partnership</td><td>benign</td><td>state.mi.us</td><td>mi.us</td><td>Jason Frost</td><td>1</td><td>true</td></tr><tr><td>http://thenextweb.com/insider/2015/05/13/9-notable-young-companies-from-the-500-startups-demo-extravaganza/gtm.start</td><td>benign</td><td>thenextweb.com</td><td>com</td><td>NameCheap, Inc.</td><td>3</td><td>false</td></tr><tr><td>http://www.wxlottery.com/news/201212/285590.html</td><td>defacement</td><td>wxlottery.com</td><td>com</td><td>Redacted for privacy</td><td>1</td><td>false</td></tr><tr><td>insidemnsoccer.com/2010/01/29/q-and-a-with-andrew-nestor-owner-president-and-ceo-of-fc-tampa-bay-rowdies-soccer/</td><td>benign</td><td>insidemnsoccer.com</td><td>com</td><td>GoDaddy.com, LLC</td><td>2</td><td>false</td></tr><tr><td>http://www.centercamping.com.br/index.php?option=com_ckforms&task=captcha&sid=c4ce9d9bffcf8ba3357da92fd49c2457</td><td>defacement</td><td>centercamping.com.br</td><td>com.br</td><td>null</td><td>2</td><td>true</td></tr><tr><td>amazon.com/Vanity-Fair-ebook/dp/B000JQUGVI</td><td>benign</td><td>amazon.com</td><td>com</td><td>MarkMonitor Inc.</td><td>0</td><td>false</td></tr><tr><td>trulia.com/schools/NY-Tarrytown/E_F_International_Academy/</td><td>benign</td><td>trulia.com</td><td>com</td><td>GoDaddy Corporate Domains, LLC</td><td>0</td><td>true</td></tr><tr><td>metalodyssey.wordpress.com/</td><td>benign</td><td>wordpress.com</td><td>com</td><td>MarkMonitor Inc.</td><td>1</td><td>false</td></tr><tr><td>http://www.enventureonline.com/services/enterprise-data-management/consulting-services.html</td><td>defacement</td><td>enventureonline.com</td><td>com</td><td>GoDaddy.com, LLC</td><td>4</td><td>false</td></tr><tr><td>infoplease.com/ipa/A0855603.html</td><td>benign</td><td>infoplease.com</td><td>com</td><td>CSC Corporate Domains, Inc.</td><td>2</td><td>false</td></tr><tr><td>tcm.com/tcmdb/title/3073/These-Glamour-Girls/</td><td>benign</td><td>tcm.com</td><td>com</td><td>Turner Broadcasting System, Inc.</td><td>0</td><td>false</td></tr><tr><td>facebook.com/demerson1</td><td>benign</td><td>facebook.com</td><td>com</td><td>Meta Platforms, Inc.</td><td>1</td><td>false</td></tr><tr><td>http://winkerdecoracion.com/index.php?page=shop.browse&category_id=151&option=com_virtuemart&Itemid=29</td><td>defacement</td><td>winkerdecoracion.com</td><td>com</td><td>null</td><td>2</td><td>false</td></tr><tr><td>http://www.alorenademalaga.com/index.php/denominacion-de-origen/objetivos</td><td>defacement</td><td>alorenademalaga.com</td><td>com</td><td>GoDaddy.com, LLC</td><td>2</td><td>false</td></tr><tr><td>gomarquette.com/</td><td>benign</td><td>gomarquette.com</td><td>com</td><td>GoDaddy.com, LLC</td><td>2</td><td>true</td></tr><tr><td>ycharts.com/indices/%5EINX</td><td>benign</td><td>ycharts.com</td><td>com</td><td>Amazon Registrar, Inc.</td><td>0</td><td>true</td></tr><tr><td>iamachild.wordpress.com/2010/12/20/frederic-henri-schopin-1804-1880-french/</td><td>benign</td><td>wordpress.com</td><td>com</td><td>MarkMonitor Inc.</td><td>1</td><td>false</td></tr><tr><td>imdb.com/name/nm0185045/</td><td>benign</td><td>imdb.com</td><td>com</td><td>MarkMonitor Inc.</td><td>0</td><td>false</td></tr><tr><td>tallen.cutlerhomes.com/</td><td>benign</td><td>cutlerhomes.com</td><td>com</td><td>GoDaddy.com, LLC</td><td>2</td><td>false</td></tr><tr><td>http://www.fjpengfei.com/picshow.asp?id=31&mnid=5074&classname=\\320\\373\\264\\253\\273\\255\\262\\341&banner=2</td><td>defacement</td><td>fjpengfei.com</td><td>com</td><td>REDACTED FOR PRIVACY</td><td>2</td><td>false</td></tr><tr><td>prodenk-sanierung.de</td><td>phishing</td><td>prodenk-sanierung.de</td><td>de</td><td>null</td><td>3</td><td>false</td></tr><tr><td>answers.com/topic/robert-francis</td><td>benign</td><td>answers.com</td><td>com</td><td>Whois Privacy Protection Service, Inc.</td><td>1</td><td>false</td></tr><tr><td>http://www.wu8188.com/cl/tpl/five-star/ver1/css/five-star.css?v=ver15.32</td><td>malware</td><td>wu8188.com</td><td>com</td><td>null</td><td>0</td><td>false</td></tr><tr><td>dipity.com/gordonp/Japanese_Science_Fiction_Fantasy_Horror_Films/</td><td>benign</td><td>dipity.com</td><td>com</td><td>GoDaddy.com, LLC</td><td>0</td><td>false</td></tr><tr><td>genforum.genealogy.com/cochrane/</td><td>benign</td><td>genealogy.com</td><td>com</td><td>MarkMonitor Inc.</td><td>2</td><td>false</td></tr><tr><td>lost-in-translation.com/</td><td>benign</td><td>lost-in-translation.com</td><td>com</td><td>Network Solutions, LLC</td><td>0</td><td>true</td></tr><tr><td>http://www.djemanshy.md/photo/category/9.html</td><td>defacement</td><td>djemanshy.md</td><td>md</td><td>null</td><td>1</td><td>false</td></tr><tr><td>http://www.hhp.fi/index.php?option=com_rsgallery2&page=slideshow&gid=6</td><td>defacement</td><td>hhp.fi</td><td>fi</td><td>Hyv�n Hoidon Palvelut Oy</td><td>0</td><td>false</td></tr><tr><td>tampabay.com/news/publicsafety/crime/clearwater-police-man-dropped-9-month-old-because-she-cried/1195251</td><td>benign</td><td>tampabay.com</td><td>com</td><td>GoDaddy.com, LLC</td><td>0</td><td>true</td></tr><tr><td>rightsideva.blogspot.com/2010/11/is-hockey-stick-prof-michael-mann.html</td><td>benign</td><td>blogspot.com</td><td>com</td><td>MarkMonitor Inc.</td><td>0</td><td>false</td></tr><tr><td>http://applicationforschengenvisa.com/index.php</td><td>defacement</td><td>applicationforschengenvisa.com</td><td>com</td><td>null</td><td>2</td><td>true</td></tr><tr><td>dictionary.sensagent.com/Sandro/en-en/</td><td>benign</td><td>sensagent.com</td><td>com</td><td>Network Solutions, LLC</td><td>2</td><td>true</td></tr><tr><td>bartleby.com/100/437.html</td><td>benign</td><td>bartleby.com</td><td>com</td><td>Domain Protection Services, Inc.</td><td>1</td><td>true</td></tr><tr><td>http://www.fitnessequipmentworldok.com/exercise-bikes?page=shop.product_details&flypage=flypage.tpl&category_id=7&product_id=34</td><td>defacement</td><td>fitnessequipmentworldok.com</td><td>com</td><td>REDACTED FOR PRIVACY</td><td>3</td><td>false</td></tr><tr><td>altpress.com/features/entry/exclusive_stream_blaqk_audios_afterdark</td><td>benign</td><td>altpress.com</td><td>com</td><td>CSC Corporate Domains, Inc.</td><td>1</td><td>true</td></tr><tr><td>smarticullties.com</td><td>phishing</td><td>smarticullties.com</td><td>com</td><td>null</td><td>1</td><td>true</td></tr><tr><td>fangraphs.com/blogs/index.php/wally-pipping-jason-heyward/</td><td>benign</td><td>fangraphs.com</td><td>com</td><td>DATA REDACTED</td><td>0</td><td>false</td></tr><tr><td>thedublinguide.com/</td><td>benign</td><td>thedublinguide.com</td><td>com</td><td>GoDaddy.com, LLC</td><td>2</td><td>false</td></tr><tr><td>sagedata.com/the_company/our-clients.html</td><td>benign</td><td>sagedata.com</td><td>com</td><td>Tucows Domains Inc.</td><td>1</td><td>true</td></tr><tr><td>http://djsipke.nl/foto-album/6-sint-nykstermerke/detail/327-img1694.html?tmpl=component</td><td>defacement</td><td>djsipke.nl</td><td>nl</td><td>WebReus</td><td>1</td><td>false</td></tr><tr><td>associatedcontent.com/article/5436606/largest_cities_in_north_dakota_2011.html</td><td>benign</td><td>associatedcontent.com</td><td>com</td><td>MarkMonitor Inc.</td><td>2</td><td>true</td></tr><tr><td>fcfighter.stores.yahoo.net/superbrawls.html</td><td>benign</td><td>yahoo.net</td><td>net</td><td>MarkMonitor Inc.</td><td>1</td><td>true</td></tr><tr><td>faqs.ign.com/objects/142/14260594.html</td><td>benign</td><td>ign.com</td><td>com</td><td>CSC Corporate Domains, Inc.</td><td>0</td><td>false</td></tr><tr><td>http://www.bishopstrings.com/violin-bows/ยฃ300-ยฃ1500/index.html</td><td>defacement</td><td>bishopstrings.com</td><td>com</td><td>Mesh Digital Limited</td><td>0</td><td>false</td></tr><tr><td>evri.com/organization/kcwe-0x135a9c</td><td>benign</td><td>evri.com</td><td>com</td><td>Identity Protection Service</td><td>1</td><td>false</td></tr><tr><td>http://synaptixcommunications.com/index.php?%2FShowcase%2Fsimple-and-clear-educating-the-market%2FPrint.html</td><td>defacement</td><td>synaptixcommunications.com</td><td>com</td><td>Bluehost Inc.</td><td>0</td><td>true</td></tr><tr><td>music.yahoo.com/econochrist/</td><td>benign</td><td>yahoo.com</td><td>com</td><td>MarkMonitor Inc.</td><td>0</td><td>false</td></tr><tr><td>checkstorenow.ml</td><td>phishing</td><td>checkstorenow.ml</td><td>ml</td><td>null</td><td>2</td><td>false</td></tr><tr><td>1972topps.blogspot.com/2009/03/77-ron-theobald.html</td><td>benign</td><td>blogspot.com</td><td>com</td><td>MarkMonitor Inc.</td><td>0</td><td>false</td></tr><tr><td>diego-fc.com</td><td>phishing</td><td>diego-fc.com</td><td>com</td><td>null</td><td>1</td><td>false</td></tr><tr><td>canadastop100.com/montreal/</td><td>benign</td><td>canadastop100.com</td><td>com</td><td>GoDaddy.com, LLC</td><td>0</td><td>true</td></tr><tr><td>aklgammabeta.com/</td><td>benign</td><td>aklgammabeta.com</td><td>com</td><td>REDACTED FOR PRIVACY</td><td>1</td><td>true</td></tr><tr><td>beaconforchange.com/municipalteam.html</td><td>benign</td><td>beaconforchange.com</td><td>com</td><td>REDACTED FOR PRIVACY</td><td>2</td><td>false</td></tr><tr><td>movi.ca/actor-first/Paul/</td><td>benign</td><td>movi.ca</td><td>ca</td><td>REDACTED FOR PRIVACY</td><td>0</td><td>false</td></tr><tr><td>http://thenextweb.com/in/2014/11/13/uber-introduces-paytm-digital-wallet-payments-india-response-new-e-commerce-ruling/</td><td>benign</td><td>thenextweb.com</td><td>com</td><td>Privacy service provided by Withheld for Privacy ehf</td><td>3</td><td>false</td></tr><tr><td>mixedmartialarts.com/mma.cfm?go=blogs.Detail&gid=28490</td><td>benign</td><td>mixedmartialarts.com</td><td>com</td><td>REDACTED FOR PRIVACY</td><td>1</td><td>true</td></tr><tr><td>healthgrades.com/group-directory/minnesota-mn/le-center/le-sueur-county-mental-health-svs-b82a27b9</td><td>benign</td><td>healthgrades.com</td><td>com</td><td>GoDaddy Corporate Domains, LLC</td><td>2</td><td>true</td></tr><tr><td>http://mic.com/articles/89573/12-biggest-lies-we-re-told-in-college-graduation-speeches</td><td>benign</td><td>mic.com</td><td>com</td><td>Identity Protection Service</td><td>0</td><td>false</td></tr><tr><td>catalog.ccclib.org/</td><td>benign</td><td>ccclib.org</td><td>org</td><td>Domains By Proxy, LLC</td><td>0</td><td>false</td></tr><tr><td>blog.sfgate.com/inoakland/2011/07/04/cyclist-reported-missing-in-oaklandberkeley-hills/</td><td>benign</td><td>sfgate.com</td><td>com</td><td>CSC Corporate Domains, Inc.</td><td>1</td><td>true</td></tr><tr><td>cityunionmission.org/about/partners/fiorellas-jack-stack-barbecue</td><td>benign</td><td>cityunionmission.org</td><td>org</td><td>City Union Mission</td><td>0</td><td>false</td></tr><tr><td>brookislandrecords.com/</td><td>benign</td><td>brookislandrecords.com</td><td>com</td><td>null</td><td>1</td><td>false</td></tr><tr><td>people.famouswhy.com/peter_mitchell/</td><td>benign</td><td>famouswhy.com</td><td>com</td><td>REDACTED FOR PRIVACY</td><td>0</td><td>false</td></tr><tr><td>youtube.com/watch?v=39d3WECNSSA</td><td>benign</td><td>youtube.com</td><td>com</td><td>Google LLC</td><td>1</td><td>false</td></tr><tr><td>abebooks.com/book-search/title/five-roses-cook-book/</td><td>benign</td><td>abebooks.com</td><td>com</td><td>CSC Corporate Domains, Inc.</td><td>1</td><td>false</td></tr><tr><td>articles.sfgate.com/2011-06-11/opinion/29645960_1_chauncey-bailey-project-bakery-handyman-antoine-mackey</td><td>benign</td><td>sfgate.com</td><td>com</td><td>CSC Corporate Domains, Inc.</td><td>1</td><td>true</td></tr><tr><td>kalispellchristiancenter.org/team_bishop.html</td><td>benign</td><td>kalispellchristiancenter.org</td><td>org</td><td>null</td><td>3</td><td>true</td></tr><tr><td>utahutes.cstv.com/sports/w-gym/mtt/damianova_nansy02.html</td><td>benign</td><td>cstv.com</td><td>com</td><td>MarkMonitor Inc.</td><td>0</td><td>false</td></tr><tr><td>la.findacase.com/research/wfrmDocViewer.aspx/xq/fac/SAC/LA/1995/19951215_0003029.LA.htm/qx</td><td>benign</td><td>findacase.com</td><td>com</td><td>Privacy service provided by Withheld for Privacy ehf</td><td>1</td><td>false</td></tr><tr><td>beijingairlinetickets.com/</td><td>benign</td><td>beijingairlinetickets.com</td><td>com</td><td>null</td><td>3</td><td>true</td></tr><tr><td>uncyclopedia.wikia.com/wiki/Gilles_Duceppe</td><td>benign</td><td>wikia.com</td><td>com</td><td>Contact Privacy Inc. Customer 0130027609</td><td>0</td><td>false</td></tr><tr><td>idservicetelsmsmmssfr.000webhostapp.com</td><td>phishing</td><td>000webhostapp.com</td><td>com</td><td>HOSTINGER operations, UAB</td><td>1</td><td>true</td></tr><tr><td>whosdatedwho.com/sections/celebrities/first-name/Jeff</td><td>benign</td><td>whosdatedwho.com</td><td>com</td><td>REDACTED FOR PRIVACY</td><td>1</td><td>true</td></tr><tr><td>http://www.ghostwriting.de/rueckruf</td><td>defacement</td><td>ghostwriting.de</td><td>de</td><td>null</td><td>1</td><td>false</td></tr><tr><td>dibussi.com/2010/10/unpacking-a-chinese-companys-land-grab-in-cameroon.html</td><td>benign</td><td>dibussi.com</td><td>com</td><td>GoDaddy.com, LLC</td><td>0</td><td>false</td></tr><tr><td>missouriwrestling.com/news.php?recordID=300</td><td>benign</td><td>missouriwrestling.com</td><td>com</td><td>GoDaddy.com, LLC</td><td>1</td><td>false</td></tr><tr><td>amazon.com/Cherry-Falls-Terror-Brittany-Murphy/dp/B000056PXL</td><td>benign</td><td>amazon.com</td><td>com</td><td>MarkMonitor Inc.</td><td>0</td><td>false</td></tr><tr><td>https://hollywoodlife.com/2015/05/14/new-york-rangers-beat-washington-capitals-overtime-game-7-fan-reaction/</td><td>benign</td><td>hollywoodlife.com</td><td>com</td><td>MarkMonitor Inc.</td><td>1</td><td>false</td></tr><tr><td>worldtimezone.net/time/wtzstandard.php?listsw=namerica&sorttb=CountryID</td><td>benign</td><td>worldtimezone.net</td><td>net</td><td>Krivenyshev, Alexander</td><td>3</td><td>false</td></tr><tr><td>bursakombiservisi.web.tr</td><td>phishing</td><td>bursakombiservisi.web.tr</td><td>web.tr</td><td>null</td><td>2</td><td>true</td></tr><tr><td>blueslyrics.tripod.com/artistswithsongs/jimmy_reed_2.htm</td><td>benign</td><td>tripod.com</td><td>com</td><td>GoDaddy.com, LLC</td><td>0</td><td>false</td></tr><tr><td>en.wikipedia.org/wiki/Category:County_seats_in_Pennsylvania</td><td>benign</td><td>wikipedia.org</td><td>org</td><td>Wikimedia Foundation, Inc.</td><td>1</td><td>false</td></tr><tr><td>ca.local.yahoo.com/results?stx=bibliotheque&csz=St-Bruno-de-Montarville%2C%20QC</td><td>benign</td><td>yahoo.com</td><td>com</td><td>MarkMonitor Inc.</td><td>0</td><td>false</td></tr><tr><td>http://www.lappiramis.hu/wordpress/wp-content/themes/twentyeleven/inc/images/index.htm</td><td>phishing</td><td>lappiramis.hu</td><td>hu</td><td>null</td><td>0</td><td>false</td></tr><tr><td>en.wikipedia.org/wiki/Honor%C3%A9_Mercier</td><td>benign</td><td>wikipedia.org</td><td>org</td><td>Wikimedia Foundation, Inc.</td><td>1</td><td>false</td></tr><tr><td>starpacintl.com</td><td>phishing</td><td>starpacintl.com</td><td>com</td><td>null</td><td>0</td><td>true</td></tr><tr><td>mp3raid.com/music/justin_mcroberts.html</td><td>benign</td><td>mp3raid.com</td><td>com</td><td>GoDaddy.com, LLC</td><td>0</td><td>false</td></tr><tr><td>http://9779.info/%E5%B9%BC%E5%84%BF%E5%9B%AD%E7%9A%B1%E7%BA%B9%E7%BA%B8%E7%B2%98%E8%B4%B4%E7%94%BB/</td><td>malware</td><td>9779.info</td><td>info</td><td>null</td><td>0</td><td>false</td></tr><tr><td>agrimonia.info/</td><td>benign</td><td>agrimonia.info</td><td>info</td><td>null</td><td>0</td><td>false</td></tr><tr><td>big-game-hunting-usa.com/</td><td>benign</td><td>big-game-hunting-usa.com</td><td>com</td><td>null</td><td>1</td><td>true</td></tr><tr><td>californiazones.net/login.asp</td><td>benign</td><td>californiazones.net</td><td>net</td><td>null</td><td>2</td><td>true</td></tr><tr><td>en.wikipedia.org/wiki/Marcus_Moore</td><td>benign</td><td>wikipedia.org</td><td>org</td><td>Wikimedia Foundation, Inc.</td><td>1</td><td>false</td></tr><tr><td>maritimeupdates.com/index.php?option=com_content&amp;task=view&amp;id=38724&amp;Itemid=69</td><td>benign</td><td>maritimeupdates.com</td><td>com</td><td>null</td><td>2</td><td>true</td></tr><tr><td>huffingtonpost.com/2011/05/20/big-ten-athletes_n_864982.html</td><td>benign</td><td>huffingtonpost.com</td><td>com</td><td>BuzzFeed, Inc.</td><td>0</td><td>false</td></tr><tr><td>maryvilleac.web139.discountasp.net/subpages.asp?id=28&parentid=6</td><td>benign</td><td>discountasp.net</td><td>net</td><td>null</td><td>1</td><td>true</td></tr><tr><td>http://papillon-vole.fr/index.php?page=shop.product_details&flypage=flypage.tpl&product_id=30&category_id=2&option=com_virtuemart&Itemid=22</td><td>defacement</td><td>papillon-vole.fr</td><td>fr</td><td>null</td><td>1</td><td>false</td></tr><tr><td>http://www.hippapi.org/test/itunes.login/WebObjects/iTunesConnect.html</td><td>phishing</td><td>hippapi.org</td><td>org</td><td>null</td><td>0</td><td>false</td></tr><tr><td>legacy.com/guestbook/washingtonpost/guestbook.aspx?n=michael-anthony-jordan&pid=16394973&page=2</td><td>benign</td><td>legacy.com</td><td>com</td><td>PERFECT PRIVACY, LLC</td><td>1</td><td>false</td></tr><tr><td>inobediencetohim.com.au</td><td>phishing</td><td>inobediencetohim.com.au</td><td>com.au</td><td>null</td><td>3</td><td>true</td></tr><tr><td>http://www.ijsbaanapeldoorn.nl/fotos-videos.html?vsig4_0=0&vsig4_1=0</td><td>defacement</td><td>ijsbaanapeldoorn.nl</td><td>nl</td><td>Exonet B.V.</td><td>1</td><td>false</td></tr><tr><td>http://habbomoedasgeraa.blogspot.com/</td><td>phishing</td><td>blogspot.com</td><td>com</td><td>MarkMonitor Inc.</td><td>0</td><td>false</td></tr><tr><td>chuckhawks.com/45Colt.htm</td><td>benign</td><td>chuckhawks.com</td><td>com</td><td>REDACTED FOR PRIVACY</td><td>0</td><td>false</td></tr><tr><td>allaboutjazz.com/php/musician.php?id=7574</td><td>benign</td><td>allaboutjazz.com</td><td>com</td><td>Identity Protection Service</td><td>0</td><td>true</td></tr><tr><td>lincolnchristian.edu/Seminary/</td><td>benign</td><td>lincolnchristian.edu</td><td>edu</td><td>null</td><td>1</td><td>true</td></tr><tr><td>yangamat.com/?p=1865</td><td>benign</td><td>yangamat.com</td><td>com</td><td>REDACTED FOR PRIVACY</td><td>0</td><td>true</td></tr><tr><td>mymindseye.com/</td><td>benign</td><td>mymindseye.com</td><td>com</td><td>GoDaddy.com, LLC</td><td>2</td><td>false</td></tr><tr><td>blog.syracuse.com/parish/index.html</td><td>benign</td><td>syracuse.com</td><td>com</td><td>CSC Corporate Domains, Inc.</td><td>1</td><td>false</td></tr><tr><td>whoabc.com/harrison-ford/</td><td>benign</td><td>whoabc.com</td><td>com</td><td>Privacy service provided by Withheld for Privacy ehf</td><td>0</td><td>false</td></tr><tr><td>century21town-country.com/Property/MI/48322/West_Bloomfield/5436_PAUL_LOUIS_LN</td><td>benign</td><td>century21town-country.com</td><td>com</td><td>GoDaddy.com, LLC</td><td>1</td><td>false</td></tr><tr><td>igea.net/</td><td>benign</td><td>igea.net</td><td>net</td><td>REDACTED FOR PRIVACY</td><td>2</td><td>true</td></tr><tr><td>evri.com/person/graeme-dunstan-0x58f76</td><td>benign</td><td>evri.com</td><td>com</td><td>Identity Protection Service</td><td>1</td><td>false</td></tr><tr><td>baseballjump.com/baseball-memorabilia/kansas-city-royals</td><td>benign</td><td>baseballjump.com</td><td>com</td><td>Fanatics, LLC</td><td>1</td><td>false</td></tr><tr><td>http://thenextweb.com/insider/2015/05/05/foursquare-leverages-its-geolocation-technology-with-location-cloud-and-places/</td><td>benign</td><td>thenextweb.com</td><td>com</td><td>Privacy service provided by Withheld for Privacy ehf</td><td>3</td><td>false</td></tr><tr><td>interceder.net/topic/ciccone</td><td>benign</td><td>interceder.net</td><td>net</td><td>GoDaddy.com, LLC</td><td>4</td><td>false</td></tr><tr><td>http://ak.imgfarm.com/images/nocache/vicinio/installers/205320000.S10570.1/507981-150710122501-S10570.1/VideoDownloadConvertAuto.exe_0</td><td>malware</td><td>imgfarm.com</td><td>com</td><td>Ask Applications, Inc.</td><td>0</td><td>false</td></tr><tr><td>ussoccer.com/News/U-17-MNT/2005/12/U-S-U-17-MNT-Fall-2-0-To-Mexico-At-Los-Angeles-Memorial-Coliseum.aspx</td><td>benign</td><td>ussoccer.com</td><td>com</td><td>GoDaddy.com, LLC</td><td>1</td><td>false</td></tr><tr><td>http://www.0068555.com/cl/?module=System&method=LiveTop&args=livehall</td><td>malware</td><td>0068555.com</td><td>com</td><td>null</td><td>0</td><td>false</td></tr><tr><td>jbworld.jbs.st-louis.mo.us/</td><td>benign</td><td>st-louis.mo.us</td><td>mo.us</td><td>Shannon Spurling</td><td>0</td><td>false</td></tr><tr><td>http://twitter.com/home?status=%E3%83%8C%E3%81%91%E3%82%8B%EF%BC%81%E3%80%90%E7%BE%8E%E5%B0%91%E5%A5%B3%E3%80%91+http%3A%2F%2Fero-video.net%2Ft%2FmAsWlaomtJkLLbgk+%E6%95%99%E3%81%88%E5%AD%90%E3%81%AF%E7%BE%8E%E3%83%9E%E3%83%B3%E5%A5%B3%E5%AD%90%E6%A0%A1%E7%94%9F+%23ero+%23douga+%23agesage</td><td>benign</td><td>twitter.com</td><td>com</td><td>CSC Corporate Domains, Inc.</td><td>1</td><td>false</td></tr><tr><td>gothiclolitawigs.deviantart.com/</td><td>benign</td><td>deviantart.com</td><td>com</td><td>GoDaddy.com, LLC</td><td>1</td><td>true</td></tr><tr><td>http://haberler.com/galatasaray-mersin-idman-yurdu-nu-1-0-yendi-7303426-haberi-yorumlari/</td><td>benign</td><td>haberler.com</td><td>com</td><td>REDACTED FOR PRIVACY</td><td>2</td><td>false</td></tr><tr><td>archive.org/stream/morenosdictionar00morerich/morenosdictionar00morerich_djvu.txt</td><td>benign</td><td>archive.org</td><td>org</td><td>Internet Archive</td><td>1</td><td>false</td></tr><tr><td>http://cheezburger.com/8440974848/funny-fail-photo-portrait-bobby-jindal-politics?ref=rightarrow&siteId=1264</td><td>benign</td><td>cheezburger.com</td><td>com</td><td>GoDaddy.com, LLC</td><td>3</td><td>false</td></tr><tr><td>bergschneiderfamily.com/Bergschneider_Family_Newsletter/news.html</td><td>benign</td><td>bergschneiderfamily.com</td><td>com</td><td>null</td><td>3</td><td>false</td></tr><tr><td>http://www.easycaptchas.com/2F3F28039730C12A5C112FE0D5FEFA2E.captcha?width=132&height=42</td><td>malware</td><td>easycaptchas.com</td><td>com</td><td>EasyCaptChas.com</td><td>1</td><td>true</td></tr><tr><td>linkedin.com/pub/dir/mike/gibbons</td><td>benign</td><td>linkedin.com</td><td>com</td><td>MarkMonitor Inc.</td><td>1</td><td>false</td></tr><tr><td>http://www.aquamarinadivingtenerife.com/en.1</td><td>defacement</td><td>aquamarinadivingtenerife.com</td><td>com</td><td>IONOS SE</td><td>3</td><td>true</td></tr><tr><td>youtube.com/watch?v=vt8vA1v3hyo</td><td>benign</td><td>youtube.com</td><td>com</td><td>MarkMonitor Inc.</td><td>1</td><td>false</td></tr><tr><td>soa.sys-con.com/node/380232</td><td>benign</td><td>sys-con.com</td><td>com</td><td>GoDaddy.com, LLC</td><td>0</td><td>false</td></tr><tr><td>evri.com/person/s.-jay-plager-0x376ac</td><td>benign</td><td>evri.com</td><td>com</td><td>Identity Protection Service</td><td>1</td><td>false</td></tr><tr><td>http://tobogo.net/cdsb/board.php?board=issue&bm=view&no=2338&category=&auth=&page=1&search=&keyword=&recom=</td><td>benign</td><td>tobogo.net</td><td>net</td><td>GoDaddy.com, LLC</td><td>1</td><td>false</td></tr><tr><td>heritageapp.cyr.gov.sk.ca/public/</td><td>benign</td><td>gov.sk.ca</td><td>sk.ca</td><td>GoS SaskBuilds & Procurement</td><td>0</td><td>false</td></tr><tr><td>mastersoftrivia.com/blog/2011/06/june-20th-in-history-it-happened-today/</td><td>benign</td><td>mastersoftrivia.com</td><td>com</td><td>REDACTED FOR PRIVACY</td><td>1</td><td>true</td></tr><tr><td>eduplace.com/kids/mhm/</td><td>benign</td><td>eduplace.com</td><td>com</td><td>Network Solutions, LLC</td><td>2</td><td>false</td></tr><tr><td>ru-net.cv.ua/wp-content/config/file.php</td><td>malware</td><td>ru-net.cv.ua</td><td>cv.ua</td><td>null</td><td>1</td><td>true</td></tr><tr><td>http://www.hmaca.com/winnipeg-accounting-blog/tag/winnipeg-accpac-certified-consultant/index.html</td><td>defacement</td><td>hmaca.com</td><td>com</td><td>Arthur Lakomski</td><td>0</td><td>false</td></tr><tr><td>carto.net/neumann/photographs/2007/kerzers_papiliorama_2007_11_04/12_white_tree_nymph_weisse_baumnymphe_idea_leuconoe.html</td><td>benign</td><td>carto.net</td><td>net</td><td>REDACTED FOR PRIVACY</td><td>1</td><td>true</td></tr><tr><td>bigbandpdfs.com/</td><td>benign</td><td>bigbandpdfs.com</td><td>com</td><td>null</td><td>0</td><td>false</td></tr><tr><td>http://gazomer.com/vodonagrevateli/vodonagrevateli-nak-type/36-titan-rfb-50f</td><td>defacement</td><td>gazomer.com</td><td>com</td><td>null</td><td>1</td><td>false</td></tr><tr><td>cms.skidmore.edu/odsp/programs/arts/flute/faculty.cfm</td><td>benign</td><td>skidmore.edu</td><td>edu</td><td>null</td><td>2</td><td>false</td></tr><tr><td>lima-ny.org/</td><td>benign</td><td>lima-ny.org</td><td>org</td><td>Data Protected</td><td>0</td><td>false</td></tr><tr><td>http://www.dynamicstrategies.com.au/dynamic-strategies</td><td>defacement</td><td>dynamicstrategies.com.au</td><td>com.au</td><td>Dynamic Strategies Pty Ltd</td><td>2</td><td>true</td></tr><tr><td>en.wikipedia.org/wiki/Lartigue</td><td>benign</td><td>wikipedia.org</td><td>org</td><td>Wikimedia Foundation, Inc.</td><td>1</td><td>false</td></tr><tr><td>http://icicibank.com/Personal-Banking/insurance/general-insurance/health-insurance/index.page</td><td>benign</td><td>icicibank.com</td><td>com</td><td>Network Solutions, LLC</td><td>0</td><td>false</td></tr><tr><td>topix.com/ca/cabano-qc</td><td>benign</td><td>topix.com</td><td>com</td><td>Network Solutions, LLC</td><td>0</td><td>false</td></tr><tr><td>lyrics007.com/Planet%20Smashers%20Lyrics/Janice%20Lyrics.html</td><td>benign</td><td>lyrics007.com</td><td>com</td><td>Redacted for privacy</td><td>0</td><td>false</td></tr><tr><td>http://www.connexion3.gr/el/news/32-neo-site-amesotis</td><td>defacement</td><td>connexion3.gr</td><td>gr</td><td>null</td><td>1</td><td>false</td></tr><tr><td>http://www.duplexindustrial.com.au/salla-max.html</td><td>defacement</td><td>duplexindustrial.com.au</td><td>com.au</td><td>DUPLEX CLEANING MACHINES PTY. LTD.</td><td>1</td><td>true</td></tr><tr><td>conservapedia.com/Republican_Party</td><td>benign</td><td>conservapedia.com</td><td>com</td><td>Wild West Domains, LLC</td><td>2</td><td>false</td></tr><tr><td>icehockey.wikia.com/wiki/Jesse_Scanzano</td><td>benign</td><td>wikia.com</td><td>com</td><td>Contact Privacy Inc. Customer 0130027609</td><td>0</td><td>false</td></tr><tr><td>iagenweb.org/madison/marriage_records/mr_marston-maxon.html</td><td>benign</td><td>iagenweb.org</td><td>org</td><td>Contact Privacy Inc. Customer 0118734897</td><td>2</td><td>false</td></tr><tr><td>punkkie.wordpress.com/2011/11/03/spiritualized-ladies-and-gentlemen-we-are-floating-in-space-2/</td><td>benign</td><td>wordpress.com</td><td>com</td><td>Automattic, Inc.</td><td>1</td><td>false</td></tr><tr><td>wilsonstatebank.net/</td><td>benign</td><td>wilsonstatebank.net</td><td>net</td><td>Englert, Jason</td><td>2</td><td>true</td></tr><tr><td>weddingwire.com/wedding-songs/garter-removal-music/wanna-be-your-lover/943a52b86500a099.html</td><td>benign</td><td>weddingwire.com</td><td>com</td><td>Whois Privacy Service</td><td>2</td><td>false</td></tr><tr><td>facebook.com/SkyeBlueC</td><td>benign</td><td>facebook.com</td><td>com</td><td>Meta Platforms, Inc.</td><td>1</td><td>false</td></tr><tr><td>http://motthegioi.vn/tin-tuc/thoi-quen-an-nhieu-dua-ca-cua-nguoi-viet-khien-benh-ung-thu-tang-cao-188148.html</td><td>benign</td><td>motthegioi.vn</td><td>vn</td><td>null</td><td>1</td><td>false</td></tr><tr><td>isthisyour.name/directory/fullnames/ma~pelton.htm</td><td>benign</td><td>isthisyour.name</td><td>name</td><td>null</td><td>1</td><td>true</td></tr><tr><td>wikitree.com/genealogy/De%20Chauvigny-Family-Tree-6</td><td>benign</td><td>wikitree.com</td><td>com</td><td>REDACTED FOR PRIVACY</td><td>2</td><td>false</td></tr><tr><td>new.ca.music.yahoo.com/josh/</td><td>benign</td><td>yahoo.com</td><td>com</td><td>Yahoo Assets LLC</td><td>0</td><td>false</td></tr><tr><td>ehow.com/video_4766621_invest-privately-held-company.html</td><td>benign</td><td>ehow.com</td><td>com</td><td>TechnologyAdvice</td><td>1</td><td>false</td></tr><tr><td>http://mueblesjulianjimenez.es/index.php?page=shop.browse&category_id=3&option=com_virtuemart&Itemid=7</td><td>defacement</td><td>mueblesjulianjimenez.es</td><td>es</td><td>null</td><td>5</td><td>false</td></tr><tr><td>youtube.com/watch?v=mgMZ8ZNajpg</td><td>benign</td><td>youtube.com</td><td>com</td><td>Google LLC</td><td>1</td><td>false</td></tr><tr><td>http://www.autoursdurock.info/index.php?option=com_content&view=article&id=106&Itemid=229</td><td>defacement</td><td>autoursdurock.info</td><td>info</td><td>null</td><td>0</td><td>true</td></tr><tr><td>sertoma-gl-region.org/</td><td>benign</td><td>sertoma-gl-region.org</td><td>org</td><td>null</td><td>2</td><td>true</td></tr><tr><td>vale-healthcare.com/hand-clinic/</td><td>benign</td><td>vale-healthcare.com</td><td>com</td><td>CSC Corporate Domains, Inc.</td><td>3</td><td>true</td></tr><tr><td>proplast.co.nz</td><td>malware</td><td>proplast.co.nz</td><td>co.nz</td><td>null</td><td>0</td><td>true</td></tr><tr><td>sixgoody.com</td><td>phishing</td><td>sixgoody.com</td><td>com</td><td>null</td><td>0</td><td>false</td></tr><tr><td>imdb.com/name/nm0589603/</td><td>benign</td><td>imdb.com</td><td>com</td><td>IMDb.com, Inc.</td><td>0</td><td>false</td></tr><tr><td>quotes-famous.com/person/Lionel-Tiger-quotes.html</td><td>benign</td><td>quotes-famous.com</td><td>com</td><td>DATA REDACTED</td><td>1</td><td>true</td></tr><tr><td>http://torcache.net/torrent/722B98D9F645DF03E5D760EBD58F8D36A6EAFF3B.torrent?title=[kickass.to]sword.of.vengeance.2015.720p.brrip.x264.yify</td><td>benign</td><td>torcache.net</td><td>net</td><td>Jewella Privacy LLC Privacy ID# 1183090</td><td>2</td><td>true</td></tr><tr><td>gouldsminorhockey.com/news.php</td><td>benign</td><td>gouldsminorhockey.com</td><td>com</td><td>null</td><td>1</td><td>false</td></tr><tr><td>hotnewsofday.com/college-football-hall-of-fame.html</td><td>benign</td><td>hotnewsofday.com</td><td>com</td><td>Whois Privacy Protection Service by MuuMuuDomain</td><td>1</td><td>true</td></tr><tr><td>thefreelibrary.com/The+Hockey+Company+Holdings+Inc.+Announces+Acquisition+of+Lifestyle...-a0106768219</td><td>benign</td><td>thefreelibrary.com</td><td>com</td><td>DATA REDACTED</td><td>3</td><td>true</td></tr><tr><td>mylife.com/c-1232369030</td><td>benign</td><td>mylife.com</td><td>com</td><td>Network Solutions, LLC</td><td>1</td><td>false</td></tr><tr><td>cableslovenia.com/</td><td>benign</td><td>cableslovenia.com</td><td>com</td><td>null</td><td>2</td><td>false</td></tr><tr><td>hotladybody.com/2010/08/making-of-brazilian-playboy-cleo-pires.html</td><td>benign</td><td>hotladybody.com</td><td>com</td><td>null</td><td>0</td><td>true</td></tr><tr><td>sideshowtoy.com/?page_id=4489&sku=9004721</td><td>benign</td><td>sideshowtoy.com</td><td>com</td><td>Network Solutions, LLC</td><td>1</td><td>false</td></tr><tr><td>hobbylinc.com/htm/bac/bac50906.htm?source=froogle</td><td>benign</td><td>hobbylinc.com</td><td>com</td><td>GoDaddy.com, LLC</td><td>0</td><td>false</td></tr><tr><td>http://www.gypsyspirit.eu/cz/vyhlaovatele-a-partnei</td><td>defacement</td><td>gypsyspirit.eu</td><td>eu</td><td>Cloud DNS Ltd</td><td>1</td><td>false</td></tr><tr><td>account-security-centre20181712.000webhostapp.com</td><td>phishing</td><td>000webhostapp.com</td><td>com</td><td>HOSTINGER operations, UAB</td><td>1</td><td>true</td></tr><tr><td>http://batutik.com.ua/produkcziya/batutinaduvnie/23-batut.html</td><td>defacement</td><td>batutik.com.ua</td><td>com.ua</td><td>ТОВ \"Центр інтернет-імен України\"</td><td>0</td><td>true</td></tr><tr><td>http://9779.info/%E4%BA%94%E8%B0%B7%E6%9D%82%E7%B2%AE%E4%BA%BA%E7%89%A9%E7%B2%98%E8%B4%B4%E7%94%BB/</td><td>malware</td><td>9779.info</td><td>info</td><td>null</td><td>0</td><td>false</td></tr><tr><td>mind-world.com/</td><td>benign</td><td>mind-world.com</td><td>com</td><td>Tucows Domains Inc.</td><td>0</td><td>false</td></tr><tr><td>pipl.com/directory/name/Lillie/Kathleen</td><td>benign</td><td>pipl.com</td><td>com</td><td>GoDaddy.com, LLC</td><td>0</td><td>false</td></tr><tr><td>asunderpress.com/</td><td>benign</td><td>asunderpress.com</td><td>com</td><td>REDACTED FOR PRIVACY</td><td>2</td><td>false</td></tr><tr><td>http://dribbble.com/shots/1269523-Sperant-mobile-sidebar-concepts/attachments/174429</td><td>benign</td><td>dribbble.com</td><td>com</td><td>c/o whoisproxy.com</td><td>1</td><td>false</td></tr><tr><td>http://appleid.apple.co.uk.cgi-bin.webobjects.myappleid.woa.verify9.eu-id3.net/identify-customer=7gqIFbqj8arzSIQO5462DGWSCYDxgFcMXV0VVmRocB9YDXSVIl1eZXQ59t7hONf6Cy0nMNK3AXoC9tBGK0a7HH4hMrD16GBsW593/</td><td>phishing</td><td>eu-id3.net</td><td>net</td><td>null</td><td>2</td><td>false</td></tr><tr><td>http://www.chromashop.fr/index.php/actualites?start=12</td><td>defacement</td><td>chromashop.fr</td><td>fr</td><td>PLANETHOSTER</td><td>0</td><td>false</td></tr><tr><td>ababmx.com/index.php?page=default/halloffame&year=1999</td><td>benign</td><td>ababmx.com</td><td>com</td><td>GoDaddy.com, LLC</td><td>0</td><td>false</td></tr><tr><td>scr-paypal.co.uk</td><td>phishing</td><td>scr-paypal.co.uk</td><td>co.uk</td><td>null</td><td>0</td><td>false</td></tr><tr><td>http://www.geothermalanywhere.com/news/113-geothermal-anywhere-among-top-8-cleantech-vcs-opportunities-in-europe-selected-from-850-startups.html?lang=en</td><td>defacement</td><td>geothermalanywhere.com</td><td>com</td><td>Gransy, s.r.o.</td><td>4</td><td>true</td></tr><tr><td>http://www.italy-itf.com/index.php?option=com_phocagallery&view=detail&catid=1:home-page-collection&id=25:01-10-2010-apertura-stagione-itf-italia&tmpl=component&Itemid=93</td><td>defacement</td><td>italy-itf.com</td><td>com</td><td>Contact Privacy Inc. Customer 017072443</td><td>0</td><td>true</td></tr><tr><td>http://haishundl.com/a/qinpengqipaiguanfangxiazai/20131019/263.html</td><td>malware</td><td>haishundl.com</td><td>com</td><td>Gname 122 Inc</td><td>0</td><td>false</td></tr><tr><td>glassdoor.com/Job/Grassroots-Campaigns-Inc-Jobs-E149346.htm</td><td>benign</td><td>glassdoor.com</td><td>com</td><td>Glassdoor, Inc.</td><td>0</td><td>false</td></tr><tr><td>amazon.com/Songs-Debussy/dp/B00007FKRI</td><td>benign</td><td>amazon.com</td><td>com</td><td>MarkMonitor Inc.</td><td>0</td><td>false</td></tr><tr><td>http://torcache.net/torrent/3B72AAC22AE198BDF5CD9EDE72F8E118E8371008.torrent?title=[kickass.to]game.of.thrones.s05e05.720p.hdtv.x264.0sec</td><td>benign</td><td>torcache.net</td><td>net</td><td>Jewella Privacy LLC Privacy ID# 1183090</td><td>2</td><td>true</td></tr><tr><td>http://www.mtb-bad-harzburg.de/index.php/bilder</td><td>defacement</td><td>mtb-bad-harzburg.de</td><td>de</td><td>null</td><td>1</td><td>true</td></tr><tr><td>http://9779.info/%E5%8D%8A%E7%AB%8B%E4%BD%93%E5%B9%BC%E5%84%BF%E5%89%AA%E8%B4%B4%E7%94%BB/</td><td>malware</td><td>9779.info</td><td>info</td><td>null</td><td>0</td><td>false</td></tr><tr><td>yelp.ca/biz/jean-jacques-campeau-gatineau</td><td>benign</td><td>yelp.ca</td><td>ca</td><td>Yelp Inc. TMA 858370</td><td>1</td><td>false</td></tr><tr><td>google.com/hostednews/afp/article/ALeqM5iK8qoGy6KCQ835kZ1ps-VBbCEmqg?docId=CNG.70c74f0238858f49a6b97a2c9ed0618b.71</td><td>benign</td><td>google.com</td><td>com</td><td>Google LLC</td><td>1</td><td>false</td></tr><tr><td>http://www.centerimoveis.com.br/servicos/locacao-de-imoveis/imprimir.html</td><td>defacement</td><td>centerimoveis.com.br</td><td>com.br</td><td>Center Imoveis S/C Ltda.</td><td>3</td><td>false</td></tr><tr><td>http://deadspin.com/5746724/is-erin-andrews-reebok-endorsement-deal-journalistically-unethical</td><td>benign</td><td>deadspin.com</td><td>com</td><td>Privacy service provided by Withheld for Privacy ehf</td><td>1</td><td>false</td></tr><tr><td>en.wikipedia.org/wiki/Pierre_Dupuy</td><td>benign</td><td>wikipedia.org</td><td>org</td><td>Wikimedia Foundation, Inc.</td><td>1</td><td>false</td></tr><tr><td>forums.lazygirls.info/419484.html</td><td>benign</td><td>lazygirls.info</td><td>info</td><td>null</td><td>0</td><td>false</td></tr><tr><td>wn.com/American_Football_League</td><td>benign</td><td>wn.com</td><td>com</td><td>NameCheap, Inc.</td><td>0</td><td>false</td></tr><tr><td>reviews.creditkarma.com/credit-unions/communityamerica-credit-union1/1/</td><td>benign</td><td>creditkarma.com</td><td>com</td><td>CSC Corporate Domains, Inc.</td><td>1</td><td>true</td></tr><tr><td>r1ma.blogspot.com/2011/11/anais-pouliot-in-diva-by-anthony-maule.html</td><td>benign</td><td>blogspot.com</td><td>com</td><td>Google LLC</td><td>0</td><td>false</td></tr><tr><td>songlyrics.com/arrogant-worms-the/the-happy-happy-birthday-song-lyrics/</td><td>benign</td><td>songlyrics.com</td><td>com</td><td>Domain Protection Services, Inc.</td><td>0</td><td>false</td></tr><tr><td>northjersey.com/news/022411_Report_recommends_scrapping_urban_enterprise_zones.html</td><td>benign</td><td>northjersey.com</td><td>com</td><td>GoDaddy Corporate Domains, LLC</td><td>2</td><td>false</td></tr><tr><td>flixster.com/videos</td><td>benign</td><td>flixster.com</td><td>com</td><td>MarkMonitor Inc.</td><td>1</td><td>false</td></tr><tr><td>en.wikipedia.org/wiki/Francine_Lalonde</td><td>benign</td><td>wikipedia.org</td><td>org</td><td>Wikimedia Foundation, Inc.</td><td>1</td><td>false</td></tr><tr><td>shgresources.com/ca/timeline/</td><td>benign</td><td>shgresources.com</td><td>com</td><td>GoDaddy.com, LLC</td><td>2</td><td>false</td></tr><tr><td>http://www.masrealestate.it/index.php?option=com_mailto&tmpl=component&link=aHR0cDovL3d3dy5tYXNyZWFsZXN0YXRlLml0L2luZGV4LnBocD9vcHRpb249Y29tX2NvbnRlbnQmdmlldz1hcnRpY2xlJmlkPTclM0Fjb25zdWxlbnphJkl0ZW1pZD04Jmxhbmc9ZW4=&lang=en</td><td>defacement</td><td>masrealestate.it</td><td>it</td><td>mas real estate & consulting Srl</td><td>3</td><td>true</td></tr><tr><td>lemonamiga.com/?game_id=352</td><td>benign</td><td>lemonamiga.com</td><td>com</td><td>Privacy service provided by Withheld for Privacy ehf</td><td>1</td><td>false</td></tr><tr><td>mylife.com/laurakjohnson82</td><td>benign</td><td>mylife.com</td><td>com</td><td>Network Solutions, LLC</td><td>1</td><td>false</td></tr><tr><td>how-to-kiss.net/types-of-kisses.php</td><td>benign</td><td>how-to-kiss.net</td><td>net</td><td>null</td><td>1</td><td>false</td></tr><tr><td>ca.linkedin.com/pub/shannon-gaskell/14/262/100</td><td>benign</td><td>linkedin.com</td><td>com</td><td>LinkedIn Corporation</td><td>1</td><td>false</td></tr><tr><td>jackianderson.com/</td><td>benign</td><td>jackianderson.com</td><td>com</td><td>null</td><td>1</td><td>false</td></tr><tr><td>tvrage.com/person/id-34775/Hans+Conried</td><td>benign</td><td>tvrage.com</td><td>com</td><td>Porkbun LLC</td><td>1</td><td>true</td></tr><tr><td>http://www.sementimenzo.it/dove-siamo/2.html</td><td>defacement</td><td>sementimenzo.it</td><td>it</td><td>F.lli Menzo Sas di Menzo Epifanio Salvatore</td><td>3</td><td>false</td></tr><tr><td>http://www.bkr-laserscanning.de/index.php?option=com_mailto&tmpl=component&link=aHR0cDovL3d3dy5ia3ItbGFzZXJzY2FubmluZy5kZS9pbmRleC5waHA%2Fb3B0aW9uPWNvbV9jb250ZW50JnZpZXc9YXJ0aWNsZSZpZD05ODpzdG9lcmthbnRlbm1vZGVsbC1mdWVyLXJvYm90ZXJzaW11bGF0aW9uJmNhdGlkPTQzOmluaGFsdGUmSXRlbWlkPTY4</td><td>defacement</td><td>bkr-laserscanning.de</td><td>de</td><td>null</td><td>2</td><td>false</td></tr><tr><td>alkire.org/gen/ohio/d0033/f0000003.html</td><td>benign</td><td>alkire.org</td><td>org</td><td>Domains By Proxy, LLC</td><td>1</td><td>false</td></tr><tr><td>wendylynncustomhomes.com/</td><td>benign</td><td>wendylynncustomhomes.com</td><td>com</td><td>null</td><td>2</td><td>false</td></tr><tr><td>biomedexperts.com/Profile.bme/282390/Fran%c3%a7ois_Dabis</td><td>benign</td><td>biomedexperts.com</td><td>com</td><td>Data protected, not disclosed</td><td>3</td><td>false</td></tr><tr><td>http://www.sezioneanatreviso.it/index.php?option=com_mailto&tmpl=component&link=cc85e277afa8d49b301bfe3a29eddc69a0e4b2c1</td><td>defacement</td><td>sezioneanatreviso.it</td><td>it</td><td>null</td><td>3</td><td>true</td></tr><tr><td>toctok.com.mx</td><td>phishing</td><td>toctok.com.mx</td><td>com.mx</td><td>KONIBIT MEXICO, S.A. DE C.V.</td><td>0</td><td>false</td></tr><tr><td>http://www.bruynzeelmultipanel.be/index.php?option=com_content&view=article&id=20&Itemid=21</td><td>defacement</td><td>bruynzeelmultipanel.be</td><td>be</td><td>null</td><td>4</td><td>true</td></tr><tr><td>afcubridge.org/</td><td>benign</td><td>afcubridge.org</td><td>org</td><td>REDACTED</td><td>1</td><td>false</td></tr><tr><td>archives.cbc.ca/society/religion_spirituality/clips/6024/</td><td>benign</td><td>cbc.ca</td><td>ca</td><td>Réjean Lafrance</td><td>0</td><td>false</td></tr><tr><td>http://www.honarcinema.com/index.php?option=com_content&view=frontpage&Itemid=1&limitstart=10</td><td>defacement</td><td>honarcinema.com</td><td>com</td><td>null</td><td>1</td><td>false</td></tr><tr><td>bonjourlafrance.com/france-history/bourbon-dynasty.htm</td><td>benign</td><td>bonjourlafrance.com</td><td>com</td><td>NameCheap, Inc.</td><td>1</td><td>false</td></tr><tr><td>everyguitarist.com/billie_joe_armstrong.htm</td><td>benign</td><td>everyguitarist.com</td><td>com</td><td>Statutory Masking Enabled</td><td>2</td><td>true</td></tr><tr><td>myeasyauction.com/</td><td>benign</td><td>myeasyauction.com</td><td>com</td><td>GoDaddy.com, LLC</td><td>1</td><td>true</td></tr><tr><td>psychology.wikia.com/wiki/Ian_Stevenson</td><td>benign</td><td>wikia.com</td><td>com</td><td>Contact Privacy Inc. Customer 0130027609</td><td>0</td><td>false</td></tr><tr><td>familysearch.org/learn/wiki/en/Lenawee_County%2C_Michigan</td><td>benign</td><td>familysearch.org</td><td>org</td><td>Intellectual Reserve, Inc.</td><td>1</td><td>false</td></tr><tr><td>sciway.net/statistics/scsa98/tr/tr12.html</td><td>benign</td><td>sciway.net</td><td>net</td><td>SCIway.net, LLC</td><td>1</td><td>true</td></tr><tr><td>twaflightattendants.com/liftoffhtml/historytimeline.html</td><td>benign</td><td>twaflightattendants.com</td><td>com</td><td>Privacy service provided by Withheld for Privacy ehf</td><td>1</td><td>true</td></tr><tr><td>corporationwiki.com/Florida/Miami/shakir-saafir-P6169609.aspx</td><td>benign</td><td>corporationwiki.com</td><td>com</td><td>GoDaddy.com, LLC</td><td>0</td><td>true</td></tr><tr><td>nils-fabisch.de/</td><td>benign</td><td>nils-fabisch.de</td><td>de</td><td>null</td><td>1</td><td>false</td></tr><tr><td>deiradios.radio-dealers.com/aboutus.cfm?did=4c4e5e54-af9a-4c14-a266-b11c54e7a4e0&cat_id=1</td><td>benign</td><td>radio-dealers.com</td><td>com</td><td>Redacted for privacy</td><td>2</td><td>false</td></tr><tr><td>http://nguyentandung.org/141-ha-noi-phat-hien-nhanh-2-xe-di-muon-la-xe-trom-cap.html</td><td>benign</td><td>nguyentandung.org</td><td>org</td><td>Domains By Proxy, LLC</td><td>1</td><td>true</td></tr><tr><td>http://www.mbdalmezun.com/search.htm</td><td>defacement</td><td>mbdalmezun.com</td><td>com</td><td>null</td><td>1</td><td>false</td></tr><tr><td>britannica.com/EBchecked/topic/59931/Saul-Bellow</td><td>benign</td><td>britannica.com</td><td>com</td><td>CSC Corporate Domains, Inc.</td><td>0</td><td>true</td></tr><tr><td>jennieo.com/</td><td>benign</td><td>jennieo.com</td><td>com</td><td>Data protected, not disclosed</td><td>2</td><td>false</td></tr><tr><td>http://r-tuning.com.ua/index.php?option=com_virtuemart&page=shop.browse&category_id=444&Itemid=1</td><td>defacement</td><td>r-tuning.com.ua</td><td>com.ua</td><td>ФОП Хилюк Петро Миколайович</td><td>0</td><td>true</td></tr><tr><td>songlyrics.com/flipsyde/laserbeam-lyrics/</td><td>benign</td><td>songlyrics.com</td><td>com</td><td>Domain Protection Services, Inc.</td><td>0</td><td>false</td></tr><tr><td>http://www.prhelp.com.au/news-and-interesting-stuff/news/49-prhelp-now-on-msp</td><td>defacement</td><td>prhelp.com.au</td><td>com.au</td><td>null</td><td>1</td><td>false</td></tr><tr><td>vertor.com/download/la+donna+della+mia++vita</td><td>benign</td><td>vertor.com</td><td>com</td><td>REDACTED FOR PRIVACY</td><td>1</td><td>false</td></tr><tr><td>reunion.com/richardbolen/</td><td>benign</td><td>reunion.com</td><td>com</td><td>Network Solutions, LLC</td><td>1</td><td>false</td></tr><tr><td>en.wikipedia.org/wiki/Ross_Macdonald</td><td>benign</td><td>wikipedia.org</td><td>org</td><td>Wikimedia Foundation, Inc.</td><td>1</td><td>false</td></tr><tr><td>imdb.com/name/nm1884657/bio</td><td>benign</td><td>imdb.com</td><td>com</td><td>IMDb.com, Inc.</td><td>0</td><td>false</td></tr><tr><td>famouspoetsandpoems.com/poets/maya_angelou/biography</td><td>benign</td><td>famouspoetsandpoems.com</td><td>com</td><td>Jewella Privacy LLC Privacy ID# 12714329</td><td>2</td><td>true</td></tr><tr><td>cleveland.com/arts/index.ssf/2010/04/community_theaters_in_northeas.html</td><td>benign</td><td>cleveland.com</td><td>com</td><td>CSC Corporate Domains, Inc.</td><td>2</td><td>false</td></tr><tr><td>http://www.naylorantiques.com/MRR%20Uhzs/twGEShRCGGSDAMSWUtjTUgyUIvxFqOEJwHa/</td><td>phishing</td><td>naylorantiques.com</td><td>com</td><td>GoDaddy.com, LLC</td><td>1</td><td>true</td></tr><tr><td>en.wikipedia.org/wiki/List_of_counties_in_California</td><td>benign</td><td>wikipedia.org</td><td>org</td><td>Wikimedia Foundation, Inc.</td><td>1</td><td>false</td></tr><tr><td>docstoc.com/docs/6132660/History_of_Stoke_City_FC</td><td>benign</td><td>docstoc.com</td><td>com</td><td>GoDaddy.com, LLC</td><td>0</td><td>false</td></tr><tr><td>http://www.ahminspections.ca/realestateagents/7?phpMyAdmin=so8kK4koEHUy-VVzS9wK2LuLOK6</td><td>defacement</td><td>ahminspections.ca</td><td>ca</td><td>Avanti Home and Mold Inspections Limited</td><td>1</td><td>true</td></tr><tr><td>wsn.com/football/norwegian-2-division-avd-2-fixtures/</td><td>benign</td><td>wsn.com</td><td>com</td><td>GoDaddy.com, LLC</td><td>0</td><td>false</td></tr><tr><td>http://tobogo.net/cdsb/board.php?board=storymusic&bm=view&no=250&category=&auth=&page=1&search=&keyword=&recom=</td><td>benign</td><td>tobogo.net</td><td>net</td><td>GoDaddy.com, LLC</td><td>1</td><td>false</td></tr><tr><td>imdb.com/keyword/erotic-thriller/</td><td>benign</td><td>imdb.com</td><td>com</td><td>IMDb.com, Inc.</td><td>0</td><td>false</td></tr><tr><td>starpulse.com/Music/Shakira/Discography/album/P174707/R744021/</td><td>benign</td><td>starpulse.com</td><td>com</td><td>null</td><td>1</td><td>true</td></tr><tr><td>sportsillustrated.cnn.com/vault/article/magazine/MAG1006891/index.htm</td><td>benign</td><td>cnn.com</td><td>com</td><td>Turner Broadcasting System, Inc.</td><td>0</td><td>false</td></tr><tr><td>mailtribune.com/apps/pbcs.dll/article?AID=/20110719/NEWS/107190317</td><td>benign</td><td>mailtribune.com</td><td>com</td><td>Network Solutions, LLC</td><td>1</td><td>true</td></tr><tr><td>http://9779.info/%E9%A3%9E%E6%9C%BA%E6%A0%91%E5%8F%B6%E7%B2%98%E8%B4%B4%E7%94%BB/</td><td>malware</td><td>9779.info</td><td>info</td><td>null</td><td>0</td><td>false</td></tr><tr><td>http://aksniwka.com/klub/stadion</td><td>defacement</td><td>aksniwka.com</td><td>com</td><td>REDACTED FOR PRIVACY</td><td>0</td><td>false</td></tr><tr><td>reading-glasses.bttradespace.com/our-galleries/designer-eyewear/gallery-item?mediaId=759870EFDA70C63EE0401BAC7101193D</td><td>benign</td><td>bttradespace.com</td><td>com</td><td>Statutory Masking Enabled</td><td>2</td><td>true</td></tr><tr><td>babepedia.com/babe/Lanny_Barby</td><td>benign</td><td>babepedia.com</td><td>com</td><td>Privacy service provided by Withheld for Privacy ehf</td><td>2</td><td>false</td></tr><tr><td>spokeo.com/Brian+Watts</td><td>benign</td><td>spokeo.com</td><td>com</td><td>REDACTED FOR PRIVACY</td><td>1</td><td>false</td></tr><tr><td>http://www.unitre.org/index.php?option=com_wrapper&view=wrapper&Itemid=180&el_mcal_month=3&el_mcal_year=2013</td><td>defacement</td><td>unitre.org</td><td>org</td><td>REDACTED</td><td>1</td><td>false</td></tr><tr><td>whatifsports.com/nfl-l/profile_team.asp?hfid=26</td><td>benign</td><td>whatifsports.com</td><td>com</td><td>NameCheap, Inc.</td><td>0</td><td>true</td></tr><tr><td>whatisjameswearing.com/george-smith-showrooms/</td><td>benign</td><td>whatisjameswearing.com</td><td>com</td><td>GoDaddy.com, LLC</td><td>2</td><td>true</td></tr><tr><td>http://olx.co.id/i2/jasa-lowongan-kerja/jasa/jasa-lainnya/jasa-lowongan-kerja/jasa/jasa-lainnya</td><td>benign</td><td>olx.co.id</td><td>co.id</td><td>null</td><td>0</td><td>false</td></tr><tr><td>freebase.com/view/en/commerce_bancshares</td><td>benign</td><td>freebase.com</td><td>com</td><td>Google LLC</td><td>3</td><td>false</td></tr><tr><td>filmsandtv.com/movies/danielpilon.php</td><td>benign</td><td>filmsandtv.com</td><td>com</td><td>GoDaddy.com, LLC</td><td>0</td><td>true</td></tr><tr><td>http://www.smk86.ru/katalogtovara.html?sobi2Task=sobi2Details&catid=5&sobi2Id=38</td><td>defacement</td><td>smk86.ru</td><td>ru</td><td>OOO StroiMontajCompkect</td><td>0</td><td>false</td></tr><tr><td>videosurf.com/the-ellen-degeneres-show-17804</td><td>benign</td><td>videosurf.com</td><td>com</td><td>Privacy service provided by Withheld for Privacy ehf</td><td>1</td><td>false</td></tr><tr><td>pipl.com/directory/people/gary/sabaugh</td><td>benign</td><td>pipl.com</td><td>com</td><td>GoDaddy.com, LLC</td><td>0</td><td>false</td></tr><tr><td>discogs.com/Pixies-Trompe-Le-Monde/master/16797</td><td>benign</td><td>discogs.com</td><td>com</td><td>Amazon Registrar, Inc.</td><td>0</td><td>false</td></tr><tr><td>http://www.czdesign.cz/kalenda/search.form/2013/01/31/-.html</td><td>defacement</td><td>czdesign.cz</td><td>cz</td><td>WEBINVEST</td><td>1</td><td>false</td></tr><tr><td>http://papillon-vole.fr/index.php?page=shop.product_details&flypage=flypage.tpl&product_id=844&category_id=10&option=com_virtuemart&Itemid=22</td><td>defacement</td><td>papillon-vole.fr</td><td>fr</td><td>null</td><td>1</td><td>false</td></tr><tr><td>http://lasqc.com/index.php?option=com_content&view=article&id=64&Itemid=173</td><td>defacement</td><td>lasqc.com</td><td>com</td><td>null</td><td>0</td><td>false</td></tr><tr><td>stacey-hannant.co.uk/</td><td>benign</td><td>stacey-hannant.co.uk</td><td>co.uk</td><td>null</td><td>1</td><td>true</td></tr><tr><td>americansoccernews.net/2009/op-ed/a-business-model-for-american-specifically-mls-soccer-news/</td><td>benign</td><td>americansoccernews.net</td><td>net</td><td>Privacy service provided by Withheld for Privacy ehf</td><td>4</td><td>true</td></tr><tr><td>http://practicaleyes.net/consulting/165-communications-consultancy.html</td><td>defacement</td><td>practicaleyes.net</td><td>net</td><td>Amazon Registrar, Inc.</td><td>3</td><td>true</td></tr><tr><td>beakey.familytreeguide.com/descend.php?personID=I4596&tree=Beakey%202007</td><td>benign</td><td>familytreeguide.com</td><td>com</td><td>Statutory Masking Enabled</td><td>3</td><td>true</td></tr><tr><td>sanfrancisco.cbslocal.com/2011/09/04/livermore-soldier-dies-of-rabies/</td><td>benign</td><td>cbslocal.com</td><td>com</td><td>CBS Television Stations Digital Media Group</td><td>0</td><td>false</td></tr><tr><td>wordiq.com/definition/Public_art</td><td>benign</td><td>wordiq.com</td><td>com</td><td>GoDaddy.com, LLC</td><td>0</td><td>false</td></tr><tr><td>fanbase.com/Syracuse-Orange-Mens-Basketball-1999-00</td><td>benign</td><td>fanbase.com</td><td>com</td><td>GoDaddy.com, LLC</td><td>1</td><td>false</td></tr><tr><td>dc.about.com/od/museums/p/NaturalHistory.htm</td><td>benign</td><td>about.com</td><td>com</td><td>MarkMonitor Inc.</td><td>0</td><td>true</td></tr><tr><td>freebase.com/view/en/cincinnati_bengals</td><td>benign</td><td>freebase.com</td><td>com</td><td>MarkMonitor Inc.</td><td>3</td><td>false</td></tr><tr><td>yellowpages.ca/bus/Quebec/Laval/Sports-Autoroute-13-Inc/7541800.html</td><td>benign</td><td>yellowpages.ca</td><td>ca</td><td>Legal Classification</td><td>2</td><td>false</td></tr><tr><td>http://allrecipes.com/video/4124/cheesy-broccoli-puffs-with-sriracha-sauce/detail.aspx?prop24=VH_Brands</td><td>benign</td><td>allrecipes.com</td><td>com</td><td>MarkMonitor Inc.</td><td>2</td><td>false</td></tr><tr><td>http://pastehtml.com/view/bfzi0ah2a.html</td><td>phishing</td><td>pastehtml.com</td><td>com</td><td>Dynadot Inc</td><td>1</td><td>true</td></tr><tr><td>http://www.plexiprint.net/plexi/index.php?option=com_content&view=article&id=58&Itemid=67</td><td>defacement</td><td>plexiprint.net</td><td>net</td><td>null</td><td>2</td><td>false</td></tr><tr><td>http://9779.info/%E5%85%AD%E4%B8%80%E5%BF%AB%E4%B9%90%E7%B2%98%E8%B4%B4%E7%94%BB/</td><td>malware</td><td>9779.info</td><td>info</td><td>null</td><td>0</td><td>false</td></tr><tr><td>blockbuster.com/browse/catalog/personDetails/75406</td><td>benign</td><td>blockbuster.com</td><td>com</td><td>CSC Corporate Domains, Inc.</td><td>1</td><td>false</td></tr><tr><td>http://mikteks.biz/S7XIde/webscr_prim.php?bWlrdGVrcy5iaXo=uhsdsusu5485757kUJHNN546221oPLKj988777AOP784MTM1MDkxODc4OA==</td><td>phishing</td><td>mikteks.biz</td><td>biz</td><td>null</td><td>1</td><td>false</td></tr><tr><td>web.sau.edu/athletics/athletics/football/news/2005/gameday_stuff/Morningside/Welcome%20to%20the%20GPAC%20Home%20Page%20-%20The%20Great%20Plains%20Athletic%20Conference.htm</td><td>benign</td><td>sau.edu</td><td>edu</td><td>null</td><td>1</td><td>false</td></tr><tr><td>forum.fullsextube.com/vintage-videos-movies/26800-%5Brs%5D-nothing-hide-2-1993-tianna-roxanne-blaze.html</td><td>benign</td><td>fullsextube.com</td><td>com</td><td>null</td><td>2</td><td>false</td></tr><tr><td>be.linkedin.com/pub/jan-roels/27/141/746</td><td>benign</td><td>linkedin.com</td><td>com</td><td>MarkMonitor Inc.</td><td>1</td><td>false</td></tr><tr><td>youtube.com/watch?v=EcGsM-PNQHQ</td><td>benign</td><td>youtube.com</td><td>com</td><td>MarkMonitor Inc.</td><td>1</td><td>false</td></tr><tr><td>bloomberg.com/news/2011-08-28/dust-bowl-in-texas-means-cotton-bottoming-with-rick-perry-praying-for-rain.html</td><td>benign</td><td>bloomberg.com</td><td>com</td><td>CSC Corporate Domains, Inc.</td><td>1</td><td>false</td></tr><tr><td>http://www.slavia.sk/home</td><td>defacement</td><td>slavia.sk</td><td>sk</td><td>SWAN, a. s.</td><td>0</td><td>false</td></tr><tr><td>innerearbrigade.com/</td><td>benign</td><td>innerearbrigade.com</td><td>com</td><td>GoDaddy.com, LLC</td><td>3</td><td>false</td></tr><tr><td>brokenbells.com/</td><td>benign</td><td>brokenbells.com</td><td>com</td><td>GoDaddy.com, LLC</td><td>2</td><td>false</td></tr><tr><td>missouri.scout.com/2/1091275.html</td><td>benign</td><td>scout.com</td><td>com</td><td>CBS Interactive Inc.</td><td>0</td><td>false</td></tr><tr><td>amazon.com/Inter-Municipal-Cooperation-Europe-Rudie-Hulst/dp/1402053789</td><td>benign</td><td>amazon.com</td><td>com</td><td>MarkMonitor Inc.</td><td>0</td><td>false</td></tr><tr><td>amazon.com/Best-Mississippi-John-Hurt/dp/B000000EBH</td><td>benign</td><td>amazon.com</td><td>com</td><td>MarkMonitor Inc.</td><td>0</td><td>false</td></tr><tr><td>http://www.mariettachurchofgod.com/get-connected/christian-education/christian-education.html</td><td>defacement</td><td>mariettachurchofgod.com</td><td>com</td><td>null</td><td>1</td><td>true</td></tr><tr><td>http://www.liceoparroquialsangregoriomagno.edu.co/index.php?view=article&catid=1:latest-news&id=93:inicio-de-actividades-2013&tmpl=component&print=1&layout=default&page=</td><td>defacement</td><td>liceoparroquialsangregoriomagno.edu.co</td><td>edu.co</td><td>null</td><td>3</td><td>false</td></tr><tr><td>http://olx.ro/i2/electronice-si-electrocasnice/gps-navigatie/electronice-si-electrocasnice/gps-navigatie</td><td>benign</td><td>olx.ro</td><td>ro</td><td>CSC Corporate Domains</td><td>0</td><td>false</td></tr><tr><td>ccpoa.org/news/monthly/2009/10/</td><td>benign</td><td>ccpoa.org</td><td>org</td><td>REDACTED</td><td>0</td><td>false</td></tr><tr><td>facebook.jolims.tk</td><td>phishing</td><td>jolims.tk</td><td>tk</td><td>null</td><td>0</td><td>false</td></tr><tr><td>contatocliente-sac.com.br</td><td>phishing</td><td>contatocliente-sac.com.br</td><td>com.br</td><td>null</td><td>2</td><td>true</td></tr><tr><td>youtube.com/watch?v=bMhwK4hjhwQ</td><td>benign</td><td>youtube.com</td><td>com</td><td>Google LLC</td><td>1</td><td>false</td></tr><tr><td>dougpayne.com/earland.htm</td><td>benign</td><td>dougpayne.com</td><td>com</td><td>PERFECT PRIVACY, LLC</td><td>1</td><td>false</td></tr><tr><td>http://patrikcase.com/index.php?page=shop.product_details&product_id=9&flypage=flypage.tpl&pop=0&option=com_virtuemart&Itemid=7</td><td>defacement</td><td>patrikcase.com</td><td>com</td><td>null</td><td>1</td><td>true</td></tr><tr><td>123people.com/z/carl+musgrove</td><td>benign</td><td>123people.com</td><td>com</td><td>REDACTED FOR PRIVACY</td><td>2</td><td>false</td></tr><tr><td>http://superuser.com/questions/811630/how-can-i-limit-the-speed-of-the-chasis-fan-on-an-asus-m5a78l-m-lx-plus</td><td>benign</td><td>superuser.com</td><td>com</td><td>CSC Corporate Domains, Inc.</td><td>2</td><td>false</td></tr><tr><td>espn.go.com/mlb/player/_/id/5588/rich-harden</td><td>benign</td><td>go.com</td><td>com</td><td>CSC Corporate Domains, Inc.</td><td>0</td><td>false</td></tr><tr><td>youtube.com/watch?v=vPJNYrZcxuE</td><td>benign</td><td>youtube.com</td><td>com</td><td>Google LLC</td><td>1</td><td>false</td></tr><tr><td>imdb.com/name/nm0017578/</td><td>benign</td><td>imdb.com</td><td>com</td><td>MarkMonitor Inc.</td><td>0</td><td>false</td></tr><tr><td>http://prepechal.net/index.php?option=com_contact&view=contact&id=3:renata-malkova&catid=34:oseva-agri-chrudim-as&Itemid=53</td><td>defacement</td><td>prepechal.net</td><td>net</td><td>null</td><td>3</td><td>true</td></tr><tr><td>youtube.com/watch?v=pAihoSDRqjo</td><td>benign</td><td>youtube.com</td><td>com</td><td>MarkMonitor Inc.</td><td>1</td><td>false</td></tr><tr><td>mlbfansite.com/team-memorabilia/new-york-mets/baseball-apparel/</td><td>benign</td><td>mlbfansite.com</td><td>com</td><td>MarkMonitor Inc.</td><td>1</td><td>true</td></tr><tr><td>http://www.itfindia.org/confirmation-account/c85652703f710065c1255aa03a9aefae/53ca17bd02579e9464e40735557fdfeb/login.php</td><td>phishing</td><td>itfindia.org</td><td>org</td><td>null</td><td>0</td><td>true</td></tr><tr><td>holographiccocoon.com</td><td>phishing</td><td>holographiccocoon.com</td><td>com</td><td>null</td><td>0</td><td>false</td></tr><tr><td>spoke.com/info/pApLvZA/JohnHazlet</td><td>benign</td><td>spoke.com</td><td>com</td><td>GoDaddy.com, LLC</td><td>1</td><td>false</td></tr><tr><td>ckuik.com/Stray_Cats</td><td>benign</td><td>ckuik.com</td><td>com</td><td>Edoms LLC</td><td>0</td><td>false</td></tr><tr><td>http://espn.go.com/blog/carolina-panthers/post/_/id/12919/why-the-panthers-are-spending-time-with-nebraska-end-randy-gregory</td><td>benign</td><td>go.com</td><td>com</td><td>CSC Corporate Domains, Inc.</td><td>0</td><td>false</td></tr><tr><td>radiocity.com/</td><td>benign</td><td>radiocity.com</td><td>com</td><td>MSG Sports & Entertainment, LLC</td><td>0</td><td>true</td></tr><tr><td>http://www.custi-animale.ro/magazin-on-line/custi-transport.1</td><td>defacement</td><td>custi-animale.ro</td><td>ro</td><td>CYBER_FOLKS S.R.L.</td><td>1</td><td>true</td></tr><tr><td>absoluteanime.com/blue_gender/yuji.htm</td><td>benign</td><td>absoluteanime.com</td><td>com</td><td>REDACTED FOR PRIVACY</td><td>2</td><td>true</td></tr><tr><td>http://elitedaily.com/humor/guys-donkey-prank-women-thinking-being-catcalled-video/922767/</td><td>benign</td><td>elitedaily.com</td><td>com</td><td>Amazon Registrar, Inc.</td><td>2</td><td>true</td></tr><tr><td>http://www.mbdalmezun.com/canakkale-gezisi.htm</td><td>defacement</td><td>mbdalmezun.com</td><td>com</td><td>null</td><td>1</td><td>false</td></tr><tr><td>mylife.com/c-466561956</td><td>benign</td><td>mylife.com</td><td>com</td><td>Network Solutions, LLC</td><td>1</td><td>false</td></tr><tr><td>http://www.fancygaptourism.com/dining-and-shopping/shopping/45-barefoot-gardens</td><td>defacement</td><td>fancygaptourism.com</td><td>com</td><td>null</td><td>0</td><td>true</td></tr><tr><td>paragonvideo.com/</td><td>benign</td><td>paragonvideo.com</td><td>com</td><td>PDR Ltd. d/b/a PublicDomainRegistry.com</td><td>1</td><td>false</td></tr><tr><td>sbnation.com/mlb/players/33977/lars-anderson</td><td>benign</td><td>sbnation.com</td><td>com</td><td>Amazon Registrar, Inc.</td><td>0</td><td>true</td></tr><tr><td>http://www.designreisende.de/index.php?option=com_content&view=category&layout=blog&id=35&Itemid=88</td><td>defacement</td><td>designreisende.de</td><td>de</td><td>null</td><td>5</td><td>false</td></tr><tr><td>imdb.com/name/nm0187981/</td><td>benign</td><td>imdb.com</td><td>com</td><td>MarkMonitor Inc.</td><td>0</td><td>false</td></tr><tr><td>classcreator.com/Jacksonville-FL-Bishop-Kenny-1970/class_classmates.cfm</td><td>benign</td><td>classcreator.com</td><td>com</td><td>REDACTED FOR PRIVACY</td><td>1</td><td>true</td></tr><tr><td>songlyrics.com/kate-anna-mcgarrigle-lyrics/</td><td>benign</td><td>songlyrics.com</td><td>com</td><td>Domain Protection Services, Inc.</td><td>0</td><td>false</td></tr><tr><td>en.wikipedia.org/wiki/Robert_Crouch_Kinney</td><td>benign</td><td>wikipedia.org</td><td>org</td><td>Wikimedia Foundation, Inc.</td><td>1</td><td>false</td></tr><tr><td>http://www.fitasylum.com/index.php/reset.1</td><td>defacement</td><td>fitasylum.com</td><td>com</td><td>HugeDomains.com</td><td>0</td><td>true</td></tr><tr><td>http://www.nicolatessari.it/index.php/en/furnishing</td><td>defacement</td><td>nicolatessari.it</td><td>it</td><td>Nicola Tessari</td><td>1</td><td>true</td></tr><tr><td>search.espn.go.com/corey-hart/</td><td>benign</td><td>go.com</td><td>com</td><td>CSC Corporate Domains, Inc.</td><td>0</td><td>false</td></tr><tr><td>http://www.smos.cn/News_show.asp?news_id=125</td><td>defacement</td><td>smos.cn</td><td>cn</td><td>成都思默思科技有限责任公司</td><td>0</td><td>false</td></tr><tr><td>celebnakedness.com/tour/videoarchive.php?celeb_first_name=j</td><td>benign</td><td>celebnakedness.com</td><td>com</td><td>Dynadot Inc</td><td>4</td><td>false</td></tr><tr><td>springvalleysales.com/</td><td>benign</td><td>springvalleysales.com</td><td>com</td><td>REDACTED FOR PRIVACY</td><td>2</td><td>false</td></tr><tr><td>http://hayalmutfak.com/kampanyalarimiz/kampanyalarimiz/kampanya2012-382.html</td><td>defacement</td><td>hayalmutfak.com</td><td>com</td><td>null</td><td>0</td><td>true</td></tr><tr><td>lil-fingers.com/abc/a.html</td><td>benign</td><td>lil-fingers.com</td><td>com</td><td>GDPR Redacted</td><td>1</td><td>false</td></tr><tr><td>bookfinder4u.com/detail/096201074X.html</td><td>benign</td><td>bookfinder4u.com</td><td>com</td><td>GoDaddy.com, LLC</td><td>1</td><td>false</td></tr><tr><td>roadrunnerrecords.com/blabbermouth.net/news.aspx?mode=Article&newsitemID=156745</td><td>benign</td><td>roadrunnerrecords.com</td><td>com</td><td>GoDaddy Corporate Domains, LLC</td><td>2</td><td>false</td></tr><tr><td>emergencybriefing.info</td><td>phishing</td><td>emergencybriefing.info</td><td>info</td><td>null</td><td>4</td><td>false</td></tr><tr><td>dallasnews.com/sports/dallas-stars/headlines/20111001-stars-address-an-issue-that-led-to-their-demise-last-season.ece</td><td>benign</td><td>dallasnews.com</td><td>com</td><td>Network Solutions, LLC</td><td>1</td><td>false</td></tr><tr><td>pipl.com/directory/people/Anne/Blodgett</td><td>benign</td><td>pipl.com</td><td>com</td><td>GoDaddy.com, LLC</td><td>0</td><td>false</td></tr><tr><td>epctv.com/online_tv_Educational_1.htm</td><td>benign</td><td>epctv.com</td><td>com</td><td>Privacy service provided by Withheld for Privacy ehf</td><td>1</td><td>false</td></tr><tr><td>usgs.gov/state/state.asp?State=WA</td><td>benign</td><td>usgs.gov</td><td>gov</td><td>REDACTED FOR PRIVACY</td><td>0</td><td>false</td></tr><tr><td>banquelaurentienne.ca/en/personal_banking_services/my_futur/indexed_investments.html</td><td>benign</td><td>banquelaurentienne.ca</td><td>ca</td><td>Laurentian Bank of Canada / Banque Laurentienne du Canada</td><td>4</td><td>true</td></tr><tr><td>videosurf.com/mad-about-mambo-81415</td><td>benign</td><td>videosurf.com</td><td>com</td><td>NameCheap, Inc.</td><td>1</td><td>false</td></tr><tr><td>http://www.disline.es/videoguias.html?task=videodirectlink&id=57</td><td>defacement</td><td>disline.es</td><td>es</td><td>null</td><td>2</td><td>false</td></tr><tr><td>allstarpics.net/pic-gallery/marie-josee-croze-pics.htm</td><td>benign</td><td>allstarpics.net</td><td>net</td><td>REDACTED FOR PRIVACY</td><td>1</td><td>true</td></tr><tr><td>facebook.com/PonyUpRescue</td><td>benign</td><td>facebook.com</td><td>com</td><td>Meta Platforms, Inc.</td><td>1</td><td>false</td></tr><tr><td>projects.latimes.com/hollywood/star-walk/rory-calhoun/</td><td>benign</td><td>latimes.com</td><td>com</td><td>MarkMonitor Inc.</td><td>1</td><td>true</td></tr><tr><td>dublinbus.ie/</td><td>benign</td><td>dublinbus.ie</td><td>ie</td><td>Blacknight Solutions</td><td>1</td><td>false</td></tr><tr><td>http://www.seckmauern.de/index.php?option=com_mailto&tmpl=component&link=aHR0cDovL3d3dy5zZWNrbWF1ZXJuLmRlL2luZGV4LnBocD9vcHRpb249Y29tX2NvbnRlbnQmdmlldz1hcnRpY2xlJmlkPTkwOm5hY2h0LWRlci1raXJjaGVuLTIwMTImY2F0aWQ9MTpha3R1ZWxsZS1uYWNocmljaHRlbiZJdGVtaWQ9NTA=</td><td>defacement</td><td>seckmauern.de</td><td>de</td><td>null</td><td>3</td><td>false</td></tr><tr><td>http://www.ondrejov.cz/index.html</td><td>defacement</td><td>ondrejov.cz</td><td>cz</td><td>DPS-ONDREJOV</td><td>1</td><td>false</td></tr><tr><td>chess.com/news/ivan-salgado-wins-in-barcelona-2854</td><td>benign</td><td>chess.com</td><td>com</td><td>GoDaddy.com, LLC</td><td>1</td><td>false</td></tr><tr><td>petershurman.com/</td><td>benign</td><td>petershurman.com</td><td>com</td><td>REDACTED FOR PRIVACY</td><td>2</td><td>true</td></tr><tr><td>jent-fanfics.livejournal.com/profile</td><td>benign</td><td>livejournal.com</td><td>com</td><td>SIM LLC</td><td>1</td><td>false</td></tr><tr><td>ca.linkedin.com/in/yvesyau</td><td>benign</td><td>linkedin.com</td><td>com</td><td>MarkMonitor Inc.</td><td>1</td><td>false</td></tr><tr><td>hotels.com/de1690365/hotels-near-saint-laurent-montreal-canada/</td><td>benign</td><td>hotels.com</td><td>com</td><td>CSC Corporate Domains, Inc.</td><td>1</td><td>false</td></tr><tr><td>westport-news.com/news/article/BOE-to-vote-on-new-Bedford-Middle-School-principal-468858.php</td><td>benign</td><td>westport-news.com</td><td>com</td><td>CSC Corporate Domains, Inc.</td><td>2</td><td>false</td></tr><tr><td>czechsouvenirs.com/czech-dvd/</td><td>benign</td><td>czechsouvenirs.com</td><td>com</td><td>null</td><td>2</td><td>false</td></tr><tr><td>facebook.com/pages/Queens-Park-Rangers-FC/32792126803</td><td>benign</td><td>facebook.com</td><td>com</td><td>Meta Platforms, Inc.</td><td>1</td><td>false</td></tr><tr><td>euroflyulm.com/</td><td>benign</td><td>euroflyulm.com</td><td>com</td><td>Tucows Domains Inc.</td><td>1</td><td>false</td></tr><tr><td>tao-garden.com/Inst1/</td><td>benign</td><td>tao-garden.com</td><td>com</td><td>GoDaddy.com, LLC</td><td>1</td><td>true</td></tr><tr><td>http://www.bruynzeelmultipanel.be/index.php?option=com_artforms&formid=1&Itemid=99999</td><td>defacement</td><td>bruynzeelmultipanel.be</td><td>be</td><td>null</td><td>4</td><td>true</td></tr><tr><td>wisdomhomeloans.com.au</td><td>phishing</td><td>wisdomhomeloans.com.au</td><td>com.au</td><td>PRAJAPATI, VISHAL</td><td>1</td><td>false</td></tr><tr><td>facebook.com/people/ConceptElite-St-Dorothee/100000964403664</td><td>benign</td><td>facebook.com</td><td>com</td><td>Meta Platforms, Inc.</td><td>1</td><td>false</td></tr><tr><td>en.wikipedia.org/wiki/Headspace_(Pulse_Ultra_album)</td><td>benign</td><td>wikipedia.org</td><td>org</td><td>Wikimedia Foundation, Inc.</td><td>1</td><td>false</td></tr><tr><td>cdbaby.com/cd/vermillionlies</td><td>benign</td><td>cdbaby.com</td><td>com</td><td>Tucows Domains Inc.</td><td>0</td><td>false</td></tr><tr><td>http://greatlakesbuildersinc.com/projects/institutional.1</td><td>defacement</td><td>greatlakesbuildersinc.com</td><td>com</td><td>Network Solutions, LLC</td><td>3</td><td>true</td></tr><tr><td>http://www.smalbro.dk/webdesign</td><td>defacement</td><td>smalbro.dk</td><td>dk</td><td>STUDIO SMALBRO ApS</td><td>0</td><td>false</td></tr><tr><td>facebook.com/pages/Melanie-Morgan/150570901699938</td><td>benign</td><td>facebook.com</td><td>com</td><td>Meta Platforms, Inc.</td><td>1</td><td>false</td></tr><tr><td>mc-hammer.deviantart.com/</td><td>benign</td><td>deviantart.com</td><td>com</td><td>GoDaddy.com, LLC</td><td>1</td><td>true</td></tr><tr><td>drbizzy.com/</td><td>benign</td><td>drbizzy.com</td><td>com</td><td>Tucows Domains Inc.</td><td>0</td><td>false</td></tr><tr><td>info-world.com/</td><td>benign</td><td>info-world.com</td><td>com</td><td>GoDaddy.com, LLC</td><td>0</td><td>false</td></tr><tr><td>batlyrics.com/come_to_me-lyrics-france_joli.html</td><td>benign</td><td>batlyrics.com</td><td>com</td><td>Top Level Domains LLC</td><td>0</td><td>true</td></tr><tr><td>http://seekingalpha.com/author/dividends4life/research?source=follow_top_learn_more</td><td>benign</td><td>seekingalpha.com</td><td>com</td><td>Amazon Registrar, Inc.</td><td>2</td><td>false</td></tr><tr><td>huffingtonpost.com/dan-aykroyd</td><td>benign</td><td>huffingtonpost.com</td><td>com</td><td>MarkMonitor Inc.</td><td>0</td><td>false</td></tr><tr><td>facebook.com/andrews.megan</td><td>benign</td><td>facebook.com</td><td>com</td><td>Meta Platforms, Inc.</td><td>1</td><td>false</td></tr><tr><td>bmcaluniv.org/</td><td>benign</td><td>bmcaluniv.org</td><td>org</td><td>Afternic, LLC - On Behalf of Domain Buyer</td><td>0</td><td>false</td></tr><tr><td>bradleyhillel.org/</td><td>benign</td><td>bradleyhillel.org</td><td>org</td><td>Domains By Proxy, LLC</td><td>2</td><td>false</td></tr><tr><td>tempest-inc.com/</td><td>benign</td><td>tempest-inc.com</td><td>com</td><td>Network Solutions, LLC</td><td>2</td><td>false</td></tr><tr><td>us.macmillan.com/author/rhodajanzen</td><td>benign</td><td>macmillan.com</td><td>com</td><td>REDACTED FOR PRIVACY</td><td>0</td><td>false</td></tr><tr><td>wordtravels.com/Attractions/?attraction=2525</td><td>benign</td><td>wordtravels.com</td><td>com</td><td>GoDaddy.com, LLC</td><td>1</td><td>true</td></tr><tr><td>nme.com/artists/joe-brown</td><td>benign</td><td>nme.com</td><td>com</td><td>Amazon Registrar, Inc.</td><td>1</td><td>false</td></tr><tr><td>en.wikipedia.org/wiki/1969_NCAA_Men%27s_Division_I_Basketball_Tournament</td><td>benign</td><td>wikipedia.org</td><td>org</td><td>Wikimedia Foundation, Inc.</td><td>1</td><td>false</td></tr><tr><td>britannica.com/EBchecked/topic/461108/Steven-Pinker</td><td>benign</td><td>britannica.com</td><td>com</td><td>CSC Corporate Domains, Inc.</td><td>0</td><td>true</td></tr><tr><td>craftconn.com/genealogy/dit.htm</td><td>benign</td><td>craftconn.com</td><td>com</td><td>GoDaddy.com, LLC</td><td>0</td><td>true</td></tr><tr><td>http://www.cuxhaven.cc/index.php?option=com_content&view=article&id=3&Itemid=56</td><td>defacement</td><td>cuxhaven.cc</td><td>cc</td><td>null</td><td>1</td><td>false</td></tr><tr><td>andreas-olsson.com/</td><td>benign</td><td>andreas-olsson.com</td><td>com</td><td>One.com A/S</td><td>1</td><td>false</td></tr><tr><td>fortworthtejano.com/news_letter__hispanic_heritage_month_</td><td>benign</td><td>fortworthtejano.com</td><td>com</td><td>null</td><td>1</td><td>true</td></tr><tr><td>yell.com/b/Rolf+C+Hagen+(UK)+Ltd-Pet+Supplies-Castleford-WF105QH-1018773/index.html</td><td>benign</td><td>yell.com</td><td>com</td><td>CSC Corporate Domains, Inc.</td><td>1</td><td>false</td></tr><tr><td>myspace.com/aundrone</td><td>benign</td><td>myspace.com</td><td>com</td><td>GoDaddy.com, LLC</td><td>1</td><td>false</td></tr><tr><td>https://paytm.com/blog/vijay-shekahr-sharma-on-building-finance-infrastructure-for-smes/?share=email</td><td>benign</td><td>paytm.com</td><td>com</td><td>GoDaddy.com, LLC</td><td>0</td><td>true</td></tr><tr><td>peregrine.igg.biz</td><td>phishing</td><td>igg.biz</td><td>biz</td><td>null</td><td>0</td><td>false</td></tr><tr><td>r2wracing.com/hp_wordpress/</td><td>benign</td><td>r2wracing.com</td><td>com</td><td>null</td><td>0</td><td>false</td></tr><tr><td>facebook.com/philippe.turcotte1</td><td>benign</td><td>facebook.com</td><td>com</td><td>null</td><td>1</td><td>false</td></tr><tr><td>mmaroot.com/nate-quarry-vs-kalib-starnes-ufc-83-video/</td><td>benign</td><td>mmaroot.com</td><td>com</td><td>null</td><td>0</td><td>true</td></tr><tr><td>http://kccs.nichost.ru/index.php?option=com_content&view=article&id=118:2012-11-12-09-33-18&catid=17:news&Itemid=35</td><td>defacement</td><td>nichost.ru</td><td>ru</td><td>JSC 'RU-CENTER'</td><td>0</td><td>false</td></tr><tr><td>tezmilleroz.wordpress.com/2011/10/22/7-new-covers-banks-dane-clark-crane-dane-ellison-leicht-neal-roberts/</td><td>benign</td><td>wordpress.com</td><td>com</td><td>MarkMonitor Inc.</td><td>1</td><td>false</td></tr><tr><td>artquotes.net/masters/nathan-oliveira/index.htm</td><td>benign</td><td>artquotes.net</td><td>net</td><td>REDACTED FOR PRIVACY</td><td>2</td><td>true</td></tr><tr><td>lindseybiggs.com/</td><td>benign</td><td>lindseybiggs.com</td><td>com</td><td>Wild West Domains, LLC</td><td>1</td><td>false</td></tr><tr><td>http://www.raci.it/qualita/certificati.html</td><td>defacement</td><td>raci.it</td><td>it</td><td>Raci Srl</td><td>0</td><td>true</td></tr><tr><td>facebook.com/russel.hamilton</td><td>benign</td><td>facebook.com</td><td>com</td><td>Meta Platforms, Inc.</td><td>1</td><td>false</td></tr><tr><td>http://www.pedalecesenateciclineri.org/index.php?option=com_content&view=article&id=121:articolo-resto-del-carlino-sport&catid=21:hall-of-fame&Itemid=36</td><td>defacement</td><td>pedalecesenateciclineri.org</td><td>org</td><td>null</td><td>6</td><td>true</td></tr><tr><td>provigo-boul-hull.foodpages.ca/?qqq=FAQ</td><td>benign</td><td>foodpages.ca</td><td>ca</td><td>REDACTED FOR PRIVACY</td><td>1</td><td>false</td></tr><tr><td>photovault.com/Link/Cities/Lake/Ohio/Places/FootballHallOfFame.html</td><td>benign</td><td>photovault.com</td><td>com</td><td>Network Solutions, LLC</td><td>0</td><td>true</td></tr><tr><td>wikitree.com/genealogy/STEWART</td><td>benign</td><td>wikitree.com</td><td>com</td><td>REDACTED FOR PRIVACY</td><td>2</td><td>false</td></tr><tr><td>missouririverrunners.com/</td><td>benign</td><td>missouririverrunners.com</td><td>com</td><td>Network Solutions, LLC</td><td>2</td><td>false</td></tr><tr><td>http://www.westwoodchurch.co.uk/our-services/sunday-celebration/celebration-talks/233-17-06-2012-ruth-ruth-1-simon-lloyd</td><td>defacement</td><td>westwoodchurch.co.uk</td><td>co.uk</td><td>Tool Domains EOOD t/a Edoms.com [Tag = EDOMS]</td><td>1</td><td>false</td></tr><tr><td>thenhf.com/article.php?id=2113</td><td>benign</td><td>thenhf.com</td><td>com</td><td>Register.com - Network Solutions, LLC</td><td>1</td><td>false</td></tr><tr><td>lyricsmode.com/lyrics/m/michael_franti/</td><td>benign</td><td>lyricsmode.com</td><td>com</td><td>GoDaddy.com, LLC</td><td>1</td><td>false</td></tr><tr><td>iwishiknewit.com/</td><td>benign</td><td>iwishiknewit.com</td><td>com</td><td>NameCheap, Inc.</td><td>1</td><td>false</td></tr><tr><td>insidelocation.ga</td><td>phishing</td><td>insidelocation.ga</td><td>ga</td><td>null</td><td>1</td><td>true</td></tr><tr><td>http://thai-liveaboard.com/images/thailiveaboard/dive_sites/chumphon_pinnacle_map.jpg</td><td>defacement</td><td>thai-liveaboard.com</td><td>com</td><td>null</td><td>1</td><td>true</td></tr><tr><td>jasa-blues.blogspot.com/</td><td>benign</td><td>blogspot.com</td><td>com</td><td>MarkMonitor Inc.</td><td>0</td><td>false</td></tr><tr><td>pubsub.com/Senior-Java-Engineer-at-GrubHubcom-Webster-Elston-National-Signing-Day-P8kaW9K1wIS</td><td>benign</td><td>pubsub.com</td><td>com</td><td>GoDaddy.com, LLC</td><td>0</td><td>false</td></tr><tr><td>http://www.banneton.com.au/images/stories/maps/newfarm.html</td><td>defacement</td><td>banneton.com.au</td><td>com.au</td><td>BANNETON PTY LTD</td><td>1</td><td>true</td></tr><tr><td>http://www.saltwaterseafoods.com.au/facebook.html</td><td>defacement</td><td>saltwaterseafoods.com.au</td><td>com.au</td><td>null</td><td>2</td><td>true</td></tr><tr><td>hfboards.com/showthread.php?p=28056476</td><td>benign</td><td>hfboards.com</td><td>com</td><td>GoDaddy.com, LLC</td><td>0</td><td>false</td></tr><tr><td>http://sourceforge.net/directory/development/add_facet_filter?facet=license&constraint=OSI-Approved+Open+Source+%3A%3A+Eclipse+Public+License</td><td>benign</td><td>sourceforge.net</td><td>net</td><td>GoDaddy.com, LLC</td><td>3</td><td>false</td></tr><tr><td>123people.ca/s/david+murray</td><td>benign</td><td>123people.ca</td><td>ca</td><td>Bruce Lamb</td><td>2</td><td>false</td></tr><tr><td>naval-history.net/WW1NavyBritishLGNavalPrizeMoney.htm</td><td>benign</td><td>naval-history.net</td><td>net</td><td>123-Reg Limited</td><td>1</td><td>true</td></tr><tr><td>artistonlineradio.com/</td><td>benign</td><td>artistonlineradio.com</td><td>com</td><td>null</td><td>1</td><td>true</td></tr><tr><td>http://www.jackhatfield.co.uk/index.php?option=com_jevents&task=modlatest.rss&format=feed&type=rss&modid=0&Itemid=32</td><td>defacement</td><td>jackhatfield.co.uk</td><td>co.uk</td><td>null</td><td>1</td><td>true</td></tr><tr><td>http://www.aba-diagnostic.com/qui-sommes-nous.html</td><td>defacement</td><td>aba-diagnostic.com</td><td>com</td><td>REDACTED FOR PRIVACY</td><td>0</td><td>true</td></tr><tr><td>myspace.com/epic.ben</td><td>benign</td><td>myspace.com</td><td>com</td><td>GoDaddy.com, LLC</td><td>1</td><td>false</td></tr><tr><td>http://torcache.net/torrent/9154FAAD712957FD02C9507EB9A583DF724A7683.torrent?title=[kickass.to]grand.theft.auto.v.reloaded</td><td>benign</td><td>torcache.net</td><td>net</td><td>Jewella Privacy LLC Privacy ID# 1183090</td><td>2</td><td>true</td></tr><tr><td>coffeyforjudge.com/</td><td>benign</td><td>coffeyforjudge.com</td><td>com</td><td>null</td><td>2</td><td>false</td></tr><tr><td>gigmasters.com/</td><td>benign</td><td>gigmasters.com</td><td>com</td><td>Network Solutions, LLC</td><td>1</td><td>true</td></tr><tr><td>http://www.clinicatecma.es/index.html</td><td>defacement</td><td>clinicatecma.es</td><td>es</td><td>null</td><td>2</td><td>true</td></tr><tr><td>http://www.ayseteyze.com.tr/gunun-icinden.html</td><td>defacement</td><td>ayseteyze.com.tr</td><td>com.tr</td><td>Mozaik ikram Hizmetleri Truzim Organizasyon San.Tic.Ltd.Şti\n",
       "   Hidden upon user request\n",
       "   Hidden upon user request\n",
       "   Hidden upon user request</td><td>3</td><td>true</td></tr><tr><td>kansas-city-news.pro/2009/07/kansas-city-is-number-1-abandoned-city.html</td><td>benign</td><td>kansas-city-news.pro</td><td>pro</td><td>null</td><td>1</td><td>true</td></tr><tr><td>cduniverse.com/productinfo.asp?pid=8114106</td><td>benign</td><td>cduniverse.com</td><td>com</td><td>Register.com - Network Solutions, LLC</td><td>2</td><td>false</td></tr><tr><td>collider.com/focus-features-seeking-a-friend-for-the-end-of-the-world/89762/</td><td>benign</td><td>collider.com</td><td>com</td><td>GoDaddy.com, LLC</td><td>1</td><td>false</td></tr><tr><td>legacy.com/obituaries/roanoke/obituary.aspx?n=evelyn-alice-terry-slusher&pid=154726502</td><td>benign</td><td>legacy.com</td><td>com</td><td>Network Solutions, LLC</td><td>1</td><td>false</td></tr><tr><td>http://zoetekroon.nl/wp-content/themes/simplo/js/jquery-1.4.2.min.js</td><td>malware</td><td>zoetekroon.nl</td><td>nl</td><td>null</td><td>2</td><td>false</td></tr><tr><td>http://www.identcode.cz/cs/trst-a15.php</td><td>defacement</td><td>identcode.cz</td><td>cz</td><td>SB:TT159-RIPE_XX</td><td>2</td><td>false</td></tr><tr><td>realgm.com/src_playerfile/1372/joel_anthony/</td><td>benign</td><td>realgm.com</td><td>com</td><td>Tucows Domains Inc.</td><td>1</td><td>false</td></tr><tr><td>amazon.com/Animated-Films-Don-Bluth/dp/0685503348</td><td>benign</td><td>amazon.com</td><td>com</td><td>MarkMonitor Inc.</td><td>0</td><td>false</td></tr><tr><td>http://techcrunch.com/2013/06/09/first-cut-pro-just-made-post-production-collaborative-video-editing-much-less-painful/</td><td>benign</td><td>techcrunch.com</td><td>com</td><td>MarkMonitor Inc.</td><td>1</td><td>false</td></tr><tr><td>http://maycanton.vn/index.php?option=com_content&view=article&id=6&Itemid=31</td><td>defacement</td><td>maycanton.vn</td><td>vn</td><td>null</td><td>0</td><td>true</td></tr><tr><td>http://peluqueriadeautor.com/index2.php?option=com_virtuemart&page=shop.pdf_output&showpage=shop.browse&pop=1&output=pdf&product_id=0&category_id=6&pop=1</td><td>defacement</td><td>peluqueriadeautor.com</td><td>com</td><td>REDACTED FOR PRIVACY</td><td>3</td><td>true</td></tr><tr><td>newbernnchotels.com/</td><td>benign</td><td>newbernnchotels.com</td><td>com</td><td>null</td><td>3</td><td>false</td></tr><tr><td>newyors.com</td><td>phishing</td><td>newyors.com</td><td>com</td><td>null</td><td>1</td><td>false</td></tr><tr><td>123people.ca/s/georges+arsenault</td><td>benign</td><td>123people.ca</td><td>ca</td><td>Bruce Lamb</td><td>2</td><td>false</td></tr><tr><td>commons.wikimedia.org/wiki/Category:1956_births</td><td>benign</td><td>wikimedia.org</td><td>org</td><td>Wikimedia Foundation, Inc.</td><td>1</td><td>false</td></tr><tr><td>netglimse.com/celebs/pages/sylvia_earle/index.shtml</td><td>benign</td><td>netglimse.com</td><td>com</td><td>NameCheap, Inc.</td><td>2</td><td>false</td></tr><tr><td>allmusic.com/album/fenix-tx-r423666</td><td>benign</td><td>allmusic.com</td><td>com</td><td>All Media Network, LLC</td><td>0</td><td>false</td></tr><tr><td>stuffaboutnames.com/dennis/index.htm</td><td>benign</td><td>stuffaboutnames.com</td><td>com</td><td>null</td><td>1</td><td>true</td></tr><tr><td>http://us.diablo.net.login.xml.sc-ueo.in/login.html</td><td>phishing</td><td>sc-ueo.in</td><td>in</td><td>null</td><td>1</td><td>false</td></tr><tr><td>facebook.com/people/Catherine-Archer/1559547281</td><td>benign</td><td>facebook.com</td><td>com</td><td>Meta Platforms, Inc.</td><td>1</td><td>false</td></tr><tr><td>slovenia.info/?cerkev=4914</td><td>benign</td><td>slovenia.info</td><td>info</td><td>null</td><td>1</td><td>false</td></tr><tr><td>http://mic.com/articles/97512/here-s-the-one-simple-reason-why-we-need-more-openly-bisexual-characters-on-television</td><td>benign</td><td>mic.com</td><td>com</td><td>Amazon Registrar, Inc.</td><td>0</td><td>false</td></tr><tr><td>http://ecnavi.jp/redirect/?url=http://ad-4091.affit.jp/c.ts/35n.2/-/1g.html?mu=%user_id%</td><td>benign</td><td>ecnavi.jp</td><td>jp</td><td>null</td><td>1</td><td>false</td></tr><tr><td>kentucky.com/2011/11/14/1959369/oakland-and-alabama-tangle-in.html</td><td>benign</td><td>kentucky.com</td><td>com</td><td>Network Solutions, LLC</td><td>1</td><td>false</td></tr><tr><td>youtube.com/watch?v=9FgXy7QyLDo</td><td>benign</td><td>youtube.com</td><td>com</td><td>MarkMonitor Inc.</td><td>1</td><td>false</td></tr><tr><td>onlinetickets.com/events/sports_nfl/houston_texans/tickets.html</td><td>benign</td><td>onlinetickets.com</td><td>com</td><td>GoDaddy.com, LLC</td><td>2</td><td>false</td></tr><tr><td>aceshowbiz.com/news/view/w0006245.html</td><td>benign</td><td>aceshowbiz.com</td><td>com</td><td>NameCheap, Inc.</td><td>1</td><td>false</td></tr><tr><td>en.wikipedia.org/wiki/William_Tummel</td><td>benign</td><td>wikipedia.org</td><td>org</td><td>Wikimedia Foundation, Inc.</td><td>1</td><td>false</td></tr><tr><td>fisherpaykel.com/</td><td>benign</td><td>fisherpaykel.com</td><td>com</td><td>REDACTED FOR PRIVACY</td><td>2</td><td>false</td></tr><tr><td>uk.ask.com/wiki/Charles-Fran%C3%A7ois_Dupuis</td><td>benign</td><td>ask.com</td><td>com</td><td>MarkMonitor Inc.</td><td>0</td><td>false</td></tr><tr><td>http://3cf.ru/2015/07/20/cb-otozval-licenziu-y-gelendjik-banka/</td><td>malware</td><td>3cf.ru</td><td>ru</td><td>REGRU-RU</td><td>0</td><td>false</td></tr><tr><td>mylife.com/high-schools/ca/sacramento/luther-burbank-high-school/</td><td>benign</td><td>mylife.com</td><td>com</td><td>Network Solutions, LLC</td><td>1</td><td>false</td></tr><tr><td>aaanimalcontrol.com/Professional-Trapper/county/IN-Allen-County-Animal-Services.htm</td><td>benign</td><td>aaanimalcontrol.com</td><td>com</td><td>GoDaddy.com, LLC</td><td>0</td><td>true</td></tr><tr><td>makivik.org/makivik-corporation-and-the-kativik-regional-government-welcome-visit-of-minister-of-justice-yvon-marcoux-and-minister-for-native-affairs-for-quebec-geoffrey-kelley-to-nunavik/</td><td>benign</td><td>makivik.org</td><td>org</td><td>Domains By Proxy, LLC</td><td>0</td><td>false</td></tr><tr><td>fleshspot.com/sites/arielrebel/</td><td>benign</td><td>fleshspot.com</td><td>com</td><td>REDACTED BY USER</td><td>1</td><td>false</td></tr><tr><td>http://boughtitsoldit.com/factfinancials</td><td>defacement</td><td>boughtitsoldit.com</td><td>com</td><td>null</td><td>0</td><td>false</td></tr><tr><td>http://mashable.com/category/spacex/2014/04/25/elon-musk-spacex-booster-stage-atlantic</td><td>benign</td><td>mashable.com</td><td>com</td><td>CSC Corporate Domains, Inc.</td><td>1</td><td>false</td></tr><tr><td>txdot.lib.utexas.edu/</td><td>benign</td><td>utexas.edu</td><td>edu</td><td>null</td><td>2</td><td>true</td></tr><tr><td>jonathanturley.org/2011/04/01/army-sergeant-convicted-of-threatening-a-judge-due-to-one-line-in-a-song/</td><td>benign</td><td>jonathanturley.org</td><td>org</td><td>Domains By Proxy, LLC</td><td>1</td><td>true</td></tr><tr><td>en.wikipedia.org/wiki/Vietnam_War</td><td>benign</td><td>wikipedia.org</td><td>org</td><td>Wikimedia Foundation, Inc.</td><td>1</td><td>false</td></tr><tr><td>miningforthetruthinmelancthon.blogspot.com/</td><td>benign</td><td>blogspot.com</td><td>com</td><td>MarkMonitor Inc.</td><td>0</td><td>false</td></tr><tr><td>st-ives-ceramics.co.uk/potters.asp?view=Francoise%20Dufayard</td><td>benign</td><td>st-ives-ceramics.co.uk</td><td>co.uk</td><td>Realtime Register BV t/a Axidomains [Tag = AXIDOMAINS]</td><td>2</td><td>true</td></tr><tr><td>youtube.com/watch?v=hekL0DCUxpk</td><td>benign</td><td>youtube.com</td><td>com</td><td>MarkMonitor Inc.</td><td>1</td><td>false</td></tr><tr><td>yourottawaregion.com/what's%20on/article/259704--ctv-s-dr-marla-shapiro-in-kemptville</td><td>benign</td><td>yourottawaregion.com</td><td>com</td><td>Postmedia Network Inc.</td><td>1</td><td>true</td></tr><tr><td>thecanadianencyclopedia.com/index.cfm?PgNm=TCE&Params=A1ARTA0006315</td><td>benign</td><td>thecanadianencyclopedia.com</td><td>com</td><td>REDACTED FOR PRIVACY</td><td>3</td><td>true</td></tr><tr><td>yasni.com/naima+kamel/check+people</td><td>benign</td><td>yasni.com</td><td>com</td><td>REDACTED FOR PRIVACY</td><td>0</td><td>false</td></tr><tr><td>http://www.vfleberstadt.de/index.php?option=com_content&view=article&id=51&Itemid=55</td><td>defacement</td><td>vfleberstadt.de</td><td>de</td><td>null</td><td>3</td><td>true</td></tr><tr><td>bottomlinecom.com/kcnews/alexroleatkshbchanges.html</td><td>benign</td><td>bottomlinecom.com</td><td>com</td><td>Network Solutions, LLC</td><td>1</td><td>false</td></tr><tr><td>http://www.evasteinberger.at/de/component/mailto/index.html?tmpl=component&link=aHR0cDovL3d3dy5ldmFzdGVpbmJlcmdlci5hdC9kZS90dXJuaWVyZS0yMDEyLmh0bWw=</td><td>defacement</td><td>evasteinberger.at</td><td>at</td><td>Ammann Christoph Management Security GesmbH</td><td>4</td><td>true</td></tr><tr><td>amazon.com/David-Bowie-Reality-Tour/dp/B00064AEOC</td><td>benign</td><td>amazon.com</td><td>com</td><td>MarkMonitor Inc.</td><td>0</td><td>false</td></tr><tr><td>http://www.ant-u.com/index.php?option=com_content&view=article&id=58:l--r&catid=25</td><td>defacement</td><td>ant-u.com</td><td>com</td><td>Withheld for Privacy Purposes</td><td>0</td><td>true</td></tr><tr><td>allposters.co.uk/-st/Helene-Leveillee-Posters_c117522_.htm</td><td>benign</td><td>allposters.co.uk</td><td>co.uk</td><td>Wal-Mart Stores, Inc.</td><td>1</td><td>true</td></tr><tr><td>bizjournals.com/kansascity/news/2010/12/08/bannister-mall-sites-latest-plan.html</td><td>benign</td><td>bizjournals.com</td><td>com</td><td>CSC Corporate Domains, Inc.</td><td>0</td><td>false</td></tr><tr><td>myhugeclit.com/female/female-bodybuilders/</td><td>benign</td><td>myhugeclit.com</td><td>com</td><td>null</td><td>1</td><td>false</td></tr><tr><td>ckuik.com/Kabhi_Alvida_Na_Kehna</td><td>benign</td><td>ckuik.com</td><td>com</td><td>Edoms LLC</td><td>0</td><td>false</td></tr><tr><td>en.wikipedia.org/wiki/Joan_I_of_Navarre</td><td>benign</td><td>wikipedia.org</td><td>org</td><td>Wikimedia Foundation, Inc.</td><td>1</td><td>false</td></tr><tr><td>http://nypost.com/2014/06/16/bridge-failures-snarled-metro-north-service-175-times-in-ct-last-year/</td><td>benign</td><td>nypost.com</td><td>com</td><td>MarkMonitor Inc.</td><td>0</td><td>false</td></tr><tr><td>http://engine32truck16.com/truck-16.html</td><td>defacement</td><td>engine32truck16.com</td><td>com</td><td>null</td><td>2</td><td>false</td></tr><tr><td>http://9779.info/%E5%B0%91%E5%84%BF%E7%A7%8D%E5%AD%90%E7%B2%98%E8%B4%B4%E7%94%BB/</td><td>malware</td><td>9779.info</td><td>info</td><td>null</td><td>0</td><td>false</td></tr><tr><td>scarlettjohansson.org/movies/themanwhowasntthere.htm</td><td>benign</td><td>scarlettjohansson.org</td><td>org</td><td>Domains By Proxy, LLC</td><td>1</td><td>true</td></tr><tr><td>crossdresserclub.com/home/printthread.php?t=2851&page=3&pp=40</td><td>benign</td><td>crossdresserclub.com</td><td>com</td><td>NameCheap, Inc.</td><td>2</td><td>false</td></tr><tr><td>http://apoiojur.com.br/index.html</td><td>defacement</td><td>apoiojur.com.br</td><td>com.br</td><td>Sensu Publica��es Juridicas Ltda</td><td>0</td><td>false</td></tr><tr><td>myspace.com/imusicidemontrealcho</td><td>benign</td><td>myspace.com</td><td>com</td><td>GoDaddy.com, LLC</td><td>1</td><td>false</td></tr><tr><td>http://www.honarcinema.com/index.php?view=article&catid=1:latest-news&id=4366:2012-07-17-13-44-04&format=pdf&option=com_content&Itemid=1</td><td>defacement</td><td>honarcinema.com</td><td>com</td><td>null</td><td>1</td><td>false</td></tr><tr><td>broadwayworld.com/gallery.cfm?letter=a</td><td>benign</td><td>broadwayworld.com</td><td>com</td><td>DATA REDACTED</td><td>0</td><td>false</td></tr><tr><td>http://www.zibae.ir/index.php?option=com_mailto&tmpl=component&link=aHR0cDovL3d3dy56aWJhZS5pci9pbmRleC5waHA%2Fb3B0aW9uPWNvbV9jb250ZW50JnZpZXc9YXJ0aWNsZSZpZD02NTM6MTM5MS0xMS0wOC0wOC00OC0yNyZjYXRpZD0xMjoxMzg5LTA5LTI5LTA3LTQzLTMw</td><td>defacement</td><td>zibae.ir</td><td>ir</td><td>null</td><td>1</td><td>false</td></tr><tr><td>engineering.com/Library/tabid/78/Default.aspx</td><td>benign</td><td>engineering.com</td><td>com</td><td>Network Solutions, LLC</td><td>3</td><td>false</td></tr><tr><td>drscore.com/Georgia/Cardiology/search/William-Weintraub_10791399.html</td><td>benign</td><td>drscore.com</td><td>com</td><td>Network Solutions, LLC</td><td>1</td><td>false</td></tr><tr><td>dvbs.eu.org/perrault/</td><td>benign</td><td>eu.org</td><td>org</td><td>REDACTED</td><td>1</td><td>false</td></tr><tr><td>http://www.lynnemarkham.com/sejeal.jpg</td><td>defacement</td><td>lynnemarkham.com</td><td>com</td><td>Whois Privacy Protection Service by onamae.com</td><td>1</td><td>false</td></tr><tr><td>http://www.eendrachthummelo.nl/index.php?option=com_contact&view=contact&id=6:karin-heijting&catid=12:contacts&Itemid=55</td><td>defacement</td><td>eendrachthummelo.nl</td><td>nl</td><td>null</td><td>3</td><td>true</td></tr><tr><td>sunlifebuilding-phil.com/</td><td>benign</td><td>sunlifebuilding-phil.com</td><td>com</td><td>Sun Life Assurance Company of Canada</td><td>1</td><td>false</td></tr><tr><td>italy-weather-and-maps.com/</td><td>benign</td><td>italy-weather-and-maps.com</td><td>com</td><td>GoDaddy Online Services Cayman Islands Ltd.</td><td>2</td><td>true</td></tr><tr><td>digital-copyright.ca/node/5337</td><td>benign</td><td>digital-copyright.ca</td><td>ca</td><td>REDACTED FOR PRIVACY</td><td>0</td><td>true</td></tr><tr><td>518fever.com/</td><td>benign</td><td>518fever.com</td><td>com</td><td>GoDaddy.com, LLC</td><td>2</td><td>false</td></tr><tr><td>vaughnclark.com/</td><td>benign</td><td>vaughnclark.com</td><td>com</td><td>Hola Domains</td><td>0</td><td>false</td></tr><tr><td>manta.com/ic/mt6v6sz/ca/universite-du-quebec-a-montreal</td><td>benign</td><td>manta.com</td><td>com</td><td>Identity Protection Service</td><td>0</td><td>true</td></tr><tr><td>http://www.collectif-potager-wimmenau.fr/index.html?page_id=36&replytocom=21</td><td>defacement</td><td>collectif-potager-wimmenau.fr</td><td>fr</td><td>TLD Registrar Solutions Ltd</td><td>3</td><td>true</td></tr><tr><td>http://serverfault.com/questions/674326/remote-location-management-copy-and-install-large-software-updates-to-50-lan</td><td>benign</td><td>serverfault.com</td><td>com</td><td>CSC Corporate Domains, Inc.</td><td>2</td><td>true</td></tr><tr><td>missouridairygoats.com/</td><td>benign</td><td>missouridairygoats.com</td><td>com</td><td>null</td><td>0</td><td>true</td></tr><tr><td>http://img010.hc360.cn/g1/M01/41/73/wKhQMVHabJKEHondAAAAAFmPcEE181.jpg</td><td>malware</td><td>hc360.cn</td><td>cn</td><td>李国胜</td><td>0</td><td>false</td></tr><tr><td>en.wikipedia.org/wiki/2000_Oakland_Athletics_season</td><td>benign</td><td>wikipedia.org</td><td>org</td><td>Wikimedia Foundation, Inc.</td><td>1</td><td>false</td></tr><tr><td>vitals.com/doctors/Dr_Vanoy_Smith.html</td><td>benign</td><td>vitals.com</td><td>com</td><td>GoDaddy.com, LLC</td><td>0</td><td>true</td></tr><tr><td>owha.on.ca/news_release_helmet_recall_08.asp</td><td>benign</td><td>owha.on.ca</td><td>on.ca</td><td>Ontario Women's Hockey Association</td><td>0</td><td>false</td></tr><tr><td>robinhoodfilms.com/thecasinojob.htm</td><td>benign</td><td>robinhoodfilms.com</td><td>com</td><td>Porkbun LLC</td><td>0</td><td>false</td></tr><tr><td>smithgroup.com/?id=415</td><td>benign</td><td>smithgroup.com</td><td>com</td><td>Network Solutions, LLC</td><td>0</td><td>false</td></tr><tr><td>http://9779.info/%E8%9D%8C%E8%9A%AA%E6%89%BE%E5%A6%88%E5%A6%88%E5%89%AA%E8%B4%B4%E7%94%BB/</td><td>malware</td><td>9779.info</td><td>info</td><td>null</td><td>0</td><td>false</td></tr><tr><td>hockeyfights.com/players/16890</td><td>benign</td><td>hockeyfights.com</td><td>com</td><td>GoDaddy.com, LLC</td><td>1</td><td>false</td></tr><tr><td>http://boltamproperties.co.za/index.php?option=com_sobi2&sobi2Task=sobi2Details&catid=4&sobi2Id=84&Itemid=58</td><td>defacement</td><td>boltamproperties.co.za</td><td>co.za</td><td>null</td><td>2</td><td>true</td></tr><tr><td>findpeoplesearchonline.com/rhodeIslandpeoplesearch-RI/findpeoplerhodeIsland.html</td><td>benign</td><td>findpeoplesearchonline.com</td><td>com</td><td>Redacted for GDPR privacy</td><td>4</td><td>false</td></tr><tr><td>facebook.com/john.m.whitcomb</td><td>benign</td><td>facebook.com</td><td>com</td><td>Meta Platforms, Inc.</td><td>1</td><td>false</td></tr><tr><td>http://www.pi4wag.nl/index.html</td><td>defacement</td><td>pi4wag.nl</td><td>nl</td><td>OVH</td><td>0</td><td>false</td></tr><tr><td>http://www.newstudy.net/community/Web_nMngr.aspx?acaidx=0&board_idx=360&pn=1&sflag=1&mflag=NOT&where=&keyword=</td><td>malware</td><td>newstudy.net</td><td>net</td><td>TIME Education Co.,Ltd.</td><td>2</td><td>false</td></tr><tr><td>http://dyetr.com/index.php?option=com_content&view=article&id=65&Itemid=56</td><td>defacement</td><td>dyetr.com</td><td>com</td><td>null</td><td>1</td><td>false</td></tr><tr><td>http://www.e-komotini.gr/index.php?option=com_mtree&task=rss&type=listnew&cat_id=0</td><td>defacement</td><td>e-komotini.gr</td><td>gr</td><td>null</td><td>1</td><td>false</td></tr><tr><td>discountcheapaccessories.com/rubies-costume-co/best-buy-rubies-costume-co-womens-secret-wishes-tarzan-hunter-jane-costume.html</td><td>benign</td><td>discountcheapaccessories.com</td><td>com</td><td>null</td><td>3</td><td>true</td></tr><tr><td>cartoonhalloffame.org/2005/12/iwerks-ub.html</td><td>benign</td><td>cartoonhalloffame.org</td><td>org</td><td>Privacy service provided by Withheld for Privacy ehf</td><td>1</td><td>true</td></tr><tr><td>ohwy.com/mo/m/mocity.htm</td><td>benign</td><td>ohwy.com</td><td>com</td><td>GoDaddy.com, LLC</td><td>0</td><td>false</td></tr><tr><td>aveleyman.com/ActorCredit.aspx?ActorID=3389</td><td>benign</td><td>aveleyman.com</td><td>com</td><td>Tucows Domains Inc.</td><td>2</td><td>false</td></tr><tr><td>fraser.stlouisfed.org/publications/holc/</td><td>benign</td><td>stlouisfed.org</td><td>org</td><td>Domains By Proxy, LLC</td><td>1</td><td>false</td></tr><tr><td>u.tv/Sport</td><td>benign</td><td>u.tv</td><td>tv</td><td>UTV Limited</td><td>0</td><td>false</td></tr><tr><td>http://www.ic-delta.ru/portfolio/item/8</td><td>defacement</td><td>ic-delta.ru</td><td>ru</td><td>null</td><td>1</td><td>true</td></tr><tr><td>audiorecordingschool.com/blog/category/game-audio/</td><td>benign</td><td>audiorecordingschool.com</td><td>com</td><td>GoDaddy.com, LLC</td><td>1</td><td>false</td></tr><tr><td>en.wikipedia.org/wiki/Bryan_Fogarty</td><td>benign</td><td>wikipedia.org</td><td>org</td><td>Wikimedia Foundation, Inc.</td><td>1</td><td>false</td></tr><tr><td>direct.imagedepositgateway.com/sendpoint/</td><td>benign</td><td>imagedepositgateway.com</td><td>com</td><td>MarkMonitor Inc.</td><td>3</td><td>true</td></tr><tr><td>guardian.co.uk/football/2011/mar/27/international-friendly-brazil-scotland</td><td>benign</td><td>guardian.co.uk</td><td>co.uk</td><td>GoDaddy.com, LLC. [Tag = GODADDY]</td><td>0</td><td>false</td></tr><tr><td>en.wikipedia.org/wiki/Edward_L._Beach</td><td>benign</td><td>wikipedia.org</td><td>org</td><td>Wikimedia Foundation, Inc.</td><td>1</td><td>false</td></tr><tr><td>linkedin.com/pub/dir/richard/geary</td><td>benign</td><td>linkedin.com</td><td>com</td><td>MarkMonitor Inc.</td><td>1</td><td>false</td></tr><tr><td>familytreeassistant.com/surnames/Carpenter-family-tree.html</td><td>benign</td><td>familytreeassistant.com</td><td>com</td><td>REDACTED FOR PRIVACY</td><td>2</td><td>true</td></tr><tr><td>http://rt.com/in-vision/nepal-earthquake-aftermath-ruins/nepal-besi-earthquake-dhading/</td><td>benign</td><td>rt.com</td><td>com</td><td>ANO TV-Novosti</td><td>0</td><td>false</td></tr><tr><td>http://www.ibericoscalama.es/index.php?option=com_mailto&tmpl=component&link=55059afb44966eaabd75597a284a0e2a573f91fc</td><td>defacement</td><td>ibericoscalama.es</td><td>es</td><td>null</td><td>2</td><td>false</td></tr><tr><td>http://www.vco.org.au/professional-development.1</td><td>defacement</td><td>vco.org.au</td><td>org.au</td><td>null</td><td>0</td><td>false</td></tr><tr><td>investing.businessweek.com/research/stocks/private/snapshot.asp?privcapId=857569</td><td>benign</td><td>businessweek.com</td><td>com</td><td>CSC Corporate Domains, Inc.</td><td>3</td><td>false</td></tr><tr><td>http://mahshov.com/index.php?option=com_content&view=article&id=21&Itemid=19</td><td>defacement</td><td>mahshov.com</td><td>com</td><td>CommuniGal Communication Ltd.</td><td>0</td><td>false</td></tr><tr><td>local.yahoo.com/info-14553240-ymca-fort-myers</td><td>benign</td><td>yahoo.com</td><td>com</td><td>MarkMonitor Inc.</td><td>0</td><td>false</td></tr><tr><td>http://web.de/magazine/unterhaltung/adel/royal-baby-2/daily-kate-augen-royalen-baby-bauch-30205922</td><td>benign</td><td>web.de</td><td>de</td><td>null</td><td>2</td><td>false</td></tr><tr><td>isthisyour.name/directory/fullnames/ma~batten.htm</td><td>benign</td><td>isthisyour.name</td><td>name</td><td>null</td><td>1</td><td>true</td></tr><tr><td>youtube.com/watch?v=mODdgpExRig</td><td>benign</td><td>youtube.com</td><td>com</td><td>MarkMonitor Inc.</td><td>1</td><td>false</td></tr><tr><td>http://www.musimagen.com/index.php?option=com_content&view=category&layout=blog&id=1&Itemid=30&limitstart=20</td><td>defacement</td><td>musimagen.com</td><td>com</td><td>GDPR Masked</td><td>1</td><td>false</td></tr><tr><td>dirtyhippiesoaps.com/?p=ingredientkey.html</td><td>benign</td><td>dirtyhippiesoaps.com</td><td>com</td><td>null</td><td>1</td><td>true</td></tr><tr><td>pul.se/Web-Rumblings-Buffalo-Bills-Links-12-29-Aaron-Carter-6ZW6eaHH8EZS</td><td>benign</td><td>pul.se</td><td>se</td><td>(not shown)</td><td>1</td><td>false</td></tr><tr><td>russmeyer.com/</td><td>benign</td><td>russmeyer.com</td><td>com</td><td>Network Solutions, LLC</td><td>2</td><td>false</td></tr><tr><td>hockeydb.com/ihdb/stats/pdisplay.php?pid=115417</td><td>benign</td><td>hockeydb.com</td><td>com</td><td>GDPR Redacted</td><td>1</td><td>false</td></tr><tr><td>bleacherreport.com/articles/895379-texas-football-5-things-we-learned-from-the-longhorns-loss-vs-oklahoma-state</td><td>benign</td><td>bleacherreport.com</td><td>com</td><td>The Bleacher Report, Inc.</td><td>3</td><td>true</td></tr><tr><td>http://www.thetunes.nl/tour/details/5-koninginnedag-2010</td><td>defacement</td><td>thetunes.nl</td><td>nl</td><td>Tool Domains OOD</td><td>2</td><td>false</td></tr><tr><td>usidentify.com/l/ehle</td><td>benign</td><td>usidentify.com</td><td>com</td><td>GoDaddy.com, LLC</td><td>1</td><td>false</td></tr><tr><td>bellingram.co.uk/properties/sale?area=Argyll+%26+Bute</td><td>benign</td><td>bellingram.co.uk</td><td>co.uk</td><td>Darren Summers t/a Hostworld Internet [Tag = EZEE]</td><td>1</td><td>false</td></tr><tr><td>chacha.com/question/how-tall-is-john-mayberry-jr</td><td>benign</td><td>chacha.com</td><td>com</td><td>Alibaba Cloud Computing (Beijing) Co., Ltd.</td><td>0</td><td>false</td></tr><tr><td>classmates.com/directory/college/Le%20Moyne%20College?org=17044951</td><td>benign</td><td>classmates.com</td><td>com</td><td>CSC Corporate Domains, Inc.</td><td>1</td><td>true</td></tr><tr><td>poptower.com/chelsea-peretti-picture-35640.htm</td><td>benign</td><td>poptower.com</td><td>com</td><td>GoDaddy.com, LLC</td><td>1</td><td>false</td></tr><tr><td>cduniverse.com/productinfo.asp?pid=7707999</td><td>benign</td><td>cduniverse.com</td><td>com</td><td>Register.com - Network Solutions, LLC</td><td>2</td><td>false</td></tr><tr><td>vancouveradvertising.blogspot.com/</td><td>benign</td><td>blogspot.com</td><td>com</td><td>MarkMonitor Inc.</td><td>0</td><td>false</td></tr><tr><td>http://anvari.co/index.php?option=com_morfeoshow&task=view&gallery=3&Itemid=683</td><td>defacement</td><td>anvari.co</td><td>co</td><td>Above.com Domain Privacy</td><td>0</td><td>false</td></tr><tr><td>en.wikipedia.org/wiki/Lise_St-Denis</td><td>benign</td><td>wikipedia.org</td><td>org</td><td>Wikimedia Foundation, Inc.</td><td>1</td><td>false</td></tr><tr><td>forums.corvetteforum.com/great-lakes/2935112-west-mich-covered-bridge-fallasburg-cruise-sat-oct-22-a.html</td><td>benign</td><td>corvetteforum.com</td><td>com</td><td>GoDaddy.com, LLC</td><td>2</td><td>false</td></tr><tr><td>en.wikipedia.org/wiki/List_of_H_postal_codes_of_Canada</td><td>benign</td><td>wikipedia.org</td><td>org</td><td>Wikimedia Foundation, Inc.</td><td>1</td><td>false</td></tr><tr><td>genforum.genealogy.com/wyatt/all.html</td><td>benign</td><td>genealogy.com</td><td>com</td><td>MarkMonitor Inc.</td><td>2</td><td>false</td></tr><tr><td>flyfreedomaircharter.com/</td><td>benign</td><td>flyfreedomaircharter.com</td><td>com</td><td>null</td><td>3</td><td>true</td></tr><tr><td>flickr.com/photos/caseymckinnon/3121023513/</td><td>benign</td><td>flickr.com</td><td>com</td><td>GoDaddy Corporate Domains, LLC</td><td>0</td><td>false</td></tr><tr><td>pipl.com/directory/people/Beryl/Anthony</td><td>benign</td><td>pipl.com</td><td>com</td><td>GoDaddy.com, LLC</td><td>0</td><td>false</td></tr><tr><td>imdb.com/title/tt0409847/</td><td>benign</td><td>imdb.com</td><td>com</td><td>MarkMonitor Inc.</td><td>0</td><td>false</td></tr><tr><td>stubhub.com/gilles-villeneuve-circuit-event-tickets/details/?venue_config_ID=7454</td><td>benign</td><td>stubhub.com</td><td>com</td><td>MarkMonitor Inc.</td><td>0</td><td>false</td></tr><tr><td>fightingsioux.com/</td><td>benign</td><td>fightingsioux.com</td><td>com</td><td>GoDaddy.com, LLC</td><td>0</td><td>false</td></tr><tr><td>thesubversivesounds.blogspot.com/2007/02/buggs-beetle-beat.html</td><td>benign</td><td>blogspot.com</td><td>com</td><td>MarkMonitor Inc.</td><td>0</td><td>false</td></tr><tr><td>gamestats.com/objects/055/055042/</td><td>benign</td><td>gamestats.com</td><td>com</td><td>CSC Corporate Domains, Inc.</td><td>1</td><td>true</td></tr><tr><td>http://www.711100.com/app/member/SportOption.php?uid=guest&langx=gb</td><td>malware</td><td>711100.com</td><td>com</td><td>REDACTED FOR PRIVACY</td><td>0</td><td>false</td></tr><tr><td>facebook.com/maryseouellet.83</td><td>benign</td><td>facebook.com</td><td>com</td><td>Meta Platforms, Inc.</td><td>1</td><td>false</td></tr><tr><td>videosurf.com/calcutta-india-242151</td><td>benign</td><td>videosurf.com</td><td>com</td><td>Privacy service provided by Withheld for Privacy ehf</td><td>1</td><td>false</td></tr><tr><td>nikon.bungie.org/</td><td>benign</td><td>bungie.org</td><td>org</td><td>Domains By Proxy, LLC</td><td>1</td><td>false</td></tr><tr><td>http://www.mariettachurchofgod.com/get-connected/missionsmarietta.html</td><td>defacement</td><td>mariettachurchofgod.com</td><td>com</td><td>null</td><td>1</td><td>true</td></tr><tr><td>facebook.com/KCURKansasCity</td><td>benign</td><td>facebook.com</td><td>com</td><td>Meta Platforms, Inc.</td><td>1</td><td>false</td></tr><tr><td>gojukarate.biz</td><td>phishing</td><td>gojukarate.biz</td><td>biz</td><td>null</td><td>1</td><td>true</td></tr><tr><td>faqs.org/patents/app/20110047854</td><td>benign</td><td>faqs.org</td><td>org</td><td>Advameg, Inc.</td><td>0</td><td>false</td></tr><tr><td>knac.com/article.asp?ArticleID=4653</td><td>benign</td><td>knac.com</td><td>com</td><td>Whois Privacy Service</td><td>0</td><td>false</td></tr><tr><td>http://schertzauto.com/wp-content/plugins/gravityforms/css/formsmain.min.css?ver=1.9.11</td><td>malware</td><td>schertzauto.com</td><td>com</td><td>GKG.NET Domain Proxy Service</td><td>1</td><td>true</td></tr><tr><td>lifeskate.com/skate/2010/09/nbc-sports-announces-2010-grand-prix-of-figure-skating-schedule.html</td><td>benign</td><td>lifeskate.com</td><td>com</td><td>Identity Protection Service</td><td>2</td><td>true</td></tr><tr><td>http://www.bissfest-marburg.de/component/mailto/index.html?tmpl=component&link=aHR0cDovL3d3dy5iaXNzZmVzdC1tYXJidXJnLmRlL3Rlcm1pbmUuaHRtbA==</td><td>defacement</td><td>bissfest-marburg.de</td><td>de</td><td>null</td><td>2</td><td>true</td></tr><tr><td>en-gb.facebook.com/matthew.mulligan</td><td>benign</td><td>facebook.com</td><td>com</td><td>Meta Platforms, Inc.</td><td>1</td><td>false</td></tr><tr><td>huskers.com/ViewArticle.dbml?DB_OEM_ID=100&ATCLID=68185</td><td>benign</td><td>huskers.com</td><td>com</td><td>NameCheap, Inc.</td><td>1</td><td>false</td></tr><tr><td>http://nguyentandung.org/vu-viec-tranh-go-sua-o-ha-noi-xu-ly-cham-do-doi-interpol-tra-loi.html</td><td>benign</td><td>nguyentandung.org</td><td>org</td><td>Domains By Proxy, LLC</td><td>1</td><td>true</td></tr><tr><td>http://zeitfeist.de/youtube/91-hip-hop/631-kool-savas-der-beste-tag-meines-lebens.html</td><td>defacement</td><td>zeitfeist.de</td><td>de</td><td>null</td><td>3</td><td>false</td></tr><tr><td>high-schools.com/schools/100696/notre-dame-de-sion.html</td><td>benign</td><td>high-schools.com</td><td>com</td><td>GoDaddy.com, LLC</td><td>0</td><td>false</td></tr><tr><td>prosdyuqnsdwxm.intend-incredible.ru</td><td>phishing</td><td>intend-incredible.ru</td><td>ru</td><td>null</td><td>3</td><td>false</td></tr><tr><td>accesshollywood.com/denis-ohare</td><td>benign</td><td>accesshollywood.com</td><td>com</td><td>MarkMonitor Inc.</td><td>1</td><td>false</td></tr><tr><td>a2zyp.com/Government+Offices-County/NJ.php</td><td>benign</td><td>a2zyp.com</td><td>com</td><td>GoDaddy.com, LLC</td><td>0</td><td>false</td></tr><tr><td>http://gawker.com/report-north-korean-defense-minister-executed-for-slee-1704127405/module/</td><td>benign</td><td>gawker.com</td><td>com</td><td>Identity Protection Service</td><td>1</td><td>false</td></tr><tr><td>http://www.tpsofficefurniture.co.uk/reception-waiting-room.1</td><td>defacement</td><td>tpsofficefurniture.co.uk</td><td>co.uk</td><td>Fasthosts Internet Ltd [Tag = LIVEDOMAINS]</td><td>2</td><td>false</td></tr><tr><td>http://udn.com/news/story/7321/900837-%E9%AB%98%E9%9B%842%E8%AD%B0%E5%93%A1%E7%95%B6%E9%81%B8%E7%84%A1%E6%95%88%E4%B9%8B%E8%A8%B4-1%E5%AF%A9%E9%A7%81%E5%9B%9E</td><td>benign</td><td>udn.com</td><td>com</td><td>Network Solutions, LLC</td><td>0</td><td>false</td></tr><tr><td>amazon.com/Asian-American-Actors-Histories-Television/dp/0786407301</td><td>benign</td><td>amazon.com</td><td>com</td><td>MarkMonitor Inc.</td><td>0</td><td>false</td></tr><tr><td>en.wikipedia.org/wiki/Notre-Dame-de-Gr%C3%A2ce%E2%80%94Lachine</td><td>benign</td><td>wikipedia.org</td><td>org</td><td>Wikimedia Foundation, Inc.</td><td>1</td><td>false</td></tr><tr><td>rentalboatcharters.com/264</td><td>benign</td><td>rentalboatcharters.com</td><td>com</td><td>null</td><td>2</td><td>true</td></tr><tr><td>wn.com/2011_IFAF_World_Cup</td><td>benign</td><td>wn.com</td><td>com</td><td>NameCheap, Inc.</td><td>0</td><td>false</td></tr><tr><td>myspace.com/cinemalamour</td><td>benign</td><td>myspace.com</td><td>com</td><td>GoDaddy.com, LLC</td><td>1</td><td>false</td></tr><tr><td>rollingstone.com/rockdaily/index.php/2009/04/13/pearl-jam-beastie-boys-dave-matthews-band-headlining-san-franciscos-outside-lands-festival</td><td>benign</td><td>rollingstone.com</td><td>com</td><td>CSC Corporate Domains, Inc.</td><td>1</td><td>false</td></tr><tr><td>2.statcan.ca/census-recensement/2006/dp-pd/prof/92-595/p2c.cfm?TPL=INDX&LANG=E</td><td>benign</td><td>statcan.ca</td><td>ca</td><td>Geoff Worthing</td><td>0</td><td>true</td></tr><tr><td>blackle.com/</td><td>benign</td><td>blackle.com</td><td>com</td><td>GoDaddy.com, LLC</td><td>1</td><td>false</td></tr><tr><td>https://twitter.com/share?text=%D0%A4%D0%BE%D1%82%D0%BE%D0%BF%D0%BE%D0%B4%D0%B1%D0%BE%D1%80%D0%BA%D0%B0+%D0%B7%D0%B0+29.04.2015&url=http%3A%2F%2Ffishki.net%2Fphoto%2F1517170-fotopodborka-za-29042015.html%2Fgallery-1952358%2F</td><td>benign</td><td>twitter.com</td><td>com</td><td>CSC Corporate Domains, Inc.</td><td>1</td><td>false</td></tr><tr><td>hobartcorp.com/Contact-Us/</td><td>benign</td><td>hobartcorp.com</td><td>com</td><td>MarkMonitor Inc.</td><td>0</td><td>true</td></tr><tr><td>ipesbd.com/</td><td>benign</td><td>ipesbd.com</td><td>com</td><td>null</td><td>1</td><td>false</td></tr><tr><td>oregoncraftsmanllc.com</td><td>phishing</td><td>oregoncraftsmanllc.com</td><td>com</td><td>null</td><td>1</td><td>true</td></tr><tr><td>http://skat-vviztmhc.pepespizza.com/skat.dk/personlige-oplysninger.html</td><td>phishing</td><td>pepespizza.com</td><td>com</td><td>GoDaddy.com, LLC</td><td>2</td><td>false</td></tr><tr><td>madhatters.me.uk/2010/03/07/sarah-phillips-autumn/</td><td>benign</td><td>madhatters.me.uk</td><td>me.uk</td><td>Tool Domains EOOD t/a Edoms.com [Tag = EDOMS]</td><td>2</td><td>true</td></tr><tr><td>http://www.tirs-online.de/aktionen/demos-a-kundgebungen/312-aktionstage-gegen-den-versuchstierhandel-durch-klm-air-france</td><td>defacement</td><td>tirs-online.de</td><td>de</td><td>null</td><td>2</td><td>false</td></tr><tr><td>videosurf.com/wallace-beery-212797</td><td>benign</td><td>videosurf.com</td><td>com</td><td>Privacy service provided by Withheld for Privacy ehf</td><td>1</td><td>false</td></tr><tr><td>http://creditmaster.eu/7416077659/241250503/</td><td>phishing</td><td>creditmaster.eu</td><td>eu</td><td>Albert Schimmel | Buymyname.com</td><td>3</td><td>true</td></tr><tr><td>cfreference.net/</td><td>benign</td><td>cfreference.net</td><td>net</td><td>Privacy Protect, LLC (PrivacyProtect.org)</td><td>5</td><td>false</td></tr><tr><td>linkedin.com/pub/janelle-rudie/a/330/a13</td><td>benign</td><td>linkedin.com</td><td>com</td><td>MarkMonitor Inc.</td><td>1</td><td>false</td></tr><tr><td>borealpress.com/</td><td>benign</td><td>borealpress.com</td><td>com</td><td>NameCheap, Inc.</td><td>2</td><td>false</td></tr><tr><td>en.wikipedia.org/wiki/Ryan_(film)</td><td>benign</td><td>wikipedia.org</td><td>org</td><td>Wikimedia Foundation, Inc.</td><td>1</td><td>false</td></tr><tr><td>http://kotaku.com/the-classic-pc-games-you-must-play-1246823468/1440923931/@kirkhamilton</td><td>benign</td><td>kotaku.com</td><td>com</td><td>Kotaku USA LLC</td><td>0</td><td>true</td></tr><tr><td>usageorge.com/Wallpapers/Commercial/CHOM.html</td><td>benign</td><td>usageorge.com</td><td>com</td><td>Privacy service provided by Withheld for Privacy ehf</td><td>2</td><td>false</td></tr><tr><td>http://www.mgth.fi/etusivu-ryhmaen-artikkelit/36-uutiset-ajankohtaista/81-verkkokauppa-avattu</td><td>defacement</td><td>mgth.fi</td><td>fi</td><td>Ohjelmatoimisto-tuotantopalvelut Huviputki Tmi</td><td>0</td><td>false</td></tr><tr><td>http://atwiki.jp/wiki/%E3%83%89%E3%83%A9%E3%82%B4%E3%83%B3%E3%82%BA%E3%83%89%E3%82%B0%E3%83%9E%20%E3%81%8F%E3%81%88%E3%81%99%E3%81%A8</td><td>benign</td><td>atwiki.jp</td><td>jp</td><td>null</td><td>0</td><td>true</td></tr><tr><td>http://www.egejewelry.com/index.php?option=com_rsgallery2&page=inline&gid=1&limit=1&limitstart=12</td><td>defacement</td><td>egejewelry.com</td><td>com</td><td>REDACTED FOR PRIVACY</td><td>4</td><td>false</td></tr><tr><td>mpma28.com/page/page/2271350.htm</td><td>benign</td><td>mpma28.com</td><td>com</td><td>Withheld for Privacy Purposes</td><td>0</td><td>false</td></tr><tr><td>http://www.cuxhaven.cc/index.php?option=com_flippingbook&view=book&id=6&page=12&Itemid=67</td><td>defacement</td><td>cuxhaven.cc</td><td>cc</td><td>null</td><td>1</td><td>false</td></tr><tr><td>http://yyydy.com/a/bjl/index.html</td><td>defacement</td><td>yyydy.com</td><td>com</td><td>Gname 124 Inc</td><td>0</td><td>false</td></tr><tr><td>canadagazette.gc.ca/archives/p1/2002/2002-01-19/html/parliament-parlement-eng.html</td><td>benign</td><td>canadagazette.gc.ca</td><td>gc.ca</td><td>null</td><td>2</td><td>true</td></tr><tr><td>en.wikipedia.org/wiki/KREV</td><td>benign</td><td>wikipedia.org</td><td>org</td><td>Wikimedia Foundation, Inc.</td><td>1</td><td>false</td></tr><tr><td>http://distrimarsanitarios.soydg.com/wp-content/themes/jay/178bccdcc72168f6eaeec8c4b3b336fe/</td><td>phishing</td><td>soydg.com</td><td>com</td><td>Bluehost Inc.</td><td>0</td><td>false</td></tr><tr><td>http://www.shaborooz.ir/index.php?option=com_contact&view=contact&id=1&Itemid=3</td><td>defacement</td><td>shaborooz.ir</td><td>ir</td><td>null</td><td>0</td><td>false</td></tr><tr><td>answers.com/topic/joseph-o-neill</td><td>benign</td><td>answers.com</td><td>com</td><td>Whois Privacy Protection Service, Inc.</td><td>1</td><td>false</td></tr><tr><td>readerfeedback.labs.wikimedia.org/wiki/California_State_Route_78</td><td>benign</td><td>wikimedia.org</td><td>org</td><td>Wikimedia Foundation, Inc.</td><td>1</td><td>false</td></tr><tr><td>yatedo.com/s/Linda+Lee</td><td>benign</td><td>yatedo.com</td><td>com</td><td>Privacy service provided by Withheld for Privacy ehf</td><td>1</td><td>true</td></tr><tr><td>http://www.qmcweb.com.br/index.php?option=com_jevents&task=day.listevents&year=2013&month=01&day=10&catids=38|34&Itemid=1&lang=pt</td><td>defacement</td><td>qmcweb.com.br</td><td>com.br</td><td>null</td><td>1</td><td>false</td></tr><tr><td>http://otomoto.pl/oferta/honda-jazz-jazz-1-2-klima-i-rej-05-2014-km-10-000-ID4pa1I9.html</td><td>benign</td><td>otomoto.pl</td><td>pl</td><td>Corporation Service Company</td><td>0</td><td>false</td></tr><tr><td>http://www.kristall-zell.at/index.php/nl/preise/winter.html</td><td>defacement</td><td>kristall-zell.at</td><td>at</td><td>Appartement Kristall Langegger-Hollaus KG</td><td>1</td><td>true</td></tr><tr><td>motherboard.ie/</td><td>benign</td><td>motherboard.ie</td><td>ie</td><td>Blacknight Solutions</td><td>2</td><td>true</td></tr><tr><td>servericer.wellsfarg0t.com.aquisites.net</td><td>phishing</td><td>aquisites.net</td><td>net</td><td>null</td><td>2</td><td>true</td></tr><tr><td>http://www.romanovski.se/art/performances/3-performances/25-tomato-peel-with-hiroko-tsuchimoto-2011-pori</td><td>defacement</td><td>romanovski.se</td><td>se</td><td>(not shown)</td><td>1</td><td>false</td></tr><tr><td>http://www.gottadanceonline.com/index.php/login?task=lostPassword</td><td>defacement</td><td>gottadanceonline.com</td><td>com</td><td>Tucows Domains Inc.</td><td>2</td><td>true</td></tr><tr><td>timesofindia.indiatimes.com/topic/Colin-Ferguson-(actor)</td><td>benign</td><td>indiatimes.com</td><td>com</td><td>Tucows Domains Inc.</td><td>1</td><td>true</td></tr><tr><td>montreal.about.com/od/sportsrecreation/ss/olympic_divers_8.htm</td><td>benign</td><td>about.com</td><td>com</td><td>MarkMonitor Inc.</td><td>0</td><td>true</td></tr><tr><td>edperformance.com/</td><td>benign</td><td>edperformance.com</td><td>com</td><td>GoDaddy.com, LLC</td><td>3</td><td>false</td></tr><tr><td>port-montreal.com/</td><td>benign</td><td>port-montreal.com</td><td>com</td><td>GoDaddy.com, LLC</td><td>1</td><td>true</td></tr><tr><td>youtube.com/watch?v=d8IlHHK7oZ8</td><td>benign</td><td>youtube.com</td><td>com</td><td>MarkMonitor Inc.</td><td>1</td><td>false</td></tr><tr><td>4shared.com/audio/vhD02W-g/01_Hatenai_Sora.html</td><td>benign</td><td>4shared.com</td><td>com</td><td>null</td><td>1</td><td>false</td></tr><tr><td>en.wikipedia.org/wiki/Category:Silent_films</td><td>benign</td><td>wikipedia.org</td><td>org</td><td>Wikimedia Foundation, Inc.</td><td>1</td><td>false</td></tr><tr><td>http://www.jnpiraq.net/index.php?option=com_content&view=article&id=507:2010-02-08-08-46-15&catid=7:2009-02-14-18-17-11&Itemid=12</td><td>defacement</td><td>jnpiraq.net</td><td>net</td><td>null</td><td>1</td><td>true</td></tr><tr><td>morgancole.com/</td><td>benign</td><td>morgancole.com</td><td>com</td><td>GoDaddy.com, LLC</td><td>1</td><td>false</td></tr><tr><td>http://portal.dddgaming.com/docs/rules/15022/cn/game_cn.html?amluMjAxNQ%3D%3D</td><td>malware</td><td>dddgaming.com</td><td>com</td><td>GoDaddy.com, LLC</td><td>0</td><td>false</td></tr><tr><td>rootsweb.ancestry.com/~inallcem/jefferson/emmanuel/name-a.html</td><td>benign</td><td>ancestry.com</td><td>com</td><td>MarkMonitor Inc.</td><td>1</td><td>true</td></tr><tr><td>amazon.com/Systematic-Chaos-W-Dvd-Spec/dp/B000PTYP5C</td><td>benign</td><td>amazon.com</td><td>com</td><td>MarkMonitor Inc.</td><td>0</td><td>false</td></tr><tr><td>http://tuvanbatdongsan.vn/Tu-van-phong-thuy/index.html</td><td>defacement</td><td>tuvanbatdongsan.vn</td><td>vn</td><td>null</td><td>0</td><td>true</td></tr><tr><td>http://www.mueblesjoval.cl/index.php?option=com_morfeoshow&task=view&gallery=77&Itemid=62</td><td>defacement</td><td>mueblesjoval.cl</td><td>cl</td><td>SOC JOFRE E HIJOS LIMITADA</td><td>2</td><td>false</td></tr><tr><td>nationalcatholicreporter.org/word/word103103.htm</td><td>benign</td><td>nationalcatholicreporter.org</td><td>org</td><td>NATIONAL CATHOLIC REPORTER</td><td>2</td><td>true</td></tr><tr><td>amazon.com/Beauties-Mary-Troy/dp/188615774X</td><td>benign</td><td>amazon.com</td><td>com</td><td>MarkMonitor Inc.</td><td>0</td><td>false</td></tr><tr><td>trivago.com/carcassonne-36191/amusement-park/complexe-de-loisirs-raymond-chesa-185771</td><td>benign</td><td>trivago.com</td><td>com</td><td>trivago N.V.</td><td>0</td><td>true</td></tr><tr><td>perfectpeople.net/celebrity-star/306/mira-sorvino.htm</td><td>benign</td><td>perfectpeople.net</td><td>net</td><td>Dynadot Inc</td><td>5</td><td>false</td></tr><tr><td>facebook.com/pages/Billie-Joe-Armstrong/21810736024</td><td>benign</td><td>facebook.com</td><td>com</td><td>Meta Platforms, Inc.</td><td>1</td><td>false</td></tr><tr><td>youtube.com/watch?v=8nJCN3dUtO8</td><td>benign</td><td>youtube.com</td><td>com</td><td>MarkMonitor Inc.</td><td>1</td><td>false</td></tr><tr><td>sitedefesta.com</td><td>phishing</td><td>sitedefesta.com</td><td>com</td><td>null</td><td>3</td><td>true</td></tr><tr><td>gettyimages.com/detail/news-photo/bob-steele-the-cowboy-star-and-american-character-actor-who-news-photo/3265035</td><td>benign</td><td>gettyimages.com</td><td>com</td><td>CSC Corporate Domains, Inc.</td><td>2</td><td>true</td></tr><tr><td>names.whitepages.com/massachusetts/danielle/fournier</td><td>benign</td><td>whitepages.com</td><td>com</td><td>Identity Protection Service</td><td>2</td><td>true</td></tr><tr><td>acadian-home.org/france-lesturgeon.html</td><td>benign</td><td>acadian-home.org</td><td>org</td><td>REDACTED</td><td>1</td><td>false</td></tr><tr><td>http://www.sertex.com.br/index.html?page_id=7</td><td>defacement</td><td>sertex.com.br</td><td>com.br</td><td>SERTEX FIACAO E TECELAGEM LTDA</td><td>2</td><td>false</td></tr><tr><td>mankato.craigslist.org/fuo/2682320424.html</td><td>benign</td><td>craigslist.org</td><td>org</td><td>Craigslist</td><td>0</td><td>true</td></tr><tr><td>lib.berkeley.edu/MRC/imagesafam.html</td><td>benign</td><td>berkeley.edu</td><td>edu</td><td>null</td><td>4</td><td>false</td></tr><tr><td>johnbolenracing.com/</td><td>benign</td><td>johnbolenracing.com</td><td>com</td><td>null</td><td>1</td><td>false</td></tr><tr><td>linkedin.com/pub/eric-kubic/25/b5a/12b</td><td>benign</td><td>linkedin.com</td><td>com</td><td>MarkMonitor Inc.</td><td>1</td><td>false</td></tr><tr><td>http://www.coopsalsipuedes.com.ar/index.php?view=article&catid=43:cultura&id=23:complejo-cultural-ancon&tmpl=component&print=1&layout=default&page=&option=com_content&Itemid=53</td><td>defacement</td><td>coopsalsipuedes.com.ar</td><td>com.ar</td><td>FRAPPA MAURICIO GUILLERMO</td><td>2</td><td>false</td></tr><tr><td>ecoliteracy.org/essays/greening-k-12-curriculum</td><td>benign</td><td>ecoliteracy.org</td><td>org</td><td>Center for Ecoliteracy</td><td>2</td><td>true</td></tr><tr><td>maxalbums.com/index.php?artist=Henry+Rollins&album=Everything</td><td>benign</td><td>maxalbums.com</td><td>com</td><td>PrivacyGuardian.org llc</td><td>0</td><td>false</td></tr><tr><td>http://bjdfbh.com/Item/Show.asp?m=1&d=1048</td><td>defacement</td><td>bjdfbh.com</td><td>com</td><td>REDACTED FOR PRIVACY</td><td>0</td><td>false</td></tr><tr><td>manta.com/c/mm73jsg/don-ferguson</td><td>benign</td><td>manta.com</td><td>com</td><td>Amazon Registrar, Inc.</td><td>0</td><td>true</td></tr><tr><td>youtube.com/watch?v=EiSK-hrFZiE</td><td>benign</td><td>youtube.com</td><td>com</td><td>MarkMonitor Inc.</td><td>1</td><td>false</td></tr><tr><td>imdb.com/title/tt1846155/</td><td>benign</td><td>imdb.com</td><td>com</td><td>MarkMonitor Inc.</td><td>0</td><td>false</td></tr><tr><td>lillies-flowers.blogspot.com/</td><td>benign</td><td>blogspot.com</td><td>com</td><td>MarkMonitor Inc.</td><td>0</td><td>false</td></tr><tr><td>http://www.khack.be/index.php?option=com_content&view=article&id=12&Itemid=9</td><td>defacement</td><td>khack.be</td><td>be</td><td>One.com A/S</td><td>1</td><td>false</td></tr><tr><td>http://www.ekino-neureut.de/index.php?option=com_phocagallery&view=detail&catid=32:kindergottesdienst-engel-2&id=1919:1001765&tmpl=component&Itemid=49</td><td>defacement</td><td>ekino-neureut.de</td><td>de</td><td>null</td><td>4</td><td>false</td></tr><tr><td>tributes.com/show/John-Cossette-91317090</td><td>benign</td><td>tributes.com</td><td>com</td><td>GoDaddy.com, LLC</td><td>1</td><td>false</td></tr><tr><td>verdunrestaurants.info/?abrowse=X</td><td>benign</td><td>verdunrestaurants.info</td><td>info</td><td>null</td><td>2</td><td>true</td></tr><tr><td>gohorsebetting.com/Monmouth+Park</td><td>benign</td><td>gohorsebetting.com</td><td>com</td><td>Your Whois Privacy Ltd</td><td>2</td><td>false</td></tr><tr><td>thelostpenguin.wordpress.com/short-films/</td><td>benign</td><td>wordpress.com</td><td>com</td><td>MarkMonitor Inc.</td><td>1</td><td>false</td></tr><tr><td>192.com/atoz/people/watkins/daniel/</td><td>benign</td><td>192.com</td><td>com</td><td>123-Reg Limited</td><td>0</td><td>false</td></tr><tr><td>answers.yahoo.com/question/index?qid=20090527180401AA9KLjC</td><td>benign</td><td>yahoo.com</td><td>com</td><td>MarkMonitor Inc.</td><td>0</td><td>false</td></tr><tr><td>rockerparis.blogspot.com/</td><td>benign</td><td>blogspot.com</td><td>com</td><td>MarkMonitor Inc.</td><td>0</td><td>false</td></tr><tr><td>amazon.com/Senior-Trip-Jason-Alexander/dp/B000PKG8XI</td><td>benign</td><td>amazon.com</td><td>com</td><td>MarkMonitor Inc.</td><td>0</td><td>false</td></tr><tr><td>fbitn.com/meigs-county/decatur/derek-starnes</td><td>benign</td><td>fbitn.com</td><td>com</td><td>Network Solutions, LLC</td><td>0</td><td>false</td></tr><tr><td>http://www.lgk-luzern.ch/index.php?option=com_content&view=article&id=14&Itemid=57</td><td>defacement</td><td>lgk-luzern.ch</td><td>ch</td><td>null</td><td>1</td><td>false</td></tr><tr><td>http://bathurstbaptist.org.au/home/contact-us/8/14-young-adults-enquiries.html</td><td>defacement</td><td>bathurstbaptist.org.au</td><td>org.au</td><td>Bathurst Baptist Church</td><td>0</td><td>true</td></tr><tr><td>http://schertzauto.com/wp-content/themes/NAPA%20AC%202014%20S/genericons/genericons.css?ver=3.0.2</td><td>malware</td><td>schertzauto.com</td><td>com</td><td>GKG.NET Domain Proxy Service</td><td>1</td><td>true</td></tr><tr><td>letrs.indiana.edu/cgi/t/text/text-idx?c=wright2;cc=wright2;view=text;rgn=main;idno=wright2-1791</td><td>benign</td><td>indiana.edu</td><td>edu</td><td>null</td><td>1</td><td>false</td></tr><tr><td>http://www.verall.com.pl/sieci-radiowe-wlan.html</td><td>defacement</td><td>verall.com.pl</td><td>com.pl</td><td>Domena.pl sp. z o.o.</td><td>1</td><td>false</td></tr><tr><td>williamsmorrisonlight.net/Bio/JohnLight.asp</td><td>benign</td><td>williamsmorrisonlight.net</td><td>net</td><td>null</td><td>1</td><td>true</td></tr><tr><td>theracinginquirer.blogspot.com/2011/09/freshman-pacers-featured-at-freehold.html</td><td>benign</td><td>blogspot.com</td><td>com</td><td>MarkMonitor Inc.</td><td>0</td><td>false</td></tr><tr><td>northcarolinashandyman.com/</td><td>benign</td><td>northcarolinashandyman.com</td><td>com</td><td>GoDaddy.com, LLC</td><td>0</td><td>true</td></tr><tr><td>yikesprospho.com.gridhosted.co.uk</td><td>phishing</td><td>gridhosted.co.uk</td><td>co.uk</td><td>123-Reg Limited t/a 123-reg [Tag = 123-REG]</td><td>1</td><td>false</td></tr><tr><td>people.famouswhy.com/david_st__pierre/</td><td>benign</td><td>famouswhy.com</td><td>com</td><td>REDACTED FOR PRIVACY</td><td>0</td><td>false</td></tr><tr><td>fargonorth91.com/</td><td>benign</td><td>fargonorth91.com</td><td>com</td><td>null</td><td>0</td><td>true</td></tr><tr><td>techlearning.com/article/38974</td><td>benign</td><td>techlearning.com</td><td>com</td><td>Lexsynergy Limited</td><td>2</td><td>true</td></tr><tr><td>10starmovies.com/Watch-Movies-Online/Jackie_Bouvier_Kennedy_Onassis_2000/</td><td>benign</td><td>10starmovies.com</td><td>com</td><td>NameCheap, Inc.</td><td>1</td><td>true</td></tr><tr><td>http://kreuzleger.net/de.html?el_mcal_month=1&el_mcal_year=2013</td><td>defacement</td><td>kreuzleger.net</td><td>net</td><td>System GmbH Produktionssysteme und Service für die Industrie & Co. KG</td><td>4</td><td>false</td></tr><tr><td>allbrackets.com/</td><td>benign</td><td>allbrackets.com</td><td>com</td><td>GoDaddy.com, LLC</td><td>1</td><td>true</td></tr><tr><td>zeitgeist-photo.com/galleries/2008_colors_of_the_world_collection/</td><td>benign</td><td>zeitgeist-photo.com</td><td>com</td><td>PrivateName Services Inc.</td><td>2</td><td>false</td></tr><tr><td>southcarolina.hometownlocator.com/</td><td>benign</td><td>hometownlocator.com</td><td>com</td><td>REDACTED FOR PRIVACY</td><td>1</td><td>true</td></tr><tr><td>http://www.gruendungsberater-steuerberater.de/index.php?option=com_content&view=article&id=7&Itemid=7</td><td>defacement</td><td>gruendungsberater-steuerberater.de</td><td>de</td><td>null</td><td>8</td><td>true</td></tr><tr><td>http://opttoys24.ru/index.php?option=com_user&view=register</td><td>defacement</td><td>opttoys24.ru</td><td>ru</td><td>null</td><td>0</td><td>false</td></tr><tr><td>tamilnewsnetwork.com/2010/10/18/birth-centenary-of-v-navaratnam-pioneer-of-tamil-eelam-polity/</td><td>benign</td><td>tamilnewsnetwork.com</td><td>com</td><td>DATA REDACTED</td><td>2</td><td>true</td></tr><tr><td>dvdtalk.com/reviews/45691/legend-of-bruce-lee-the/</td><td>benign</td><td>dvdtalk.com</td><td>com</td><td>GoDaddy.com, LLC</td><td>0</td><td>true</td></tr><tr><td>the-sugarandspice-in-you.blogspot.com/</td><td>benign</td><td>blogspot.com</td><td>com</td><td>MarkMonitor Inc.</td><td>0</td><td>false</td></tr><tr><td>realtor.com/property-search/Bartlett_TN/Carrie-Brook-Cv</td><td>benign</td><td>realtor.com</td><td>com</td><td>Register.com - Network Solutions, LLC</td><td>1</td><td>true</td></tr><tr><td>m.yahoo.com/w/sports/home/experts/article?offset=0&urn=urn%3Anewsml%3Asports.yahoo%2Cyhoo%3A20050301%3Apga%2Carticle%2Cbr-lateralhazard-murphy_cantley_is_future_star_082911%3A1&.ts=1314643797&.ysid=F8v9AuxNE6gvs9Vud6Bhyo3s&.intl=US&.lang=en</td><td>benign</td><td>yahoo.com</td><td>com</td><td>MarkMonitor Inc.</td><td>0</td><td>false</td></tr><tr><td>cheapstheycome.wordpress.com/2011/11/30/vampiros-los-muertos-2002/</td><td>benign</td><td>wordpress.com</td><td>com</td><td>MarkMonitor Inc.</td><td>1</td><td>false</td></tr><tr><td>cesarica.net/portal/urawa-red-diamonds-kashima-antlers-live-stream/football-en/9650/</td><td>benign</td><td>cesarica.net</td><td>net</td><td>NameCheap, Inc.</td><td>2</td><td>true</td></tr><tr><td>arkhilario.com/2011/02/12/wwe-elimination-chamber-2011-live-stream-free/</td><td>benign</td><td>arkhilario.com</td><td>com</td><td>Redacted for privacy</td><td>0</td><td>false</td></tr><tr><td>http://torcache.net/torrent/955C5FDBC91A9D4D79F8AB301F49B205BEBC4865.torrent?title=[kickass.to]the.originals.s02e18.hdtv.x264.lol.ettv</td><td>benign</td><td>torcache.net</td><td>net</td><td>Jewella Privacy LLC Privacy ID# 1183090</td><td>2</td><td>true</td></tr><tr><td>harvestbiblechapel.org/content.aspx?site_id=10424&content_id=162811</td><td>benign</td><td>harvestbiblechapel.org</td><td>org</td><td>Contact Privacy Inc. Customer 0118731078</td><td>3</td><td>true</td></tr><tr><td>myonlinetutor.bell.ca/</td><td>benign</td><td>bell.ca</td><td>ca</td><td>Bell Canada</td><td>1</td><td>false</td></tr><tr><td>data.vanderbilt.edu/rapache/bbplot/BOS-1915.html</td><td>benign</td><td>vanderbilt.edu</td><td>edu</td><td>null</td><td>2</td><td>true</td></tr><tr><td>http://pastehtml.com/view/bfza8l1z0.html</td><td>phishing</td><td>pastehtml.com</td><td>com</td><td>Dynadot Inc</td><td>1</td><td>true</td></tr><tr><td>http://wijzijnnietgevaarlijk.nl/baasjes/85-linda/profile.html</td><td>defacement</td><td>wijzijnnietgevaarlijk.nl</td><td>nl</td><td>null</td><td>2</td><td>true</td></tr><tr><td>en.wikipedia.org/wiki/Commerce_Bancshares</td><td>benign</td><td>wikipedia.org</td><td>org</td><td>Wikimedia Foundation, Inc.</td><td>1</td><td>false</td></tr><tr><td>dfdrussell.org/</td><td>benign</td><td>dfdrussell.org</td><td>org</td><td>DFD Russell Medical Centers</td><td>1</td><td>false</td></tr><tr><td>barnesandnoble.com/w/pediatric-clinical-skills-richard-b-goldbloom/1100213036</td><td>benign</td><td>barnesandnoble.com</td><td>com</td><td>CSC Corporate Domains, Inc.</td><td>2</td><td>false</td></tr><tr><td>nytimes.com/1991/10/24/arts/review-dance-ted-shawn-s-legacy-men-tough-and-tender.html</td><td>benign</td><td>nytimes.com</td><td>com</td><td>MarkMonitor Inc.</td><td>1</td><td>false</td></tr><tr><td>bizzyballoons.f2s.com/</td><td>benign</td><td>f2s.com</td><td>com</td><td>Register.com - Network Solutions, LLC</td><td>0</td><td>false</td></tr><tr><td>http://www.fulig.com.br/index.php?option=com_content&view=article&id=6&Itemid=6&lang=en</td><td>defacement</td><td>fulig.com.br</td><td>com.br</td><td>Fulig Fundi��o de Ligas Ltda</td><td>0</td><td>false</td></tr><tr><td>http://rus-master.com/\\321%80ะตะผะพะฝ\\321%82ะฝ\\321%8Bะต-\\321%80ะฐะฑะพ\\321%82\\321%8B/52-ะดะธะทะฐะนะฝ-ะบ\\321%83\\321%85ะฝะธ-ะฒะฐะฝะฝะพะน-ะบะพะผะฝะฐ\\321%82\\321%8B.html</td><td>defacement</td><td>rus-master.com</td><td>com</td><td>Elihov Viktor</td><td>1</td><td>true</td></tr><tr><td>http://www.ambiani.nl/diensten/vergaderruimte-brabant/70-huwelijksfeest-brabant.html</td><td>defacement</td><td>ambiani.nl</td><td>nl</td><td>1API Gmbh</td><td>0</td><td>false</td></tr><tr><td>findstructuredsettlements.blogspot.com/</td><td>benign</td><td>blogspot.com</td><td>com</td><td>MarkMonitor Inc.</td><td>0</td><td>false</td></tr><tr><td>slu.edu/colleges/AS/ENG/ong/</td><td>benign</td><td>slu.edu</td><td>edu</td><td>null</td><td>1</td><td>false</td></tr><tr><td>http://www.kenltd.com/index.php?option=com_content&view=article&id=54&Itemid=69&lang=en</td><td>defacement</td><td>kenltd.com</td><td>com</td><td>GDPR Masked</td><td>1</td><td>false</td></tr><tr><td>insiderpages.com/doctors/Michael-J-Meighen-MD-Concord</td><td>benign</td><td>insiderpages.com</td><td>com</td><td>CSC Corporate Domains, Inc.</td><td>2</td><td>false</td></tr><tr><td>localhikes.com/Hikes/DnRCanal-BullsIsland_5602.asp</td><td>benign</td><td>localhikes.com</td><td>com</td><td>GoDaddy.com, LLC</td><td>1</td><td>false</td></tr><tr><td>mediafire.com/?z2hjmmnnzm2</td><td>benign</td><td>mediafire.com</td><td>com</td><td>NameCheap, Inc.</td><td>2</td><td>false</td></tr><tr><td>http://mlcdigital.com/index.php?view=article&id=44:welcome-to-mlc-digital&tmpl=component&print=1&page=</td><td>defacement</td><td>mlcdigital.com</td><td>com</td><td>REDACTED FOR PRIVACY</td><td>0</td><td>true</td></tr><tr><td>partypop.com/d/Party/Temples-Synagogues/Kansas-City</td><td>benign</td><td>partypop.com</td><td>com</td><td>GoDaddy.com, LLC</td><td>0</td><td>true</td></tr><tr><td>bbb.org/central-northern-western-arizona/business-reviews/air-conditioning-contractors-and-systems/al-riley-s-air-conditioning-and-sheet-metal-in-casa-grande-az-7002698/</td><td>benign</td><td>bbb.org</td><td>org</td><td>International Association of Better Business Bureaus, Inc.</td><td>0</td><td>false</td></tr><tr><td>audible.com/pd?asin=B0042ZKVFI</td><td>benign</td><td>audible.com</td><td>com</td><td>CSC Corporate Domains, Inc.</td><td>1</td><td>false</td></tr><tr><td>wordcustard.hubpages.com/</td><td>benign</td><td>hubpages.com</td><td>com</td><td>Amazon Registrar, Inc.</td><td>1</td><td>false</td></tr><tr><td>onesongneedlearts.com/</td><td>benign</td><td>onesongneedlearts.com</td><td>com</td><td>Tucows Domains Inc.</td><td>4</td><td>true</td></tr><tr><td>http://www.bhxx.net/xxgl/UploadFiles_7485/201304/2013042315380148.jpg</td><td>malware</td><td>bhxx.net</td><td>net</td><td>Redacted for privacy</td><td>1</td><td>false</td></tr><tr><td>linkedin.com/in/jameswestcott</td><td>benign</td><td>linkedin.com</td><td>com</td><td>MarkMonitor Inc.</td><td>1</td><td>false</td></tr><tr><td>videosurf.com/videos/los+angeles+galaxy+0+vs+0+kansas+city+wizards+game+highlights+04+24+10+week+5+2010+season?vnf=1</td><td>benign</td><td>videosurf.com</td><td>com</td><td>Privacy service provided by Withheld for Privacy ehf</td><td>1</td><td>false</td></tr><tr><td>jmdphysiotronic.in</td><td>phishing</td><td>jmdphysiotronic.in</td><td>in</td><td>null</td><td>0</td><td>false</td></tr><tr><td>http://www.umeataxi.se/index.php?option=com_mailto&tmpl=component&link=aHR0cDovL3d3dy51bWVhdGF4aS5zZS9pbmRleC5waHA%2Fb3B0aW9uPWNvbV9jb250ZW50JnZpZXc9YXJ0aWNsZSZpZD00NDpoeWJyaWRiaWxhcg==</td><td>defacement</td><td>umeataxi.se</td><td>se</td><td>annume6510-00001</td><td>2</td><td>true</td></tr><tr><td>goldstar.com/venues/washington-dc/sidney-harman-hall</td><td>benign</td><td>goldstar.com</td><td>com</td><td>GoDaddy.com, LLC</td><td>0</td><td>true</td></tr><tr><td>im.indli.com/search/Singer%20Sunitha%20Sarathy%20Celebrity%20Photos%20Hot%20Pictures%20Stills%20Singer%20Sunitha%20Sarathy%20Celebrity%20Photos%20Images%20Gallery%20Singer%20Sunitha%20Sarathy%20Celebrity%20PhotosMovie%20Gallery%20Latest%20Tamil%20Movie%20Images%20Pictures%20Stills%20Actress%20Hot%20Gallery</td><td>benign</td><td>indli.com</td><td>com</td><td>Dynadot Inc</td><td>0</td><td>false</td></tr><tr><td>http://jamminkidsweston.com/our-blog/how-to-learn-to-play-piano-before-the-holidays.html</td><td>defacement</td><td>jamminkidsweston.com</td><td>com</td><td>null</td><td>1</td><td>true</td></tr><tr><td>movies.totallyfreeonline.com/watch_idi-i-smotri-1985-3_online_for_free_in_HD/</td><td>benign</td><td>totallyfreeonline.com</td><td>com</td><td>null</td><td>3</td><td>true</td></tr><tr><td>universityguides.com/index.jsp?source=UG65k&OVRAW=list%20of%20delta%20sigma%20theta%20chapters&OVKEY=delta%20sigma%20theta%20undergraduate%20chapter&OVMTC=advanced&OVADID=5146222013&OVKWID=53821256513</td><td>benign</td><td>universityguides.com</td><td>com</td><td>GoDaddy Online Services Cayman Islands Ltd.</td><td>2</td><td>false</td></tr><tr><td>caribou-canada.com/</td><td>benign</td><td>caribou-canada.com</td><td>com</td><td>null</td><td>0</td><td>false</td></tr><tr><td>http://superuser.com/questions/812639/troubleshooting-hardware-with-limited-resources</td><td>benign</td><td>superuser.com</td><td>com</td><td>CSC Corporate Domains, Inc.</td><td>2</td><td>false</td></tr><tr><td>artloversnewyork.com/zine/the-bomb/2006/08/03/jason-rhoades-dead-at-41/</td><td>benign</td><td>artloversnewyork.com</td><td>com</td><td>REDACTED FOR PRIVACY</td><td>2</td><td>true</td></tr><tr><td>youtube.com/watch?v=N0ykm1v9xbU</td><td>benign</td><td>youtube.com</td><td>com</td><td>MarkMonitor Inc.</td><td>1</td><td>false</td></tr><tr><td>allstarpics.net/pic-gallery/mackenzie-foy-pics.htm</td><td>benign</td><td>allstarpics.net</td><td>net</td><td>REDACTED FOR PRIVACY</td><td>1</td><td>true</td></tr><tr><td>copcusco.ml</td><td>phishing</td><td>copcusco.ml</td><td>ml</td><td>null</td><td>0</td><td>false</td></tr><tr><td>dea.seattle.gov/self/</td><td>benign</td><td>seattle.gov</td><td>gov</td><td>REDACTED FOR PRIVACY</td><td>2</td><td>true</td></tr><tr><td>linkedin.com/pub/dir/kenneth/gilbert</td><td>benign</td><td>linkedin.com</td><td>com</td><td>MarkMonitor Inc.</td><td>1</td><td>false</td></tr><tr><td>http://www.slaviacapital.cz/tlacove-spravy-eng/slavia-capital-sold-shares-of-investbanka-skopje</td><td>defacement</td><td>slaviacapital.cz</td><td>cz</td><td>SB:SLAVIACAPITAL</td><td>0</td><td>true</td></tr><tr><td>http://www.umeataxi.se/index.html</td><td>defacement</td><td>umeataxi.se</td><td>se</td><td>annume6510-00001</td><td>2</td><td>true</td></tr><tr><td>http://www.domusviatoris.com/index.php?option=com_mailto&tmpl=component&link=aHR0cDovL3d3dy5kb211c3ZpYXRvcmlzLmNvbS9pbmRleC5waHA%2Fb3B0aW9uPWNvbV9rMiZ2aWV3PWl0ZW0maWQ9ODI6bGl4bzItYWxvamFtaWVudG9jYWxpZGFkJkl0ZW1pZD0xMQ==</td><td>defacement</td><td>domusviatoris.com</td><td>com</td><td>REDACTED FOR PRIVACY</td><td>0</td><td>true</td></tr><tr><td>http://nesn.com/2014/08/tom-brady-patriots-involved-in-competitive-situations-vs-redskins-video/</td><td>benign</td><td>nesn.com</td><td>com</td><td>Network Solutions, LLC</td><td>1</td><td>false</td></tr><tr><td>narniafans.com/archives/12139</td><td>benign</td><td>narniafans.com</td><td>com</td><td>GoDaddy.com, LLC</td><td>0</td><td>false</td></tr><tr><td>mma-core.com/videos/_Rampage_Jackson_Owns_Ariel_Helwani_On_Post_Fight_S?vid=10020847&tid=104</td><td>benign</td><td>mma-core.com</td><td>com</td><td>Privacy service provided by Withheld for Privacy ehf</td><td>1</td><td>false</td></tr><tr><td>lepg.org/people.htm</td><td>benign</td><td>lepg.org</td><td>org</td><td>Lepg</td><td>1</td><td>false</td></tr><tr><td>http://www.borg4x4.org/index.php?option=com_jcalpro&Itemid=61&extmode=view&extid=18</td><td>defacement</td><td>borg4x4.org</td><td>org</td><td>Borg 4x4</td><td>0</td><td>false</td></tr><tr><td>http://www.spirit-house.de/index.php?option=com_content&view=category&id=11&Itemid=6</td><td>defacement</td><td>spirit-house.de</td><td>de</td><td>null</td><td>2</td><td>false</td></tr><tr><td>articlesbase.com/basketball-articles/watch-gonzaga-basketball-online-bulldogs-games-live-stream-on-the-internet-3818221.html</td><td>benign</td><td>articlesbase.com</td><td>com</td><td>GoDaddy.com, LLC</td><td>2</td><td>true</td></tr><tr><td>modot.mo.gov/kansascity/major_projects/Heart_of_America.htm</td><td>benign</td><td>mo.gov</td><td>gov</td><td>REDACTED FOR PRIVACY</td><td>0</td><td>false</td></tr><tr><td>http://www.sceg.ir/sanyeh-soft/civil-soft.html</td><td>defacement</td><td>sceg.ir</td><td>ir</td><td>null</td><td>1</td><td>false</td></tr><tr><td>http://slashdot.org/submission/2011137/the-optimum-attack-rate-for-ssh-bruteforce-1-per-10-seconds</td><td>benign</td><td>slashdot.org</td><td>org</td><td>Domains By Proxy, LLC</td><td>0</td><td>true</td></tr><tr><td>http://grasslandhotel.com.vn/index.php/rooms/item/all/18-airticketservices</td><td>malware</td><td>grasslandhotel.com.vn</td><td>com.vn</td><td>null</td><td>1</td><td>true</td></tr><tr><td>kevinmooremusic.com/</td><td>benign</td><td>kevinmooremusic.com</td><td>com</td><td>Redacted for Privacy Purposes</td><td>2</td><td>false</td></tr><tr><td>ehow.com/facts_5552739_western-auto-company-history.html</td><td>benign</td><td>ehow.com</td><td>com</td><td>TechnologyAdvice</td><td>1</td><td>false</td></tr><tr><td>merriam-webster.com/dictionary/cleric</td><td>benign</td><td>merriam-webster.com</td><td>com</td><td>CSC Corporate Domains, Inc.</td><td>3</td><td>true</td></tr><tr><td>usl1.uslsoccer.com/home/398646.html</td><td>benign</td><td>uslsoccer.com</td><td>com</td><td>Register.com - Network Solutions, LLC</td><td>1</td><td>false</td></tr><tr><td>http://perezhilton.com/2014-12-31-joe-jonas-mystery-woman-the-nice-guy-west-hollywood/?from=readmore_perezhilton&</td><td>benign</td><td>perezhilton.com</td><td>com</td><td>GoDaddy.com, LLC</td><td>2</td><td>false</td></tr><tr><td>blackjackinfo.com/blackjack-rules.php</td><td>benign</td><td>blackjackinfo.com</td><td>com</td><td>See PrivacyGuardian.org</td><td>0</td><td>false</td></tr><tr><td>bizjournals.com/stlouis/stories/2008/06/23/focus7.html</td><td>benign</td><td>bizjournals.com</td><td>com</td><td>CSC Corporate Domains, Inc.</td><td>0</td><td>false</td></tr><tr><td>http://www.kulgupuit.ee/index.php?option=com_phocagallery&view=detail&catid=2:foto&id=41:foto-7&tmpl=component&Itemid=5&lang=ru</td><td>defacement</td><td>kulgupuit.ee</td><td>ee</td><td>null</td><td>2</td><td>false</td></tr><tr><td>local.yahoo.com/info-19737823-ordway-building-supply-incorporated-ordway</td><td>benign</td><td>yahoo.com</td><td>com</td><td>MarkMonitor Inc.</td><td>0</td><td>false</td></tr><tr><td>http://football-euro.net/kluby-rossii/373-rabota-rossijskix-futbolnyx-arbitrov-neudovletvoritelna-po-czelomu-ryadu-prichin.html</td><td>defacement</td><td>football-euro.net</td><td>net</td><td>Privacy service provided by Withheld for Privacy ehf</td><td>2</td><td>true</td></tr><tr><td>http://motthegioi.vn/xa-hoi/trung-quoc-lai-dua-gian-khoan-hai-duong-981-vao-bien-dong-188586.html</td><td>benign</td><td>motthegioi.vn</td><td>vn</td><td>null</td><td>1</td><td>false</td></tr></tbody></table></div>"
      ]
     },
     "metadata": {
      "application/vnd.databricks.v1+output": {
       "addedWidgets": {},
       "aggData": [],
       "aggError": "",
       "aggOverflow": false,
       "aggSchema": [],
       "aggSeriesLimitReached": false,
       "aggType": "",
       "arguments": {},
       "columnCustomDisplayInfos": {},
       "data": [
        [
         "br-icloud.com.br",
         "phishing",
         "br-icloud.com.br",
         "com.br",
         "Toweb Brasil LTDA EPP",
         0,
         false
        ],
        [
         "mp3raid.com/music/krizz_kaliko.html",
         "benign",
         "mp3raid.com",
         "com",
         "GoDaddy.com, LLC",
         0,
         false
        ],
        [
         "bopsecrets.org/rexroth/cr/1.htm",
         "benign",
         "bopsecrets.org",
         "org",
         "REDACTED",
         2,
         false
        ],
        [
         "http://www.garage-pirenne.be/index.php?option=com_content&view=article&id=70&vsig70_0=15",
         "defacement",
         "garage-pirenne.be",
         "be",
         "Above.com Domain Privacy",
         4,
         false
        ],
        [
         "http://adventure-nicaragua.net/index.php?option=com_mailto&tmpl=component&link=aHR0cDovL2FkdmVudHVyZS1uaWNhcmFndWEubmV0L2luZGV4LnBocD9vcHRpb249Y29tX2NvbnRlbnQmdmlldz1hcnRpY2xlJmlkPTQ3OmFib3V0JmNhdGlkPTM2OmRlbW8tYXJ0aWNsZXMmSXRlbWlkPTU0",
         "defacement",
         "adventure-nicaragua.net",
         "net",
         "Above.com Pty Ltd.",
         3,
         true
        ],
        [
         "http://buzzfil.net/m/show-art/ils-etaient-loin-de-s-imaginer-que-le-hibou-allait-faire-ceci-quand-ils-filmaient-2.html",
         "benign",
         "buzzfil.net",
         "net",
         "REDACTED FOR PRIVACY",
         1,
         false
        ],
        [
         "espn.go.com/nba/player/_/id/3457/brandon-rush",
         "benign",
         "go.com",
         "com",
         "CSC Corporate Domains, Inc.",
         0,
         false
        ],
        [
         "yourbittorrent.com/?q=anthony-hamilton-soulife",
         "benign",
         "yourbittorrent.com",
         "com",
         "Whois Privacy Corp.",
         1,
         false
        ],
        [
         "http://www.pashminaonline.com/pure-pashminas",
         "defacement",
         "pashminaonline.com",
         "com",
         "REDACTED FOR PRIVACY",
         1,
         false
        ],
        [
         "allmusic.com/album/crazy-from-the-heat-r16990",
         "benign",
         "allmusic.com",
         "com",
         "All Media Network, LLC",
         0,
         false
        ],
        [
         "corporationwiki.com/Ohio/Columbus/frank-s-benson-P3333917.aspx",
         "benign",
         "corporationwiki.com",
         "com",
         "GoDaddy.com, LLC",
         0,
         true
        ],
        [
         "http://www.ikenmijnkunst.nl/index.php/exposities/exposities-2006",
         "defacement",
         "ikenmijnkunst.nl",
         "nl",
         null,
         1,
         false
        ],
        [
         "myspace.com/video/vid/30602581",
         "benign",
         "myspace.com",
         "com",
         "GoDaddy.com, LLC",
         1,
         false
        ],
        [
         "http://www.lebensmittel-ueberwachung.de/index.php/aktuelles.1",
         "defacement",
         "lebensmittel-ueberwachung.de",
         "de",
         null,
         6,
         true
        ],
        [
         "http://www.szabadmunkaero.hu/cimoldal.html?start=12",
         "defacement",
         "szabadmunkaero.hu",
         "hu",
         null,
         1,
         false
        ],
        [
         "http://larcadelcarnevale.com/catalogo/palloncini",
         "defacement",
         "larcadelcarnevale.com",
         "com",
         null,
         3,
         false
        ],
        [
         "quickfacts.census.gov/qfd/maps/iowa_map.html",
         "benign",
         "census.gov",
         "gov",
         "REDACTED FOR PRIVACY",
         1,
         false
        ],
        [
         "nugget.ca/ArticleDisplay.aspx?archive=true&e=1160966",
         "benign",
         "nugget.ca",
         "ca",
         "Postmedia Network Inc.",
         1,
         true
        ],
        [
         "uk.linkedin.com/pub/steve-rubenstein/8/718/755",
         "benign",
         "linkedin.com",
         "com",
         "LinkedIn Corporation",
         1,
         false
        ],
        [
         "http://www.vnic.co/khach-hang.html",
         "defacement",
         "vnic.co",
         "co",
         "Cong ty TNHH Tu van Dau tu Viet Nam",
         0,
         false
        ],
        [
         "baseball-reference.com/players/h/harrige01.shtml",
         "benign",
         "baseball-reference.com",
         "com",
         "Identity Protection Service",
         5,
         false
        ],
        [
         "signin.eby.de.zukruygxctzmmqi.civpro.co.za",
         "phishing",
         "civpro.co.za",
         "co.za",
         null,
         0,
         false
        ],
        [
         "192.com/atoz/people/oakley/patrick/",
         "benign",
         "192.com",
         "com",
         "123-Reg Limited",
         0,
         false
        ],
        [
         "nytimes.com/1998/03/29/style/cuttings-oh-that-brazen-raucous-glorious-hibiscus.html",
         "benign",
         "nytimes.com",
         "com",
         "The New York Times Company",
         1,
         false
        ],
        [
         "escholarship.org/uc/item/5xt4952c",
         "benign",
         "escholarship.org",
         "org",
         "Identity Protection Service",
         1,
         false
        ],
        [
         "songfacts.com/detail.php?id=13410",
         "benign",
         "songfacts.com",
         "com",
         "LLC, Songfacts,",
         0,
         true
        ],
        [
         "casamanana.org/education/blba/",
         "benign",
         "casamanana.org",
         "org",
         "Casa Manana Theatre",
         0,
         false
        ],
        [
         "http://hollywoodlife.com/2014/05/01/rihanna-iheartradio-music-awards-dress-2014-pics/",
         "benign",
         "hollywoodlife.com",
         "com",
         "Hollywoodlife.com, LLC",
         1,
         false
        ],
        [
         "http://www.marketingbyinternet.com/mo/e56508df639f6ce7d55c81ee3fcd5ba8/",
         "phishing",
         "marketingbyinternet.com",
         "com",
         "Fundacion Privacy Services LTD",
         3,
         true
        ],
        [
         "en.wikipedia.org/wiki/North_Dakota",
         "benign",
         "wikipedia.org",
         "org",
         "Wikimedia Foundation, Inc.",
         1,
         false
        ],
        [
         "soaps.sheknows.com/daysofourlives/news/id/20259/Days_Of_Our_Lives_Casts_Ruta_Lee/",
         "benign",
         "sheknows.com",
         "com",
         "GoDaddy.com, LLC",
         1,
         false
        ],
        [
         "perfectpeople.net/celebrity-star/6920/gidget-gein.htm",
         "benign",
         "perfectpeople.net",
         "net",
         "Super Privacy Service LTD c/o Dynadot",
         5,
         false
        ],
        [
         "media.caltech.edu/press_releases/13186",
         "benign",
         "caltech.edu",
         "edu",
         null,
         2,
         true
        ],
        [
         "wikiobits.com/Obits/TonyProudfoot",
         "benign",
         "wikiobits.com",
         "com",
         "REDACTED FOR PRIVACY",
         0,
         false
        ],
        [
         "vanderbilt.rivals.com/viewcoach.asp?coach=2079&sport=1&year=2011",
         "benign",
         "rivals.com",
         "com",
         "GoDaddy.com, LLC",
         0,
         false
        ],
        [
         "http://peluqueriadeautor.com/index.php?option=com_virtuemart&page=shop.browse&category_id=31&Itemid=70",
         "defacement",
         "peluqueriadeautor.com",
         "com",
         "REDACTED FOR PRIVACY",
         3,
         true
        ],
        [
         "movies.yahoo.com/shop?d=hv&cf=info&id=1800340831",
         "benign",
         "yahoo.com",
         "com",
         null,
         0,
         false
        ],
        [
         "cyndislist.com/us/pa/counties",
         "benign",
         "cyndislist.com",
         "com",
         "PERFECT PRIVACY, LLC",
         0,
         false
        ],
        [
         "http://www.824555.com/app/member/SportOption.php?uid=guest&langx=gb",
         "malware",
         "824555.com",
         "com",
         "GoDaddy.com, LLC",
         0,
         false
        ],
        [
         "http://www.raci.it/component/user/reset.html",
         "defacement",
         "raci.it",
         "it",
         "Raci Srl",
         0,
         true
        ],
        [
         "https://docs.google.com/spreadsheet/viewform?formkey=dGg2Z1lCUHlSdjllTVNRUW50TFIzSkE6MQ",
         "phishing",
         "google.com",
         "com",
         "Google LLC",
         1,
         false
        ],
        [
         "psychology.wikia.com/wiki/Phonemes",
         "benign",
         "wikia.com",
         "com",
         "Contact Privacy Inc. Customer 0130027609",
         0,
         false
        ],
        [
         "info.centriq.com/content/fivereasons",
         "benign",
         "centriq.com",
         "com",
         "GoDaddy.com, LLC",
         1,
         false
        ],
        [
         "articles.baltimoresun.com/1991-06-11/sports/1991162162_1_james-koehler-texas-rangers-terrell-lowery",
         "benign",
         "baltimoresun.com",
         "com",
         "GoDaddy Corporate Domains, LLC",
         1,
         true
        ],
        [
         "infinitysw.com/",
         "benign",
         "infinitysw.com",
         "com",
         "Contact Privacy Inc. Customer 0136748958",
         0,
         false
        ],
        [
         "strawberrycreekgardens.com/",
         "benign",
         "strawberrycreekgardens.com",
         "com",
         null,
         4,
         true
        ],
        [
         "http://earth-sure.com/industrial-tech/everlast-impact-resistant-dumpster-enclosure",
         "defacement",
         "earth-sure.com",
         "com",
         "GoDaddy.com, LLC",
         2,
         true
        ],
        [
         "spoke.com/dir/p/desantis/nick",
         "benign",
         "spoke.com",
         "com",
         "GoDaddy.com, LLC",
         1,
         false
        ],
        [
         "wordsmith.org/words/pignus.html",
         "benign",
         "wordsmith.org",
         "org",
         "REDACTED",
         0,
         false
        ],
        [
         "http://interpark.com/displaycorner/FreeMarket.do?_method=itemCateList&free1=pc&free2=007001008003&free3=item&disp_no=007001008003",
         "benign",
         "interpark.com",
         "com",
         "Gabia, Inc.",
         1,
         true
        ],
        [
         "http://www.newtec.ac.uk/courses/health-and-social-care/level-2-diploma-in-health-a-social-care-.html",
         "defacement",
         "newtec.ac.uk",
         "ac.uk",
         "The JNT Association",
         2,
         true
        ],
        [
         "http://www.kingsmillshotel.com/spring/mothers-day",
         "defacement",
         "kingsmillshotel.com",
         "com",
         "123-Reg Limited",
         1,
         false
        ],
        [
         "almanac.logos.com/Denominations",
         "benign",
         "logos.com",
         "com",
         "GoDaddy.com, LLC",
         0,
         false
        ],
        [
         "gaming.wikia.com/wiki/Backbreaker_(video_game)",
         "benign",
         "wikia.com",
         "com",
         "Contact Privacy Inc. Customer 0130027609",
         0,
         false
        ],
        [
         "ceu.hu/",
         "benign",
         "ceu.hu",
         "hu",
         null,
         1,
         false
        ],
        [
         "registry.weddingchannel.com/coupledir/20108/C/R314763282/JARED_CLOUGH_AND_TAJAI_RITCHIE.htm",
         "benign",
         "weddingchannel.com",
         "com",
         "GoDaddy Corporate Domains, LLC",
         2,
         false
        ],
        [
         "linkedin.com/pub/george-cleveland/7/80a/599",
         "benign",
         "linkedin.com",
         "com",
         "LinkedIn Corporation",
         1,
         false
        ],
        [
         "sunshinemills.com/",
         "benign",
         "sunshinemills.com",
         "com",
         "GoDaddy.com, LLC",
         1,
         false
        ],
        [
         "agoda.com/north_america/canada/montreal_qc/attractions/hotels_near_mcgill_university_centre_for_continuing_education.html",
         "benign",
         "agoda.com",
         "com",
         "MarkMonitor Inc.",
         0,
         false
        ],
        [
         "ctv.ca/generic/WebSpecials/sponsorship_scandal/",
         "benign",
         "ctv.ca",
         "ca",
         "Bell Canada",
         0,
         true
        ],
        [
         "http://www.approvi.com.br/ck.htm",
         "defacement",
         "approvi.com.br",
         "com.br",
         "Approvi Cursos Preparat�rios Ltda.",
         0,
         false
        ],
        [
         "http://www.shaborooz.ir/index.php?view=article&catid=7:1390-01-27-09-09-55&id=23:1390-04-12-08-07-33&tmpl=component&print=1&layout=default&page=&option=com_content&Itemid=2",
         "defacement",
         "shaborooz.ir",
         "ir",
         null,
         0,
         false
        ],
        [
         "veoox.com/tags/game.html",
         "benign",
         "veoox.com",
         "com",
         "GoDaddy.com, LLC",
         1,
         false
        ],
        [
         "chuckwalkertrio.blogspot.com/",
         "benign",
         "blogspot.com",
         "com",
         "MarkMonitor Inc.",
         0,
         false
        ],
        [
         "aerosolesshoes.org/",
         "benign",
         "aerosolesshoes.org",
         "org",
         null,
         3,
         false
        ],
        [
         "http://www.juventudelirica.com.br/index.html",
         "defacement",
         "juventudelirica.com.br",
         "com.br",
         null,
         2,
         true
        ],
        [
         "http://www.myenrg.com/southwest/9-texas",
         "defacement",
         "myenrg.com",
         "com",
         "Bluehost Inc.",
         1,
         false
        ],
        [
         "recipelink.com/msgbrd/board_14/2007/DEC/29094.html",
         "benign",
         "recipelink.com",
         "com",
         "Privacy service provided by Withheld for Privacy ehf",
         2,
         false
        ],
        [
         "http://www.musimagen.com/lista_socios.php?letra=\\303%91",
         "defacement",
         "musimagen.com",
         "com",
         "GDPR Masked",
         1,
         false
        ],
        [
         "ideas.repec.org/f/pma235.html",
         "benign",
         "repec.org",
         "org",
         "REDACTED",
         2,
         false
        ],
        [
         "peopleaz.org/firstname/Fowlkes/6",
         "benign",
         "peopleaz.org",
         "org",
         null,
         2,
         false
        ],
        [
         "orensamtraktrip.wordpress.com/",
         "benign",
         "wordpress.com",
         "com",
         "Automattic, Inc.",
         1,
         false
        ],
        [
         "retajconsultancy.com",
         "phishing",
         "retajconsultancy.com",
         "com",
         "Gname 278 Inc",
         1,
         true
        ],
        [
         "alexa.com/whatshot?q=james+arness",
         "benign",
         "alexa.com",
         "com",
         "MarkMonitor Inc.",
         1,
         false
        ],
        [
         "jpopasia.com/group/arashi/discography/",
         "benign",
         "jpopasia.com",
         "com",
         "REDACTED FOR PRIVACY",
         0,
         false
        ],
        [
         "kitsapsun.com/photos/2011/feb/25/177999/",
         "benign",
         "kitsapsun.com",
         "com",
         "GoDaddy Corporate Domains, LLC",
         0,
         true
        ],
        [
         "local.yahoo.com/info-42862457-oakland-international-airport-oakland",
         "benign",
         "yahoo.com",
         "com",
         "MarkMonitor Inc.",
         0,
         false
        ],
        [
         "tripadvisor.com/Restaurant_Review-g680765-d1768647-Reviews-Yacha_Yacha-Miyakojima_Okinawa_Prefecture_Kyushu_Okinawa.html",
         "benign",
         "tripadvisor.com",
         "com",
         "CSC Corporate Domains, Inc.",
         0,
         true
        ],
        [
         "articles.elitefts.com/articles/training-articles/five-great-exercises-for-building-a-dominant-defensive-lineman/",
         "benign",
         "elitefts.com",
         "com",
         "Privacy service provided by Withheld for Privacy ehf",
         2,
         false
        ],
        [
         "broadwaystars.com/classic/?source=www.playbill.com",
         "benign",
         "broadwaystars.com",
         "com",
         "DATA REDACTED",
         0,
         true
        ],
        [
         "http://www.pn-wuppertal.de/links/2-linkseite/5-httpwwwkrebshilfede",
         "defacement",
         "pn-wuppertal.de",
         "de",
         null,
         2,
         true
        ],
        [
         "forums.networkinfrastructure.info/motorola-wireless-lan-switches/",
         "benign",
         "networkinfrastructure.info",
         "info",
         null,
         2,
         true
        ],
        [
         "youtube.com/watch?v=mwpoPQ1SPJU",
         "benign",
         "youtube.com",
         "com",
         "Google LLC",
         1,
         false
        ],
        [
         "mccall-idchamber.org/",
         "benign",
         "mccall-idchamber.org",
         "org",
         "PrivacyGuardian.org llc",
         1,
         false
        ],
        [
         "chacha.com/question/who-said-the-quote-%27say-what-you-mean%2C-mean-what-you-say-and-put-a-beat-to-it%27",
         "benign",
         "chacha.com",
         "com",
         "Alibaba Cloud Computing (Beijing) Co., Ltd.",
         0,
         false
        ],
        [
         "friars.com/sports/m-baskbl/archive/prov-m-baskbl-2003.html",
         "benign",
         "friars.com",
         "com",
         "GoDaddy.com, LLC",
         0,
         false
        ],
        [
         "http://asociacionkaribu.org/index.php/servicios/centro-jambo",
         "defacement",
         "asociacionkaribu.org",
         "org",
         "Asociacion Karibu, amigos del pueblo africano",
         0,
         false
        ],
        [
         "http://www.martin-busker.de/administrator/help/en-GB/css/Facture/c4d12146ebce8e1684d3542308399779/8fa39dab95edb1b676b638a672278eae/particuliers-45636.php",
         "phishing",
         "martin-busker.de",
         "de",
         null,
         2,
         true
        ],
        [
         "pipl.com/directory/name/Whissell/180",
         "benign",
         "pipl.com",
         "com",
         "GoDaddy.com, LLC",
         0,
         false
        ],
        [
         "spokeo.com/John+Collet",
         "benign",
         "spokeo.com",
         "com",
         "REDACTED FOR PRIVACY",
         1,
         false
        ],
        [
         "http://www.parafiapiaski.pl/index.php?option=com_user&view=remind",
         "defacement",
         "parafiapiaski.pl",
         "pl",
         "Aftermarket.pl Limited",
         0,
         false
        ],
        [
         "http://fanpage.gr/family/gineka/%ce%b1%cf%85%cf%84%ce%bf%ce%af-%ce%b5%ce%af%ce%bd%ce%b1%ce%b9-%ce%bf%ce%b9-13-%cf%89%cf%81%ce%b1%ce%b9%cf%8c%cf%84%ce%b5%cf%81%ce%bf%ce%b9-%ce%ad%ce%bb%ce%bb%ce%b7%ce%bd%ce%b5%cf%82-%ce%b1%ce%bd-2/",
         "benign",
         "fanpage.gr",
         "gr",
         null,
         1,
         false
        ],
        [
         "faqs.org/copyright/handbook-for-the-individual-or-group-culture-free/",
         "benign",
         "faqs.org",
         "org",
         "Advameg, Inc.",
         0,
         false
        ],
        [
         "duckduckgo.com/1/c/Roman_Catholic_cathedrals_in_Canada",
         "benign",
         "duckduckgo.com",
         "com",
         "Privacy service provided by Withheld for Privacy ehf",
         0,
         false
        ],
        [
         "alexpay2.beget.tech",
         "phishing",
         "beget.tech",
         "tech",
         "Beget LLC",
         3,
         false
        ],
        [
         "http://worldoftanks.ru/ru/content/guide/payments_instruction/mobile-payments-rostelekom-ural-utel/",
         "benign",
         "worldoftanks.ru",
         "ru",
         "Wargaming.net Limited",
         0,
         true
        ],
        [
         "http://www.artedesignsas.it/catalogo.html?page=shop.browse&category_id=14",
         "defacement",
         "artedesignsas.it",
         "it",
         "AD&Co S.a.s. di Esposito Carmen Debora",
         2,
         true
        ],
        [
         "en.wikipedia.org/wiki/Lloyd_Bacon",
         "benign",
         "wikipedia.org",
         "org",
         "Wikimedia Foundation, Inc.",
         1,
         false
        ],
        [
         "http://serverfault.com/questions/682832/squid-transparent-https-certificate-error-ssl-error-bad-cert-domain",
         "benign",
         "serverfault.com",
         "com",
         "CSC Corporate Domains, Inc.",
         2,
         true
        ],
        [
         "http://www.viamanaus.com.br/index.php?option=com_wrapper&view=wrapper&Itemid=297",
         "defacement",
         "viamanaus.com.br",
         "com.br",
         "Via Turismo",
         0,
         false
        ],
        [
         "ciajfk.com/harold.html",
         "benign",
         "ciajfk.com",
         "com",
         "Privacy service provided by Withheld for Privacy ehf",
         0,
         false
        ],
        [
         "http://www.protect-effect.nl/diensten/62-telefonie",
         "defacement",
         "protect-effect.nl",
         "nl",
         "Realtime Register",
         3,
         false
        ],
        [
         "indyweek.com/artery/archives/2011/10/07/come-back-to-the-1980s-at-the-escapism-film-festival-which-begins-friday",
         "benign",
         "indyweek.com",
         "com",
         "DATA REDACTED",
         2,
         false
        ],
        [
         "linkedin.com/pub/charles-gariepy/2/642/28",
         "benign",
         "linkedin.com",
         "com",
         "LinkedIn Corporation",
         1,
         false
        ],
        [
         "http://www.gst-ukraine.com.ua/ukraine/tours/2754-arboretum-alexandria-sofiyivka",
         "defacement",
         "gst-ukraine.com.ua",
         "com.ua",
         null,
         1,
         true
        ],
        [
         "facebook.unitedcolleges.net",
         "phishing",
         "unitedcolleges.net",
         "net",
         null,
         4,
         false
        ],
        [
         "http://www.bimabn.com/1-configurazione-supporto-apple.store-contatta/c/Apple-id/3d465e25b47e6bc23ae55f5de40e1bb1/",
         "phishing",
         "bimabn.com",
         "com",
         null,
         0,
         false
        ],
        [
         "eyeappealoptometry.com/",
         "benign",
         "eyeappealoptometry.com",
         "com",
         "GoDaddy.com, LLC",
         4,
         true
        ],
        [
         "brophygen.com/",
         "benign",
         "brophygen.com",
         "com",
         "GoDaddy.com, LLC",
         1,
         false
        ],
        [
         "icehockey.wikia.com/wiki/Dan_Blackburn",
         "benign",
         "wikia.com",
         "com",
         "Contact Privacy Inc. Customer 0130027609",
         0,
         false
        ],
        [
         "gurufocus.com/news/116068/who-is-the-warren-buffett-of-canada-prem-watsa-of-fairfax-financial-ffh-or-paul-desmarais-of-power-corporation-of-canada-pow",
         "benign",
         "gurufocus.com",
         "com",
         "REDACTED FOR PRIVACY",
         0,
         false
        ],
        [
         "http://www.bg-ricevimenti.it/index.php/location/osteria-del-molo.html?fontstyle=f-smaller",
         "defacement",
         "bg-ricevimenti.it",
         "it",
         "B & G Ristorazione Srl",
         2,
         false
        ],
        [
         "stewstew.com/",
         "benign",
         "stewstew.com",
         "com",
         "Justin Ren",
         2,
         false
        ],
        [
         "livingharvest.com/products/ice-cream-bars",
         "benign",
         "livingharvest.com",
         "com",
         "GoDaddy.com, LLC",
         1,
         true
        ],
        [
         "http://icicibank.com/Personal-Banking/offers/offer-detail.page?id=offer-readers-digest-magazine-offer-20150202203953555",
         "benign",
         "icicibank.com",
         "com",
         "Network Solutions, LLC",
         0,
         false
        ],
        [
         "http://9779.info/%E5%84%BF%E7%AB%A5%E7%AB%8B%E4%BD%93%E7%BA%B8%E8%B4%B4%E7%94%BB/",
         "malware",
         "9779.info",
         "info",
         null,
         0,
         false
        ],
        [
         "bleacherreport.com/articles/300242-doug-harvey-one-of-the-best-ever-to-play-the-game",
         "benign",
         "bleacherreport.com",
         "com",
         "The Bleacher Report, Inc.",
         3,
         true
        ],
        [
         "htp://youtube.com/watch?v=6Ar7sf6aU_M&list=PLMSYnjOjlErdyy83UXCykRV0-dXAMtFW-",
         "benign",
         "youtube.com",
         "com",
         "Google LLC",
         1,
         false
        ],
        [
         "http://www.boeuf-soufflenheim.com/de.feed?type=rss",
         "defacement",
         "boeuf-soufflenheim.com",
         "com",
         "REDACTED FOR PRIVACY",
         3,
         false
        ],
        [
         "artfacts.net/it/istituzion/ms--muzeum-sztuki-lodz-2724/visione-generale.html",
         "benign",
         "artfacts.net",
         "net",
         "123-Reg Limited",
         1,
         true
        ],
        [
         "parsippanysoccerclub.org/",
         "benign",
         "parsippanysoccerclub.org",
         "org",
         "Parsippany Soccer Club",
         1,
         false
        ],
        [
         "international.uiowa.edu/services/language/allnet/resources/languages/turkish.asp",
         "benign",
         "uiowa.edu",
         "edu",
         null,
         1,
         false
        ],
        [
         "btscene.eu/verified-search/torrent/franco+piersanti/",
         "benign",
         "btscene.eu",
         "eu",
         "TLD Registrar Solutions Ltd",
         3,
         false
        ],
        [
         "signature-editions.com/",
         "benign",
         "signature-editions.com",
         "com",
         "REDACTED FOR PRIVACY",
         2,
         true
        ],
        [
         "en.wikipedia.org/wiki/Blessed_by_a_Broken_Heart",
         "benign",
         "wikipedia.org",
         "org",
         "Wikimedia Foundation, Inc.",
         1,
         false
        ],
        [
         "http://www.trenker-bestattungen.de/index.php?option=com_content&view=article&id=13&Itemid=14",
         "defacement",
         "trenker-bestattungen.de",
         "de",
         null,
         5,
         true
        ],
        [
         "national.ca/Bold-Thinking/NATIONAL-Publications.aspx",
         "benign",
         "national.ca",
         "ca",
         "Le Cabinet de relations publiques NATIONAL inc.",
         0,
         true
        ],
        [
         "halkbankparaf-para.com",
         "phishing",
         "halkbankparaf-para.com",
         "com",
         null,
         0,
         false
        ],
        [
         "http://motthegioi.vn/the-gioi-cuoi/clip-dai-gia-mac-ca-voi-co-ban-banh-my-185682.html",
         "benign",
         "motthegioi.vn",
         "vn",
         null,
         1,
         false
        ],
        [
         "metroactive.com/papers/metro/01.29.98/idiotflesh-9804.html",
         "benign",
         "metroactive.com",
         "com",
         "GoDaddy Online Services Cayman Islands Ltd.",
         2,
         true
        ],
        [
         "https://twitter.com/home?status=%E3%83%8C%E3%81%91%E3%82%8B%EF%BC%81%E3%80%90%E3%82%A2%E3%83%8B%E3%83%A1%E3%80%91+http%3A%2F%2Fero-video.net%2Ft%2FwjfL4fhPp1lPxTZb+%E3%82%A2%E3%83%AA%E3%82%B5%E5%86%8D%E3%81%B3%EF%BC%81%E3%82%A8%E3%83%AD%E3%82%A2%E3%83%8B%E3%83%A1+%23ero+%23douga+%23agesage",
         "benign",
         "twitter.com",
         "com",
         "CSC Corporate Domains, Inc.",
         1,
         false
        ],
        [
         "http://correios.com.br/para-sua-empresa/comunicacao/certificados-digitais/ajuda-interativa/informacoes-sobre-a-baixa-dos-certificados-a1",
         "benign",
         "correios.com.br",
         "com.br",
         "Empresa Brasileira de Correios e Tel�grafos",
         1,
         false
        ],
        [
         "http://olx.ro/i2/electronice-si-electrocasnice/electrocasnice/masini-de-cusut/gtm.start",
         "benign",
         "olx.ro",
         "ro",
         "CSC Corporate Domains",
         0,
         false
        ],
        [
         "http://www.aba-diagnostic.com/espace-prive/reset.html",
         "defacement",
         "aba-diagnostic.com",
         "com",
         "REDACTED FOR PRIVACY",
         0,
         true
        ],
        [
         "msn.foxsports.com/nhl/player/yann-sauve/720461",
         "benign",
         "foxsports.com",
         "com",
         "GoDaddy Corporate Domains, LLC",
         0,
         false
        ],
        [
         "hallmark.businessgreetings.com/",
         "benign",
         "businessgreetings.com",
         "com",
         "Hallmark Licensing LLC",
         3,
         false
        ],
        [
         "musicstack.com/records-cds/toni+tony+tone",
         "benign",
         "musicstack.com",
         "com",
         "DATA REDACTED",
         0,
         true
        ],
        [
         "nudecelebsnow.com/tags/1/victoria+justus.htm",
         "benign",
         "nudecelebsnow.com",
         "com",
         null,
         3,
         false
        ],
        [
         "http://www.paoarapanui.cl/index.php?option=com_contact&view=contact&id=1&Itemid=6",
         "defacement",
         "paoarapanui.cl",
         "cl",
         null,
         0,
         false
        ],
        [
         "worldwrestlinginsanity.com/am2/publish/ringofhonorlive/roh_sinclair_tv2.shtml",
         "benign",
         "worldwrestlinginsanity.com",
         "com",
         "Statutory Masking Enabled",
         1,
         true
        ],
        [
         "http://www.designeremdoces.com/components/com_contact/ggdrives/",
         "phishing",
         "designeremdoces.com",
         "com",
         null,
         4,
         false
        ],
        [
         "http://slashdot.org/submission/2916707/facebook-to-include-profile-photos-in-its-facial-recognition-database",
         "benign",
         "slashdot.org",
         "org",
         "Domains By Proxy, LLC",
         0,
         true
        ],
        [
         "facebook.com/people/Yui-Takeshita/100001611015714",
         "benign",
         "facebook.com",
         "com",
         "Meta Platforms, Inc.",
         1,
         false
        ],
        [
         "sportsposterwarehouse.com/items_388__grandprixclassicscoll.html",
         "benign",
         "sportsposterwarehouse.com",
         "com",
         "Network Solutions, LLC",
         3,
         true
        ],
        [
         "padmapper.com/search/apartments/Quebec/Montreal-est/",
         "benign",
         "padmapper.com",
         "com",
         "NameCheap, Inc.",
         1,
         false
        ],
        [
         "mrskin.com/christina-ricci-nude-c868.html",
         "benign",
         "mrskin.com",
         "com",
         "Redacted for Privacy Purposes",
         0,
         false
        ],
        [
         "lip-service.com/webzine/tag/post-apocalyptic-fashion/",
         "benign",
         "lip-service.com",
         "com",
         "GoDaddy.com, LLC",
         2,
         false
        ],
        [
         "http://www.tiendagnulinux.com.ar/calcomanias-en-vinilo?page=shop.browse&category_id=52",
         "defacement",
         "tiendagnulinux.com.ar",
         "com.ar",
         null,
         1,
         true
        ],
        [
         "http://chelurao.ru/index.php?option=com_content&view=article&id=9&Itemid=10&lang=ru",
         "defacement",
         "chelurao.ru",
         "ru",
         "DOMAINSHOP-RU",
         1,
         false
        ],
        [
         "linkedin.com/pub/dir/elizabeth/scarborough",
         "benign",
         "linkedin.com",
         "com",
         "LinkedIn Corporation",
         1,
         false
        ],
        [
         "cqgcr.ca/ang/producer01.php",
         "benign",
         "cqgcr.ca",
         "ca",
         "Conseil du Québec de la Guilde canadienne des réalisateurs",
         0,
         false
        ],
        [
         "huffingtonpost.com/2011/10/24/south-carolina-primary-case_n_1029599.html",
         "benign",
         "huffingtonpost.com",
         "com",
         "MarkMonitor Inc.",
         0,
         false
        ],
        [
         "http://qz.com/403774/quartz-daily-brief-japanese-military-verizon-aol-sporty-branson-saucy-swedes/",
         "benign",
         "qz.com",
         "com",
         "Privacy service provided by Withheld for Privacy ehf",
         0,
         false
        ],
        [
         "select.nytimes.com/gst/abstract.html?res=F70814F93B581A7A93CBA9178BD95F4C8385F9",
         "benign",
         "nytimes.com",
         "com",
         "The New York Times Company",
         1,
         false
        ],
        [
         "startrekcostumes.net/",
         "benign",
         "startrekcostumes.net",
         "net",
         null,
         3,
         true
        ],
        [
         "en.wikipedia.org/wiki/Neil_Curtis",
         "benign",
         "wikipedia.org",
         "org",
         "Wikimedia Foundation, Inc.",
         1,
         false
        ],
        [
         "music.carowinds.com/",
         "benign",
         "carowinds.com",
         "com",
         "Identity Protection Service",
         0,
         false
        ],
        [
         "http://9779.info/%E6%A0%91%E5%8F%B6%E7%B2%98%E8%B4%B4%E7%94%BB/",
         "malware",
         "9779.info",
         "info",
         null,
         0,
         false
        ],
        [
         "newjersey.craigslist.org/",
         "benign",
         "craigslist.org",
         "org",
         "Craigslist",
         0,
         true
        ],
        [
         "roverslands.net",
         "phishing",
         "roverslands.net",
         "net",
         null,
         2,
         true
        ],
        [
         "familypedia.wikia.com/wiki/Joseph_Philippe_Roi_de_Villere_%281727-1769%29",
         "benign",
         "wikia.com",
         "com",
         "Contact Privacy Inc. Customer 0130027609",
         0,
         false
        ],
        [
         "http://mylust.com/videos/232790/hentai-slut-with-big-juicy-tits-gets-fucked-doggy-style/",
         "benign",
         "mylust.com",
         "com",
         "Whois Privacy (enumDNS dba)",
         0,
         false
        ],
        [
         "acronymfinder.com/John-Burroughs-High-school-(Burbank%2c-CA)-(JBHS).html",
         "benign",
         "acronymfinder.com",
         "com",
         "DATA REDACTED",
         1,
         false
        ],
        [
         "http://www.familienbund.org/index.php?option=com_content&view=article&id=291:stellungnahme-des-familienbundes-der-katholiken-zum-referentenentwurf-eines-gesetzes-zur-erweiterung-der-grosselternzeit-&catid=5:stellungnahmen&Itemid=8",
         "defacement",
         "familienbund.org",
         "org",
         "united-domains GmbH",
         1,
         false
        ],
        [
         "http://www.vanoorschotkranen.nl/hoogwerker/hoogwerkers.pdf",
         "defacement",
         "vanoorschotkranen.nl",
         "nl",
         "Combell B.V.",
         1,
         true
        ],
        [
         "youtube.com/watch?v=K_-bsYE-y08",
         "benign",
         "youtube.com",
         "com",
         "Google LLC",
         1,
         false
        ],
        [
         "myspace.com/jking909",
         "benign",
         "myspace.com",
         "com",
         "GoDaddy.com, LLC",
         1,
         false
        ],
        [
         "http://www.academiedumeuble.ca/index.php?option=com_seminar&task=3&cid=516&sem_midx=0&sem_jidx=0&Itemid=69",
         "defacement",
         "academiedumeuble.ca",
         "ca",
         "REDACTED FOR PRIVACY",
         4,
         false
        ],
        [
         "corporacionrossenditotours.com",
         "phishing",
         "corporacionrossenditotours.com",
         "com",
         null,
         1,
         true
        ],
        [
         "http://maslen.sk/index.php?option=com_contact&view=contact&id=37:iados-o-obchodnu-spolupracu&catid=29:dopytformular&Itemid=5",
         "defacement",
         "maslen.sk",
         "sk",
         "MASLEN s.r.o.",
         1,
         false
        ],
        [
         "http://www.clinicatecma.es/index.php/densiometria",
         "defacement",
         "clinicatecma.es",
         "es",
         null,
         2,
         true
        ],
        [
         "movies.msn.com/celebrities/celebrity/george-'gabby'-hayes/",
         "benign",
         "msn.com",
         "com",
         "Microsoft Corporation",
         0,
         false
        ],
        [
         "idlebrain.com/news/functions/engagement-brahmini.html",
         "benign",
         "idlebrain.com",
         "com",
         "Idlebrain.com",
         1,
         false
        ],
        [
         "vh1.com/video/that-metal-show/full-episodes/carmine-appice-dave-meniketti/1663564/playlist.jhtml",
         "benign",
         "vh1.com",
         "com",
         "MarkMonitor Inc.",
         0,
         false
        ],
        [
         "archiver.rootsweb.ancestry.com/th/read/GEN-OBIT/2007-04/1176208149",
         "benign",
         "ancestry.com",
         "com",
         "MarkMonitor Inc.",
         1,
         true
        ],
        [
         "perezhilton.com/category/william-shatner/",
         "benign",
         "perezhilton.com",
         "com",
         "GoDaddy.com, LLC",
         2,
         false
        ],
        [
         "fsnaindia.com/",
         "benign",
         "fsnaindia.com",
         "com",
         null,
         0,
         false
        ],
        [
         "actionjaxon666.wordpress.com/2011/02/24/new-macbook-pros-secretly-16gb-capable/",
         "benign",
         "wordpress.com",
         "com",
         "MarkMonitor Inc.",
         1,
         false
        ],
        [
         "en.wikipedia.org/wiki/Kenji_Nojima",
         "benign",
         "wikipedia.org",
         "org",
         "Wikimedia Foundation, Inc.",
         1,
         false
        ],
        [
         "alaskajewelry.com/colored-stone-tanzanite-rings-c-21_72_91.html?=&infoBox=0",
         "benign",
         "alaskajewelry.com",
         "com",
         "Tucows Domains Inc.",
         2,
         false
        ],
        [
         "greenparty.ca/campaign/24048",
         "benign",
         "greenparty.ca",
         "ca",
         "Green Party of Canada",
         2,
         true
        ],
        [
         "http://mic.com/articles/117758/mtv-just-gave-these-artists-a-huge-platform-to-bring-attention-to-indigenous-rights",
         "benign",
         "mic.com",
         "com",
         "Identity Protection Service",
         0,
         false
        ],
        [
         "randomhouse.com/book/84548/tapestry-of-spies-by-stephen-hunter",
         "benign",
         "randomhouse.com",
         "com",
         "CSC Corporate Domains, Inc.",
         1,
         false
        ],
        [
         "argentinawarez.com/musica-mp3-gratis/65991-ost-boat-rocked-soundtrack-2cd-2009-a.html",
         "benign",
         "argentinawarez.com",
         "com",
         "Realtime Register B.V.",
         2,
         true
        ],
        [
         "192.com/atoz/people/gerrard/steven/",
         "benign",
         "192.com",
         "com",
         "123-Reg Limited",
         0,
         false
        ],
        [
         "users6.nofeehost.com/aldenh/493.html",
         "benign",
         "nofeehost.com",
         "com",
         "GoDaddy.com, LLC",
         2,
         false
        ],
        [
         "facebook.com/opalhilldrive",
         "benign",
         "facebook.com",
         "com",
         "Meta Platforms, Inc.",
         1,
         false
        ],
        [
         "scottss.com/",
         "benign",
         "scottss.com",
         "com",
         "Jan Everno",
         0,
         false
        ],
        [
         "http://drive-google-com.fanalav.com/6a7ec96d6a4b8b887e9f9ace81b40a99/",
         "phishing",
         "fanalav.com",
         "com",
         null,
         0,
         false
        ],
        [
         "manta.com/ic/mt6fkz0/ca/residence-sault-au-recollet",
         "benign",
         "manta.com",
         "com",
         "Amazon Registrar, Inc.",
         0,
         true
        ],
        [
         "http://www.perthshire-caravans.co.uk/stock-list/caravans/706-elddis-odyssey-540",
         "defacement",
         "perthshire-caravans.co.uk",
         "co.uk",
         "Ionos SE [Tag = 1AND1]",
         2,
         true
        ],
        [
         "forum.exscn.net/archive/index.php/t-10778.html?pda=1",
         "benign",
         "exscn.net",
         "net",
         "GoDaddy.com, LLC",
         2,
         false
        ],
        [
         "superpages.com/bp/Kansas-City-KS/Kansas-City-Terminal-Railway-L2170949422.htm",
         "benign",
         "superpages.com",
         "com",
         "CSC Corporate Domains, Inc.",
         2,
         false
        ],
        [
         "maxlapointe.com/?p=141",
         "benign",
         "maxlapointe.com",
         "com",
         null,
         1,
         true
        ],
        [
         "http://rendeck.com/index.php/nl/vacatures/table/9/0/index.html?resetfilters=0",
         "defacement",
         "rendeck.com",
         "com",
         null,
         2,
         false
        ],
        [
         "ca.ratemyteachers.com/louise-trichet/106184-s",
         "benign",
         "ratemyteachers.com",
         "com",
         "GoDaddy.com, LLC",
         3,
         true
        ],
        [
         "cardomain.com/ride/2424103/2006-pontiac-gto",
         "benign",
         "cardomain.com",
         "com",
         "CSC Corporate Domains, Inc.",
         0,
         false
        ],
        [
         "apps.facebook.com/ilike/artist/Les+Respectables",
         "benign",
         "facebook.com",
         "com",
         "Meta Platforms, Inc.",
         1,
         false
        ],
        [
         "cbssports.com/nba/players/playerpage/20626/paul-pierce",
         "benign",
         "cbssports.com",
         "com",
         "MarkMonitor Inc.",
         0,
         false
        ],
        [
         "detkreimeier-fotografie.de",
         "phishing",
         "detkreimeier-fotografie.de",
         "de",
         null,
         6,
         true
        ],
        [
         "http://listovka.info/xmap.html",
         "defacement",
         "listovka.info",
         "info",
         null,
         0,
         true
        ],
        [
         "home.comcast.net/~jcage89/350z/navbox/index.htm",
         "benign",
         "comcast.net",
         "net",
         "CSC Corporate Domains, Inc.",
         1,
         true
        ],
        [
         "margaritawill.com/hotdogs/",
         "benign",
         "margaritawill.com",
         "com",
         "Wild West Domains, LLC",
         0,
         true
        ],
        [
         "pipl.com/directory/name/Pallas/Tony",
         "benign",
         "pipl.com",
         "com",
         "GoDaddy.com, LLC",
         0,
         false
        ],
        [
         "newyorker.com/archive/1982/04/12/1982_04_12_039_TNY_CARDS_000335949",
         "benign",
         "newyorker.com",
         "com",
         "CSC Corporate Domains, Inc.",
         2,
         false
        ],
        [
         "youtube.com/watch?v=eMY1FT3Pqh8",
         "benign",
         "youtube.com",
         "com",
         "Google LLC",
         1,
         false
        ],
        [
         "law.cornell.edu/wex/Joint_venture",
         "benign",
         "cornell.edu",
         "edu",
         null,
         2,
         false
        ],
        [
         "pitchfork.com/reviews/albums/13979-broken-bells/",
         "benign",
         "pitchfork.com",
         "com",
         "CSC Corporate Domains, Inc.",
         0,
         false
        ],
        [
         "http://skyrock.com/videos/eDJwODRhNzoxMw==-bug-1187-moi-ma-famille.html?top=3&period=recent",
         "benign",
         "skyrock.com",
         "com",
         "VORTEX",
         0,
         false
        ],
        [
         "hollywood.com/movie/Biutiful/6870447",
         "benign",
         "hollywood.com",
         "com",
         "Hollywood.com, LLC",
         0,
         false
        ],
        [
         "facebook.com/pages/The-Paul-Lynde-Halloween-Special-1976/280289980245",
         "benign",
         "facebook.com",
         "com",
         "Meta Platforms, Inc.",
         1,
         false
        ],
        [
         "hot-people.info/Crossett_AR_Dorothy-Moore_Eric--Newton_1051.html",
         "benign",
         "hot-people.info",
         "info",
         null,
         2,
         false
        ],
        [
         "onlineradio7.com/listen/CFLO_1047",
         "benign",
         "onlineradio7.com",
         "com",
         null,
         1,
         false
        ],
        [
         "http://9779.info/%E5%8F%A4%E4%BB%A3%E4%BA%8C%E5%8D%81%E5%9B%9B%E5%AD%9D%E5%B8%83%E8%B4%B4%E7%94%BB/",
         "malware",
         "9779.info",
         "info",
         null,
         0,
         false
        ],
        [
         "http://www.jnpiraq.net/arabic/index.php?option=com_content&view=article&id=610&catid=5&Itemid=10",
         "defacement",
         "jnpiraq.net",
         "net",
         null,
         1,
         true
        ],
        [
         "artistswithaids.org/artforms/music/catalogue/rileyl.html",
         "benign",
         "artistswithaids.org",
         "org",
         "Super Privacy Service LTD c/o Dynadot",
         0,
         true
        ],
        [
         "http://www.versverwerktegroenten.nl/bruine-bonen.html",
         "defacement",
         "versverwerktegroenten.nl",
         "nl",
         "RegistrarHub",
         6,
         false
        ],
        [
         "mylife.com/dominicbouchard",
         "benign",
         "mylife.com",
         "com",
         "Network Solutions, LLC",
         1,
         false
        ],
        [
         "mmagearguide.com/ufc-117-t-shirts-silva-vs-sonnen/",
         "benign",
         "mmagearguide.com",
         "com",
         "GoDaddy.com, LLC",
         2,
         false
        ],
        [
         "worldtraveltours.org/4-alternative-places-you-can-choose-at-montreal-travel/.html",
         "benign",
         "worldtraveltours.org",
         "org",
         null,
         1,
         true
        ],
        [
         "iptv.org/",
         "benign",
         "iptv.org",
         "org",
         "Iowa Public Television",
         0,
         false
        ],
        [
         "elliscountydivorcelawyer.com/ellis-county-post-divorce-modification.htm",
         "benign",
         "elliscountydivorcelawyer.com",
         "com",
         "Byron Winborne",
         3,
         true
        ],
        [
         "http://grantland.com/the-triangle/2015-mlb-over-under-bets-chicago-cubs-houston-astros-oakland-as-tampa-bay-rays/",
         "benign",
         "grantland.com",
         "com",
         "CSC Corporate Domains, Inc.",
         0,
         true
        ],
        [
         "fanpix.net/gallery/doug-savant-pictures.htm",
         "benign",
         "fanpix.net",
         "net",
         "REDACTED FOR PRIVACY",
         1,
         true
        ],
        [
         "chacha.com/question/what-time-does-metro-center-mall-close",
         "benign",
         "chacha.com",
         "com",
         "Alibaba Cloud Computing (Beijing) Co., Ltd.",
         0,
         false
        ],
        [
         "marcospecialties.com/storeitems.asp?game=Chicago%20Coin&Chicago%20Coin=RED%20BARON%20(Blue%20Max)",
         "benign",
         "marcospecialties.com",
         "com",
         "DATA REDACTED",
         2,
         true
        ],
        [
         "hdlns.com/g508zf1457/Kansas+City+Star+Obituaries+Obituaries+from+Kansas+City+Star+Kansas+City%2C+MO",
         "benign",
         "hdlns.com",
         "com",
         "GoDaddy.com, LLC",
         0,
         false
        ],
        [
         "familytreemaker.genealogy.com/users/v/e/r/James-R-Verrier/GENE7-0008.html",
         "benign",
         "genealogy.com",
         "com",
         "Ancestry.com Operations Inc.",
         2,
         false
        ],
        [
         "therainmakersmessageboard.yuku.com/",
         "benign",
         "yuku.com",
         "com",
         "DATA REDACTED",
         0,
         false
        ],
        [
         "tumblr.com/tagged/sebastien+lefebvre",
         "benign",
         "tumblr.com",
         "com",
         "MarkMonitor Inc.",
         0,
         false
        ],
        [
         "ussoccer.com/News/Soccer-Wire/2002/10/U-S-Soccer-Wire-Galaxy-Claims-2002-MLS-Cup-With-1-0-Double-OT-Win-Over-Revs-Will-Go-For-Rare-Double.aspx",
         "benign",
         "ussoccer.com",
         "com",
         "GoDaddy.com, LLC",
         1,
         false
        ],
        [
         "filmannex.com/movie/1984-olympics-fencing-men-saber/21938",
         "benign",
         "filmannex.com",
         "com",
         "GoDaddy.com, LLC",
         1,
         false
        ],
        [
         "allaboutjazz.com/php/musician.php?id=3751",
         "benign",
         "allaboutjazz.com",
         "com",
         "Amazon Registrar, Inc.",
         0,
         true
        ],
        [
         "info-pages.000webhostapp.com",
         "phishing",
         "000webhostapp.com",
         "com",
         "GDPR Masked",
         1,
         true
        ],
        [
         "skiracing.com/?q=node/514",
         "benign",
         "skiracing.com",
         "com",
         "PERFECT PRIVACY, LLC",
         0,
         false
        ],
        [
         "myptccash.com",
         "phishing",
         "myptccash.com",
         "com",
         null,
         0,
         true
        ],
        [
         "ertx.com/movie/2008/mad-about-mambo",
         "benign",
         "ertx.com",
         "com",
         "GoDaddy.com, LLC",
         1,
         false
        ],
        [
         "classicbikepictures.co.uk/c319/p2499/for_sale/yamaha%C2%A0yfu1wyfu1-t_for_sale.html",
         "benign",
         "classicbikepictures.co.uk",
         "co.uk",
         null,
         2,
         true
        ],
        [
         "http://thenextweb.com/dd/2011/05/09/squarespace-to-begin-version-6-beta-testing/gtm.js/gtm.js",
         "benign",
         "thenextweb.com",
         "com",
         "Privacy service provided by Withheld for Privacy ehf",
         3,
         false
        ],
        [
         "http://ecoledecoiffurecarolinelaprise.com/formations/pose-ongles/108.html",
         "defacement",
         "ecoledecoiffurecarolinelaprise.com",
         "com",
         null,
         6,
         false
        ],
        [
         "mtlasm.blogspot.com/",
         "benign",
         "blogspot.com",
         "com",
         "Google LLC",
         0,
         false
        ],
        [
         "http://chinacxyy.com/piccodejs-000.asp?lm2=191&x=3&y=2&w=90&h=63&open=1&n=10&tj=0",
         "malware",
         "chinacxyy.com",
         "com",
         null,
         0,
         false
        ],
        [
         "medicinenet.com/heel_spurs/city.htm",
         "benign",
         "medicinenet.com",
         "com",
         "MarkMonitor Inc.",
         3,
         false
        ],
        [
         "music.yahoo.com/nothingface/",
         "benign",
         "yahoo.com",
         "com",
         "MarkMonitor Inc.",
         0,
         false
        ],
        [
         "http://9779.info/%E6%8A%98%E7%BA%B8%E6%89%87%E5%AD%90%E6%8B%BC%E8%B4%B4%E7%94%BB/",
         "malware",
         "9779.info",
         "info",
         null,
         0,
         false
        ],
        [
         "espn.go.com/college-football/team/_/id/2306/kansas-state-wildcats",
         "benign",
         "go.com",
         "com",
         "CSC Corporate Domains, Inc.",
         0,
         false
        ],
        [
         "bleacherreport.com/articles/811265-mlb-power-rankings-comparing-every-mlb-team-to-a-classic-80s-rock-band",
         "benign",
         "bleacherreport.com",
         "com",
         "The Bleacher Report, Inc.",
         3,
         true
        ],
        [
         "citiprepaid-salarysea-at.tk",
         "phishing",
         "citiprepaid-salarysea-at.tk",
         "tk",
         null,
         2,
         true
        ],
        [
         "famoushookups.com/site/relationship_detail.php?name=Martin-Brodeur&celebid=12150&relid=11371",
         "benign",
         "famoushookups.com",
         "com",
         "GoDaddy.com, LLC",
         0,
         false
        ],
        [
         "genealogybuff.com/ar/clark/webbbs_config.pl/noframes/read/10",
         "benign",
         "genealogybuff.com",
         "com",
         "REDACTED FOR PRIVACY",
         2,
         false
        ],
        [
         "microlabsltd.com/",
         "benign",
         "microlabsltd.com",
         "com",
         "BigRock Solutions Ltd",
         0,
         true
        ],
        [
         "tripadvisor.com/ShowUserReviews-g57417-d1013388-r21219909-Mulligan_s-Stratton_Mountain_Vermont.html",
         "benign",
         "tripadvisor.com",
         "com",
         "CSC Corporate Domains, Inc.",
         0,
         true
        ],
        [
         "http://www.smc-images.co.uk/images/index_hvoda_2311_10.html",
         "phishing",
         "smc-images.co.uk",
         "co.uk",
         null,
         1,
         false
        ],
        [
         "flickr.com/people/sleepingelf/",
         "benign",
         "flickr.com",
         "com",
         "GoDaddy Corporate Domains, LLC",
         0,
         false
        ],
        [
         "http://www.nabu-gaildorf.de/index.php?option=com_jevents&task=day.listevents&year=2013&month=01&day=01&Itemid=33",
         "defacement",
         "nabu-gaildorf.de",
         "de",
         null,
         1,
         false
        ],
        [
         "subscene.com/Taking-Woodstock/subtitles-80048.aspx",
         "benign",
         "subscene.com",
         "com",
         "NameCheap, Inc.",
         2,
         false
        ],
        [
         "http://kccs.nichost.ru/index.php?option=com_content&view=article&id=107:-24052012-213&catid=17:news&Itemid=35",
         "defacement",
         "nichost.ru",
         "ru",
         "JSC 'RU-CENTER'",
         0,
         false
        ],
        [
         "http://www.nubiafarias.com/v1/index.php?option=com_mailto&tmpl=component&link=b9f337d1ca40d09a113ab5ae6426a96e642fb2af",
         "defacement",
         "nubiafarias.com",
         "com",
         null,
         0,
         false
        ],
        [
         "http://thenextweb.com/insider/2014/10/29/unbabel-integrates-mailchimp-offer-translation-service-promotional-emails/gtm.js/gtm.start",
         "benign",
         "thenextweb.com",
         "com",
         "NameCheap, Inc.",
         3,
         false
        ],
        [
         "tabs.ultimate-guitar.com/a/audioslave/audioslave_album_btab.htm",
         "benign",
         "ultimate-guitar.com",
         "com",
         "PERFECT PRIVACY, LLC",
         1,
         true
        ],
        [
         "sunjournal.com/section/news/5974",
         "benign",
         "sunjournal.com",
         "com",
         "Network Solutions, LLC",
         0,
         false
        ],
        [
         "http://www.elektro-vozila.si/motocikli/novice/volta-bcn-city-je-elektricni-mestni-supermoto-iz-spanije",
         "defacement",
         "elektro-vozila.si",
         "si",
         "O960145",
         2,
         true
        ],
        [
         "ethicalsuperstore.com/products/green-and-blacks/organic-hot-chocolate-drink/?_$ja=tsid:6494%7Ccc:%7Cprd:12744%7Ccat:Groceries+%26+Everyday+%3E+Drinks+%3E+Chocolate",
         "benign",
         "ethicalsuperstore.com",
         "com",
         "REDACTED FOR PRIVACY",
         3,
         true
        ],
        [
         "lilliputreview.blogspot.com/2011/04/r-h-blyth-on-waka-and-haiku.html",
         "benign",
         "blogspot.com",
         "com",
         "Google LLC",
         0,
         false
        ],
        [
         "http://www.musimagen.com/lista_socios.php?pagina=15&letra=",
         "defacement",
         "musimagen.com",
         "com",
         "GDPR Masked",
         1,
         false
        ],
        [
         "basketball.wikia.com/wiki/Golden_State_Warriors",
         "benign",
         "wikia.com",
         "com",
         "Tucows Domains Inc.",
         0,
         false
        ],
        [
         "ech.cwru.edu/ech-cgi/article.pl?id=PGS",
         "benign",
         "cwru.edu",
         "edu",
         null,
         1,
         false
        ],
        [
         "filmaffinity.com/es/search.php?stype=cast&stext=Elliott+Gould",
         "benign",
         "filmaffinity.com",
         "com",
         "REDACTED FOR PRIVACY",
         0,
         true
        ],
        [
         "chicopeemasoniclodge.org/westover.htm",
         "benign",
         "chicopeemasoniclodge.org",
         "org",
         null,
         3,
         false
        ],
        [
         "filmcritic.com/features/2008/10/american-science-fiction-movies/",
         "benign",
         "filmcritic.com",
         "com",
         "Network Solutions, LLC",
         0,
         false
        ],
        [
         "geographic.org/geographic_names/v/ve_014.html",
         "benign",
         "geographic.org",
         "org",
         "Statutory Masking Enabled",
         1,
         false
        ],
        [
         "paperbackswap.com/Sadie-Rose-Adventure-Hilda-Stahl/book/0891076352/",
         "benign",
         "paperbackswap.com",
         "com",
         "REDACTED FOR PRIVACY",
         1,
         false
        ],
        [
         "baseball-almanac.com/players/player.php?p=hengeda01",
         "benign",
         "baseball-almanac.com",
         "com",
         "Network Solutions, LLC",
         1,
         false
        ],
        [
         "biographi.ca/EN/ShowBio.asp?BioId=41243",
         "benign",
         "biographi.ca",
         "ca",
         "Library and Archives of Canada",
         0,
         false
        ],
        [
         "deborahfrances-white.com/stand-up.html",
         "benign",
         "deborahfrances-white.com",
         "com",
         "REDACTED FOR PRIVACY",
         3,
         true
        ],
        [
         "spcmoray.com/",
         "benign",
         "spcmoray.com",
         "com",
         "Sav.com, LLC - 18",
         0,
         false
        ],
        [
         "http://sexshop-bg.biz/products?page=shop.browse&category_id=276",
         "defacement",
         "sexshop-bg.biz",
         "biz",
         null,
         1,
         false
        ],
        [
         "edu.gov.on.ca/eng/sift/indexSec.asp",
         "benign",
         "gov.on.ca",
         "on.ca",
         "His Majesty the King in right of Ontario, Treasury Board Secretariat",
         0,
         false
        ],
        [
         "benoitglazer.com/",
         "benign",
         "benoitglazer.com",
         "com",
         "Wild West Domains, LLC",
         2,
         true
        ],
        [
         "judgepedia.org/index.php/Alan_Gold",
         "benign",
         "judgepedia.org",
         "org",
         "Domains By Proxy, LLC",
         2,
         false
        ],
        [
         "http://mueblesjulianjimenez.es/index.php?page=shop.browse&category_id=14&option=com_virtuemart&Itemid=9",
         "defacement",
         "mueblesjulianjimenez.es",
         "es",
         null,
         5,
         false
        ],
        [
         "sbnation.com/ncaa-football/players/36729/brandon-smith",
         "benign",
         "sbnation.com",
         "com",
         "Identity Protection Service",
         0,
         true
        ],
        [
         "isearch.com/searching.php?qloc=&showForm=name&qname=Robin+Kelly&refer=3338",
         "benign",
         "isearch.com",
         "com",
         "CSC Corporate Domains, Inc.",
         1,
         false
        ],
        [
         "http://fischereiverein.org/bildergalerie/category/45-faenge-oktober-2010",
         "defacement",
         "fischereiverein.org",
         "org",
         "Bezirksfischereiverein Mühldorf - Altötting e. V.",
         4,
         false
        ],
        [
         "ratemyteachers.com/amelia-high-school/15131-s",
         "benign",
         "ratemyteachers.com",
         "com",
         "GoDaddy.com, LLC",
         3,
         true
        ],
        [
         "http://www.expatsalon.ru/index.php/2009-03-04-07-22-09/category/7-.html?start=20",
         "defacement",
         "expatsalon.ru",
         "ru",
         "OOO \"ExPat\"",
         1,
         true
        ],
        [
         "http://apoiojur.com.br/index.php?%2FTable%2FAdministrativo%2F",
         "defacement",
         "apoiojur.com.br",
         "com.br",
         "Sensu Publica��es Juridicas Ltda",
         0,
         false
        ],
        [
         "http://www.steffen-lemme.de/contact/berliner-buero/besuch-in-berlin",
         "defacement",
         "steffen-lemme.de",
         "de",
         null,
         5,
         false
        ],
        [
         "http://djsipke.nl/foto-album/1-cafedeknyp/detail/74-104.html?tmpl=component",
         "defacement",
         "djsipke.nl",
         "nl",
         "WebReus",
         1,
         false
        ],
        [
         "carfloormatsforsale.com/door-sill/",
         "benign",
         "carfloormatsforsale.com",
         "com",
         null,
         1,
         true
        ],
        [
         "http://www.harley-davidson-dijon.com/component/adsmanager/1-/737-",
         "defacement",
         "harley-davidson-dijon.com",
         "com",
         "REDACTED FOR PRIVACY",
         1,
         false
        ],
        [
         "facebook.com/pages/Liberman-Broadcasting/106123536086051?sk=info",
         "benign",
         "facebook.com",
         "com",
         "Meta Platforms, Inc.",
         1,
         false
        ],
        [
         "thefreelibrary.com/No+Catholic+schools+in+Quebec.-a030534573",
         "benign",
         "thefreelibrary.com",
         "com",
         "DATA REDACTED",
         3,
         true
        ],
        [
         "cngzhz.en.ec21.com/",
         "benign",
         "ec21.com",
         "com",
         "Gabia, Inc.",
         1,
         false
        ],
        [
         "atlasshrugs2000.typepad.com/atlas_shrugs/2007/08/your-black-musl.html",
         "benign",
         "typepad.com",
         "com",
         "Domain.com, LLC",
         1,
         true
        ],
        [
         "rotoworld.com/player/nhl/1413/player?r=1",
         "benign",
         "rotoworld.com",
         "com",
         "NBCUniversal Media, LLC",
         0,
         false
        ],
        [
         "facebook.com/topic.php?uid=34012632110&topic=5794",
         "benign",
         "facebook.com",
         "com",
         "Meta Platforms, Inc.",
         1,
         false
        ],
        [
         "tomdegan.blogspot.com/",
         "benign",
         "blogspot.com",
         "com",
         "MarkMonitor Inc.",
         0,
         false
        ],
        [
         "http://www.smartphone.net.br/index.php?option=com_content&view=article&id=66&Itemid=60&lang=pt",
         "defacement",
         "smartphone.net.br",
         "net.br",
         "Rog�rio Ferreira Zero",
         2,
         true
        ],
        [
         "http://www.annamodlo.com.ua/index.html",
         "defacement",
         "annamodlo.com.ua",
         "com.ua",
         null,
         0,
         false
        ],
        [
         "http://codecanyon.net/item/hide-my-joomla-hide-your-source-links/full_screen_preview/8988449",
         "benign",
         "codecanyon.net",
         "net",
         "Shutterstock, Inc.",
         2,
         true
        ],
        [
         "cswisdom.com/",
         "benign",
         "cswisdom.com",
         "com",
         "GoDaddy.com, LLC",
         0,
         false
        ],
        [
         "http://www.aquamarinadivingtenerife.com/en/sites-of-interest.html",
         "defacement",
         "aquamarinadivingtenerife.com",
         "com",
         "REDACTED FOR PRIVACY",
         3,
         true
        ],
        [
         "http://www.lafavoritacb.com/index.php?option=com_content&view=article&id=107:horarioinvierno&catid=43:articulos&Itemid=77",
         "defacement",
         "lafavoritacb.com",
         "com",
         "REDACTED FOR PRIVACY",
         0,
         true
        ],
        [
         "ibabuzz.com/outtakes/category/night-owl/crown-city-rockers/",
         "benign",
         "ibabuzz.com",
         "com",
         "CSC Corporate Domains, Inc.",
         0,
         false
        ],
        [
         "youtube.com/watch?v=ueziUAQR9LU",
         "benign",
         "youtube.com",
         "com",
         "MarkMonitor Inc.",
         1,
         false
        ],
        [
         "en.wikipedia.org/wiki/Simonne_Monet-Chartrand",
         "benign",
         "wikipedia.org",
         "org",
         "Wikimedia Foundation, Inc.",
         1,
         false
        ],
        [
         "http://www.sidecocarrelli.it/x.txt",
         "defacement",
         "sidecocarrelli.it",
         "it",
         null,
         2,
         true
        ],
        [
         "http://www.metalsul.ind.br/site/index.php?option=com_morfeoshow&Itemid=",
         "defacement",
         "metalsul.ind.br",
         "ind.br",
         "Flaje Ferramentaria Ltda - Me",
         1,
         true
        ],
        [
         "martindale.com/Brett-Donald-McIntosh/834737-lawyer.htm",
         "benign",
         "martindale.com",
         "com",
         "Register.com - Network Solutions, LLC",
         1,
         true
        ],
        [
         "frillr.com/?q=taxonomy/term/1733",
         "benign",
         "frillr.com",
         "com",
         "GoDaddy.com, LLC",
         0,
         false
        ],
        [
         "bankingblog.celent.com/?p=2493",
         "benign",
         "celent.com",
         "com",
         "REDACTED FOR PRIVACY",
         2,
         false
        ],
        [
         "en.wikipedia.org/wiki/Category:American_religious_leaders",
         "benign",
         "wikipedia.org",
         "org",
         "Wikimedia Foundation, Inc.",
         1,
         false
        ],
        [
         "narrativemagazine.com/authors/saul-bellow",
         "benign",
         "narrativemagazine.com",
         "com",
         "PrivacyGuardian.org llc",
         2,
         true
        ],
        [
         "benmeadowcroft.com/reports/corbato/",
         "benign",
         "benmeadowcroft.com",
         "com",
         "Amazon Registrar, Inc.",
         2,
         true
        ],
        [
         "spokeo.com/Mike+Burrows",
         "benign",
         "spokeo.com",
         "com",
         "REDACTED FOR PRIVACY",
         1,
         false
        ],
        [
         "http://otomoto.pl/ciezarowe/EW4Hou_aN610rPsocimkJ_IuLBofatBy4b0MLqoh7Lf.B7/JOcK7gzdoyrcIT2176iLzhCz8UoPOGcT6Y1ax8FNTPf.l7",
         "benign",
         "otomoto.pl",
         "pl",
         "Corporation Service Company",
         0,
         false
        ],
        [
         "youtube.com/watch?v=FXWq7qMYB2s",
         "benign",
         "youtube.com",
         "com",
         "MarkMonitor Inc.",
         1,
         false
        ],
        [
         "cifstate.org/",
         "benign",
         "cifstate.org",
         "org",
         "Domains By Proxy, LLC",
         1,
         true
        ],
        [
         "nchsband.com/",
         "benign",
         "nchsband.com",
         "com",
         "Network Solutions, LLC",
         0,
         false
        ],
        [
         "tvguide.com/celebrities/peter-keleghan/169984",
         "benign",
         "tvguide.com",
         "com",
         "Tucows Domains Inc.",
         1,
         false
        ],
        [
         "arstechnica.com/apple/news/2011/07/how-charlie-miller-discovered-the-apple-battery-hackhow-a-security-researcher-discovered-the-apple-battery-hack.ars",
         "benign",
         "arstechnica.com",
         "com",
         "CSC Corporate Domains, Inc.",
         1,
         true
        ],
        [
         "blog.metmuseum.org/penandparchment/tag/hours-of-jeanne-devreux/",
         "benign",
         "metmuseum.org",
         "org",
         "The Metropolitan Museum of Art",
         2,
         false
        ],
        [
         "divacafe.net/",
         "benign",
         "divacafe.net",
         "net",
         null,
         2,
         true
        ],
        [
         "archive.org/stream/lifeofmaryqueeno00headuoft/lifeofmaryqueeno00headuoft_djvu.txt",
         "benign",
         "archive.org",
         "org",
         "Internet Archive",
         1,
         false
        ],
        [
         "http://buzzfil.net/article/5646/animaux/on-dirait-une-attaque-mais-la-realite-en-est-tout-autre-3.html?href=inner_website",
         "benign",
         "buzzfil.net",
         "net",
         "REDACTED FOR PRIVACY",
         1,
         false
        ],
        [
         "http://portal.dddgaming.com/docs/rules/15022/cn/game_cn.html?amluMjAxNQ%3D%3D",
         "malware",
         "dddgaming.com",
         "com",
         "GoDaddy.com, LLC",
         0,
         false
        ],
        [
         "manta.com/c/mmq1m7y/coldwell-banker-heart-america",
         "benign",
         "manta.com",
         "com",
         "Amazon Registrar, Inc.",
         0,
         true
        ],
        [
         "superpages.com/bp/Milford-OH/Cliff-Riley-Insurance-L0125750056.htm",
         "benign",
         "superpages.com",
         "com",
         "CSC Corporate Domains, Inc.",
         2,
         false
        ],
        [
         "ideas.repec.org/e/ppe73.html",
         "benign",
         "repec.org",
         "org",
         "REDACTED",
         2,
         false
        ],
        [
         "http://www.school91.kiev.ua/index.php?option=com_content&view=category&layout=blog&id=38&Itemid=57",
         "defacement",
         "school91.kiev.ua",
         "kiev.ua",
         null,
         1,
         false
        ],
        [
         "flickr.com/photos/cornforthimages/5812399737/",
         "benign",
         "flickr.com",
         "com",
         "GoDaddy Corporate Domains, LLC",
         0,
         false
        ],
        [
         "http://djkatrina.ru/sobytiya/meropriyatiya/klub-prime-otkryvaetsya-posle-remonta-i-razdaet-podarki.html",
         "defacement",
         "djkatrina.ru",
         "ru",
         "R01-RU",
         0,
         true
        ],
        [
         "national.citysearch.com/profile/45753728/vacaville_ca/fentons_creamery.html",
         "benign",
         "citysearch.com",
         "com",
         "CSC Corporate Domains, Inc.",
         1,
         true
        ],
        [
         "http://yourlust.com/videos/tight-euro-teen-anna-gets-properly-fucked-on-the-floor.html",
         "benign",
         "yourlust.com",
         "com",
         "Whois Privacy (enumDNS dba)",
         0,
         false
        ],
        [
         "nytimes.com/pages/books/index.html",
         "benign",
         "nytimes.com",
         "com",
         "MarkMonitor Inc.",
         1,
         false
        ],
        [
         "legendsofhockey.net/LegendsOfHockey/jsp/SearchPlayer.jsp?player=10372",
         "benign",
         "legendsofhockey.net",
         "net",
         "DATA REDACTED",
         4,
         false
        ],
        [
         "http://szgs.ru/information-for-you/interesting-articles/13-2008-08-04-06-37-10.html",
         "defacement",
         "szgs.ru",
         "ru",
         "RU-CENTER-RU",
         0,
         false
        ],
        [
         "http://www.sandroecicero.com.br/index.php?option=com_content&view=article&id=1&Itemid=3&vsig1_0=18",
         "defacement",
         "sandroecicero.com.br",
         "com.br",
         "Sandro & C�cero",
         2,
         false
        ],
        [
         "homegain.com/local_real_estate/ND/argusville.html",
         "benign",
         "homegain.com",
         "com",
         "GoDaddy.com, LLC",
         1,
         false
        ],
        [
         "http://9779.info/%E7%AE%80%E5%8D%95%E6%8A%98%E7%BA%B8%E7%B2%98%E8%B4%B4%E7%94%BB/",
         "malware",
         "9779.info",
         "info",
         null,
         0,
         false
        ],
        [
         "http://noticias.uol.com.br/album/bbc/2015/04/01/obras-de-anel-rodoviario-de-r-68-bilhoes-afetam-rios-e-nascentes-em-sp.htm",
         "benign",
         "uol.com.br",
         "com.br",
         "Universo Online S.A.",
         0,
         false
        ],
        [
         "theglobeandmail.com/news/opinions/editorials/in-the-commons-the-kids-are-alright/article2011610/",
         "benign",
         "theglobeandmail.com",
         "com",
         "The Globe and Mail Limited",
         2,
         true
        ],
        [
         "bw.edu/athletics/fb/staff/grabowski/",
         "benign",
         "bw.edu",
         "edu",
         null,
         1,
         false
        ],
        [
         "appieid-enable.com",
         "phishing",
         "appieid-enable.com",
         "com",
         null,
         3,
         false
        ],
        [
         "fadsplymouth.com/",
         "benign",
         "fadsplymouth.com",
         "com",
         "GoDaddy.com, LLC",
         0,
         true
        ],
        [
         "locatetv.com/tv/ellen-degeneres-show/1964142/episode-guide",
         "benign",
         "locatetv.com",
         "com",
         "MarkMonitor Inc.",
         1,
         true
        ],
        [
         "imdb.com/name/nm0769371/",
         "benign",
         "imdb.com",
         "com",
         "MarkMonitor Inc.",
         0,
         false
        ],
        [
         "scotborders-folk.org.uk/labels.htm",
         "benign",
         "scotborders-folk.org.uk",
         "org.uk",
         "Team Blue Internet Services UK Limited [Tag = NAMESCO]",
         1,
         false
        ],
        [
         "visa.ca/gvav/list2005.jsp?year=2005&curMonth=12",
         "benign",
         "visa.ca",
         "ca",
         "Visa Canada Corporation",
         0,
         false
        ],
        [
         "autopostoajax.com.br",
         "phishing",
         "autopostoajax.com.br",
         "com.br",
         null,
         0,
         true
        ],
        [
         "en.wikipedia.org/wiki/Party_of_One_(Peter_Elkas_album)",
         "benign",
         "wikipedia.org",
         "org",
         "Wikimedia Foundation, Inc.",
         1,
         false
        ],
        [
         "http://kienthuc.net.vn/diem-thi/diem-chuan-dai-hoc-bach-khoa-ha-noi-nam-2014-487293.html",
         "benign",
         "kienthuc.net.vn",
         "net.vn",
         null,
         2,
         false
        ],
        [
         "http://pikabu.ru/tag/%D0%BC%D0%B8%D0%BD%D0%B8%D0%BC%D0%B0%D0%BB%D0%B8%D0%B7%D0%BC/hot",
         "benign",
         "pikabu.ru",
         "ru",
         "Limited liability company \"Pikabu\"",
         0,
         false
        ],
        [
         "http://www.ekino-neureut.de/index.php?option=com_content&view=article&id=15&Itemid=15",
         "defacement",
         "ekino-neureut.de",
         "de",
         null,
         4,
         false
        ],
        [
         "http://www.rockabilly.it/gruppi/52-four-stars.html",
         "defacement",
         "rockabilly.it",
         "it",
         "Rockabilly di Residori Luca",
         0,
         true
        ],
        [
         "http://www.rathgaelgym.org/squads/mag.1",
         "defacement",
         "rathgaelgym.org",
         "org",
         "GDPR Masked",
         1,
         true
        ],
        [
         "absoluteastronomy.com/topics/Legion_of_Merit",
         "benign",
         "absoluteastronomy.com",
         "com",
         "Domain.com, LLC",
         1,
         true
        ],
        [
         "thaiairways.com/",
         "benign",
         "thaiairways.com",
         "com",
         "Amazon Registrar, Inc.",
         0,
         true
        ],
        [
         "famouspeople.com/famous_biographies/Lizzie_Stanton.htm",
         "benign",
         "famouspeople.com",
         "com",
         "GoDaddy.com, LLC",
         2,
         false
        ],
        [
         "triclopsband.com/",
         "benign",
         "triclopsband.com",
         "com",
         "Sav.com, LLC - 18",
         0,
         true
        ],
        [
         "mp3raid.com/music/lo_key.html",
         "benign",
         "mp3raid.com",
         "com",
         "GoDaddy.com, LLC",
         0,
         false
        ],
        [
         "amtrakcalifornia.com/index.cfm/routes/san-joaquin/",
         "benign",
         "amtrakcalifornia.com",
         "com",
         "DreamHost, LLC",
         0,
         true
        ],
        [
         "4martinique.com/",
         "benign",
         "4martinique.com",
         "com",
         null,
         1,
         true
        ],
        [
         "http://apoiojur.com.br/index.php?%2FNoticias%2Fnoticias.html",
         "defacement",
         "apoiojur.com.br",
         "com.br",
         "Sensu Publica��es Juridicas Ltda",
         0,
         false
        ],
        [
         "http://extratorrent.cc/torrent/4189694/Linux+User+%26+Developer+-+50+Critical+Fixes+%28Issue+152%2C+2015%29.html",
         "benign",
         "extratorrent.cc",
         "cc",
         "Tucows Domains Inc.",
         2,
         true
        ],
        [
         "http://www.graz4u.at/de/produkte/187-high-level-e-mail-security.html",
         "defacement",
         "graz4u.at",
         "at",
         "graz4u.at",
         0,
         true
        ],
        [
         "dwaynemeisner.com/",
         "benign",
         "dwaynemeisner.com",
         "com",
         "NameCheap, Inc.",
         3,
         false
        ],
        [
         "linkedin.com/pub/john-barkley/7/764/916",
         "benign",
         "linkedin.com",
         "com",
         "MarkMonitor Inc.",
         1,
         false
        ],
        [
         "flyershistory.com/cgi-bin/b-player.cgi?Bernie_Parent",
         "benign",
         "flyershistory.com",
         "com",
         "Tucows Domains Inc.",
         1,
         false
        ],
        [
         "http://www.richpictures.co.uk/home/viewpost/232",
         "defacement",
         "richpictures.co.uk",
         "co.uk",
         "Fasthosts Internet Ltd [Tag = LIVEDOMAINS]",
         1,
         false
        ],
        [
         "topix.com/ca/montreal-qc-montreal-nord",
         "benign",
         "topix.com",
         "com",
         "Network Solutions, LLC",
         0,
         false
        ],
        [
         "http://9779.info/%E5%B9%BC%E5%84%BF%E7%B2%BD%E5%8F%B6%E8%B4%B4%E7%94%BB/",
         "malware",
         "9779.info",
         "info",
         null,
         0,
         false
        ],
        [
         "trssllc.com/",
         "benign",
         "trssllc.com",
         "com",
         "GoDaddy.com, LLC",
         0,
         false
        ],
        [
         "allgame.com/game.php?id=39396",
         "benign",
         "allgame.com",
         "com",
         "Domain Protection Services, Inc.",
         1,
         false
        ],
        [
         "renerichardcollections.com/media.html",
         "benign",
         "renerichardcollections.com",
         "com",
         "DreamHost, LLC",
         3,
         true
        ],
        [
         "securityfirstinternationalholdings.com/",
         "benign",
         "securityfirstinternationalholdings.com",
         "com",
         null,
         2,
         true
        ],
        [
         "factbites.com/topics/Leyte",
         "benign",
         "factbites.com",
         "com",
         "Network Solutions, LLC",
         1,
         true
        ],
        [
         "car-stuff.com/pontiacgrandprixparts.htm",
         "benign",
         "car-stuff.com",
         "com",
         null,
         0,
         true
        ],
        [
         "usa-people-search.com/Find-Steven-Schwartz-CO.aspx",
         "benign",
         "usa-people-search.com",
         "com",
         null,
         3,
         false
        ],
        [
         "muhanovabeauty.ru",
         "phishing",
         "muhanovabeauty.ru",
         "ru",
         null,
         1,
         true
        ],
        [
         "http://www.simmeurope.com/index.php?view=article&id=23:budget-economique-exploratoire-pour-lannee-2012&tmpl=component&print=1&layout=default&page=&option=com_content&Itemid=48",
         "defacement",
         "simmeurope.com",
         "com",
         null,
         2,
         false
        ],
        [
         "en.wordpress.com/tag/j-pop/",
         "benign",
         "wordpress.com",
         "com",
         "MarkMonitor Inc.",
         1,
         false
        ],
        [
         "pinoyexchange.com/forums/archive/index.php/t-194687.html",
         "benign",
         "pinoyexchange.com",
         "com",
         "Network Solutions, LLC",
         2,
         false
        ],
        [
         "classicflix.com/buster-keaton-shorts-collection-bluray-1920-1923-p-11169.html",
         "benign",
         "classicflix.com",
         "com",
         "Network Solutions, LLC",
         0,
         false
        ],
        [
         "http://spplodz.nazwa.pl/archiwum/2006_08b.php",
         "defacement",
         "nazwa.pl",
         "pl",
         "nazwa.pl sp. z o.o.",
         0,
         false
        ],
        [
         "vodacom.co.za/",
         "benign",
         "vodacom.co.za",
         "co.za",
         "IPTWINS",
         0,
         false
        ],
        [
         "http://www.bertilohlsson.com/de/component/user/login?return=aHR0cDovL3d3dy5iZXJ0aWxvaGxzc29uLmNvbS9iaWxkZXJnYWxlcmllL2tsYXNzaXNjaGUtZG9zZW4vcnVuZGUtZm9ybT9sYW5nPWRl",
         "defacement",
         "bertilohlsson.com",
         "com",
         "HOSTINGER operations, UAB",
         1,
         false
        ],
        [
         "uwsuper.edu/alumni/halloffame/individuals.cfm",
         "benign",
         "uwsuper.edu",
         "edu",
         null,
         2,
         false
        ],
        [
         "http://www.besztercekk.hu/index.php?option=com_lr&view=stadium&id=1&Itemid=162",
         "defacement",
         "besztercekk.hu",
         "hu",
         null,
         3,
         false
        ],
        [
         "suite.tekora.com/i/philippecoupjambet",
         "benign",
         "tekora.com",
         "com",
         "Name Operator LLC",
         1,
         true
        ],
        [
         "medicine.mcgill.ca/radiology/home_teachinghospitals.htm",
         "benign",
         "mcgill.ca",
         "ca",
         "Spiro Mitsialis",
         0,
         false
        ],
        [
         "http://gizmodo.com/one-year-after-the-first-snowden-leak-whats-really-cha-1586213046/all",
         "benign",
         "gizmodo.com",
         "com",
         "REDACTED FOR PRIVACY",
         0,
         false
        ],
        [
         "jbmfilms.com/",
         "benign",
         "jbmfilms.com",
         "com",
         "GoDaddy.com, LLC",
         0,
         false
        ],
        [
         "http://www.manganellipalace.it/de/willkommen-bei.html",
         "defacement",
         "manganellipalace.it",
         "it",
         "manganelli palace - progetto turismo Srl",
         2,
         true
        ],
        [
         "en.wikipedia.org/wiki/Southeast_High_School_(Kansas_City%2C_Missouri)",
         "benign",
         "wikipedia.org",
         "org",
         "Wikimedia Foundation, Inc.",
         1,
         false
        ],
        [
         "infopig.com/news/12-08-2009.html",
         "benign",
         "infopig.com",
         "com",
         "Network Solutions, LLC",
         0,
         false
        ],
        [
         "http://uproxx.com/dimemag/2015/05/lebron-instagram-like-wants-to-leave-school-to-be-model-she-shouldnt/",
         "benign",
         "uproxx.com",
         "com",
         "GoDaddy.com, LLC",
         0,
         false
        ],
        [
         "linkedin.com/pub/tim-stepanski/18/319/149",
         "benign",
         "linkedin.com",
         "com",
         "MarkMonitor Inc.",
         1,
         false
        ],
        [
         "deafresources.info/",
         "benign",
         "deafresources.info",
         "info",
         null,
         3,
         false
        ],
        [
         "http://web.tv/liveCategory/17/language/1/index/changeLanguage/newshared/searchAutoComplete",
         "benign",
         "web.tv",
         "tv",
         "Registry Services, LLC",
         1,
         false
        ],
        [
         "juggle.com/gary-pettis",
         "benign",
         "juggle.com",
         "com",
         "GoDaddy.com, LLC",
         1,
         false
        ],
        [
         "weather.noaa.gov/weather/TX_cc_us.html",
         "benign",
         "noaa.gov",
         "gov",
         "REDACTED FOR PRIVACY",
         0,
         false
        ],
        [
         "http://www.sikobv.eu/nl/component/mailto/index.html?tmpl=component&link=aHR0cDovL3d3dy5zaWtvYnYuZXUvbmwvY29tcG9uZW50L2NvbnRlbnQvYXJ0aWNsZS8yLXZvb3JwYWdpbmEtdGFiLzI0MC1kZWxvLW5ldy1jYXJ0cmlkZ2Utc3lzdGVtLmh0bWw=",
         "defacement",
         "sikobv.eu",
         "eu",
         "Hostnet bv",
         1,
         false
        ],
        [
         "http://midas-medical.com/products/electrocardiographecg/cardio-max-series/cardio-max-cm-03c/index.html",
         "defacement",
         "midas-medical.com",
         "com",
         "Alibaba Cloud Computing (Beijing) Co., Ltd.",
         1,
         false
        ],
        [
         "rcarpe95.beget.tech",
         "phishing",
         "beget.tech",
         "tech",
         "Beget LLC",
         3,
         false
        ],
        [
         "answers.com/topic/the-northern-pikes",
         "benign",
         "answers.com",
         "com",
         "Whois Privacy Protection Service, Inc.",
         1,
         false
        ],
        [
         "http://www.kommunalbit.de/index.php?option=com_content&view=section&id=5&Itemid=14",
         "defacement",
         "kommunalbit.de",
         "de",
         null,
         1,
         true
        ],
        [
         "http://www.galerie-unterm-maulbeerbaum.de/index.php?option=com_content&view=article&id=58&Itemid=57",
         "defacement",
         "galerie-unterm-maulbeerbaum.de",
         "de",
         null,
         6,
         true
        ],
        [
         "http://fb.com.accounts.login.userid.343441.fbsbk.com/",
         "phishing",
         "fbsbk.com",
         "com",
         null,
         0,
         false
        ],
        [
         "uk.ask.com/wiki/Lou_Holtz",
         "benign",
         "ask.com",
         "com",
         "MarkMonitor Inc.",
         0,
         false
        ],
        [
         "adsoftheworld.com/profile/profile_country/Egypt?page=4",
         "benign",
         "adsoftheworld.com",
         "com",
         "REDACTED FOR PRIVACY",
         1,
         true
        ],
        [
         "lifeskate.com/skate/2009/01/jessica-dub%C3%A9-and-bryce-davison-win-pairs-event-at-2009-canadian-figure-skating-championships.html",
         "benign",
         "lifeskate.com",
         "com",
         "Amazon Registrar, Inc.",
         2,
         true
        ],
        [
         "flixster.com/actor/tyrone-benskin",
         "benign",
         "flixster.com",
         "com",
         "MarkMonitor Inc.",
         1,
         false
        ],
        [
         "basil-poledouris.thelyricarchive.com/lonesome-dove/",
         "benign",
         "thelyricarchive.com",
         "com",
         "Private Person",
         2,
         true
        ],
        [
         "monettecn.multiply.com/contacts",
         "benign",
         "multiply.com",
         "com",
         "Whois Privacy Protection Service, Inc.",
         0,
         false
        ],
        [
         "collegehockeynews.com/news/2010/03/13_quinnipiac.php",
         "benign",
         "collegehockeynews.com",
         "com",
         "GoDaddy.com, LLC",
         4,
         false
        ],
        [
         "summitconnects.com/In_the_News/ARCHIVE/2005_06.htm",
         "benign",
         "summitconnects.com",
         "com",
         "Network Solutions, LLC",
         1,
         false
        ],
        [
         "http://yourlust.com/videos/frantic-european-blondie-rocks-the-show-with-masturbation-solo.html",
         "benign",
         "yourlust.com",
         "com",
         "Whois Privacy (enumDNS dba)",
         0,
         false
        ],
        [
         "dailymotion.com/video/x3ytl9_wcw-superbrawl-1998-part-1_sport",
         "benign",
         "dailymotion.com",
         "com",
         "DAILYMOTION",
         0,
         true
        ],
        [
         "imdb.com/name/nm0056924/",
         "benign",
         "imdb.com",
         "com",
         "MarkMonitor Inc.",
         0,
         false
        ],
        [
         "wn.com/De_La_Rue",
         "benign",
         "wn.com",
         "com",
         "NameCheap, Inc.",
         0,
         false
        ],
        [
         "ehow.com/list_7588256_solar-panel-manufacturing-companies.html",
         "benign",
         "ehow.com",
         "com",
         "TechnologyAdvice",
         1,
         false
        ],
        [
         "http://www.smos.cn/Case.asp?id=14",
         "defacement",
         "smos.cn",
         "cn",
         "成都思默思科技有限责任公司",
         0,
         false
        ],
        [
         "prnewswire.com/news-releases/reportlinker-adds-the-top-10-confectionery-companies-84485407.html",
         "benign",
         "prnewswire.com",
         "com",
         "CSC Corporate Domains, Inc.",
         2,
         false
        ],
        [
         "sanfranciscobay.sierraclub.org/",
         "benign",
         "sierraclub.org",
         "org",
         "Domains By Proxy, LLC",
         1,
         false
        ],
        [
         "http://www.nissad.com/nissad-contact.html",
         "defacement",
         "nissad.com",
         "com",
         "GDPR Masked",
         0,
         false
        ],
        [
         "myspace.com/amyryan07",
         "benign",
         "myspace.com",
         "com",
         "GoDaddy.com, LLC",
         1,
         false
        ],
        [
         "http://www.whitminsterinn.co.uk/specialevents/calendar-day/03/01/2013",
         "defacement",
         "whitminsterinn.co.uk",
         "co.uk",
         "Team Blue Internet Services UK Limited [Tag = LCN]",
         1,
         false
        ],
        [
         "placesforafrica.com/exdeo/directions.php",
         "benign",
         "placesforafrica.com",
         "com",
         "GoDaddy.com, LLC",
         1,
         false
        ],
        [
         "hmckc.maestroweb.com/",
         "benign",
         "maestroweb.com",
         "com",
         "Network Solutions, LLC",
         2,
         true
        ],
        [
         "titaniumcorporate.co.za",
         "phishing",
         "titaniumcorporate.co.za",
         "co.za",
         "xneelo (Pty) Ltd",
         1,
         true
        ],
        [
         "poemhunter.com/poem/the-ten-lepers/",
         "benign",
         "poemhunter.com",
         "com",
         "Privacy service provided by Withheld for Privacy ehf",
         2,
         false
        ],
        [
         "fanpop.com/spots/jun-matsumoto/images",
         "benign",
         "fanpop.com",
         "com",
         "Network Solutions, LLC",
         0,
         false
        ],
        [
         "facecouncil.org/",
         "benign",
         "facecouncil.org",
         "org",
         "REDACTED",
         1,
         false
        ],
        [
         "factmonster.com/ce6/people/A0809182.html",
         "benign",
         "factmonster.com",
         "com",
         "CSC Corporate Domains, Inc.",
         1,
         true
        ],
        [
         "mylife.com/c-2123302385",
         "benign",
         "mylife.com",
         "com",
         "Network Solutions, LLC",
         1,
         false
        ],
        [
         "barnesandnoble.com/w/hero-living-rudy-reyes/1100173214",
         "benign",
         "barnesandnoble.com",
         "com",
         "CSC Corporate Domains, Inc.",
         2,
         false
        ],
        [
         "facebook.com/pages/Sergio-Vitanza-Belgrave/179652016207",
         "benign",
         "facebook.com",
         "com",
         "Meta Platforms, Inc.",
         1,
         false
        ],
        [
         "jigsaw.com/scid5327852/peter_m_blaikie.xhtml",
         "benign",
         "jigsaw.com",
         "com",
         "MarkMonitor Inc.",
         0,
         false
        ],
        [
         "http://rt.com/in-vision/oles-buzina-last-respects/assassinated-oles-journalist-buzina/",
         "benign",
         "rt.com",
         "com",
         "ANO TV-Novosti",
         0,
         false
        ],
        [
         "http://grasslandhotel.com.vn/index.php/component/djcatalog2/items/6-services",
         "malware",
         "grasslandhotel.com.vn",
         "com.vn",
         null,
         1,
         true
        ],
        [
         "http://torcache.net/torrent/2463A34D382BCD98F471FB5A7F028D2B49EBE011.torrent?title=[kickass.to]vmware.workstation.9.0.2.build.1031769.final.serial",
         "benign",
         "torcache.net",
         "net",
         "Jewella Privacy LLC Privacy ID# 1183090",
         2,
         true
        ],
        [
         "ihavenet.com/nfl-2008-new-york-giants-aim-to-repeat-as-NFL-champions.html",
         "benign",
         "ihavenet.com",
         "com",
         "GoDaddy.com, LLC",
         2,
         true
        ],
        [
         "ca.linkedin.com/pub/daniel-belanger/15/b37/b62",
         "benign",
         "linkedin.com",
         "com",
         "MarkMonitor Inc.",
         1,
         false
        ],
        [
         "2merkato.com/20110920355/afdb-to-co-finance-ethiopian-power-line-to-kenya",
         "benign",
         "2merkato.com",
         "com",
         "NameCheap, Inc.",
         1,
         true
        ],
        [
         "http://totallifechurchjax.com/index.php?option=com_content&view=article&id=182:may-29-teamwork-episode-07&catid=66:teamwork",
         "defacement",
         "totallifechurchjax.com",
         "com",
         null,
         1,
         true
        ],
        [
         "jdcarr.com/forsale.htm",
         "benign",
         "jdcarr.com",
         "com",
         "NameCheap, Inc.",
         0,
         false
        ],
        [
         "lyrics.com/cant-hold-us-down-lyrics-christina-aguilera.html",
         "benign",
         "lyrics.com",
         "com",
         "GoDaddy.com, LLC",
         0,
         false
        ],
        [
         "croonet.com/start/G_NDg4MDQwMQ%3D%3D/",
         "benign",
         "croonet.com",
         "com",
         null,
         1,
         false
        ],
        [
         "http://www.dolcevino.it/index.php?option=com_contact&view=contact&id=3&Itemid=111",
         "defacement",
         "dolcevino.it",
         "it",
         "NVA Online Advertising BV",
         1,
         false
        ],
        [
         "http://9779.info/%E4%BA%94%E8%B0%B7%E6%9D%82%E7%B2%AE%E4%BA%BA%E7%89%A9%E7%B2%98%E8%B4%B4%E7%94%BB/",
         "malware",
         "9779.info",
         "info",
         null,
         0,
         false
        ],
        [
         "soloautotuning.com/nissan-juke/",
         "benign",
         "soloautotuning.com",
         "com",
         null,
         0,
         true
        ],
        [
         "http://danielfabri.com.ar/mapa-del-sitio/index.html",
         "defacement",
         "danielfabri.com.ar",
         "com.ar",
         "FABRI DANIEL PABLO",
         1,
         false
        ],
        [
         "totalwrestlinguk.co.uk/wcw-ppv.php",
         "benign",
         "totalwrestlinguk.co.uk",
         "co.uk",
         null,
         1,
         true
        ],
        [
         "armchairgm.wikia.com/1957_NCAA_Men%27s_Division_I_Basketball_Tournament",
         "benign",
         "wikia.com",
         "com",
         "Tucows Domains Inc.",
         0,
         false
        ],
        [
         "facebook.com/TheLateLateShowwithCraigFerguson?filter=3",
         "benign",
         "facebook.com",
         "com",
         "Meta Platforms, Inc.",
         1,
         false
        ],
        [
         "baseball-almanac.com/teamstats/roster.php?y=1985&t=MON",
         "benign",
         "baseball-almanac.com",
         "com",
         "Network Solutions, LLC",
         1,
         false
        ],
        [
         "alibris.com/search/books/author/Pratt%2C%20Fletcher",
         "benign",
         "alibris.com",
         "com",
         "GoDaddy.com, LLC",
         0,
         false
        ],
        [
         "smartshoppingmontreal.com/store.php?s=146",
         "benign",
         "smartshoppingmontreal.com",
         "com",
         "Tucows Domains Inc.",
         1,
         true
        ],
        [
         "http://elitedaily.com/entertainment/film/uncle-wears-princess-dress-movie-niece/976238/",
         "benign",
         "elitedaily.com",
         "com",
         "Identity Protection Service",
         2,
         true
        ],
        [
         "dipity.com/timeline/NTSB-FedEx-Crash/",
         "benign",
         "dipity.com",
         "com",
         "GoDaddy.com, LLC",
         0,
         false
        ],
        [
         "facebook.com/pages/London-Ice-Dawgs-Youth-Hockey-Club/221260881220211",
         "benign",
         "facebook.com",
         "com",
         "Meta Platforms, Inc.",
         1,
         false
        ],
        [
         "http://bjgdhm.com/cn/product.asp?id_code=0007",
         "defacement",
         "bjgdhm.com",
         "com",
         null,
         0,
         false
        ],
        [
         "legendsofhockey.net/LegendsOfHockey/jsp/SearchPlayer.jsp?player=18648",
         "benign",
         "legendsofhockey.net",
         "net",
         "DATA REDACTED",
         4,
         false
        ],
        [
         "kalamu.com/bol/2008/04/14/kevin-mahogany-%e2%80%9cjust-my-imagination%e2%80%9d/",
         "benign",
         "kalamu.com",
         "com",
         "GoDaddy.com, LLC",
         0,
         false
        ],
        [
         "baltimorebeatdown.com/2010/4/20/1433515/baltimore-ravens-2010-schedule",
         "benign",
         "baltimorebeatdown.com",
         "com",
         "Identity Protection Service",
         2,
         true
        ],
        [
         "mylife.com/roygiff",
         "benign",
         "mylife.com",
         "com",
         "Network Solutions, LLC",
         1,
         false
        ],
        [
         "linkedin.com/pub/dir/chris/benoit",
         "benign",
         "linkedin.com",
         "com",
         "MarkMonitor Inc.",
         1,
         false
        ],
        [
         "http://www.suiteorchestra.it/index.php?option=com_content&view=article&id=91:i-flauti&catid=38:rokstories&lang=it&Itemid=",
         "defacement",
         "suiteorchestra.it",
         "it",
         null,
         2,
         true
        ],
        [
         "http://rendeck.com/index.php/en/services/consultancy/joint-technology-selection",
         "defacement",
         "rendeck.com",
         "com",
         null,
         2,
         false
        ],
        [
         "youtube.com/watch?v=AEXM7LxEwig",
         "benign",
         "youtube.com",
         "com",
         "MarkMonitor Inc.",
         1,
         false
        ],
        [
         "sydsarthaus.com",
         "phishing",
         "sydsarthaus.com",
         "com",
         null,
         0,
         true
        ],
        [
         "http://icomtec.com.my/westpac.au/login.westpac.au/update.billing/information/westpac.au/index.html",
         "phishing",
         "icomtec.com.my",
         "com.my",
         null,
         1,
         false
        ],
        [
         "afugowe.com",
         "phishing",
         "afugowe.com",
         "com",
         null,
         1,
         false
        ],
        [
         "allposters.co.uk/-st/Tessier-Posters_c82413_.htm",
         "benign",
         "allposters.co.uk",
         "co.uk",
         "Wal-Mart Stores, Inc.",
         1,
         true
        ],
        [
         "montrealselectlimo.com/",
         "benign",
         "montrealselectlimo.com",
         "com",
         "GoDaddy.com, LLC",
         3,
         true
        ],
        [
         "wiley.com/bw/editors.asp?ref=1098-1616",
         "benign",
         "wiley.com",
         "com",
         "GoDaddy Corporate Domains, LLC",
         1,
         false
        ],
        [
         "theposselist.com/agencies/indiana/indianapolis/",
         "benign",
         "theposselist.com",
         "com",
         "GoDaddy.com, LLC",
         2,
         false
        ],
        [
         "http://www.qrscelltech.com/de/component/content/article/44-qrs-fuer-leistungsorientierte-menschen?tmpl=component&print=1&page=",
         "defacement",
         "qrscelltech.com",
         "com",
         "Whoisprotection.cc",
         2,
         false
        ],
        [
         "montrealgazette.com/sports/Horror+Hartford+silver+lining/5723049/story.html",
         "benign",
         "montrealgazette.com",
         "com",
         "Postmedia Network Inc.",
         3,
         true
        ],
        [
         "katu.com/traffic/live",
         "benign",
         "katu.com",
         "com",
         "GoDaddy Corporate Domains, LLC",
         0,
         true
        ],
        [
         "http://torcache.net/torrent/C17420F0CEB6D995732BAE67BD73B51B505005EA.torrent?title=[kickass.to]counter.strike.source",
         "benign",
         "torcache.net",
         "net",
         "Jewella Privacy LLC Privacy ID# 1183090",
         2,
         true
        ],
        [
         "hollow-art.com/base/jessalyn-gilsig-heroes",
         "benign",
         "hollow-art.com",
         "com",
         "Mesh Digital Limited",
         0,
         true
        ],
        [
         "theglobeandmail.com/life/health/leslie-roberts-works-out-hard-to-overcome-a-poor-family-health-history/article1558802/",
         "benign",
         "theglobeandmail.com",
         "com",
         "The Globe and Mail Limited",
         2,
         true
        ],
        [
         "burbed.com/",
         "benign",
         "burbed.com",
         "com",
         "Proxy Protection LLC",
         1,
         false
        ],
        [
         "http://www.identcode.cz/cs/laserove-snimace-stacionarni.php",
         "defacement",
         "identcode.cz",
         "cz",
         "SB:TT159-RIPE_XX",
         2,
         false
        ],
        [
         "mylife.com/c-1956134312",
         "benign",
         "mylife.com",
         "com",
         "Network Solutions, LLC",
         1,
         false
        ],
        [
         "ca.linkedin.com/pub/dir/Angela/+/ca-4880-Vancouver%2C-Canada-Area",
         "benign",
         "linkedin.com",
         "com",
         "MarkMonitor Inc.",
         1,
         false
        ],
        [
         "mylife.com/damonhenrysr",
         "benign",
         "mylife.com",
         "com",
         "Network Solutions, LLC",
         1,
         false
        ],
        [
         "rottentomatoes.com/m/the_swimming_pool/",
         "benign",
         "rottentomatoes.com",
         "com",
         "MarkMonitor Inc.",
         2,
         true
        ],
        [
         "aceshowbiz.com/celebrity/dianne_wiest/",
         "benign",
         "aceshowbiz.com",
         "com",
         "Privacy service provided by Withheld for Privacy ehf",
         1,
         false
        ],
        [
         "https://medium.com/human-parts/the-laziest-coming-out-story-you-ve-ever-heard-a9f877acdd14?source=has-recommended",
         "benign",
         "medium.com",
         "com",
         "Identity Protection Service",
         1,
         false
        ],
        [
         "elyrics.net/read/p/prince-lyrics/why-you-wanna-treat-me-so-bad-lyrics.html",
         "benign",
         "elyrics.net",
         "net",
         "GoDaddy.com, LLC",
         2,
         false
        ],
        [
         "http://9779.info/%E6%AF%9B%E7%BA%BF%E8%B4%B4%E7%94%BB%20%E5%9C%BA%E6%99%AF%E5%9B%BE/",
         "malware",
         "9779.info",
         "info",
         null,
         0,
         false
        ],
        [
         "checksure.biz/directors-da-121.htm",
         "benign",
         "checksure.biz",
         "biz",
         "REDACTED FOR PRIVACY",
         2,
         false
        ],
        [
         "people.famouswhy.com/ramzi_yousef/",
         "benign",
         "famouswhy.com",
         "com",
         "REDACTED FOR PRIVACY",
         0,
         false
        ],
        [
         "wn.com/Raymond",
         "benign",
         "wn.com",
         "com",
         "World News Pte Ltd",
         0,
         false
        ],
        [
         "trtsport.cz",
         "malware",
         "trtsport.cz",
         "cz",
         null,
         0,
         false
        ],
        [
         "youtube.com/watch?v=aYRauv5oeXQ",
         "benign",
         "youtube.com",
         "com",
         "MarkMonitor Inc.",
         1,
         false
        ],
        [
         "armchairgm.wikia.com/San_Diego_Chargers",
         "benign",
         "wikia.com",
         "com",
         "Tucows Domains Inc.",
         0,
         false
        ],
        [
         "imartial.com/",
         "benign",
         "imartial.com",
         "com",
         "GoDaddy.com, LLC",
         0,
         true
        ],
        [
         "http://style.org.hc360.com/css/detail/mysite/siteconfig/pro_control.css",
         "malware",
         "hc360.com",
         "com",
         "Alibaba Cloud Computing (Beijing) Co., Ltd.",
         0,
         false
        ],
        [
         "ammmmazonm.temp.swtest.ru",
         "phishing",
         "swtest.ru",
         "ru",
         "SpaceWeb LLC",
         1,
         false
        ],
        [
         "theglobeandmail.com/report-on-business/careers/susan-pinker/why-we-cant-really-assess-our-own-skills-and-performance/article1896412/",
         "benign",
         "theglobeandmail.com",
         "com",
         "The Globe and Mail Limited",
         2,
         true
        ],
        [
         "doom.ocremix.org/",
         "benign",
         "ocremix.org",
         "org",
         "Iterations Productions",
         1,
         false
        ],
        [
         "yidio.com/celebrity/ted+lange",
         "benign",
         "yidio.com",
         "com",
         "Yidio LLC",
         0,
         false
        ],
        [
         "mondotimes.com/1/world/ca/63/3144/27447",
         "benign",
         "mondotimes.com",
         "com",
         "Mondo Code LLC",
         1,
         false
        ],
        [
         "montrealgazette.com/health/Cancer+fight+hits+home+Alouettes+Marc+Olivier+Brouillette/5589710/story.html",
         "benign",
         "montrealgazette.com",
         "com",
         "Postmedia Network Inc.",
         3,
         true
        ],
        [
         "wanderingcommuter.blogspot.com/2009/10/are-philippine-gay-indie-films-really.html",
         "benign",
         "blogspot.com",
         "com",
         "MarkMonitor Inc.",
         0,
         false
        ],
        [
         "http://www.cannonvaleautopro.com.au/tools.html",
         "defacement",
         "cannonvaleautopro.com.au",
         "com.au",
         "CANNONVALE AUTO PRO",
         1,
         true
        ],
        [
         "http://qz.com/371908/the-greeks-money-already-stuffed-under-mattresses-may-learn-their-fate-this-weekend/",
         "benign",
         "qz.com",
         "com",
         "NameCheap, Inc.",
         0,
         false
        ],
        [
         "baseball-almanac.com/yearly/yr1887a.shtml",
         "benign",
         "baseball-almanac.com",
         "com",
         "Network Solutions, LLC",
         1,
         false
        ],
        [
         "worthpoint.com/worthopedia/1881-rogers-silver-plate-tea-pot-sugar-bowl",
         "benign",
         "worthpoint.com",
         "com",
         "GoDaddy.com, LLC",
         0,
         false
        ],
        [
         "daylife.com/topic/Gabriel_Aubry",
         "benign",
         "daylife.com",
         "com",
         "Amazon Registrar, Inc.",
         1,
         false
        ],
        [
         "chnm.gmu.edu/dimenovels/romance_series.html",
         "benign",
         "gmu.edu",
         "edu",
         null,
         1,
         false
        ],
        [
         "mafiaslugger.blogspot.com/",
         "benign",
         "blogspot.com",
         "com",
         "MarkMonitor Inc.",
         0,
         false
        ],
        [
         "forecaster.thehockeynews.com/hockeynews/hockey/player.cgi?990",
         "benign",
         "thehockeynews.com",
         "com",
         "GoDaddy.com, LLC",
         3,
         false
        ],
        [
         "amazon.com/Lonely-Planet-British-Columbia-Fanselow/dp/1864502207",
         "benign",
         "amazon.com",
         "com",
         "MarkMonitor Inc.",
         0,
         false
        ],
        [
         "flightsimhangar.com/fsblog/?p=1061",
         "benign",
         "flightsimhangar.com",
         "com",
         "HugeDomains.com",
         0,
         true
        ],
        [
         "comtedegrasse.org/history.html",
         "benign",
         "comtedegrasse.org",
         "org",
         null,
         3,
         true
        ],
        [
         "section303.com/jp-dumont-bought-out-by-the-nashville-predators-11886",
         "benign",
         "section303.com",
         "com",
         "NameCheap, Inc.",
         1,
         false
        ],
        [
         "zimbio.com/Marshon+Brooks",
         "benign",
         "zimbio.com",
         "com",
         "Privacy service provided by Withheld for Privacy ehf",
         0,
         false
        ],
        [
         "linkedin.com/pub/dir/donald/harvey",
         "benign",
         "linkedin.com",
         "com",
         "MarkMonitor Inc.",
         1,
         false
        ],
        [
         "scnow.com/sports/2011/mar/18/patriots-reflect-1986-naia-national-championship-ar-1598780/",
         "benign",
         "scnow.com",
         "com",
         "Tucows Domains Inc.",
         0,
         false
        ],
        [
         "http://www.naylorantiques.com/d0y_qx_6_l_6hqo_ewkbketxbu1u7oy10gmkyfrgwnm8llrdhlxcps_ale1_d9b6mij__8tja_b1t__hke2i6dv4xmv0f1fr24/i5_mlqfp_znd5_khgrrgbwjyv__q6gz1yve5hq7agfj3o_pt8awujg9vuy1__d7hqr8yt42n__luu_hep_1et_dlku4_0f1_5_o/QDCHOZ0LZW.php",
         "phishing",
         "naylorantiques.com",
         "com",
         "GoDaddy.com, LLC",
         1,
         true
        ],
        [
         "http://diddydeshi.com/latest-news/2-latest-news/261-speech-given-at-october-main-grading.html",
         "defacement",
         "diddydeshi.com",
         "com",
         null,
         1,
         false
        ],
        [
         "songlyrics.com/doobie-brothers/sweet-maxine-lyrics/",
         "benign",
         "songlyrics.com",
         "com",
         "Domain Protection Services, Inc.",
         0,
         false
        ],
        [
         "http://babal.net/downloads_details/497/%D9%83%D8%A7%D8%B8%D9%85-%D8%A7%D9%84%D8%B3%D8%A7%D9%87%D8%B1---%D8%A7%D9%86%D8%AA-%D8%A7%D9%84%D8%AE%D8%A7%D8%B3%D8%B1",
         "benign",
         "babal.net",
         "net",
         "GoDaddy.com, LLC",
         1,
         true
        ],
        [
         "http://zozo.jp/shop/americanragcie/?price=proper&p_ssy=2015&p_ssm=5&p_ssd=13&p_sey=2015&p_sem=5&p_sed=13&dstk=2",
         "benign",
         "zozo.jp",
         "jp",
         null,
         0,
         false
        ],
        [
         "http://pastehtml.com/view/b2i243gkw.html",
         "phishing",
         "pastehtml.com",
         "com",
         "Dynadot Inc",
         1,
         true
        ],
        [
         "http://img14.360buyimg.com/n12/g12/M00/07/06/rBEQYVGV9NMIAAAAAAC3mn17ud8AABZ_wDjtTAAALey000.jpg%21q70.jpg",
         "malware",
         "360buyimg.com",
         "com",
         "MarkMonitor Information Technology (Shanghai) Co., Ltd.",
         0,
         false
        ],
        [
         "crisiscampmontreal.wordpress.com/",
         "benign",
         "wordpress.com",
         "com",
         "MarkMonitor Inc.",
         1,
         false
        ],
        [
         "http://9779.info/%E6%89%8B%E5%B7%A5%E6%B2%BE%E8%B4%B4%E7%94%BB%E5%9B%BE%E7%89%87/",
         "malware",
         "9779.info",
         "info",
         null,
         0,
         false
        ],
        [
         "http://www.natureevent.dk/component/mailto/index.html?tmpl=component&link=aHR0cDovL3d3dy5uYXR1cmVldmVudC5kay9ha3Rpdml0ZXRlci5odG1s",
         "defacement",
         "natureevent.dk",
         "dk",
         "Nature Event ApS",
         3,
         true
        ],
        [
         "broadcasting-history.ca/index3.html?url=http%3A//www.broadcasting-history.ca/stations/tvlinks.html",
         "benign",
         "broadcasting-history.ca",
         "ca",
         "York University",
         0,
         true
        ],
        [
         "johndouglasmindhunter.com/forums/viewtopic.php?t=6383",
         "benign",
         "johndouglasmindhunter.com",
         "com",
         "GoDaddy.com, LLC",
         1,
         true
        ],
        [
         "rachelperry.wordpress.com/2010/07/02/zach-and-angie-houston-wedding-photography/",
         "benign",
         "wordpress.com",
         "com",
         "MarkMonitor Inc.",
         1,
         false
        ],
        [
         "iraqwarheroes.org/wightman.htm",
         "benign",
         "iraqwarheroes.org",
         "org",
         "OurWarHeroes.org",
         2,
         false
        ],
        [
         "legacy.com/obituaries/herald/obituary.aspx?n=jeffrey-m-klein&pid=149024269",
         "benign",
         "legacy.com",
         "com",
         "Network Solutions, LLC",
         1,
         false
        ],
        [
         "associatedcontent.com/article/2907580/2010_nfl_predictions_buffalo_bills.html",
         "benign",
         "associatedcontent.com",
         "com",
         "MarkMonitor Inc.",
         2,
         true
        ],
        [
         "company-formations-ireland.com/companies-registration-office.html",
         "benign",
         "company-formations-ireland.com",
         "com",
         null,
         1,
         true
        ],
        [
         "eagletribune.com/obituaries/x1305242071/Matilda-Sirois-81",
         "benign",
         "eagletribune.com",
         "com",
         "GoDaddy Corporate Domains, LLC",
         3,
         true
        ],
        [
         "funnybumblog.com/just-for-laughs-gags-accidental-shooting-prank/",
         "benign",
         "funnybumblog.com",
         "com",
         null,
         0,
         false
        ],
        [
         "en.wikipedia.org/wiki/Aria_(disambiguation)",
         "benign",
         "wikipedia.org",
         "org",
         "Wikimedia Foundation, Inc.",
         1,
         false
        ],
        [
         "http://sladkiybuket.net/index.php?page=shop.product_details&category_id=4&flypage=flypage_lite_pdf.tpl&product_id=37&option=com_virtuemart&Itemid=55",
         "defacement",
         "sladkiybuket.net",
         "net",
         null,
         2,
         true
        ],
        [
         "http://www.sklep-splawik.pl/index.php?option=com_content&view=article&id=17:pokaz-maver-2010&catid=7:pokazy-sprztu&Itemid=13",
         "defacement",
         "sklep-splawik.pl",
         "pl",
         "Aftermarket.pl Limited",
         1,
         false
        ],
        [
         "urbanspoon.com/r/6/764245/restaurant/Locust-Street-Deli-Cafe-Walnut-Creek",
         "benign",
         "urbanspoon.com",
         "com",
         "https://www.101domain.com/",
         0,
         false
        ],
        [
         "facebook.com/people/Randall-Moss/1118160021",
         "benign",
         "facebook.com",
         "com",
         "Meta Platforms, Inc.",
         1,
         false
        ],
        [
         "http://www.latablepaysanne.fr/index.php?option=com_content&view=frontpage&Itemid=12",
         "defacement",
         "latablepaysanne.fr",
         "fr",
         "GANDI",
         2,
         true
        ],
        [
         "http://www.lescoulissesdetanger.com/galeriesmusees",
         "defacement",
         "lescoulissesdetanger.com",
         "com",
         null,
         4,
         true
        ],
        [
         "http://www.akmediaproductions.ca/index.php?option=com_content&view=article&id=53:custom-templates&catid=36:web-development&Itemid=71",
         "defacement",
         "akmediaproductions.ca",
         "ca",
         "REDACTED FOR PRIVACY",
         1,
         true
        ],
        [
         "kansas.com/2011/10/25/2076791/a-history-of-kemper-arena-in-pictures.html",
         "benign",
         "kansas.com",
         "com",
         "Network Solutions, LLC",
         0,
         false
        ],
        [
         "en.wikipedia.org/wiki/KBWF",
         "benign",
         "wikipedia.org",
         "org",
         "Wikimedia Foundation, Inc.",
         1,
         false
        ],
        [
         "manta.com/c/mt7wwmh/jason-rhoades",
         "benign",
         "manta.com",
         "com",
         "Identity Protection Service",
         0,
         true
        ],
        [
         "amazon.com/Pink-Motel-VHS-Phyllis-Diller/dp/6301930185",
         "benign",
         "amazon.com",
         "com",
         "MarkMonitor Inc.",
         0,
         false
        ],
        [
         "allensarchiveofearlyoldcountrymusic.blogspot.com/2011/01/fred-van-eps-vess-l-ossman-kings-of.html",
         "benign",
         "blogspot.com",
         "com",
         "MarkMonitor Inc.",
         0,
         false
        ],
        [
         "wn.com/lewislavoie",
         "benign",
         "wn.com",
         "com",
         "NameCheap, Inc.",
         0,
         false
        ],
        [
         "packersnews.greenbaypressgazette.com/article/20111027/PKR01/111027128/Green-Bay-Packers-quarterback-Aaron-Rodgers-zeroing-in-on-record-breaking-season",
         "benign",
         "greenbaypressgazette.com",
         "com",
         "GoDaddy Corporate Domains, LLC",
         5,
         true
        ],
        [
         "en.wikipedia.org/wiki/Will_Work_for_Food_(TV_show)",
         "benign",
         "wikipedia.org",
         "org",
         "Wikimedia Foundation, Inc.",
         1,
         false
        ],
        [
         "kwqc.com/Global/story.asp?S=15903666",
         "benign",
         "kwqc.com",
         "com",
         "GoDaddy Corporate Domains, LLC",
         0,
         false
        ],
        [
         "christianacare.org/",
         "benign",
         "christianacare.org",
         "org",
         "REDACTED",
         1,
         true
        ],
        [
         "http://annviviskennel.net/index.php?option=com_content&view=article&id=56&Itemid=79",
         "defacement",
         "annviviskennel.net",
         "net",
         null,
         3,
         true
        ],
        [
         "info-online-account.net",
         "phishing",
         "info-online-account.net",
         "net",
         null,
         2,
         true
        ],
        [
         "jets.nhl.com/club/news.htm?id=569847",
         "benign",
         "nhl.com",
         "com",
         "REDACTED FOR PRIVACY",
         0,
         false
        ],
        [
         "gamefilmexpress.com/",
         "benign",
         "gamefilmexpress.com",
         "com",
         "IONOS SE",
         3,
         false
        ],
        [
         "wolfslatkin.com/Attorneys/Albert-B-Wolf.shtml",
         "benign",
         "wolfslatkin.com",
         "com",
         "Network Solutions, LLC",
         0,
         true
        ],
        [
         "tv.com/shows/bewitched/the-house-that-uncle-arthur-built-25554/",
         "benign",
         "tv.com",
         "com",
         "GoDaddy Corporate Domains, LLC",
         0,
         false
        ],
        [
         "http://www.mo-priv.ru/index.php?option=com_content&view=article&id=838:2012-02-20-05-31-23&catid=39:2010-03-31-18-10-44&Itemid=62",
         "defacement",
         "mo-priv.ru",
         "ru",
         "Administracia MO \"Privoljskiy rayon\"",
         0,
         false
        ],
        [
         "garybruce.bandcamp.com/",
         "benign",
         "bandcamp.com",
         "com",
         "GoDaddy.com, LLC",
         0,
         false
        ],
        [
         "facebook.com/people/Chester-Brown/1321855909",
         "benign",
         "facebook.com",
         "com",
         "Meta Platforms, Inc.",
         1,
         false
        ],
        [
         "movies.msn.com/celebrities/celebrity-biography/dean-stockwell/",
         "benign",
         "msn.com",
         "com",
         "MarkMonitor Inc.",
         0,
         false
        ],
        [
         "http://www.dtcbv.nl/component/virtuemart/index.html?page=shop.browse&category_id=71",
         "defacement",
         "dtcbv.nl",
         "nl",
         "team.blue nl B.V.",
         0,
         false
        ],
        [
         "http://www.real-house.nl/home/169-news-scene/964-the-calling-of-defected.html?tmpl=component&print=1&page=",
         "defacement",
         "real-house.nl",
         "nl",
         null,
         2,
         false
        ],
        [
         "ibnlive.in.com/news/ram-sampath-to-compose-for-rock-the-shaadi/190544-8-66.html",
         "benign",
         "in.com",
         "com",
         "Network18 Media and Investments Ltd.",
         0,
         false
        ],
        [
         "washingtonexaminer.com/news/2011/11/safrica-top-politician-faces-bribery-accusations?category=18",
         "benign",
         "washingtonexaminer.com",
         "com",
         "GoDaddy.com, LLC",
         2,
         true
        ],
        [
         "fordfocus2012.org/",
         "benign",
         "fordfocus2012.org",
         "org",
         null,
         0,
         false
        ],
        [
         "microencapsulation.readmyweather.com",
         "malware",
         "readmyweather.com",
         "com",
         null,
         3,
         true
        ],
        [
         "http://www.ondrejov.cz/programy/uzavrena-skupina",
         "defacement",
         "ondrejov.cz",
         "cz",
         "DPS-ONDREJOV",
         1,
         false
        ],
        [
         "salary-money.com/samuel-eto-salary-euro-625000.php",
         "benign",
         "salary-money.com",
         "com",
         "Proxy Protection LLC",
         1,
         false
        ],
        [
         "classicrockforums.com/forum/f53/rip-jim-clench-10766/",
         "benign",
         "classicrockforums.com",
         "com",
         "REDACTED FOR PRIVACY",
         0,
         false
        ],
        [
         "youtube.com/watch?v=093nXYvngLc",
         "benign",
         "youtube.com",
         "com",
         "MarkMonitor Inc.",
         1,
         false
        ],
        [
         "en.wikipedia.org/wiki/List_of_hemophilia_organizations",
         "benign",
         "wikipedia.org",
         "org",
         "Wikimedia Foundation, Inc.",
         1,
         false
        ],
        [
         "last.fm/music/Arcade+Fire",
         "benign",
         "last.fm",
         "fm",
         "MarkMonitor, Inc.",
         0,
         true
        ],
        [
         "evri.com/person/charles-l.-frink-0x5ae8da",
         "benign",
         "evri.com",
         "com",
         "Identity Protection Service",
         1,
         false
        ],
        [
         "http://engine32truck16.com/component/content/article/87-anacostia-house.html",
         "defacement",
         "engine32truck16.com",
         "com",
         null,
         2,
         false
        ],
        [
         "http://onlineigri.net/all-games/igri-s-koli",
         "defacement",
         "onlineigri.net",
         "net",
         "DATA REDACTED",
         2,
         false
        ],
        [
         "en.wikipedia.org/wiki/St._Vincent_Mercy_Children%27s_Hospital",
         "benign",
         "wikipedia.org",
         "org",
         "Wikimedia Foundation, Inc.",
         1,
         false
        ],
        [
         "pennyfather.com/_nameindex.html",
         "benign",
         "pennyfather.com",
         "com",
         null,
         2,
         true
        ],
        [
         "http://www.vilagnomad.com/tables/payday-loans-direct-lenders-only.php",
         "malware",
         "vilagnomad.com",
         "com",
         null,
         0,
         false
        ],
        [
         "http://r-tuning.com.ua/index.php?option=com_virtuemart&page=shop.browse&category_id=420&Itemid=1",
         "defacement",
         "r-tuning.com.ua",
         "com.ua",
         "ФОП Хилюк Петро Миколайович",
         0,
         true
        ],
        [
         "soccer365.com/news/u_s_news/m_l_s/6633/de_rosario_named_mls_mvp",
         "benign",
         "soccer365.com",
         "com",
         "GoDaddy.com, LLC",
         1,
         false
        ],
        [
         "lindaguarino.com/detail.asp?listingid=w32666&agentid=111138&searchtype=ByCorp",
         "benign",
         "lindaguarino.com",
         "com",
         null,
         0,
         false
        ],
        [
         "facebook.com/pages/CFMB/107472729281906",
         "benign",
         "facebook.com",
         "com",
         "Meta Platforms, Inc.",
         1,
         false
        ],
        [
         "jeopardylabs.com/",
         "benign",
         "jeopardylabs.com",
         "com",
         "Porkbun LLC",
         1,
         false
        ],
        [
         "wn.com/The_Montreal_Star",
         "benign",
         "wn.com",
         "com",
         "World News Pte Ltd",
         0,
         false
        ],
        [
         "linkedin.com/company/universal-studios",
         "benign",
         "linkedin.com",
         "com",
         "MarkMonitor Inc.",
         1,
         false
        ],
        [
         "http://mixi.jp/share.pl?u=http://alfalfalfa.com/articles/117917.html&k=e09afc106e473491952cfe324aa83aabe5b07446",
         "benign",
         "mixi.jp",
         "jp",
         null,
         0,
         false
        ],
        [
         "facebook.com/WilburWatson",
         "benign",
         "facebook.com",
         "com",
         "Meta Platforms, Inc.",
         1,
         false
        ],
        [
         "yougabsports.com/pt/The-Almost-All-Time-San-Diego-Chargers/blog.htm",
         "benign",
         "yougabsports.com",
         "com",
         "Redacted for privacy",
         0,
         true
        ],
        [
         "http://svadebny.com/x.txt",
         "defacement",
         "svadebny.com",
         "com",
         null,
         1,
         false
        ],
        [
         "filecrop.com/GhostGirl-Tonya-Hurley-loca-por-amor-.pdf.html",
         "benign",
         "filecrop.com",
         "com",
         "Dynadot Inc",
         1,
         false
        ],
        [
         "channel5.com/shows/the-vanessa-show",
         "benign",
         "channel5.com",
         "com",
         "MarkMonitor Inc.",
         1,
         false
        ],
        [
         "http://www.ksra.ca/form/use/verify/form1.html",
         "phishing",
         "ksra.ca",
         "ca",
         "REDACTED FOR PRIVACY",
         0,
         false
        ],
        [
         "camerchants.com/Canada-City/QC/Quebec/St-Barthelemy",
         "benign",
         "camerchants.com",
         "com",
         "Domain.com, LLC",
         1,
         true
        ],
        [
         "videostravelguide.com/Virgin%20Islands/",
         "benign",
         "videostravelguide.com",
         "com",
         "NameBrightPrivacy.com",
         3,
         true
        ],
        [
         "portlandmercury.com/portland/liam-finn-and-the-luyas/Event?oid=3633906",
         "benign",
         "portlandmercury.com",
         "com",
         "Index Newspapers, LLC",
         1,
         true
        ],
        [
         "uncyclopedia.wikia.com/wiki/New_Zealand",
         "benign",
         "wikia.com",
         "com",
         "Tucows Domains Inc.",
         0,
         false
        ],
        [
         "en-gb.facebook.com/clementine.bailly",
         "benign",
         "facebook.com",
         "com",
         "Meta Platforms, Inc.",
         1,
         false
        ],
        [
         "http://distractify.com/post/related/id/5540d7154a0c4b3c311f252c/skip/10/limit/10/back/0",
         "benign",
         "distractify.com",
         "com",
         "GoDaddy.com, LLC",
         0,
         true
        ],
        [
         "news.am/eng/news/77114.html",
         "benign",
         "news.am",
         "am",
         "abcdomain (ABCDomain LLC)",
         1,
         false
        ],
        [
         "buckeyecablesystem.com/lineup/lineup-tol.html",
         "benign",
         "buckeyecablesystem.com",
         "com",
         "Network Solutions, LLC",
         4,
         true
        ],
        [
         "omaopioridge.com/",
         "benign",
         "omaopioridge.com",
         "com",
         null,
         1,
         false
        ],
        [
         "http://kakaku.com/kaden/food-processor/ranking_2129/pricedown/div-gpt-ad-k/header_text",
         "benign",
         "kakaku.com",
         "com",
         "Kakaku.com, Inc.",
         0,
         false
        ],
        [
         "forbes.com/sites/kitconews/2011/06/10/plan-nords-extension-of-route-167-key-for-mining-in-northern-quebec-stornoway-ceo/",
         "benign",
         "forbes.com",
         "com",
         "MarkMonitor Inc.",
         1,
         false
        ],
        [
         "http://www.daytonaelectronics.co.za/index.php?option=com_content&view=article&id=47&Itemid=54",
         "defacement",
         "daytonaelectronics.co.za",
         "co.za",
         "Daytona Electronics cc",
         2,
         true
        ],
        [
         "athletics.scout.com/2/621936.html",
         "benign",
         "scout.com",
         "com",
         "MarkMonitor Inc.",
         0,
         false
        ],
        [
         "portland.daveknows.org/category/sport/timbers/",
         "benign",
         "daveknows.org",
         "org",
         "Jewella Privacy LLC",
         1,
         false
        ],
        [
         "beyondrobson.com/music/2007/02/mixed_bag_book_of_lists_les_georges_leningrad_and_papercuts/",
         "benign",
         "beyondrobson.com",
         "com",
         "Dynadot Inc",
         1,
         false
        ],
        [
         "5tothrive.net/cgi-bin/mt/mt-search.cgi?blog_id=1&tag=kaiser&limit=20",
         "benign",
         "5tothrive.net",
         "net",
         "Tucows Domains Inc.",
         2,
         false
        ],
        [
         "en.wikipedia.org/wiki/Maurice_Richard_(film)",
         "benign",
         "wikipedia.org",
         "org",
         "Wikimedia Foundation, Inc.",
         1,
         false
        ],
        [
         "ussoccer.com/News/Federation-Services/2009/06/University-Of-Miami-President-Donna-E-Shalala-Joins-Team-To-Bring-FIFA-World-Cup-To-United-States-In.aspx",
         "benign",
         "ussoccer.com",
         "com",
         "GoDaddy.com, LLC",
         1,
         false
        ],
        [
         "washingtondc.bcg.com/",
         "benign",
         "bcg.com",
         "com",
         "CSC Corporate Domains, Inc.",
         0,
         false
        ],
        [
         "http://www.ijsbaanapeldoorn.nl/fotos-videos.html?vsig4_0=18&vsig4_1=2",
         "defacement",
         "ijsbaanapeldoorn.nl",
         "nl",
         "Exonet B.V.",
         1,
         false
        ],
        [
         "spokeo.com/Matthew+Dunkle",
         "benign",
         "spokeo.com",
         "com",
         "REDACTED FOR PRIVACY",
         1,
         false
        ],
        [
         "http://www.easylivinggreenproducts.com.au/shop.html?page=shop.product_details&category_id=41&flypage=flypage.tpl&product_id=93",
         "defacement",
         "easylivinggreenproducts.com.au",
         "com.au",
         null,
         3,
         true
        ],
        [
         "http://sfhhz.com/channels/138.html",
         "defacement",
         "sfhhz.com",
         "com",
         "Redacted for privacy",
         0,
         false
        ],
        [
         "maxalbums.com/index.php?artist=Loredana%20Groza%20Zaraza",
         "benign",
         "maxalbums.com",
         "com",
         "PrivacyGuardian.org llc",
         0,
         false
        ],
        [
         "http://www.tvsk.com.au/index.php",
         "defacement",
         "tvsk.com.au",
         "com.au",
         null,
         0,
         true
        ],
        [
         "http://interpark.com/product/MallDisplay.do?_method=Detail&sc.shopNo=0000100000&sc.dispNo=001930&sc.prdNo=3104163110&bm1=bottom&bm2=prd",
         "benign",
         "interpark.com",
         "com",
         "Gabia, Inc.",
         1,
         true
        ],
        [
         "temple.edu/classics/epic/index.html",
         "benign",
         "temple.edu",
         "edu",
         null,
         3,
         false
        ],
        [
         "kotaku.com/5395085/behold-the-single+player-fighting-game",
         "benign",
         "kotaku.com",
         "com",
         "Kotaku USA LLC",
         0,
         true
        ],
        [
         "multilingualbooks.com/foreignvids-ital.html",
         "benign",
         "multilingualbooks.com",
         "com",
         "Network Solutions, LLC",
         0,
         true
        ],
        [
         "amazon.com/Born-Losers/dp/B002ZW6YX8",
         "benign",
         "amazon.com",
         "com",
         "MarkMonitor Inc.",
         0,
         false
        ],
        [
         "http://www.nabu-gaildorf.de/index.php?option=com_search&Itemid=5",
         "defacement",
         "nabu-gaildorf.de",
         "de",
         null,
         1,
         false
        ],
        [
         "bloggn.grainews.ca/scotts_equip/2011/08/agcos-kansas-city-stars.html",
         "benign",
         "grainews.ca",
         "ca",
         "Service Desk",
         1,
         false
        ],
        [
         "amazon.com/Barometer-Rising-New-Canadian-Library/dp/0771099916",
         "benign",
         "amazon.com",
         "com",
         "MarkMonitor Inc.",
         0,
         false
        ],
        [
         "areawidenews.com/story/1495635.html",
         "benign",
         "areawidenews.com",
         "com",
         "CherryRoad Technologies",
         3,
         false
        ],
        [
         "uk.ask.com/wiki/Hershey_Felder",
         "benign",
         "ask.com",
         "com",
         "MarkMonitor Inc.",
         0,
         false
        ],
        [
         "http://mylust.com/videos/69734/a-small-cock-of-that-guy-is-still-good-for-this-vintage-whore/",
         "benign",
         "mylust.com",
         "com",
         "Whois Privacy (enumDNS dba)",
         0,
         false
        ],
        [
         "cartoonnetwork.com/feedback/index.html",
         "benign",
         "cartoonnetwork.com",
         "com",
         "Turner Broadcasting System, Inc.",
         1,
         true
        ],
        [
         "twinkacademy.com/index2.htm",
         "benign",
         "twinkacademy.com",
         "com",
         "Wild West Domains, LLC",
         1,
         true
        ],
        [
         "http://www.botoxina.com/index.php?view=article&id=81:b0toxina-injectable-b&tmpl=component&print=1&layout=default&page=&option=com_content&Itemid=105&lang=en",
         "defacement",
         "botoxina.com",
         "com",
         "REDACTED FOR PRIVACY",
         0,
         true
        ],
        [
         "freepages.genealogy.rootsweb.ancestry.com/~rosdavies/SURNAMES/B/BruBry.htm",
         "benign",
         "ancestry.com",
         "com",
         "MarkMonitor Inc.",
         1,
         true
        ],
        [
         "mortonsauto.com/",
         "benign",
         "mortonsauto.com",
         "com",
         "Launchpad.com Inc.",
         0,
         true
        ],
        [
         "thecanadianencyclopedia.com/index.cfm?PgNm=TCE&Params=A1ARTA0002467",
         "benign",
         "thecanadianencyclopedia.com",
         "com",
         "REDACTED FOR PRIVACY",
         3,
         true
        ],
        [
         "eveningtribune.com/features/x1638744422/Days-until-Sept-11-Remembrances-begin-Wednesday-and-continue-through-10-year-anniversary-or-terror-attacks",
         "benign",
         "eveningtribune.com",
         "com",
         "GoDaddy Corporate Domains, LLC",
         3,
         false
        ],
        [
         "http://zshsq.com/news/html/index.html?429.html",
         "defacement",
         "zshsq.com",
         "com",
         "Redacted for privacy",
         0,
         false
        ],
        [
         "encycl.opentopia.com/term/KPIX-TV",
         "benign",
         "opentopia.com",
         "com",
         "GoDaddy.com, LLC",
         1,
         true
        ],
        [
         "http://www.sanpedrolee.com.ar/index.php?option=com_content&view=article&id=49&Itemid=70",
         "defacement",
         "sanpedrolee.com.ar",
         "com.ar",
         null,
         3,
         false
        ],
        [
         "semissourian.com/story/1753207.html",
         "benign",
         "semissourian.com",
         "com",
         "Network Solutions, LLC",
         1,
         false
        ],
        [
         "capitals.nhl.com/club/page.htm?id=62951",
         "benign",
         "nhl.com",
         "com",
         "REDACTED FOR PRIVACY",
         0,
         false
        ],
        [
         "manta.com/c/mmdjrmw/walls-alive-paper-hanging-inc",
         "benign",
         "manta.com",
         "com",
         "Identity Protection Service",
         0,
         true
        ],
        [
         "richnye.com/",
         "benign",
         "richnye.com",
         "com",
         "Register.com - Network Solutions, LLC",
         1,
         false
        ],
        [
         "bizofbaseball.com/index.php?option=com_content&task=view&id=1899&Itemid=81",
         "benign",
         "bizofbaseball.com",
         "com",
         "Tucows Domains Inc.",
         1,
         false
        ],
        [
         "http://www.beriva.lt/index.html?di=akcijos&R=1&iid=602416",
         "defacement",
         "beriva.lt",
         "lt",
         null,
         1,
         true
        ],
        [
         "http://apoiojur.com.br/index.php",
         "defacement",
         "apoiojur.com.br",
         "com.br",
         "Sensu Publica��es Juridicas Ltda",
         0,
         false
        ],
        [
         "http://dienlanhvn.com/index.php/lien-h.html",
         "defacement",
         "dienlanhvn.com",
         "com",
         "HugeDomains.com",
         1,
         false
        ],
        [
         "cincinnati.reds.mlb.com/stats/historical/individual_stats_player.jsp?c_id=cin&playerID=115587&print=true&HS=True",
         "benign",
         "mlb.com",
         "com",
         "GoDaddy Corporate Domains, LLC",
         0,
         false
        ],
        [
         "en.wikipedia.org/wiki/Dean_Marshall",
         "benign",
         "wikipedia.org",
         "org",
         "Wikimedia Foundation, Inc.",
         1,
         false
        ],
        [
         "sfgate.com/sports/warriors/",
         "benign",
         "sfgate.com",
         "com",
         "CSC Corporate Domains, Inc.",
         1,
         true
        ],
        [
         "http://www.nephotography.com.au/galleries/index.php?do=registry",
         "defacement",
         "nephotography.com.au",
         "com.au",
         "BONGERS, MARC ANTHONY",
         1,
         true
        ],
        [
         "http://jcmt.nl/en/sitemap",
         "defacement",
         "jcmt.nl",
         "nl",
         null,
         0,
         false
        ],
        [
         "http://torcache.net/torrent/A53109A89F38C9D0BACB394E51703AE921F56967.torrent?title=[kickass.to]dum.laga.ke.haisha.2015.720p.blu.ray.hindi.x264.ac3.5.1.mafiaking.m2tv",
         "benign",
         "torcache.net",
         "net",
         "Jewella Privacy LLC Privacy ID# 1183090",
         2,
         true
        ],
        [
         "http://www.suiteorchestra.it/index.php?option=com_content&view=article&id=64:pianoforte-e-basso&catid=38:rokstories&lang=it&Itemid=",
         "defacement",
         "suiteorchestra.it",
         "it",
         null,
         2,
         true
        ],
        [
         "arashixdream.com/2009/08/5x10-mp3-arashi-hidden-track-from-all.html",
         "benign",
         "arashixdream.com",
         "com",
         "Realtime Register B.V.",
         1,
         false
        ],
        [
         "http://www.tochnogopvakantie.nl/reizen/Nederland/Nederland/Kort+(tot+1+week).html",
         "defacement",
         "tochnogopvakantie.nl",
         "nl",
         null,
         1,
         true
        ],
        [
         "tremblay-alvergne.com/",
         "benign",
         "tremblay-alvergne.com",
         "com",
         null,
         3,
         true
        ],
        [
         "goatlocker.org/oldlogs/oldlogc98.htm",
         "benign",
         "goatlocker.org",
         "org",
         "Goatlocker",
         1,
         true
        ],
        [
         "xo3fhvm5lcvzy92q.download",
         "malware",
         "xo3fhvm5lcvzy92q.download",
         "download",
         null,
         0,
         false
        ],
        [
         "http://www.food-nrw.de/index.php/forum/257-forum-nachhaltigkeit-in-der-ernaehrungsindustrie-am-28112012",
         "defacement",
         "food-nrw.de",
         "de",
         null,
         1,
         false
        ],
        [
         "telusplanet.net/public/dgarneau/french14.htm",
         "benign",
         "telusplanet.net",
         "net",
         "MarkMonitor Inc.",
         3,
         true
        ],
        [
         "en.wikipedia.org/wiki/Jim_Macpherson",
         "benign",
         "wikipedia.org",
         "org",
         "Wikimedia Foundation, Inc.",
         1,
         false
        ],
        [
         "maa.org/features/012304mathinindustry.html",
         "benign",
         "maa.org",
         "org",
         "REDACTED",
         0,
         false
        ],
        [
         "docstoc.com/docs/22027831/Council-on-Foreign-Relations--CFR--Membership-Lists-1950-2005",
         "benign",
         "docstoc.com",
         "com",
         "GoDaddy.com, LLC",
         0,
         false
        ],
        [
         "nihahaw5.beget.tech",
         "phishing",
         "beget.tech",
         "tech",
         "Beget LLC",
         3,
         false
        ],
        [
         "http://www.versverwerktegroenten.nl/gezondheid/oorzaken-lage-consumptie.html?page=gezondheid%2Foorzaken-lage-consumptie",
         "defacement",
         "versverwerktegroenten.nl",
         "nl",
         "RegistrarHub",
         6,
         false
        ],
        [
         "sites.google.com/a/woodplanning.com/www/",
         "benign",
         "google.com",
         "com",
         "MarkMonitor Inc.",
         1,
         false
        ],
        [
         "answers.yahoo.com/question/index?qid=20060825211359AAIp8Zb",
         "benign",
         "yahoo.com",
         "com",
         "MarkMonitor Inc.",
         0,
         false
        ],
        [
         "theonion.com/",
         "benign",
         "theonion.com",
         "com",
         "MarkMonitor Inc.",
         1,
         false
        ],
        [
         "http://www.hjlaw.biz/index.php?option=com_user&view=remind",
         "defacement",
         "hjlaw.biz",
         "biz",
         "REDACTED FOR PRIVACY",
         0,
         false
        ],
        [
         "http://www.koenigsbacher-biergarten.de/cmx/index.php?option=com_mailto&tmpl=component&link=d13b686621cded856309f5b7690e6850817c2105",
         "defacement",
         "koenigsbacher-biergarten.de",
         "de",
         null,
         5,
         true
        ],
        [
         "http://babal.net/photos/46/%D8%A8%D9%86%D8%A7%D8%AA-%D9%84%D8%A8%D9%86%D8%A7%D9%86%D9%8A%D8%A9",
         "benign",
         "babal.net",
         "net",
         "GoDaddy.com, LLC",
         1,
         true
        ],
        [
         "http://www.windwolke.de/index.php?option=com_mailto&tmpl=component&link=aHR0cDovL3d3dy53aW5kd29sa2UuZGUvaW5kZXgucGhwP29wdGlvbj1jb21fY29udGVudCZ2aWV3PWFydGljbGUmaWQ9Mjpkb21haW4td2luZHdvbGtlJmNhdGlkPTM6YmxvZyZJdGVtaWQ9Ng==",
         "defacement",
         "windwolke.de",
         "de",
         null,
         2,
         false
        ],
        [
         "docstoc.com/docs/66806077/1996-FORD-F-SERIES",
         "benign",
         "docstoc.com",
         "com",
         "GoDaddy.com, LLC",
         0,
         false
        ],
        [
         "m2movie.blogspot.com/2011/05/watch-game-2011-hindi-movie-online.html",
         "benign",
         "blogspot.com",
         "com",
         "MarkMonitor Inc.",
         0,
         false
        ],
        [
         "navweaps.com/index_reunions/reunion_usn_E.htm",
         "benign",
         "navweaps.com",
         "com",
         "NavWeaps",
         1,
         false
        ],
        [
         "onlineradio2.com/listen/Mix_933",
         "benign",
         "onlineradio2.com",
         "com",
         null,
         1,
         false
        ],
        [
         "mapsofworld.com/usa/states/california/california-county-map.html",
         "benign",
         "mapsofworld.com",
         "com",
         "GoDaddy.com, LLC",
         0,
         false
        ],
        [
         "http://www.prefina.it/notizie/notizie-generali/51-unifidi-garanzia-sugli-investimenti-materiali-immateriali-e-formazione-di-scorte.html?tmpl=component&print=1&layout=default&page=",
         "defacement",
         "prefina.it",
         "it",
         "Prefina S.r.l.",
         1,
         true
        ],
        [
         "video.ca.msn.com/watch/video/dog-kills-quebec-baby/16a6etkt7",
         "benign",
         "msn.com",
         "com",
         "MarkMonitor Inc.",
         0,
         false
        ],
        [
         "http://torrentdn.com/bbs/s.php?bo_table=torrent_util&wr_id=15244&k=%ED%8F%AC%ED%86%A0%EC%83%B5&page=1",
         "benign",
         "torrentdn.com",
         "com",
         null,
         1,
         false
        ],
        [
         "youtube.com/watch?v=tzooZPZEqwk",
         "benign",
         "youtube.com",
         "com",
         "MarkMonitor Inc.",
         1,
         false
        ],
        [
         "waterviewdistillery.com",
         "phishing",
         "waterviewdistillery.com",
         "com",
         "GoDaddy.com, LLC",
         3,
         true
        ],
        [
         "careers.state.gov/",
         "benign",
         "state.gov",
         "gov",
         "REDACTED FOR PRIVACY",
         1,
         true
        ],
        [
         "elyrics.net/read/a/audrye-sessions-lyrics/relentless-lyrics.html",
         "benign",
         "elyrics.net",
         "net",
         "GoDaddy.com, LLC",
         2,
         false
        ],
        [
         "onestophelp.state.mi.us/wiki/Limited_Liability_Partnership",
         "benign",
         "state.mi.us",
         "mi.us",
         "Jason Frost",
         1,
         true
        ],
        [
         "http://thenextweb.com/insider/2015/05/13/9-notable-young-companies-from-the-500-startups-demo-extravaganza/gtm.start",
         "benign",
         "thenextweb.com",
         "com",
         "NameCheap, Inc.",
         3,
         false
        ],
        [
         "http://www.wxlottery.com/news/201212/285590.html",
         "defacement",
         "wxlottery.com",
         "com",
         "Redacted for privacy",
         1,
         false
        ],
        [
         "insidemnsoccer.com/2010/01/29/q-and-a-with-andrew-nestor-owner-president-and-ceo-of-fc-tampa-bay-rowdies-soccer/",
         "benign",
         "insidemnsoccer.com",
         "com",
         "GoDaddy.com, LLC",
         2,
         false
        ],
        [
         "http://www.centercamping.com.br/index.php?option=com_ckforms&task=captcha&sid=c4ce9d9bffcf8ba3357da92fd49c2457",
         "defacement",
         "centercamping.com.br",
         "com.br",
         null,
         2,
         true
        ],
        [
         "amazon.com/Vanity-Fair-ebook/dp/B000JQUGVI",
         "benign",
         "amazon.com",
         "com",
         "MarkMonitor Inc.",
         0,
         false
        ],
        [
         "trulia.com/schools/NY-Tarrytown/E_F_International_Academy/",
         "benign",
         "trulia.com",
         "com",
         "GoDaddy Corporate Domains, LLC",
         0,
         true
        ],
        [
         "metalodyssey.wordpress.com/",
         "benign",
         "wordpress.com",
         "com",
         "MarkMonitor Inc.",
         1,
         false
        ],
        [
         "http://www.enventureonline.com/services/enterprise-data-management/consulting-services.html",
         "defacement",
         "enventureonline.com",
         "com",
         "GoDaddy.com, LLC",
         4,
         false
        ],
        [
         "infoplease.com/ipa/A0855603.html",
         "benign",
         "infoplease.com",
         "com",
         "CSC Corporate Domains, Inc.",
         2,
         false
        ],
        [
         "tcm.com/tcmdb/title/3073/These-Glamour-Girls/",
         "benign",
         "tcm.com",
         "com",
         "Turner Broadcasting System, Inc.",
         0,
         false
        ],
        [
         "facebook.com/demerson1",
         "benign",
         "facebook.com",
         "com",
         "Meta Platforms, Inc.",
         1,
         false
        ],
        [
         "http://winkerdecoracion.com/index.php?page=shop.browse&category_id=151&option=com_virtuemart&Itemid=29",
         "defacement",
         "winkerdecoracion.com",
         "com",
         null,
         2,
         false
        ],
        [
         "http://www.alorenademalaga.com/index.php/denominacion-de-origen/objetivos",
         "defacement",
         "alorenademalaga.com",
         "com",
         "GoDaddy.com, LLC",
         2,
         false
        ],
        [
         "gomarquette.com/",
         "benign",
         "gomarquette.com",
         "com",
         "GoDaddy.com, LLC",
         2,
         true
        ],
        [
         "ycharts.com/indices/%5EINX",
         "benign",
         "ycharts.com",
         "com",
         "Amazon Registrar, Inc.",
         0,
         true
        ],
        [
         "iamachild.wordpress.com/2010/12/20/frederic-henri-schopin-1804-1880-french/",
         "benign",
         "wordpress.com",
         "com",
         "MarkMonitor Inc.",
         1,
         false
        ],
        [
         "imdb.com/name/nm0185045/",
         "benign",
         "imdb.com",
         "com",
         "MarkMonitor Inc.",
         0,
         false
        ],
        [
         "tallen.cutlerhomes.com/",
         "benign",
         "cutlerhomes.com",
         "com",
         "GoDaddy.com, LLC",
         2,
         false
        ],
        [
         "http://www.fjpengfei.com/picshow.asp?id=31&mnid=5074&classname=\\320\\373\\264\\253\\273\\255\\262\\341&banner=2",
         "defacement",
         "fjpengfei.com",
         "com",
         "REDACTED FOR PRIVACY",
         2,
         false
        ],
        [
         "prodenk-sanierung.de",
         "phishing",
         "prodenk-sanierung.de",
         "de",
         null,
         3,
         false
        ],
        [
         "answers.com/topic/robert-francis",
         "benign",
         "answers.com",
         "com",
         "Whois Privacy Protection Service, Inc.",
         1,
         false
        ],
        [
         "http://www.wu8188.com/cl/tpl/five-star/ver1/css/five-star.css?v=ver15.32",
         "malware",
         "wu8188.com",
         "com",
         null,
         0,
         false
        ],
        [
         "dipity.com/gordonp/Japanese_Science_Fiction_Fantasy_Horror_Films/",
         "benign",
         "dipity.com",
         "com",
         "GoDaddy.com, LLC",
         0,
         false
        ],
        [
         "genforum.genealogy.com/cochrane/",
         "benign",
         "genealogy.com",
         "com",
         "MarkMonitor Inc.",
         2,
         false
        ],
        [
         "lost-in-translation.com/",
         "benign",
         "lost-in-translation.com",
         "com",
         "Network Solutions, LLC",
         0,
         true
        ],
        [
         "http://www.djemanshy.md/photo/category/9.html",
         "defacement",
         "djemanshy.md",
         "md",
         null,
         1,
         false
        ],
        [
         "http://www.hhp.fi/index.php?option=com_rsgallery2&page=slideshow&gid=6",
         "defacement",
         "hhp.fi",
         "fi",
         "Hyv�n Hoidon Palvelut Oy",
         0,
         false
        ],
        [
         "tampabay.com/news/publicsafety/crime/clearwater-police-man-dropped-9-month-old-because-she-cried/1195251",
         "benign",
         "tampabay.com",
         "com",
         "GoDaddy.com, LLC",
         0,
         true
        ],
        [
         "rightsideva.blogspot.com/2010/11/is-hockey-stick-prof-michael-mann.html",
         "benign",
         "blogspot.com",
         "com",
         "MarkMonitor Inc.",
         0,
         false
        ],
        [
         "http://applicationforschengenvisa.com/index.php",
         "defacement",
         "applicationforschengenvisa.com",
         "com",
         null,
         2,
         true
        ],
        [
         "dictionary.sensagent.com/Sandro/en-en/",
         "benign",
         "sensagent.com",
         "com",
         "Network Solutions, LLC",
         2,
         true
        ],
        [
         "bartleby.com/100/437.html",
         "benign",
         "bartleby.com",
         "com",
         "Domain Protection Services, Inc.",
         1,
         true
        ],
        [
         "http://www.fitnessequipmentworldok.com/exercise-bikes?page=shop.product_details&flypage=flypage.tpl&category_id=7&product_id=34",
         "defacement",
         "fitnessequipmentworldok.com",
         "com",
         "REDACTED FOR PRIVACY",
         3,
         false
        ],
        [
         "altpress.com/features/entry/exclusive_stream_blaqk_audios_afterdark",
         "benign",
         "altpress.com",
         "com",
         "CSC Corporate Domains, Inc.",
         1,
         true
        ],
        [
         "smarticullties.com",
         "phishing",
         "smarticullties.com",
         "com",
         null,
         1,
         true
        ],
        [
         "fangraphs.com/blogs/index.php/wally-pipping-jason-heyward/",
         "benign",
         "fangraphs.com",
         "com",
         "DATA REDACTED",
         0,
         false
        ],
        [
         "thedublinguide.com/",
         "benign",
         "thedublinguide.com",
         "com",
         "GoDaddy.com, LLC",
         2,
         false
        ],
        [
         "sagedata.com/the_company/our-clients.html",
         "benign",
         "sagedata.com",
         "com",
         "Tucows Domains Inc.",
         1,
         true
        ],
        [
         "http://djsipke.nl/foto-album/6-sint-nykstermerke/detail/327-img1694.html?tmpl=component",
         "defacement",
         "djsipke.nl",
         "nl",
         "WebReus",
         1,
         false
        ],
        [
         "associatedcontent.com/article/5436606/largest_cities_in_north_dakota_2011.html",
         "benign",
         "associatedcontent.com",
         "com",
         "MarkMonitor Inc.",
         2,
         true
        ],
        [
         "fcfighter.stores.yahoo.net/superbrawls.html",
         "benign",
         "yahoo.net",
         "net",
         "MarkMonitor Inc.",
         1,
         true
        ],
        [
         "faqs.ign.com/objects/142/14260594.html",
         "benign",
         "ign.com",
         "com",
         "CSC Corporate Domains, Inc.",
         0,
         false
        ],
        [
         "http://www.bishopstrings.com/violin-bows/ยฃ300-ยฃ1500/index.html",
         "defacement",
         "bishopstrings.com",
         "com",
         "Mesh Digital Limited",
         0,
         false
        ],
        [
         "evri.com/organization/kcwe-0x135a9c",
         "benign",
         "evri.com",
         "com",
         "Identity Protection Service",
         1,
         false
        ],
        [
         "http://synaptixcommunications.com/index.php?%2FShowcase%2Fsimple-and-clear-educating-the-market%2FPrint.html",
         "defacement",
         "synaptixcommunications.com",
         "com",
         "Bluehost Inc.",
         0,
         true
        ],
        [
         "music.yahoo.com/econochrist/",
         "benign",
         "yahoo.com",
         "com",
         "MarkMonitor Inc.",
         0,
         false
        ],
        [
         "checkstorenow.ml",
         "phishing",
         "checkstorenow.ml",
         "ml",
         null,
         2,
         false
        ],
        [
         "1972topps.blogspot.com/2009/03/77-ron-theobald.html",
         "benign",
         "blogspot.com",
         "com",
         "MarkMonitor Inc.",
         0,
         false
        ],
        [
         "diego-fc.com",
         "phishing",
         "diego-fc.com",
         "com",
         null,
         1,
         false
        ],
        [
         "canadastop100.com/montreal/",
         "benign",
         "canadastop100.com",
         "com",
         "GoDaddy.com, LLC",
         0,
         true
        ],
        [
         "aklgammabeta.com/",
         "benign",
         "aklgammabeta.com",
         "com",
         "REDACTED FOR PRIVACY",
         1,
         true
        ],
        [
         "beaconforchange.com/municipalteam.html",
         "benign",
         "beaconforchange.com",
         "com",
         "REDACTED FOR PRIVACY",
         2,
         false
        ],
        [
         "movi.ca/actor-first/Paul/",
         "benign",
         "movi.ca",
         "ca",
         "REDACTED FOR PRIVACY",
         0,
         false
        ],
        [
         "http://thenextweb.com/in/2014/11/13/uber-introduces-paytm-digital-wallet-payments-india-response-new-e-commerce-ruling/",
         "benign",
         "thenextweb.com",
         "com",
         "Privacy service provided by Withheld for Privacy ehf",
         3,
         false
        ],
        [
         "mixedmartialarts.com/mma.cfm?go=blogs.Detail&gid=28490",
         "benign",
         "mixedmartialarts.com",
         "com",
         "REDACTED FOR PRIVACY",
         1,
         true
        ],
        [
         "healthgrades.com/group-directory/minnesota-mn/le-center/le-sueur-county-mental-health-svs-b82a27b9",
         "benign",
         "healthgrades.com",
         "com",
         "GoDaddy Corporate Domains, LLC",
         2,
         true
        ],
        [
         "http://mic.com/articles/89573/12-biggest-lies-we-re-told-in-college-graduation-speeches",
         "benign",
         "mic.com",
         "com",
         "Identity Protection Service",
         0,
         false
        ],
        [
         "catalog.ccclib.org/",
         "benign",
         "ccclib.org",
         "org",
         "Domains By Proxy, LLC",
         0,
         false
        ],
        [
         "blog.sfgate.com/inoakland/2011/07/04/cyclist-reported-missing-in-oaklandberkeley-hills/",
         "benign",
         "sfgate.com",
         "com",
         "CSC Corporate Domains, Inc.",
         1,
         true
        ],
        [
         "cityunionmission.org/about/partners/fiorellas-jack-stack-barbecue",
         "benign",
         "cityunionmission.org",
         "org",
         "City Union Mission",
         0,
         false
        ],
        [
         "brookislandrecords.com/",
         "benign",
         "brookislandrecords.com",
         "com",
         null,
         1,
         false
        ],
        [
         "people.famouswhy.com/peter_mitchell/",
         "benign",
         "famouswhy.com",
         "com",
         "REDACTED FOR PRIVACY",
         0,
         false
        ],
        [
         "youtube.com/watch?v=39d3WECNSSA",
         "benign",
         "youtube.com",
         "com",
         "Google LLC",
         1,
         false
        ],
        [
         "abebooks.com/book-search/title/five-roses-cook-book/",
         "benign",
         "abebooks.com",
         "com",
         "CSC Corporate Domains, Inc.",
         1,
         false
        ],
        [
         "articles.sfgate.com/2011-06-11/opinion/29645960_1_chauncey-bailey-project-bakery-handyman-antoine-mackey",
         "benign",
         "sfgate.com",
         "com",
         "CSC Corporate Domains, Inc.",
         1,
         true
        ],
        [
         "kalispellchristiancenter.org/team_bishop.html",
         "benign",
         "kalispellchristiancenter.org",
         "org",
         null,
         3,
         true
        ],
        [
         "utahutes.cstv.com/sports/w-gym/mtt/damianova_nansy02.html",
         "benign",
         "cstv.com",
         "com",
         "MarkMonitor Inc.",
         0,
         false
        ],
        [
         "la.findacase.com/research/wfrmDocViewer.aspx/xq/fac/SAC/LA/1995/19951215_0003029.LA.htm/qx",
         "benign",
         "findacase.com",
         "com",
         "Privacy service provided by Withheld for Privacy ehf",
         1,
         false
        ],
        [
         "beijingairlinetickets.com/",
         "benign",
         "beijingairlinetickets.com",
         "com",
         null,
         3,
         true
        ],
        [
         "uncyclopedia.wikia.com/wiki/Gilles_Duceppe",
         "benign",
         "wikia.com",
         "com",
         "Contact Privacy Inc. Customer 0130027609",
         0,
         false
        ],
        [
         "idservicetelsmsmmssfr.000webhostapp.com",
         "phishing",
         "000webhostapp.com",
         "com",
         "HOSTINGER operations, UAB",
         1,
         true
        ],
        [
         "whosdatedwho.com/sections/celebrities/first-name/Jeff",
         "benign",
         "whosdatedwho.com",
         "com",
         "REDACTED FOR PRIVACY",
         1,
         true
        ],
        [
         "http://www.ghostwriting.de/rueckruf",
         "defacement",
         "ghostwriting.de",
         "de",
         null,
         1,
         false
        ],
        [
         "dibussi.com/2010/10/unpacking-a-chinese-companys-land-grab-in-cameroon.html",
         "benign",
         "dibussi.com",
         "com",
         "GoDaddy.com, LLC",
         0,
         false
        ],
        [
         "missouriwrestling.com/news.php?recordID=300",
         "benign",
         "missouriwrestling.com",
         "com",
         "GoDaddy.com, LLC",
         1,
         false
        ],
        [
         "amazon.com/Cherry-Falls-Terror-Brittany-Murphy/dp/B000056PXL",
         "benign",
         "amazon.com",
         "com",
         "MarkMonitor Inc.",
         0,
         false
        ],
        [
         "https://hollywoodlife.com/2015/05/14/new-york-rangers-beat-washington-capitals-overtime-game-7-fan-reaction/",
         "benign",
         "hollywoodlife.com",
         "com",
         "MarkMonitor Inc.",
         1,
         false
        ],
        [
         "worldtimezone.net/time/wtzstandard.php?listsw=namerica&sorttb=CountryID",
         "benign",
         "worldtimezone.net",
         "net",
         "Krivenyshev, Alexander",
         3,
         false
        ],
        [
         "bursakombiservisi.web.tr",
         "phishing",
         "bursakombiservisi.web.tr",
         "web.tr",
         null,
         2,
         true
        ],
        [
         "blueslyrics.tripod.com/artistswithsongs/jimmy_reed_2.htm",
         "benign",
         "tripod.com",
         "com",
         "GoDaddy.com, LLC",
         0,
         false
        ],
        [
         "en.wikipedia.org/wiki/Category:County_seats_in_Pennsylvania",
         "benign",
         "wikipedia.org",
         "org",
         "Wikimedia Foundation, Inc.",
         1,
         false
        ],
        [
         "ca.local.yahoo.com/results?stx=bibliotheque&csz=St-Bruno-de-Montarville%2C%20QC",
         "benign",
         "yahoo.com",
         "com",
         "MarkMonitor Inc.",
         0,
         false
        ],
        [
         "http://www.lappiramis.hu/wordpress/wp-content/themes/twentyeleven/inc/images/index.htm",
         "phishing",
         "lappiramis.hu",
         "hu",
         null,
         0,
         false
        ],
        [
         "en.wikipedia.org/wiki/Honor%C3%A9_Mercier",
         "benign",
         "wikipedia.org",
         "org",
         "Wikimedia Foundation, Inc.",
         1,
         false
        ],
        [
         "starpacintl.com",
         "phishing",
         "starpacintl.com",
         "com",
         null,
         0,
         true
        ],
        [
         "mp3raid.com/music/justin_mcroberts.html",
         "benign",
         "mp3raid.com",
         "com",
         "GoDaddy.com, LLC",
         0,
         false
        ],
        [
         "http://9779.info/%E5%B9%BC%E5%84%BF%E5%9B%AD%E7%9A%B1%E7%BA%B9%E7%BA%B8%E7%B2%98%E8%B4%B4%E7%94%BB/",
         "malware",
         "9779.info",
         "info",
         null,
         0,
         false
        ],
        [
         "agrimonia.info/",
         "benign",
         "agrimonia.info",
         "info",
         null,
         0,
         false
        ],
        [
         "big-game-hunting-usa.com/",
         "benign",
         "big-game-hunting-usa.com",
         "com",
         null,
         1,
         true
        ],
        [
         "californiazones.net/login.asp",
         "benign",
         "californiazones.net",
         "net",
         null,
         2,
         true
        ],
        [
         "en.wikipedia.org/wiki/Marcus_Moore",
         "benign",
         "wikipedia.org",
         "org",
         "Wikimedia Foundation, Inc.",
         1,
         false
        ],
        [
         "maritimeupdates.com/index.php?option=com_content&amp;task=view&amp;id=38724&amp;Itemid=69",
         "benign",
         "maritimeupdates.com",
         "com",
         null,
         2,
         true
        ],
        [
         "huffingtonpost.com/2011/05/20/big-ten-athletes_n_864982.html",
         "benign",
         "huffingtonpost.com",
         "com",
         "BuzzFeed, Inc.",
         0,
         false
        ],
        [
         "maryvilleac.web139.discountasp.net/subpages.asp?id=28&parentid=6",
         "benign",
         "discountasp.net",
         "net",
         null,
         1,
         true
        ],
        [
         "http://papillon-vole.fr/index.php?page=shop.product_details&flypage=flypage.tpl&product_id=30&category_id=2&option=com_virtuemart&Itemid=22",
         "defacement",
         "papillon-vole.fr",
         "fr",
         null,
         1,
         false
        ],
        [
         "http://www.hippapi.org/test/itunes.login/WebObjects/iTunesConnect.html",
         "phishing",
         "hippapi.org",
         "org",
         null,
         0,
         false
        ],
        [
         "legacy.com/guestbook/washingtonpost/guestbook.aspx?n=michael-anthony-jordan&pid=16394973&page=2",
         "benign",
         "legacy.com",
         "com",
         "PERFECT PRIVACY, LLC",
         1,
         false
        ],
        [
         "inobediencetohim.com.au",
         "phishing",
         "inobediencetohim.com.au",
         "com.au",
         null,
         3,
         true
        ],
        [
         "http://www.ijsbaanapeldoorn.nl/fotos-videos.html?vsig4_0=0&vsig4_1=0",
         "defacement",
         "ijsbaanapeldoorn.nl",
         "nl",
         "Exonet B.V.",
         1,
         false
        ],
        [
         "http://habbomoedasgeraa.blogspot.com/",
         "phishing",
         "blogspot.com",
         "com",
         "MarkMonitor Inc.",
         0,
         false
        ],
        [
         "chuckhawks.com/45Colt.htm",
         "benign",
         "chuckhawks.com",
         "com",
         "REDACTED FOR PRIVACY",
         0,
         false
        ],
        [
         "allaboutjazz.com/php/musician.php?id=7574",
         "benign",
         "allaboutjazz.com",
         "com",
         "Identity Protection Service",
         0,
         true
        ],
        [
         "lincolnchristian.edu/Seminary/",
         "benign",
         "lincolnchristian.edu",
         "edu",
         null,
         1,
         true
        ],
        [
         "yangamat.com/?p=1865",
         "benign",
         "yangamat.com",
         "com",
         "REDACTED FOR PRIVACY",
         0,
         true
        ],
        [
         "mymindseye.com/",
         "benign",
         "mymindseye.com",
         "com",
         "GoDaddy.com, LLC",
         2,
         false
        ],
        [
         "blog.syracuse.com/parish/index.html",
         "benign",
         "syracuse.com",
         "com",
         "CSC Corporate Domains, Inc.",
         1,
         false
        ],
        [
         "whoabc.com/harrison-ford/",
         "benign",
         "whoabc.com",
         "com",
         "Privacy service provided by Withheld for Privacy ehf",
         0,
         false
        ],
        [
         "century21town-country.com/Property/MI/48322/West_Bloomfield/5436_PAUL_LOUIS_LN",
         "benign",
         "century21town-country.com",
         "com",
         "GoDaddy.com, LLC",
         1,
         false
        ],
        [
         "igea.net/",
         "benign",
         "igea.net",
         "net",
         "REDACTED FOR PRIVACY",
         2,
         true
        ],
        [
         "evri.com/person/graeme-dunstan-0x58f76",
         "benign",
         "evri.com",
         "com",
         "Identity Protection Service",
         1,
         false
        ],
        [
         "baseballjump.com/baseball-memorabilia/kansas-city-royals",
         "benign",
         "baseballjump.com",
         "com",
         "Fanatics, LLC",
         1,
         false
        ],
        [
         "http://thenextweb.com/insider/2015/05/05/foursquare-leverages-its-geolocation-technology-with-location-cloud-and-places/",
         "benign",
         "thenextweb.com",
         "com",
         "Privacy service provided by Withheld for Privacy ehf",
         3,
         false
        ],
        [
         "interceder.net/topic/ciccone",
         "benign",
         "interceder.net",
         "net",
         "GoDaddy.com, LLC",
         4,
         false
        ],
        [
         "http://ak.imgfarm.com/images/nocache/vicinio/installers/205320000.S10570.1/507981-150710122501-S10570.1/VideoDownloadConvertAuto.exe_0",
         "malware",
         "imgfarm.com",
         "com",
         "Ask Applications, Inc.",
         0,
         false
        ],
        [
         "ussoccer.com/News/U-17-MNT/2005/12/U-S-U-17-MNT-Fall-2-0-To-Mexico-At-Los-Angeles-Memorial-Coliseum.aspx",
         "benign",
         "ussoccer.com",
         "com",
         "GoDaddy.com, LLC",
         1,
         false
        ],
        [
         "http://www.0068555.com/cl/?module=System&method=LiveTop&args=livehall",
         "malware",
         "0068555.com",
         "com",
         null,
         0,
         false
        ],
        [
         "jbworld.jbs.st-louis.mo.us/",
         "benign",
         "st-louis.mo.us",
         "mo.us",
         "Shannon Spurling",
         0,
         false
        ],
        [
         "http://twitter.com/home?status=%E3%83%8C%E3%81%91%E3%82%8B%EF%BC%81%E3%80%90%E7%BE%8E%E5%B0%91%E5%A5%B3%E3%80%91+http%3A%2F%2Fero-video.net%2Ft%2FmAsWlaomtJkLLbgk+%E6%95%99%E3%81%88%E5%AD%90%E3%81%AF%E7%BE%8E%E3%83%9E%E3%83%B3%E5%A5%B3%E5%AD%90%E6%A0%A1%E7%94%9F+%23ero+%23douga+%23agesage",
         "benign",
         "twitter.com",
         "com",
         "CSC Corporate Domains, Inc.",
         1,
         false
        ],
        [
         "gothiclolitawigs.deviantart.com/",
         "benign",
         "deviantart.com",
         "com",
         "GoDaddy.com, LLC",
         1,
         true
        ],
        [
         "http://haberler.com/galatasaray-mersin-idman-yurdu-nu-1-0-yendi-7303426-haberi-yorumlari/",
         "benign",
         "haberler.com",
         "com",
         "REDACTED FOR PRIVACY",
         2,
         false
        ],
        [
         "archive.org/stream/morenosdictionar00morerich/morenosdictionar00morerich_djvu.txt",
         "benign",
         "archive.org",
         "org",
         "Internet Archive",
         1,
         false
        ],
        [
         "http://cheezburger.com/8440974848/funny-fail-photo-portrait-bobby-jindal-politics?ref=rightarrow&siteId=1264",
         "benign",
         "cheezburger.com",
         "com",
         "GoDaddy.com, LLC",
         3,
         false
        ],
        [
         "bergschneiderfamily.com/Bergschneider_Family_Newsletter/news.html",
         "benign",
         "bergschneiderfamily.com",
         "com",
         null,
         3,
         false
        ],
        [
         "http://www.easycaptchas.com/2F3F28039730C12A5C112FE0D5FEFA2E.captcha?width=132&height=42",
         "malware",
         "easycaptchas.com",
         "com",
         "EasyCaptChas.com",
         1,
         true
        ],
        [
         "linkedin.com/pub/dir/mike/gibbons",
         "benign",
         "linkedin.com",
         "com",
         "MarkMonitor Inc.",
         1,
         false
        ],
        [
         "http://www.aquamarinadivingtenerife.com/en.1",
         "defacement",
         "aquamarinadivingtenerife.com",
         "com",
         "IONOS SE",
         3,
         true
        ],
        [
         "youtube.com/watch?v=vt8vA1v3hyo",
         "benign",
         "youtube.com",
         "com",
         "MarkMonitor Inc.",
         1,
         false
        ],
        [
         "soa.sys-con.com/node/380232",
         "benign",
         "sys-con.com",
         "com",
         "GoDaddy.com, LLC",
         0,
         false
        ],
        [
         "evri.com/person/s.-jay-plager-0x376ac",
         "benign",
         "evri.com",
         "com",
         "Identity Protection Service",
         1,
         false
        ],
        [
         "http://tobogo.net/cdsb/board.php?board=issue&bm=view&no=2338&category=&auth=&page=1&search=&keyword=&recom=",
         "benign",
         "tobogo.net",
         "net",
         "GoDaddy.com, LLC",
         1,
         false
        ],
        [
         "heritageapp.cyr.gov.sk.ca/public/",
         "benign",
         "gov.sk.ca",
         "sk.ca",
         "GoS SaskBuilds & Procurement",
         0,
         false
        ],
        [
         "mastersoftrivia.com/blog/2011/06/june-20th-in-history-it-happened-today/",
         "benign",
         "mastersoftrivia.com",
         "com",
         "REDACTED FOR PRIVACY",
         1,
         true
        ],
        [
         "eduplace.com/kids/mhm/",
         "benign",
         "eduplace.com",
         "com",
         "Network Solutions, LLC",
         2,
         false
        ],
        [
         "ru-net.cv.ua/wp-content/config/file.php",
         "malware",
         "ru-net.cv.ua",
         "cv.ua",
         null,
         1,
         true
        ],
        [
         "http://www.hmaca.com/winnipeg-accounting-blog/tag/winnipeg-accpac-certified-consultant/index.html",
         "defacement",
         "hmaca.com",
         "com",
         "Arthur Lakomski",
         0,
         false
        ],
        [
         "carto.net/neumann/photographs/2007/kerzers_papiliorama_2007_11_04/12_white_tree_nymph_weisse_baumnymphe_idea_leuconoe.html",
         "benign",
         "carto.net",
         "net",
         "REDACTED FOR PRIVACY",
         1,
         true
        ],
        [
         "bigbandpdfs.com/",
         "benign",
         "bigbandpdfs.com",
         "com",
         null,
         0,
         false
        ],
        [
         "http://gazomer.com/vodonagrevateli/vodonagrevateli-nak-type/36-titan-rfb-50f",
         "defacement",
         "gazomer.com",
         "com",
         null,
         1,
         false
        ],
        [
         "cms.skidmore.edu/odsp/programs/arts/flute/faculty.cfm",
         "benign",
         "skidmore.edu",
         "edu",
         null,
         2,
         false
        ],
        [
         "lima-ny.org/",
         "benign",
         "lima-ny.org",
         "org",
         "Data Protected",
         0,
         false
        ],
        [
         "http://www.dynamicstrategies.com.au/dynamic-strategies",
         "defacement",
         "dynamicstrategies.com.au",
         "com.au",
         "Dynamic Strategies Pty Ltd",
         2,
         true
        ],
        [
         "en.wikipedia.org/wiki/Lartigue",
         "benign",
         "wikipedia.org",
         "org",
         "Wikimedia Foundation, Inc.",
         1,
         false
        ],
        [
         "http://icicibank.com/Personal-Banking/insurance/general-insurance/health-insurance/index.page",
         "benign",
         "icicibank.com",
         "com",
         "Network Solutions, LLC",
         0,
         false
        ],
        [
         "topix.com/ca/cabano-qc",
         "benign",
         "topix.com",
         "com",
         "Network Solutions, LLC",
         0,
         false
        ],
        [
         "lyrics007.com/Planet%20Smashers%20Lyrics/Janice%20Lyrics.html",
         "benign",
         "lyrics007.com",
         "com",
         "Redacted for privacy",
         0,
         false
        ],
        [
         "http://www.connexion3.gr/el/news/32-neo-site-amesotis",
         "defacement",
         "connexion3.gr",
         "gr",
         null,
         1,
         false
        ],
        [
         "http://www.duplexindustrial.com.au/salla-max.html",
         "defacement",
         "duplexindustrial.com.au",
         "com.au",
         "DUPLEX CLEANING MACHINES PTY. LTD.",
         1,
         true
        ],
        [
         "conservapedia.com/Republican_Party",
         "benign",
         "conservapedia.com",
         "com",
         "Wild West Domains, LLC",
         2,
         false
        ],
        [
         "icehockey.wikia.com/wiki/Jesse_Scanzano",
         "benign",
         "wikia.com",
         "com",
         "Contact Privacy Inc. Customer 0130027609",
         0,
         false
        ],
        [
         "iagenweb.org/madison/marriage_records/mr_marston-maxon.html",
         "benign",
         "iagenweb.org",
         "org",
         "Contact Privacy Inc. Customer 0118734897",
         2,
         false
        ],
        [
         "punkkie.wordpress.com/2011/11/03/spiritualized-ladies-and-gentlemen-we-are-floating-in-space-2/",
         "benign",
         "wordpress.com",
         "com",
         "Automattic, Inc.",
         1,
         false
        ],
        [
         "wilsonstatebank.net/",
         "benign",
         "wilsonstatebank.net",
         "net",
         "Englert, Jason",
         2,
         true
        ],
        [
         "weddingwire.com/wedding-songs/garter-removal-music/wanna-be-your-lover/943a52b86500a099.html",
         "benign",
         "weddingwire.com",
         "com",
         "Whois Privacy Service",
         2,
         false
        ],
        [
         "facebook.com/SkyeBlueC",
         "benign",
         "facebook.com",
         "com",
         "Meta Platforms, Inc.",
         1,
         false
        ],
        [
         "http://motthegioi.vn/tin-tuc/thoi-quen-an-nhieu-dua-ca-cua-nguoi-viet-khien-benh-ung-thu-tang-cao-188148.html",
         "benign",
         "motthegioi.vn",
         "vn",
         null,
         1,
         false
        ],
        [
         "isthisyour.name/directory/fullnames/ma~pelton.htm",
         "benign",
         "isthisyour.name",
         "name",
         null,
         1,
         true
        ],
        [
         "wikitree.com/genealogy/De%20Chauvigny-Family-Tree-6",
         "benign",
         "wikitree.com",
         "com",
         "REDACTED FOR PRIVACY",
         2,
         false
        ],
        [
         "new.ca.music.yahoo.com/josh/",
         "benign",
         "yahoo.com",
         "com",
         "Yahoo Assets LLC",
         0,
         false
        ],
        [
         "ehow.com/video_4766621_invest-privately-held-company.html",
         "benign",
         "ehow.com",
         "com",
         "TechnologyAdvice",
         1,
         false
        ],
        [
         "http://mueblesjulianjimenez.es/index.php?page=shop.browse&category_id=3&option=com_virtuemart&Itemid=7",
         "defacement",
         "mueblesjulianjimenez.es",
         "es",
         null,
         5,
         false
        ],
        [
         "youtube.com/watch?v=mgMZ8ZNajpg",
         "benign",
         "youtube.com",
         "com",
         "Google LLC",
         1,
         false
        ],
        [
         "http://www.autoursdurock.info/index.php?option=com_content&view=article&id=106&Itemid=229",
         "defacement",
         "autoursdurock.info",
         "info",
         null,
         0,
         true
        ],
        [
         "sertoma-gl-region.org/",
         "benign",
         "sertoma-gl-region.org",
         "org",
         null,
         2,
         true
        ],
        [
         "vale-healthcare.com/hand-clinic/",
         "benign",
         "vale-healthcare.com",
         "com",
         "CSC Corporate Domains, Inc.",
         3,
         true
        ],
        [
         "proplast.co.nz",
         "malware",
         "proplast.co.nz",
         "co.nz",
         null,
         0,
         true
        ],
        [
         "sixgoody.com",
         "phishing",
         "sixgoody.com",
         "com",
         null,
         0,
         false
        ],
        [
         "imdb.com/name/nm0589603/",
         "benign",
         "imdb.com",
         "com",
         "IMDb.com, Inc.",
         0,
         false
        ],
        [
         "quotes-famous.com/person/Lionel-Tiger-quotes.html",
         "benign",
         "quotes-famous.com",
         "com",
         "DATA REDACTED",
         1,
         true
        ],
        [
         "http://torcache.net/torrent/722B98D9F645DF03E5D760EBD58F8D36A6EAFF3B.torrent?title=[kickass.to]sword.of.vengeance.2015.720p.brrip.x264.yify",
         "benign",
         "torcache.net",
         "net",
         "Jewella Privacy LLC Privacy ID# 1183090",
         2,
         true
        ],
        [
         "gouldsminorhockey.com/news.php",
         "benign",
         "gouldsminorhockey.com",
         "com",
         null,
         1,
         false
        ],
        [
         "hotnewsofday.com/college-football-hall-of-fame.html",
         "benign",
         "hotnewsofday.com",
         "com",
         "Whois Privacy Protection Service by MuuMuuDomain",
         1,
         true
        ],
        [
         "thefreelibrary.com/The+Hockey+Company+Holdings+Inc.+Announces+Acquisition+of+Lifestyle...-a0106768219",
         "benign",
         "thefreelibrary.com",
         "com",
         "DATA REDACTED",
         3,
         true
        ],
        [
         "mylife.com/c-1232369030",
         "benign",
         "mylife.com",
         "com",
         "Network Solutions, LLC",
         1,
         false
        ],
        [
         "cableslovenia.com/",
         "benign",
         "cableslovenia.com",
         "com",
         null,
         2,
         false
        ],
        [
         "hotladybody.com/2010/08/making-of-brazilian-playboy-cleo-pires.html",
         "benign",
         "hotladybody.com",
         "com",
         null,
         0,
         true
        ],
        [
         "sideshowtoy.com/?page_id=4489&sku=9004721",
         "benign",
         "sideshowtoy.com",
         "com",
         "Network Solutions, LLC",
         1,
         false
        ],
        [
         "hobbylinc.com/htm/bac/bac50906.htm?source=froogle",
         "benign",
         "hobbylinc.com",
         "com",
         "GoDaddy.com, LLC",
         0,
         false
        ],
        [
         "http://www.gypsyspirit.eu/cz/vyhlaovatele-a-partnei",
         "defacement",
         "gypsyspirit.eu",
         "eu",
         "Cloud DNS Ltd",
         1,
         false
        ],
        [
         "account-security-centre20181712.000webhostapp.com",
         "phishing",
         "000webhostapp.com",
         "com",
         "HOSTINGER operations, UAB",
         1,
         true
        ],
        [
         "http://batutik.com.ua/produkcziya/batutinaduvnie/23-batut.html",
         "defacement",
         "batutik.com.ua",
         "com.ua",
         "ТОВ \"Центр інтернет-імен України\"",
         0,
         true
        ],
        [
         "http://9779.info/%E4%BA%94%E8%B0%B7%E6%9D%82%E7%B2%AE%E4%BA%BA%E7%89%A9%E7%B2%98%E8%B4%B4%E7%94%BB/",
         "malware",
         "9779.info",
         "info",
         null,
         0,
         false
        ],
        [
         "mind-world.com/",
         "benign",
         "mind-world.com",
         "com",
         "Tucows Domains Inc.",
         0,
         false
        ],
        [
         "pipl.com/directory/name/Lillie/Kathleen",
         "benign",
         "pipl.com",
         "com",
         "GoDaddy.com, LLC",
         0,
         false
        ],
        [
         "asunderpress.com/",
         "benign",
         "asunderpress.com",
         "com",
         "REDACTED FOR PRIVACY",
         2,
         false
        ],
        [
         "http://dribbble.com/shots/1269523-Sperant-mobile-sidebar-concepts/attachments/174429",
         "benign",
         "dribbble.com",
         "com",
         "c/o whoisproxy.com",
         1,
         false
        ],
        [
         "http://appleid.apple.co.uk.cgi-bin.webobjects.myappleid.woa.verify9.eu-id3.net/identify-customer=7gqIFbqj8arzSIQO5462DGWSCYDxgFcMXV0VVmRocB9YDXSVIl1eZXQ59t7hONf6Cy0nMNK3AXoC9tBGK0a7HH4hMrD16GBsW593/",
         "phishing",
         "eu-id3.net",
         "net",
         null,
         2,
         false
        ],
        [
         "http://www.chromashop.fr/index.php/actualites?start=12",
         "defacement",
         "chromashop.fr",
         "fr",
         "PLANETHOSTER",
         0,
         false
        ],
        [
         "ababmx.com/index.php?page=default/halloffame&year=1999",
         "benign",
         "ababmx.com",
         "com",
         "GoDaddy.com, LLC",
         0,
         false
        ],
        [
         "scr-paypal.co.uk",
         "phishing",
         "scr-paypal.co.uk",
         "co.uk",
         null,
         0,
         false
        ],
        [
         "http://www.geothermalanywhere.com/news/113-geothermal-anywhere-among-top-8-cleantech-vcs-opportunities-in-europe-selected-from-850-startups.html?lang=en",
         "defacement",
         "geothermalanywhere.com",
         "com",
         "Gransy, s.r.o.",
         4,
         true
        ],
        [
         "http://www.italy-itf.com/index.php?option=com_phocagallery&view=detail&catid=1:home-page-collection&id=25:01-10-2010-apertura-stagione-itf-italia&tmpl=component&Itemid=93",
         "defacement",
         "italy-itf.com",
         "com",
         "Contact Privacy Inc. Customer 017072443",
         0,
         true
        ],
        [
         "http://haishundl.com/a/qinpengqipaiguanfangxiazai/20131019/263.html",
         "malware",
         "haishundl.com",
         "com",
         "Gname 122 Inc",
         0,
         false
        ],
        [
         "glassdoor.com/Job/Grassroots-Campaigns-Inc-Jobs-E149346.htm",
         "benign",
         "glassdoor.com",
         "com",
         "Glassdoor, Inc.",
         0,
         false
        ],
        [
         "amazon.com/Songs-Debussy/dp/B00007FKRI",
         "benign",
         "amazon.com",
         "com",
         "MarkMonitor Inc.",
         0,
         false
        ],
        [
         "http://torcache.net/torrent/3B72AAC22AE198BDF5CD9EDE72F8E118E8371008.torrent?title=[kickass.to]game.of.thrones.s05e05.720p.hdtv.x264.0sec",
         "benign",
         "torcache.net",
         "net",
         "Jewella Privacy LLC Privacy ID# 1183090",
         2,
         true
        ],
        [
         "http://www.mtb-bad-harzburg.de/index.php/bilder",
         "defacement",
         "mtb-bad-harzburg.de",
         "de",
         null,
         1,
         true
        ],
        [
         "http://9779.info/%E5%8D%8A%E7%AB%8B%E4%BD%93%E5%B9%BC%E5%84%BF%E5%89%AA%E8%B4%B4%E7%94%BB/",
         "malware",
         "9779.info",
         "info",
         null,
         0,
         false
        ],
        [
         "yelp.ca/biz/jean-jacques-campeau-gatineau",
         "benign",
         "yelp.ca",
         "ca",
         "Yelp Inc. TMA 858370",
         1,
         false
        ],
        [
         "google.com/hostednews/afp/article/ALeqM5iK8qoGy6KCQ835kZ1ps-VBbCEmqg?docId=CNG.70c74f0238858f49a6b97a2c9ed0618b.71",
         "benign",
         "google.com",
         "com",
         "Google LLC",
         1,
         false
        ],
        [
         "http://www.centerimoveis.com.br/servicos/locacao-de-imoveis/imprimir.html",
         "defacement",
         "centerimoveis.com.br",
         "com.br",
         "Center Imoveis S/C Ltda.",
         3,
         false
        ],
        [
         "http://deadspin.com/5746724/is-erin-andrews-reebok-endorsement-deal-journalistically-unethical",
         "benign",
         "deadspin.com",
         "com",
         "Privacy service provided by Withheld for Privacy ehf",
         1,
         false
        ],
        [
         "en.wikipedia.org/wiki/Pierre_Dupuy",
         "benign",
         "wikipedia.org",
         "org",
         "Wikimedia Foundation, Inc.",
         1,
         false
        ],
        [
         "forums.lazygirls.info/419484.html",
         "benign",
         "lazygirls.info",
         "info",
         null,
         0,
         false
        ],
        [
         "wn.com/American_Football_League",
         "benign",
         "wn.com",
         "com",
         "NameCheap, Inc.",
         0,
         false
        ],
        [
         "reviews.creditkarma.com/credit-unions/communityamerica-credit-union1/1/",
         "benign",
         "creditkarma.com",
         "com",
         "CSC Corporate Domains, Inc.",
         1,
         true
        ],
        [
         "r1ma.blogspot.com/2011/11/anais-pouliot-in-diva-by-anthony-maule.html",
         "benign",
         "blogspot.com",
         "com",
         "Google LLC",
         0,
         false
        ],
        [
         "songlyrics.com/arrogant-worms-the/the-happy-happy-birthday-song-lyrics/",
         "benign",
         "songlyrics.com",
         "com",
         "Domain Protection Services, Inc.",
         0,
         false
        ],
        [
         "northjersey.com/news/022411_Report_recommends_scrapping_urban_enterprise_zones.html",
         "benign",
         "northjersey.com",
         "com",
         "GoDaddy Corporate Domains, LLC",
         2,
         false
        ],
        [
         "flixster.com/videos",
         "benign",
         "flixster.com",
         "com",
         "MarkMonitor Inc.",
         1,
         false
        ],
        [
         "en.wikipedia.org/wiki/Francine_Lalonde",
         "benign",
         "wikipedia.org",
         "org",
         "Wikimedia Foundation, Inc.",
         1,
         false
        ],
        [
         "shgresources.com/ca/timeline/",
         "benign",
         "shgresources.com",
         "com",
         "GoDaddy.com, LLC",
         2,
         false
        ],
        [
         "http://www.masrealestate.it/index.php?option=com_mailto&tmpl=component&link=aHR0cDovL3d3dy5tYXNyZWFsZXN0YXRlLml0L2luZGV4LnBocD9vcHRpb249Y29tX2NvbnRlbnQmdmlldz1hcnRpY2xlJmlkPTclM0Fjb25zdWxlbnphJkl0ZW1pZD04Jmxhbmc9ZW4=&lang=en",
         "defacement",
         "masrealestate.it",
         "it",
         "mas real estate & consulting Srl",
         3,
         true
        ],
        [
         "lemonamiga.com/?game_id=352",
         "benign",
         "lemonamiga.com",
         "com",
         "Privacy service provided by Withheld for Privacy ehf",
         1,
         false
        ],
        [
         "mylife.com/laurakjohnson82",
         "benign",
         "mylife.com",
         "com",
         "Network Solutions, LLC",
         1,
         false
        ],
        [
         "how-to-kiss.net/types-of-kisses.php",
         "benign",
         "how-to-kiss.net",
         "net",
         null,
         1,
         false
        ],
        [
         "ca.linkedin.com/pub/shannon-gaskell/14/262/100",
         "benign",
         "linkedin.com",
         "com",
         "LinkedIn Corporation",
         1,
         false
        ],
        [
         "jackianderson.com/",
         "benign",
         "jackianderson.com",
         "com",
         null,
         1,
         false
        ],
        [
         "tvrage.com/person/id-34775/Hans+Conried",
         "benign",
         "tvrage.com",
         "com",
         "Porkbun LLC",
         1,
         true
        ],
        [
         "http://www.sementimenzo.it/dove-siamo/2.html",
         "defacement",
         "sementimenzo.it",
         "it",
         "F.lli Menzo Sas di Menzo Epifanio Salvatore",
         3,
         false
        ],
        [
         "http://www.bkr-laserscanning.de/index.php?option=com_mailto&tmpl=component&link=aHR0cDovL3d3dy5ia3ItbGFzZXJzY2FubmluZy5kZS9pbmRleC5waHA%2Fb3B0aW9uPWNvbV9jb250ZW50JnZpZXc9YXJ0aWNsZSZpZD05ODpzdG9lcmthbnRlbm1vZGVsbC1mdWVyLXJvYm90ZXJzaW11bGF0aW9uJmNhdGlkPTQzOmluaGFsdGUmSXRlbWlkPTY4",
         "defacement",
         "bkr-laserscanning.de",
         "de",
         null,
         2,
         false
        ],
        [
         "alkire.org/gen/ohio/d0033/f0000003.html",
         "benign",
         "alkire.org",
         "org",
         "Domains By Proxy, LLC",
         1,
         false
        ],
        [
         "wendylynncustomhomes.com/",
         "benign",
         "wendylynncustomhomes.com",
         "com",
         null,
         2,
         false
        ],
        [
         "biomedexperts.com/Profile.bme/282390/Fran%c3%a7ois_Dabis",
         "benign",
         "biomedexperts.com",
         "com",
         "Data protected, not disclosed",
         3,
         false
        ],
        [
         "http://www.sezioneanatreviso.it/index.php?option=com_mailto&tmpl=component&link=cc85e277afa8d49b301bfe3a29eddc69a0e4b2c1",
         "defacement",
         "sezioneanatreviso.it",
         "it",
         null,
         3,
         true
        ],
        [
         "toctok.com.mx",
         "phishing",
         "toctok.com.mx",
         "com.mx",
         "KONIBIT MEXICO, S.A. DE C.V.",
         0,
         false
        ],
        [
         "http://www.bruynzeelmultipanel.be/index.php?option=com_content&view=article&id=20&Itemid=21",
         "defacement",
         "bruynzeelmultipanel.be",
         "be",
         null,
         4,
         true
        ],
        [
         "afcubridge.org/",
         "benign",
         "afcubridge.org",
         "org",
         "REDACTED",
         1,
         false
        ],
        [
         "archives.cbc.ca/society/religion_spirituality/clips/6024/",
         "benign",
         "cbc.ca",
         "ca",
         "Réjean Lafrance",
         0,
         false
        ],
        [
         "http://www.honarcinema.com/index.php?option=com_content&view=frontpage&Itemid=1&limitstart=10",
         "defacement",
         "honarcinema.com",
         "com",
         null,
         1,
         false
        ],
        [
         "bonjourlafrance.com/france-history/bourbon-dynasty.htm",
         "benign",
         "bonjourlafrance.com",
         "com",
         "NameCheap, Inc.",
         1,
         false
        ],
        [
         "everyguitarist.com/billie_joe_armstrong.htm",
         "benign",
         "everyguitarist.com",
         "com",
         "Statutory Masking Enabled",
         2,
         true
        ],
        [
         "myeasyauction.com/",
         "benign",
         "myeasyauction.com",
         "com",
         "GoDaddy.com, LLC",
         1,
         true
        ],
        [
         "psychology.wikia.com/wiki/Ian_Stevenson",
         "benign",
         "wikia.com",
         "com",
         "Contact Privacy Inc. Customer 0130027609",
         0,
         false
        ],
        [
         "familysearch.org/learn/wiki/en/Lenawee_County%2C_Michigan",
         "benign",
         "familysearch.org",
         "org",
         "Intellectual Reserve, Inc.",
         1,
         false
        ],
        [
         "sciway.net/statistics/scsa98/tr/tr12.html",
         "benign",
         "sciway.net",
         "net",
         "SCIway.net, LLC",
         1,
         true
        ],
        [
         "twaflightattendants.com/liftoffhtml/historytimeline.html",
         "benign",
         "twaflightattendants.com",
         "com",
         "Privacy service provided by Withheld for Privacy ehf",
         1,
         true
        ],
        [
         "corporationwiki.com/Florida/Miami/shakir-saafir-P6169609.aspx",
         "benign",
         "corporationwiki.com",
         "com",
         "GoDaddy.com, LLC",
         0,
         true
        ],
        [
         "nils-fabisch.de/",
         "benign",
         "nils-fabisch.de",
         "de",
         null,
         1,
         false
        ],
        [
         "deiradios.radio-dealers.com/aboutus.cfm?did=4c4e5e54-af9a-4c14-a266-b11c54e7a4e0&cat_id=1",
         "benign",
         "radio-dealers.com",
         "com",
         "Redacted for privacy",
         2,
         false
        ],
        [
         "http://nguyentandung.org/141-ha-noi-phat-hien-nhanh-2-xe-di-muon-la-xe-trom-cap.html",
         "benign",
         "nguyentandung.org",
         "org",
         "Domains By Proxy, LLC",
         1,
         true
        ],
        [
         "http://www.mbdalmezun.com/search.htm",
         "defacement",
         "mbdalmezun.com",
         "com",
         null,
         1,
         false
        ],
        [
         "britannica.com/EBchecked/topic/59931/Saul-Bellow",
         "benign",
         "britannica.com",
         "com",
         "CSC Corporate Domains, Inc.",
         0,
         true
        ],
        [
         "jennieo.com/",
         "benign",
         "jennieo.com",
         "com",
         "Data protected, not disclosed",
         2,
         false
        ],
        [
         "http://r-tuning.com.ua/index.php?option=com_virtuemart&page=shop.browse&category_id=444&Itemid=1",
         "defacement",
         "r-tuning.com.ua",
         "com.ua",
         "ФОП Хилюк Петро Миколайович",
         0,
         true
        ],
        [
         "songlyrics.com/flipsyde/laserbeam-lyrics/",
         "benign",
         "songlyrics.com",
         "com",
         "Domain Protection Services, Inc.",
         0,
         false
        ],
        [
         "http://www.prhelp.com.au/news-and-interesting-stuff/news/49-prhelp-now-on-msp",
         "defacement",
         "prhelp.com.au",
         "com.au",
         null,
         1,
         false
        ],
        [
         "vertor.com/download/la+donna+della+mia++vita",
         "benign",
         "vertor.com",
         "com",
         "REDACTED FOR PRIVACY",
         1,
         false
        ],
        [
         "reunion.com/richardbolen/",
         "benign",
         "reunion.com",
         "com",
         "Network Solutions, LLC",
         1,
         false
        ],
        [
         "en.wikipedia.org/wiki/Ross_Macdonald",
         "benign",
         "wikipedia.org",
         "org",
         "Wikimedia Foundation, Inc.",
         1,
         false
        ],
        [
         "imdb.com/name/nm1884657/bio",
         "benign",
         "imdb.com",
         "com",
         "IMDb.com, Inc.",
         0,
         false
        ],
        [
         "famouspoetsandpoems.com/poets/maya_angelou/biography",
         "benign",
         "famouspoetsandpoems.com",
         "com",
         "Jewella Privacy LLC Privacy ID# 12714329",
         2,
         true
        ],
        [
         "cleveland.com/arts/index.ssf/2010/04/community_theaters_in_northeas.html",
         "benign",
         "cleveland.com",
         "com",
         "CSC Corporate Domains, Inc.",
         2,
         false
        ],
        [
         "http://www.naylorantiques.com/MRR%20Uhzs/twGEShRCGGSDAMSWUtjTUgyUIvxFqOEJwHa/",
         "phishing",
         "naylorantiques.com",
         "com",
         "GoDaddy.com, LLC",
         1,
         true
        ],
        [
         "en.wikipedia.org/wiki/List_of_counties_in_California",
         "benign",
         "wikipedia.org",
         "org",
         "Wikimedia Foundation, Inc.",
         1,
         false
        ],
        [
         "docstoc.com/docs/6132660/History_of_Stoke_City_FC",
         "benign",
         "docstoc.com",
         "com",
         "GoDaddy.com, LLC",
         0,
         false
        ],
        [
         "http://www.ahminspections.ca/realestateagents/7?phpMyAdmin=so8kK4koEHUy-VVzS9wK2LuLOK6",
         "defacement",
         "ahminspections.ca",
         "ca",
         "Avanti Home and Mold Inspections Limited",
         1,
         true
        ],
        [
         "wsn.com/football/norwegian-2-division-avd-2-fixtures/",
         "benign",
         "wsn.com",
         "com",
         "GoDaddy.com, LLC",
         0,
         false
        ],
        [
         "http://tobogo.net/cdsb/board.php?board=storymusic&bm=view&no=250&category=&auth=&page=1&search=&keyword=&recom=",
         "benign",
         "tobogo.net",
         "net",
         "GoDaddy.com, LLC",
         1,
         false
        ],
        [
         "imdb.com/keyword/erotic-thriller/",
         "benign",
         "imdb.com",
         "com",
         "IMDb.com, Inc.",
         0,
         false
        ],
        [
         "starpulse.com/Music/Shakira/Discography/album/P174707/R744021/",
         "benign",
         "starpulse.com",
         "com",
         null,
         1,
         true
        ],
        [
         "sportsillustrated.cnn.com/vault/article/magazine/MAG1006891/index.htm",
         "benign",
         "cnn.com",
         "com",
         "Turner Broadcasting System, Inc.",
         0,
         false
        ],
        [
         "mailtribune.com/apps/pbcs.dll/article?AID=/20110719/NEWS/107190317",
         "benign",
         "mailtribune.com",
         "com",
         "Network Solutions, LLC",
         1,
         true
        ],
        [
         "http://9779.info/%E9%A3%9E%E6%9C%BA%E6%A0%91%E5%8F%B6%E7%B2%98%E8%B4%B4%E7%94%BB/",
         "malware",
         "9779.info",
         "info",
         null,
         0,
         false
        ],
        [
         "http://aksniwka.com/klub/stadion",
         "defacement",
         "aksniwka.com",
         "com",
         "REDACTED FOR PRIVACY",
         0,
         false
        ],
        [
         "reading-glasses.bttradespace.com/our-galleries/designer-eyewear/gallery-item?mediaId=759870EFDA70C63EE0401BAC7101193D",
         "benign",
         "bttradespace.com",
         "com",
         "Statutory Masking Enabled",
         2,
         true
        ],
        [
         "babepedia.com/babe/Lanny_Barby",
         "benign",
         "babepedia.com",
         "com",
         "Privacy service provided by Withheld for Privacy ehf",
         2,
         false
        ],
        [
         "spokeo.com/Brian+Watts",
         "benign",
         "spokeo.com",
         "com",
         "REDACTED FOR PRIVACY",
         1,
         false
        ],
        [
         "http://www.unitre.org/index.php?option=com_wrapper&view=wrapper&Itemid=180&el_mcal_month=3&el_mcal_year=2013",
         "defacement",
         "unitre.org",
         "org",
         "REDACTED",
         1,
         false
        ],
        [
         "whatifsports.com/nfl-l/profile_team.asp?hfid=26",
         "benign",
         "whatifsports.com",
         "com",
         "NameCheap, Inc.",
         0,
         true
        ],
        [
         "whatisjameswearing.com/george-smith-showrooms/",
         "benign",
         "whatisjameswearing.com",
         "com",
         "GoDaddy.com, LLC",
         2,
         true
        ],
        [
         "http://olx.co.id/i2/jasa-lowongan-kerja/jasa/jasa-lainnya/jasa-lowongan-kerja/jasa/jasa-lainnya",
         "benign",
         "olx.co.id",
         "co.id",
         null,
         0,
         false
        ],
        [
         "freebase.com/view/en/commerce_bancshares",
         "benign",
         "freebase.com",
         "com",
         "Google LLC",
         3,
         false
        ],
        [
         "filmsandtv.com/movies/danielpilon.php",
         "benign",
         "filmsandtv.com",
         "com",
         "GoDaddy.com, LLC",
         0,
         true
        ],
        [
         "http://www.smk86.ru/katalogtovara.html?sobi2Task=sobi2Details&catid=5&sobi2Id=38",
         "defacement",
         "smk86.ru",
         "ru",
         "OOO StroiMontajCompkect",
         0,
         false
        ],
        [
         "videosurf.com/the-ellen-degeneres-show-17804",
         "benign",
         "videosurf.com",
         "com",
         "Privacy service provided by Withheld for Privacy ehf",
         1,
         false
        ],
        [
         "pipl.com/directory/people/gary/sabaugh",
         "benign",
         "pipl.com",
         "com",
         "GoDaddy.com, LLC",
         0,
         false
        ],
        [
         "discogs.com/Pixies-Trompe-Le-Monde/master/16797",
         "benign",
         "discogs.com",
         "com",
         "Amazon Registrar, Inc.",
         0,
         false
        ],
        [
         "http://www.czdesign.cz/kalenda/search.form/2013/01/31/-.html",
         "defacement",
         "czdesign.cz",
         "cz",
         "WEBINVEST",
         1,
         false
        ],
        [
         "http://papillon-vole.fr/index.php?page=shop.product_details&flypage=flypage.tpl&product_id=844&category_id=10&option=com_virtuemart&Itemid=22",
         "defacement",
         "papillon-vole.fr",
         "fr",
         null,
         1,
         false
        ],
        [
         "http://lasqc.com/index.php?option=com_content&view=article&id=64&Itemid=173",
         "defacement",
         "lasqc.com",
         "com",
         null,
         0,
         false
        ],
        [
         "stacey-hannant.co.uk/",
         "benign",
         "stacey-hannant.co.uk",
         "co.uk",
         null,
         1,
         true
        ],
        [
         "americansoccernews.net/2009/op-ed/a-business-model-for-american-specifically-mls-soccer-news/",
         "benign",
         "americansoccernews.net",
         "net",
         "Privacy service provided by Withheld for Privacy ehf",
         4,
         true
        ],
        [
         "http://practicaleyes.net/consulting/165-communications-consultancy.html",
         "defacement",
         "practicaleyes.net",
         "net",
         "Amazon Registrar, Inc.",
         3,
         true
        ],
        [
         "beakey.familytreeguide.com/descend.php?personID=I4596&tree=Beakey%202007",
         "benign",
         "familytreeguide.com",
         "com",
         "Statutory Masking Enabled",
         3,
         true
        ],
        [
         "sanfrancisco.cbslocal.com/2011/09/04/livermore-soldier-dies-of-rabies/",
         "benign",
         "cbslocal.com",
         "com",
         "CBS Television Stations Digital Media Group",
         0,
         false
        ],
        [
         "wordiq.com/definition/Public_art",
         "benign",
         "wordiq.com",
         "com",
         "GoDaddy.com, LLC",
         0,
         false
        ],
        [
         "fanbase.com/Syracuse-Orange-Mens-Basketball-1999-00",
         "benign",
         "fanbase.com",
         "com",
         "GoDaddy.com, LLC",
         1,
         false
        ],
        [
         "dc.about.com/od/museums/p/NaturalHistory.htm",
         "benign",
         "about.com",
         "com",
         "MarkMonitor Inc.",
         0,
         true
        ],
        [
         "freebase.com/view/en/cincinnati_bengals",
         "benign",
         "freebase.com",
         "com",
         "MarkMonitor Inc.",
         3,
         false
        ],
        [
         "yellowpages.ca/bus/Quebec/Laval/Sports-Autoroute-13-Inc/7541800.html",
         "benign",
         "yellowpages.ca",
         "ca",
         "Legal Classification",
         2,
         false
        ],
        [
         "http://allrecipes.com/video/4124/cheesy-broccoli-puffs-with-sriracha-sauce/detail.aspx?prop24=VH_Brands",
         "benign",
         "allrecipes.com",
         "com",
         "MarkMonitor Inc.",
         2,
         false
        ],
        [
         "http://pastehtml.com/view/bfzi0ah2a.html",
         "phishing",
         "pastehtml.com",
         "com",
         "Dynadot Inc",
         1,
         true
        ],
        [
         "http://www.plexiprint.net/plexi/index.php?option=com_content&view=article&id=58&Itemid=67",
         "defacement",
         "plexiprint.net",
         "net",
         null,
         2,
         false
        ],
        [
         "http://9779.info/%E5%85%AD%E4%B8%80%E5%BF%AB%E4%B9%90%E7%B2%98%E8%B4%B4%E7%94%BB/",
         "malware",
         "9779.info",
         "info",
         null,
         0,
         false
        ],
        [
         "blockbuster.com/browse/catalog/personDetails/75406",
         "benign",
         "blockbuster.com",
         "com",
         "CSC Corporate Domains, Inc.",
         1,
         false
        ],
        [
         "http://mikteks.biz/S7XIde/webscr_prim.php?bWlrdGVrcy5iaXo=uhsdsusu5485757kUJHNN546221oPLKj988777AOP784MTM1MDkxODc4OA==",
         "phishing",
         "mikteks.biz",
         "biz",
         null,
         1,
         false
        ],
        [
         "web.sau.edu/athletics/athletics/football/news/2005/gameday_stuff/Morningside/Welcome%20to%20the%20GPAC%20Home%20Page%20-%20The%20Great%20Plains%20Athletic%20Conference.htm",
         "benign",
         "sau.edu",
         "edu",
         null,
         1,
         false
        ],
        [
         "forum.fullsextube.com/vintage-videos-movies/26800-%5Brs%5D-nothing-hide-2-1993-tianna-roxanne-blaze.html",
         "benign",
         "fullsextube.com",
         "com",
         null,
         2,
         false
        ],
        [
         "be.linkedin.com/pub/jan-roels/27/141/746",
         "benign",
         "linkedin.com",
         "com",
         "MarkMonitor Inc.",
         1,
         false
        ],
        [
         "youtube.com/watch?v=EcGsM-PNQHQ",
         "benign",
         "youtube.com",
         "com",
         "MarkMonitor Inc.",
         1,
         false
        ],
        [
         "bloomberg.com/news/2011-08-28/dust-bowl-in-texas-means-cotton-bottoming-with-rick-perry-praying-for-rain.html",
         "benign",
         "bloomberg.com",
         "com",
         "CSC Corporate Domains, Inc.",
         1,
         false
        ],
        [
         "http://www.slavia.sk/home",
         "defacement",
         "slavia.sk",
         "sk",
         "SWAN, a. s.",
         0,
         false
        ],
        [
         "innerearbrigade.com/",
         "benign",
         "innerearbrigade.com",
         "com",
         "GoDaddy.com, LLC",
         3,
         false
        ],
        [
         "brokenbells.com/",
         "benign",
         "brokenbells.com",
         "com",
         "GoDaddy.com, LLC",
         2,
         false
        ],
        [
         "missouri.scout.com/2/1091275.html",
         "benign",
         "scout.com",
         "com",
         "CBS Interactive Inc.",
         0,
         false
        ],
        [
         "amazon.com/Inter-Municipal-Cooperation-Europe-Rudie-Hulst/dp/1402053789",
         "benign",
         "amazon.com",
         "com",
         "MarkMonitor Inc.",
         0,
         false
        ],
        [
         "amazon.com/Best-Mississippi-John-Hurt/dp/B000000EBH",
         "benign",
         "amazon.com",
         "com",
         "MarkMonitor Inc.",
         0,
         false
        ],
        [
         "http://www.mariettachurchofgod.com/get-connected/christian-education/christian-education.html",
         "defacement",
         "mariettachurchofgod.com",
         "com",
         null,
         1,
         true
        ],
        [
         "http://www.liceoparroquialsangregoriomagno.edu.co/index.php?view=article&catid=1:latest-news&id=93:inicio-de-actividades-2013&tmpl=component&print=1&layout=default&page=",
         "defacement",
         "liceoparroquialsangregoriomagno.edu.co",
         "edu.co",
         null,
         3,
         false
        ],
        [
         "http://olx.ro/i2/electronice-si-electrocasnice/gps-navigatie/electronice-si-electrocasnice/gps-navigatie",
         "benign",
         "olx.ro",
         "ro",
         "CSC Corporate Domains",
         0,
         false
        ],
        [
         "ccpoa.org/news/monthly/2009/10/",
         "benign",
         "ccpoa.org",
         "org",
         "REDACTED",
         0,
         false
        ],
        [
         "facebook.jolims.tk",
         "phishing",
         "jolims.tk",
         "tk",
         null,
         0,
         false
        ],
        [
         "contatocliente-sac.com.br",
         "phishing",
         "contatocliente-sac.com.br",
         "com.br",
         null,
         2,
         true
        ],
        [
         "youtube.com/watch?v=bMhwK4hjhwQ",
         "benign",
         "youtube.com",
         "com",
         "Google LLC",
         1,
         false
        ],
        [
         "dougpayne.com/earland.htm",
         "benign",
         "dougpayne.com",
         "com",
         "PERFECT PRIVACY, LLC",
         1,
         false
        ],
        [
         "http://patrikcase.com/index.php?page=shop.product_details&product_id=9&flypage=flypage.tpl&pop=0&option=com_virtuemart&Itemid=7",
         "defacement",
         "patrikcase.com",
         "com",
         null,
         1,
         true
        ],
        [
         "123people.com/z/carl+musgrove",
         "benign",
         "123people.com",
         "com",
         "REDACTED FOR PRIVACY",
         2,
         false
        ],
        [
         "http://superuser.com/questions/811630/how-can-i-limit-the-speed-of-the-chasis-fan-on-an-asus-m5a78l-m-lx-plus",
         "benign",
         "superuser.com",
         "com",
         "CSC Corporate Domains, Inc.",
         2,
         false
        ],
        [
         "espn.go.com/mlb/player/_/id/5588/rich-harden",
         "benign",
         "go.com",
         "com",
         "CSC Corporate Domains, Inc.",
         0,
         false
        ],
        [
         "youtube.com/watch?v=vPJNYrZcxuE",
         "benign",
         "youtube.com",
         "com",
         "Google LLC",
         1,
         false
        ],
        [
         "imdb.com/name/nm0017578/",
         "benign",
         "imdb.com",
         "com",
         "MarkMonitor Inc.",
         0,
         false
        ],
        [
         "http://prepechal.net/index.php?option=com_contact&view=contact&id=3:renata-malkova&catid=34:oseva-agri-chrudim-as&Itemid=53",
         "defacement",
         "prepechal.net",
         "net",
         null,
         3,
         true
        ],
        [
         "youtube.com/watch?v=pAihoSDRqjo",
         "benign",
         "youtube.com",
         "com",
         "MarkMonitor Inc.",
         1,
         false
        ],
        [
         "mlbfansite.com/team-memorabilia/new-york-mets/baseball-apparel/",
         "benign",
         "mlbfansite.com",
         "com",
         "MarkMonitor Inc.",
         1,
         true
        ],
        [
         "http://www.itfindia.org/confirmation-account/c85652703f710065c1255aa03a9aefae/53ca17bd02579e9464e40735557fdfeb/login.php",
         "phishing",
         "itfindia.org",
         "org",
         null,
         0,
         true
        ],
        [
         "holographiccocoon.com",
         "phishing",
         "holographiccocoon.com",
         "com",
         null,
         0,
         false
        ],
        [
         "spoke.com/info/pApLvZA/JohnHazlet",
         "benign",
         "spoke.com",
         "com",
         "GoDaddy.com, LLC",
         1,
         false
        ],
        [
         "ckuik.com/Stray_Cats",
         "benign",
         "ckuik.com",
         "com",
         "Edoms LLC",
         0,
         false
        ],
        [
         "http://espn.go.com/blog/carolina-panthers/post/_/id/12919/why-the-panthers-are-spending-time-with-nebraska-end-randy-gregory",
         "benign",
         "go.com",
         "com",
         "CSC Corporate Domains, Inc.",
         0,
         false
        ],
        [
         "radiocity.com/",
         "benign",
         "radiocity.com",
         "com",
         "MSG Sports & Entertainment, LLC",
         0,
         true
        ],
        [
         "http://www.custi-animale.ro/magazin-on-line/custi-transport.1",
         "defacement",
         "custi-animale.ro",
         "ro",
         "CYBER_FOLKS S.R.L.",
         1,
         true
        ],
        [
         "absoluteanime.com/blue_gender/yuji.htm",
         "benign",
         "absoluteanime.com",
         "com",
         "REDACTED FOR PRIVACY",
         2,
         true
        ],
        [
         "http://elitedaily.com/humor/guys-donkey-prank-women-thinking-being-catcalled-video/922767/",
         "benign",
         "elitedaily.com",
         "com",
         "Amazon Registrar, Inc.",
         2,
         true
        ],
        [
         "http://www.mbdalmezun.com/canakkale-gezisi.htm",
         "defacement",
         "mbdalmezun.com",
         "com",
         null,
         1,
         false
        ],
        [
         "mylife.com/c-466561956",
         "benign",
         "mylife.com",
         "com",
         "Network Solutions, LLC",
         1,
         false
        ],
        [
         "http://www.fancygaptourism.com/dining-and-shopping/shopping/45-barefoot-gardens",
         "defacement",
         "fancygaptourism.com",
         "com",
         null,
         0,
         true
        ],
        [
         "paragonvideo.com/",
         "benign",
         "paragonvideo.com",
         "com",
         "PDR Ltd. d/b/a PublicDomainRegistry.com",
         1,
         false
        ],
        [
         "sbnation.com/mlb/players/33977/lars-anderson",
         "benign",
         "sbnation.com",
         "com",
         "Amazon Registrar, Inc.",
         0,
         true
        ],
        [
         "http://www.designreisende.de/index.php?option=com_content&view=category&layout=blog&id=35&Itemid=88",
         "defacement",
         "designreisende.de",
         "de",
         null,
         5,
         false
        ],
        [
         "imdb.com/name/nm0187981/",
         "benign",
         "imdb.com",
         "com",
         "MarkMonitor Inc.",
         0,
         false
        ],
        [
         "classcreator.com/Jacksonville-FL-Bishop-Kenny-1970/class_classmates.cfm",
         "benign",
         "classcreator.com",
         "com",
         "REDACTED FOR PRIVACY",
         1,
         true
        ],
        [
         "songlyrics.com/kate-anna-mcgarrigle-lyrics/",
         "benign",
         "songlyrics.com",
         "com",
         "Domain Protection Services, Inc.",
         0,
         false
        ],
        [
         "en.wikipedia.org/wiki/Robert_Crouch_Kinney",
         "benign",
         "wikipedia.org",
         "org",
         "Wikimedia Foundation, Inc.",
         1,
         false
        ],
        [
         "http://www.fitasylum.com/index.php/reset.1",
         "defacement",
         "fitasylum.com",
         "com",
         "HugeDomains.com",
         0,
         true
        ],
        [
         "http://www.nicolatessari.it/index.php/en/furnishing",
         "defacement",
         "nicolatessari.it",
         "it",
         "Nicola Tessari",
         1,
         true
        ],
        [
         "search.espn.go.com/corey-hart/",
         "benign",
         "go.com",
         "com",
         "CSC Corporate Domains, Inc.",
         0,
         false
        ],
        [
         "http://www.smos.cn/News_show.asp?news_id=125",
         "defacement",
         "smos.cn",
         "cn",
         "成都思默思科技有限责任公司",
         0,
         false
        ],
        [
         "celebnakedness.com/tour/videoarchive.php?celeb_first_name=j",
         "benign",
         "celebnakedness.com",
         "com",
         "Dynadot Inc",
         4,
         false
        ],
        [
         "springvalleysales.com/",
         "benign",
         "springvalleysales.com",
         "com",
         "REDACTED FOR PRIVACY",
         2,
         false
        ],
        [
         "http://hayalmutfak.com/kampanyalarimiz/kampanyalarimiz/kampanya2012-382.html",
         "defacement",
         "hayalmutfak.com",
         "com",
         null,
         0,
         true
        ],
        [
         "lil-fingers.com/abc/a.html",
         "benign",
         "lil-fingers.com",
         "com",
         "GDPR Redacted",
         1,
         false
        ],
        [
         "bookfinder4u.com/detail/096201074X.html",
         "benign",
         "bookfinder4u.com",
         "com",
         "GoDaddy.com, LLC",
         1,
         false
        ],
        [
         "roadrunnerrecords.com/blabbermouth.net/news.aspx?mode=Article&newsitemID=156745",
         "benign",
         "roadrunnerrecords.com",
         "com",
         "GoDaddy Corporate Domains, LLC",
         2,
         false
        ],
        [
         "emergencybriefing.info",
         "phishing",
         "emergencybriefing.info",
         "info",
         null,
         4,
         false
        ],
        [
         "dallasnews.com/sports/dallas-stars/headlines/20111001-stars-address-an-issue-that-led-to-their-demise-last-season.ece",
         "benign",
         "dallasnews.com",
         "com",
         "Network Solutions, LLC",
         1,
         false
        ],
        [
         "pipl.com/directory/people/Anne/Blodgett",
         "benign",
         "pipl.com",
         "com",
         "GoDaddy.com, LLC",
         0,
         false
        ],
        [
         "epctv.com/online_tv_Educational_1.htm",
         "benign",
         "epctv.com",
         "com",
         "Privacy service provided by Withheld for Privacy ehf",
         1,
         false
        ],
        [
         "usgs.gov/state/state.asp?State=WA",
         "benign",
         "usgs.gov",
         "gov",
         "REDACTED FOR PRIVACY",
         0,
         false
        ],
        [
         "banquelaurentienne.ca/en/personal_banking_services/my_futur/indexed_investments.html",
         "benign",
         "banquelaurentienne.ca",
         "ca",
         "Laurentian Bank of Canada / Banque Laurentienne du Canada",
         4,
         true
        ],
        [
         "videosurf.com/mad-about-mambo-81415",
         "benign",
         "videosurf.com",
         "com",
         "NameCheap, Inc.",
         1,
         false
        ],
        [
         "http://www.disline.es/videoguias.html?task=videodirectlink&id=57",
         "defacement",
         "disline.es",
         "es",
         null,
         2,
         false
        ],
        [
         "allstarpics.net/pic-gallery/marie-josee-croze-pics.htm",
         "benign",
         "allstarpics.net",
         "net",
         "REDACTED FOR PRIVACY",
         1,
         true
        ],
        [
         "facebook.com/PonyUpRescue",
         "benign",
         "facebook.com",
         "com",
         "Meta Platforms, Inc.",
         1,
         false
        ],
        [
         "projects.latimes.com/hollywood/star-walk/rory-calhoun/",
         "benign",
         "latimes.com",
         "com",
         "MarkMonitor Inc.",
         1,
         true
        ],
        [
         "dublinbus.ie/",
         "benign",
         "dublinbus.ie",
         "ie",
         "Blacknight Solutions",
         1,
         false
        ],
        [
         "http://www.seckmauern.de/index.php?option=com_mailto&tmpl=component&link=aHR0cDovL3d3dy5zZWNrbWF1ZXJuLmRlL2luZGV4LnBocD9vcHRpb249Y29tX2NvbnRlbnQmdmlldz1hcnRpY2xlJmlkPTkwOm5hY2h0LWRlci1raXJjaGVuLTIwMTImY2F0aWQ9MTpha3R1ZWxsZS1uYWNocmljaHRlbiZJdGVtaWQ9NTA=",
         "defacement",
         "seckmauern.de",
         "de",
         null,
         3,
         false
        ],
        [
         "http://www.ondrejov.cz/index.html",
         "defacement",
         "ondrejov.cz",
         "cz",
         "DPS-ONDREJOV",
         1,
         false
        ],
        [
         "chess.com/news/ivan-salgado-wins-in-barcelona-2854",
         "benign",
         "chess.com",
         "com",
         "GoDaddy.com, LLC",
         1,
         false
        ],
        [
         "petershurman.com/",
         "benign",
         "petershurman.com",
         "com",
         "REDACTED FOR PRIVACY",
         2,
         true
        ],
        [
         "jent-fanfics.livejournal.com/profile",
         "benign",
         "livejournal.com",
         "com",
         "SIM LLC",
         1,
         false
        ],
        [
         "ca.linkedin.com/in/yvesyau",
         "benign",
         "linkedin.com",
         "com",
         "MarkMonitor Inc.",
         1,
         false
        ],
        [
         "hotels.com/de1690365/hotels-near-saint-laurent-montreal-canada/",
         "benign",
         "hotels.com",
         "com",
         "CSC Corporate Domains, Inc.",
         1,
         false
        ],
        [
         "westport-news.com/news/article/BOE-to-vote-on-new-Bedford-Middle-School-principal-468858.php",
         "benign",
         "westport-news.com",
         "com",
         "CSC Corporate Domains, Inc.",
         2,
         false
        ],
        [
         "czechsouvenirs.com/czech-dvd/",
         "benign",
         "czechsouvenirs.com",
         "com",
         null,
         2,
         false
        ],
        [
         "facebook.com/pages/Queens-Park-Rangers-FC/32792126803",
         "benign",
         "facebook.com",
         "com",
         "Meta Platforms, Inc.",
         1,
         false
        ],
        [
         "euroflyulm.com/",
         "benign",
         "euroflyulm.com",
         "com",
         "Tucows Domains Inc.",
         1,
         false
        ],
        [
         "tao-garden.com/Inst1/",
         "benign",
         "tao-garden.com",
         "com",
         "GoDaddy.com, LLC",
         1,
         true
        ],
        [
         "http://www.bruynzeelmultipanel.be/index.php?option=com_artforms&formid=1&Itemid=99999",
         "defacement",
         "bruynzeelmultipanel.be",
         "be",
         null,
         4,
         true
        ],
        [
         "wisdomhomeloans.com.au",
         "phishing",
         "wisdomhomeloans.com.au",
         "com.au",
         "PRAJAPATI, VISHAL",
         1,
         false
        ],
        [
         "facebook.com/people/ConceptElite-St-Dorothee/100000964403664",
         "benign",
         "facebook.com",
         "com",
         "Meta Platforms, Inc.",
         1,
         false
        ],
        [
         "en.wikipedia.org/wiki/Headspace_(Pulse_Ultra_album)",
         "benign",
         "wikipedia.org",
         "org",
         "Wikimedia Foundation, Inc.",
         1,
         false
        ],
        [
         "cdbaby.com/cd/vermillionlies",
         "benign",
         "cdbaby.com",
         "com",
         "Tucows Domains Inc.",
         0,
         false
        ],
        [
         "http://greatlakesbuildersinc.com/projects/institutional.1",
         "defacement",
         "greatlakesbuildersinc.com",
         "com",
         "Network Solutions, LLC",
         3,
         true
        ],
        [
         "http://www.smalbro.dk/webdesign",
         "defacement",
         "smalbro.dk",
         "dk",
         "STUDIO SMALBRO ApS",
         0,
         false
        ],
        [
         "facebook.com/pages/Melanie-Morgan/150570901699938",
         "benign",
         "facebook.com",
         "com",
         "Meta Platforms, Inc.",
         1,
         false
        ],
        [
         "mc-hammer.deviantart.com/",
         "benign",
         "deviantart.com",
         "com",
         "GoDaddy.com, LLC",
         1,
         true
        ],
        [
         "drbizzy.com/",
         "benign",
         "drbizzy.com",
         "com",
         "Tucows Domains Inc.",
         0,
         false
        ],
        [
         "info-world.com/",
         "benign",
         "info-world.com",
         "com",
         "GoDaddy.com, LLC",
         0,
         false
        ],
        [
         "batlyrics.com/come_to_me-lyrics-france_joli.html",
         "benign",
         "batlyrics.com",
         "com",
         "Top Level Domains LLC",
         0,
         true
        ],
        [
         "http://seekingalpha.com/author/dividends4life/research?source=follow_top_learn_more",
         "benign",
         "seekingalpha.com",
         "com",
         "Amazon Registrar, Inc.",
         2,
         false
        ],
        [
         "huffingtonpost.com/dan-aykroyd",
         "benign",
         "huffingtonpost.com",
         "com",
         "MarkMonitor Inc.",
         0,
         false
        ],
        [
         "facebook.com/andrews.megan",
         "benign",
         "facebook.com",
         "com",
         "Meta Platforms, Inc.",
         1,
         false
        ],
        [
         "bmcaluniv.org/",
         "benign",
         "bmcaluniv.org",
         "org",
         "Afternic, LLC - On Behalf of Domain Buyer",
         0,
         false
        ],
        [
         "bradleyhillel.org/",
         "benign",
         "bradleyhillel.org",
         "org",
         "Domains By Proxy, LLC",
         2,
         false
        ],
        [
         "tempest-inc.com/",
         "benign",
         "tempest-inc.com",
         "com",
         "Network Solutions, LLC",
         2,
         false
        ],
        [
         "us.macmillan.com/author/rhodajanzen",
         "benign",
         "macmillan.com",
         "com",
         "REDACTED FOR PRIVACY",
         0,
         false
        ],
        [
         "wordtravels.com/Attractions/?attraction=2525",
         "benign",
         "wordtravels.com",
         "com",
         "GoDaddy.com, LLC",
         1,
         true
        ],
        [
         "nme.com/artists/joe-brown",
         "benign",
         "nme.com",
         "com",
         "Amazon Registrar, Inc.",
         1,
         false
        ],
        [
         "en.wikipedia.org/wiki/1969_NCAA_Men%27s_Division_I_Basketball_Tournament",
         "benign",
         "wikipedia.org",
         "org",
         "Wikimedia Foundation, Inc.",
         1,
         false
        ],
        [
         "britannica.com/EBchecked/topic/461108/Steven-Pinker",
         "benign",
         "britannica.com",
         "com",
         "CSC Corporate Domains, Inc.",
         0,
         true
        ],
        [
         "craftconn.com/genealogy/dit.htm",
         "benign",
         "craftconn.com",
         "com",
         "GoDaddy.com, LLC",
         0,
         true
        ],
        [
         "http://www.cuxhaven.cc/index.php?option=com_content&view=article&id=3&Itemid=56",
         "defacement",
         "cuxhaven.cc",
         "cc",
         null,
         1,
         false
        ],
        [
         "andreas-olsson.com/",
         "benign",
         "andreas-olsson.com",
         "com",
         "One.com A/S",
         1,
         false
        ],
        [
         "fortworthtejano.com/news_letter__hispanic_heritage_month_",
         "benign",
         "fortworthtejano.com",
         "com",
         null,
         1,
         true
        ],
        [
         "yell.com/b/Rolf+C+Hagen+(UK)+Ltd-Pet+Supplies-Castleford-WF105QH-1018773/index.html",
         "benign",
         "yell.com",
         "com",
         "CSC Corporate Domains, Inc.",
         1,
         false
        ],
        [
         "myspace.com/aundrone",
         "benign",
         "myspace.com",
         "com",
         "GoDaddy.com, LLC",
         1,
         false
        ],
        [
         "https://paytm.com/blog/vijay-shekahr-sharma-on-building-finance-infrastructure-for-smes/?share=email",
         "benign",
         "paytm.com",
         "com",
         "GoDaddy.com, LLC",
         0,
         true
        ],
        [
         "peregrine.igg.biz",
         "phishing",
         "igg.biz",
         "biz",
         null,
         0,
         false
        ],
        [
         "r2wracing.com/hp_wordpress/",
         "benign",
         "r2wracing.com",
         "com",
         null,
         0,
         false
        ],
        [
         "facebook.com/philippe.turcotte1",
         "benign",
         "facebook.com",
         "com",
         null,
         1,
         false
        ],
        [
         "mmaroot.com/nate-quarry-vs-kalib-starnes-ufc-83-video/",
         "benign",
         "mmaroot.com",
         "com",
         null,
         0,
         true
        ],
        [
         "http://kccs.nichost.ru/index.php?option=com_content&view=article&id=118:2012-11-12-09-33-18&catid=17:news&Itemid=35",
         "defacement",
         "nichost.ru",
         "ru",
         "JSC 'RU-CENTER'",
         0,
         false
        ],
        [
         "tezmilleroz.wordpress.com/2011/10/22/7-new-covers-banks-dane-clark-crane-dane-ellison-leicht-neal-roberts/",
         "benign",
         "wordpress.com",
         "com",
         "MarkMonitor Inc.",
         1,
         false
        ],
        [
         "artquotes.net/masters/nathan-oliveira/index.htm",
         "benign",
         "artquotes.net",
         "net",
         "REDACTED FOR PRIVACY",
         2,
         true
        ],
        [
         "lindseybiggs.com/",
         "benign",
         "lindseybiggs.com",
         "com",
         "Wild West Domains, LLC",
         1,
         false
        ],
        [
         "http://www.raci.it/qualita/certificati.html",
         "defacement",
         "raci.it",
         "it",
         "Raci Srl",
         0,
         true
        ],
        [
         "facebook.com/russel.hamilton",
         "benign",
         "facebook.com",
         "com",
         "Meta Platforms, Inc.",
         1,
         false
        ],
        [
         "http://www.pedalecesenateciclineri.org/index.php?option=com_content&view=article&id=121:articolo-resto-del-carlino-sport&catid=21:hall-of-fame&Itemid=36",
         "defacement",
         "pedalecesenateciclineri.org",
         "org",
         null,
         6,
         true
        ],
        [
         "provigo-boul-hull.foodpages.ca/?qqq=FAQ",
         "benign",
         "foodpages.ca",
         "ca",
         "REDACTED FOR PRIVACY",
         1,
         false
        ],
        [
         "photovault.com/Link/Cities/Lake/Ohio/Places/FootballHallOfFame.html",
         "benign",
         "photovault.com",
         "com",
         "Network Solutions, LLC",
         0,
         true
        ],
        [
         "wikitree.com/genealogy/STEWART",
         "benign",
         "wikitree.com",
         "com",
         "REDACTED FOR PRIVACY",
         2,
         false
        ],
        [
         "missouririverrunners.com/",
         "benign",
         "missouririverrunners.com",
         "com",
         "Network Solutions, LLC",
         2,
         false
        ],
        [
         "http://www.westwoodchurch.co.uk/our-services/sunday-celebration/celebration-talks/233-17-06-2012-ruth-ruth-1-simon-lloyd",
         "defacement",
         "westwoodchurch.co.uk",
         "co.uk",
         "Tool Domains EOOD t/a Edoms.com [Tag = EDOMS]",
         1,
         false
        ],
        [
         "thenhf.com/article.php?id=2113",
         "benign",
         "thenhf.com",
         "com",
         "Register.com - Network Solutions, LLC",
         1,
         false
        ],
        [
         "lyricsmode.com/lyrics/m/michael_franti/",
         "benign",
         "lyricsmode.com",
         "com",
         "GoDaddy.com, LLC",
         1,
         false
        ],
        [
         "iwishiknewit.com/",
         "benign",
         "iwishiknewit.com",
         "com",
         "NameCheap, Inc.",
         1,
         false
        ],
        [
         "insidelocation.ga",
         "phishing",
         "insidelocation.ga",
         "ga",
         null,
         1,
         true
        ],
        [
         "http://thai-liveaboard.com/images/thailiveaboard/dive_sites/chumphon_pinnacle_map.jpg",
         "defacement",
         "thai-liveaboard.com",
         "com",
         null,
         1,
         true
        ],
        [
         "jasa-blues.blogspot.com/",
         "benign",
         "blogspot.com",
         "com",
         "MarkMonitor Inc.",
         0,
         false
        ],
        [
         "pubsub.com/Senior-Java-Engineer-at-GrubHubcom-Webster-Elston-National-Signing-Day-P8kaW9K1wIS",
         "benign",
         "pubsub.com",
         "com",
         "GoDaddy.com, LLC",
         0,
         false
        ],
        [
         "http://www.banneton.com.au/images/stories/maps/newfarm.html",
         "defacement",
         "banneton.com.au",
         "com.au",
         "BANNETON PTY LTD",
         1,
         true
        ],
        [
         "http://www.saltwaterseafoods.com.au/facebook.html",
         "defacement",
         "saltwaterseafoods.com.au",
         "com.au",
         null,
         2,
         true
        ],
        [
         "hfboards.com/showthread.php?p=28056476",
         "benign",
         "hfboards.com",
         "com",
         "GoDaddy.com, LLC",
         0,
         false
        ],
        [
         "http://sourceforge.net/directory/development/add_facet_filter?facet=license&constraint=OSI-Approved+Open+Source+%3A%3A+Eclipse+Public+License",
         "benign",
         "sourceforge.net",
         "net",
         "GoDaddy.com, LLC",
         3,
         false
        ],
        [
         "123people.ca/s/david+murray",
         "benign",
         "123people.ca",
         "ca",
         "Bruce Lamb",
         2,
         false
        ],
        [
         "naval-history.net/WW1NavyBritishLGNavalPrizeMoney.htm",
         "benign",
         "naval-history.net",
         "net",
         "123-Reg Limited",
         1,
         true
        ],
        [
         "artistonlineradio.com/",
         "benign",
         "artistonlineradio.com",
         "com",
         null,
         1,
         true
        ],
        [
         "http://www.jackhatfield.co.uk/index.php?option=com_jevents&task=modlatest.rss&format=feed&type=rss&modid=0&Itemid=32",
         "defacement",
         "jackhatfield.co.uk",
         "co.uk",
         null,
         1,
         true
        ],
        [
         "http://www.aba-diagnostic.com/qui-sommes-nous.html",
         "defacement",
         "aba-diagnostic.com",
         "com",
         "REDACTED FOR PRIVACY",
         0,
         true
        ],
        [
         "myspace.com/epic.ben",
         "benign",
         "myspace.com",
         "com",
         "GoDaddy.com, LLC",
         1,
         false
        ],
        [
         "http://torcache.net/torrent/9154FAAD712957FD02C9507EB9A583DF724A7683.torrent?title=[kickass.to]grand.theft.auto.v.reloaded",
         "benign",
         "torcache.net",
         "net",
         "Jewella Privacy LLC Privacy ID# 1183090",
         2,
         true
        ],
        [
         "coffeyforjudge.com/",
         "benign",
         "coffeyforjudge.com",
         "com",
         null,
         2,
         false
        ],
        [
         "gigmasters.com/",
         "benign",
         "gigmasters.com",
         "com",
         "Network Solutions, LLC",
         1,
         true
        ],
        [
         "http://www.clinicatecma.es/index.html",
         "defacement",
         "clinicatecma.es",
         "es",
         null,
         2,
         true
        ],
        [
         "http://www.ayseteyze.com.tr/gunun-icinden.html",
         "defacement",
         "ayseteyze.com.tr",
         "com.tr",
         "Mozaik ikram Hizmetleri Truzim Organizasyon San.Tic.Ltd.Şti\n   Hidden upon user request\n   Hidden upon user request\n   Hidden upon user request",
         3,
         true
        ],
        [
         "kansas-city-news.pro/2009/07/kansas-city-is-number-1-abandoned-city.html",
         "benign",
         "kansas-city-news.pro",
         "pro",
         null,
         1,
         true
        ],
        [
         "cduniverse.com/productinfo.asp?pid=8114106",
         "benign",
         "cduniverse.com",
         "com",
         "Register.com - Network Solutions, LLC",
         2,
         false
        ],
        [
         "collider.com/focus-features-seeking-a-friend-for-the-end-of-the-world/89762/",
         "benign",
         "collider.com",
         "com",
         "GoDaddy.com, LLC",
         1,
         false
        ],
        [
         "legacy.com/obituaries/roanoke/obituary.aspx?n=evelyn-alice-terry-slusher&pid=154726502",
         "benign",
         "legacy.com",
         "com",
         "Network Solutions, LLC",
         1,
         false
        ],
        [
         "http://zoetekroon.nl/wp-content/themes/simplo/js/jquery-1.4.2.min.js",
         "malware",
         "zoetekroon.nl",
         "nl",
         null,
         2,
         false
        ],
        [
         "http://www.identcode.cz/cs/trst-a15.php",
         "defacement",
         "identcode.cz",
         "cz",
         "SB:TT159-RIPE_XX",
         2,
         false
        ],
        [
         "realgm.com/src_playerfile/1372/joel_anthony/",
         "benign",
         "realgm.com",
         "com",
         "Tucows Domains Inc.",
         1,
         false
        ],
        [
         "amazon.com/Animated-Films-Don-Bluth/dp/0685503348",
         "benign",
         "amazon.com",
         "com",
         "MarkMonitor Inc.",
         0,
         false
        ],
        [
         "http://techcrunch.com/2013/06/09/first-cut-pro-just-made-post-production-collaborative-video-editing-much-less-painful/",
         "benign",
         "techcrunch.com",
         "com",
         "MarkMonitor Inc.",
         1,
         false
        ],
        [
         "http://maycanton.vn/index.php?option=com_content&view=article&id=6&Itemid=31",
         "defacement",
         "maycanton.vn",
         "vn",
         null,
         0,
         true
        ],
        [
         "http://peluqueriadeautor.com/index2.php?option=com_virtuemart&page=shop.pdf_output&showpage=shop.browse&pop=1&output=pdf&product_id=0&category_id=6&pop=1",
         "defacement",
         "peluqueriadeautor.com",
         "com",
         "REDACTED FOR PRIVACY",
         3,
         true
        ],
        [
         "newbernnchotels.com/",
         "benign",
         "newbernnchotels.com",
         "com",
         null,
         3,
         false
        ],
        [
         "newyors.com",
         "phishing",
         "newyors.com",
         "com",
         null,
         1,
         false
        ],
        [
         "123people.ca/s/georges+arsenault",
         "benign",
         "123people.ca",
         "ca",
         "Bruce Lamb",
         2,
         false
        ],
        [
         "commons.wikimedia.org/wiki/Category:1956_births",
         "benign",
         "wikimedia.org",
         "org",
         "Wikimedia Foundation, Inc.",
         1,
         false
        ],
        [
         "netglimse.com/celebs/pages/sylvia_earle/index.shtml",
         "benign",
         "netglimse.com",
         "com",
         "NameCheap, Inc.",
         2,
         false
        ],
        [
         "allmusic.com/album/fenix-tx-r423666",
         "benign",
         "allmusic.com",
         "com",
         "All Media Network, LLC",
         0,
         false
        ],
        [
         "stuffaboutnames.com/dennis/index.htm",
         "benign",
         "stuffaboutnames.com",
         "com",
         null,
         1,
         true
        ],
        [
         "http://us.diablo.net.login.xml.sc-ueo.in/login.html",
         "phishing",
         "sc-ueo.in",
         "in",
         null,
         1,
         false
        ],
        [
         "facebook.com/people/Catherine-Archer/1559547281",
         "benign",
         "facebook.com",
         "com",
         "Meta Platforms, Inc.",
         1,
         false
        ],
        [
         "slovenia.info/?cerkev=4914",
         "benign",
         "slovenia.info",
         "info",
         null,
         1,
         false
        ],
        [
         "http://mic.com/articles/97512/here-s-the-one-simple-reason-why-we-need-more-openly-bisexual-characters-on-television",
         "benign",
         "mic.com",
         "com",
         "Amazon Registrar, Inc.",
         0,
         false
        ],
        [
         "http://ecnavi.jp/redirect/?url=http://ad-4091.affit.jp/c.ts/35n.2/-/1g.html?mu=%user_id%",
         "benign",
         "ecnavi.jp",
         "jp",
         null,
         1,
         false
        ],
        [
         "kentucky.com/2011/11/14/1959369/oakland-and-alabama-tangle-in.html",
         "benign",
         "kentucky.com",
         "com",
         "Network Solutions, LLC",
         1,
         false
        ],
        [
         "youtube.com/watch?v=9FgXy7QyLDo",
         "benign",
         "youtube.com",
         "com",
         "MarkMonitor Inc.",
         1,
         false
        ],
        [
         "onlinetickets.com/events/sports_nfl/houston_texans/tickets.html",
         "benign",
         "onlinetickets.com",
         "com",
         "GoDaddy.com, LLC",
         2,
         false
        ],
        [
         "aceshowbiz.com/news/view/w0006245.html",
         "benign",
         "aceshowbiz.com",
         "com",
         "NameCheap, Inc.",
         1,
         false
        ],
        [
         "en.wikipedia.org/wiki/William_Tummel",
         "benign",
         "wikipedia.org",
         "org",
         "Wikimedia Foundation, Inc.",
         1,
         false
        ],
        [
         "fisherpaykel.com/",
         "benign",
         "fisherpaykel.com",
         "com",
         "REDACTED FOR PRIVACY",
         2,
         false
        ],
        [
         "uk.ask.com/wiki/Charles-Fran%C3%A7ois_Dupuis",
         "benign",
         "ask.com",
         "com",
         "MarkMonitor Inc.",
         0,
         false
        ],
        [
         "http://3cf.ru/2015/07/20/cb-otozval-licenziu-y-gelendjik-banka/",
         "malware",
         "3cf.ru",
         "ru",
         "REGRU-RU",
         0,
         false
        ],
        [
         "mylife.com/high-schools/ca/sacramento/luther-burbank-high-school/",
         "benign",
         "mylife.com",
         "com",
         "Network Solutions, LLC",
         1,
         false
        ],
        [
         "aaanimalcontrol.com/Professional-Trapper/county/IN-Allen-County-Animal-Services.htm",
         "benign",
         "aaanimalcontrol.com",
         "com",
         "GoDaddy.com, LLC",
         0,
         true
        ],
        [
         "makivik.org/makivik-corporation-and-the-kativik-regional-government-welcome-visit-of-minister-of-justice-yvon-marcoux-and-minister-for-native-affairs-for-quebec-geoffrey-kelley-to-nunavik/",
         "benign",
         "makivik.org",
         "org",
         "Domains By Proxy, LLC",
         0,
         false
        ],
        [
         "fleshspot.com/sites/arielrebel/",
         "benign",
         "fleshspot.com",
         "com",
         "REDACTED BY USER",
         1,
         false
        ],
        [
         "http://boughtitsoldit.com/factfinancials",
         "defacement",
         "boughtitsoldit.com",
         "com",
         null,
         0,
         false
        ],
        [
         "http://mashable.com/category/spacex/2014/04/25/elon-musk-spacex-booster-stage-atlantic",
         "benign",
         "mashable.com",
         "com",
         "CSC Corporate Domains, Inc.",
         1,
         false
        ],
        [
         "txdot.lib.utexas.edu/",
         "benign",
         "utexas.edu",
         "edu",
         null,
         2,
         true
        ],
        [
         "jonathanturley.org/2011/04/01/army-sergeant-convicted-of-threatening-a-judge-due-to-one-line-in-a-song/",
         "benign",
         "jonathanturley.org",
         "org",
         "Domains By Proxy, LLC",
         1,
         true
        ],
        [
         "en.wikipedia.org/wiki/Vietnam_War",
         "benign",
         "wikipedia.org",
         "org",
         "Wikimedia Foundation, Inc.",
         1,
         false
        ],
        [
         "miningforthetruthinmelancthon.blogspot.com/",
         "benign",
         "blogspot.com",
         "com",
         "MarkMonitor Inc.",
         0,
         false
        ],
        [
         "st-ives-ceramics.co.uk/potters.asp?view=Francoise%20Dufayard",
         "benign",
         "st-ives-ceramics.co.uk",
         "co.uk",
         "Realtime Register BV t/a Axidomains [Tag = AXIDOMAINS]",
         2,
         true
        ],
        [
         "youtube.com/watch?v=hekL0DCUxpk",
         "benign",
         "youtube.com",
         "com",
         "MarkMonitor Inc.",
         1,
         false
        ],
        [
         "yourottawaregion.com/what's%20on/article/259704--ctv-s-dr-marla-shapiro-in-kemptville",
         "benign",
         "yourottawaregion.com",
         "com",
         "Postmedia Network Inc.",
         1,
         true
        ],
        [
         "thecanadianencyclopedia.com/index.cfm?PgNm=TCE&Params=A1ARTA0006315",
         "benign",
         "thecanadianencyclopedia.com",
         "com",
         "REDACTED FOR PRIVACY",
         3,
         true
        ],
        [
         "yasni.com/naima+kamel/check+people",
         "benign",
         "yasni.com",
         "com",
         "REDACTED FOR PRIVACY",
         0,
         false
        ],
        [
         "http://www.vfleberstadt.de/index.php?option=com_content&view=article&id=51&Itemid=55",
         "defacement",
         "vfleberstadt.de",
         "de",
         null,
         3,
         true
        ],
        [
         "bottomlinecom.com/kcnews/alexroleatkshbchanges.html",
         "benign",
         "bottomlinecom.com",
         "com",
         "Network Solutions, LLC",
         1,
         false
        ],
        [
         "http://www.evasteinberger.at/de/component/mailto/index.html?tmpl=component&link=aHR0cDovL3d3dy5ldmFzdGVpbmJlcmdlci5hdC9kZS90dXJuaWVyZS0yMDEyLmh0bWw=",
         "defacement",
         "evasteinberger.at",
         "at",
         "Ammann Christoph Management Security GesmbH",
         4,
         true
        ],
        [
         "amazon.com/David-Bowie-Reality-Tour/dp/B00064AEOC",
         "benign",
         "amazon.com",
         "com",
         "MarkMonitor Inc.",
         0,
         false
        ],
        [
         "http://www.ant-u.com/index.php?option=com_content&view=article&id=58:l--r&catid=25",
         "defacement",
         "ant-u.com",
         "com",
         "Withheld for Privacy Purposes",
         0,
         true
        ],
        [
         "allposters.co.uk/-st/Helene-Leveillee-Posters_c117522_.htm",
         "benign",
         "allposters.co.uk",
         "co.uk",
         "Wal-Mart Stores, Inc.",
         1,
         true
        ],
        [
         "bizjournals.com/kansascity/news/2010/12/08/bannister-mall-sites-latest-plan.html",
         "benign",
         "bizjournals.com",
         "com",
         "CSC Corporate Domains, Inc.",
         0,
         false
        ],
        [
         "myhugeclit.com/female/female-bodybuilders/",
         "benign",
         "myhugeclit.com",
         "com",
         null,
         1,
         false
        ],
        [
         "ckuik.com/Kabhi_Alvida_Na_Kehna",
         "benign",
         "ckuik.com",
         "com",
         "Edoms LLC",
         0,
         false
        ],
        [
         "en.wikipedia.org/wiki/Joan_I_of_Navarre",
         "benign",
         "wikipedia.org",
         "org",
         "Wikimedia Foundation, Inc.",
         1,
         false
        ],
        [
         "http://nypost.com/2014/06/16/bridge-failures-snarled-metro-north-service-175-times-in-ct-last-year/",
         "benign",
         "nypost.com",
         "com",
         "MarkMonitor Inc.",
         0,
         false
        ],
        [
         "http://engine32truck16.com/truck-16.html",
         "defacement",
         "engine32truck16.com",
         "com",
         null,
         2,
         false
        ],
        [
         "http://9779.info/%E5%B0%91%E5%84%BF%E7%A7%8D%E5%AD%90%E7%B2%98%E8%B4%B4%E7%94%BB/",
         "malware",
         "9779.info",
         "info",
         null,
         0,
         false
        ],
        [
         "scarlettjohansson.org/movies/themanwhowasntthere.htm",
         "benign",
         "scarlettjohansson.org",
         "org",
         "Domains By Proxy, LLC",
         1,
         true
        ],
        [
         "crossdresserclub.com/home/printthread.php?t=2851&page=3&pp=40",
         "benign",
         "crossdresserclub.com",
         "com",
         "NameCheap, Inc.",
         2,
         false
        ],
        [
         "http://apoiojur.com.br/index.html",
         "defacement",
         "apoiojur.com.br",
         "com.br",
         "Sensu Publica��es Juridicas Ltda",
         0,
         false
        ],
        [
         "myspace.com/imusicidemontrealcho",
         "benign",
         "myspace.com",
         "com",
         "GoDaddy.com, LLC",
         1,
         false
        ],
        [
         "http://www.honarcinema.com/index.php?view=article&catid=1:latest-news&id=4366:2012-07-17-13-44-04&format=pdf&option=com_content&Itemid=1",
         "defacement",
         "honarcinema.com",
         "com",
         null,
         1,
         false
        ],
        [
         "broadwayworld.com/gallery.cfm?letter=a",
         "benign",
         "broadwayworld.com",
         "com",
         "DATA REDACTED",
         0,
         false
        ],
        [
         "http://www.zibae.ir/index.php?option=com_mailto&tmpl=component&link=aHR0cDovL3d3dy56aWJhZS5pci9pbmRleC5waHA%2Fb3B0aW9uPWNvbV9jb250ZW50JnZpZXc9YXJ0aWNsZSZpZD02NTM6MTM5MS0xMS0wOC0wOC00OC0yNyZjYXRpZD0xMjoxMzg5LTA5LTI5LTA3LTQzLTMw",
         "defacement",
         "zibae.ir",
         "ir",
         null,
         1,
         false
        ],
        [
         "engineering.com/Library/tabid/78/Default.aspx",
         "benign",
         "engineering.com",
         "com",
         "Network Solutions, LLC",
         3,
         false
        ],
        [
         "drscore.com/Georgia/Cardiology/search/William-Weintraub_10791399.html",
         "benign",
         "drscore.com",
         "com",
         "Network Solutions, LLC",
         1,
         false
        ],
        [
         "dvbs.eu.org/perrault/",
         "benign",
         "eu.org",
         "org",
         "REDACTED",
         1,
         false
        ],
        [
         "http://www.lynnemarkham.com/sejeal.jpg",
         "defacement",
         "lynnemarkham.com",
         "com",
         "Whois Privacy Protection Service by onamae.com",
         1,
         false
        ],
        [
         "http://www.eendrachthummelo.nl/index.php?option=com_contact&view=contact&id=6:karin-heijting&catid=12:contacts&Itemid=55",
         "defacement",
         "eendrachthummelo.nl",
         "nl",
         null,
         3,
         true
        ],
        [
         "sunlifebuilding-phil.com/",
         "benign",
         "sunlifebuilding-phil.com",
         "com",
         "Sun Life Assurance Company of Canada",
         1,
         false
        ],
        [
         "italy-weather-and-maps.com/",
         "benign",
         "italy-weather-and-maps.com",
         "com",
         "GoDaddy Online Services Cayman Islands Ltd.",
         2,
         true
        ],
        [
         "digital-copyright.ca/node/5337",
         "benign",
         "digital-copyright.ca",
         "ca",
         "REDACTED FOR PRIVACY",
         0,
         true
        ],
        [
         "518fever.com/",
         "benign",
         "518fever.com",
         "com",
         "GoDaddy.com, LLC",
         2,
         false
        ],
        [
         "vaughnclark.com/",
         "benign",
         "vaughnclark.com",
         "com",
         "Hola Domains",
         0,
         false
        ],
        [
         "manta.com/ic/mt6v6sz/ca/universite-du-quebec-a-montreal",
         "benign",
         "manta.com",
         "com",
         "Identity Protection Service",
         0,
         true
        ],
        [
         "http://www.collectif-potager-wimmenau.fr/index.html?page_id=36&replytocom=21",
         "defacement",
         "collectif-potager-wimmenau.fr",
         "fr",
         "TLD Registrar Solutions Ltd",
         3,
         true
        ],
        [
         "http://serverfault.com/questions/674326/remote-location-management-copy-and-install-large-software-updates-to-50-lan",
         "benign",
         "serverfault.com",
         "com",
         "CSC Corporate Domains, Inc.",
         2,
         true
        ],
        [
         "missouridairygoats.com/",
         "benign",
         "missouridairygoats.com",
         "com",
         null,
         0,
         true
        ],
        [
         "http://img010.hc360.cn/g1/M01/41/73/wKhQMVHabJKEHondAAAAAFmPcEE181.jpg",
         "malware",
         "hc360.cn",
         "cn",
         "李国胜",
         0,
         false
        ],
        [
         "en.wikipedia.org/wiki/2000_Oakland_Athletics_season",
         "benign",
         "wikipedia.org",
         "org",
         "Wikimedia Foundation, Inc.",
         1,
         false
        ],
        [
         "vitals.com/doctors/Dr_Vanoy_Smith.html",
         "benign",
         "vitals.com",
         "com",
         "GoDaddy.com, LLC",
         0,
         true
        ],
        [
         "owha.on.ca/news_release_helmet_recall_08.asp",
         "benign",
         "owha.on.ca",
         "on.ca",
         "Ontario Women's Hockey Association",
         0,
         false
        ],
        [
         "robinhoodfilms.com/thecasinojob.htm",
         "benign",
         "robinhoodfilms.com",
         "com",
         "Porkbun LLC",
         0,
         false
        ],
        [
         "smithgroup.com/?id=415",
         "benign",
         "smithgroup.com",
         "com",
         "Network Solutions, LLC",
         0,
         false
        ],
        [
         "http://9779.info/%E8%9D%8C%E8%9A%AA%E6%89%BE%E5%A6%88%E5%A6%88%E5%89%AA%E8%B4%B4%E7%94%BB/",
         "malware",
         "9779.info",
         "info",
         null,
         0,
         false
        ],
        [
         "hockeyfights.com/players/16890",
         "benign",
         "hockeyfights.com",
         "com",
         "GoDaddy.com, LLC",
         1,
         false
        ],
        [
         "http://boltamproperties.co.za/index.php?option=com_sobi2&sobi2Task=sobi2Details&catid=4&sobi2Id=84&Itemid=58",
         "defacement",
         "boltamproperties.co.za",
         "co.za",
         null,
         2,
         true
        ],
        [
         "findpeoplesearchonline.com/rhodeIslandpeoplesearch-RI/findpeoplerhodeIsland.html",
         "benign",
         "findpeoplesearchonline.com",
         "com",
         "Redacted for GDPR privacy",
         4,
         false
        ],
        [
         "facebook.com/john.m.whitcomb",
         "benign",
         "facebook.com",
         "com",
         "Meta Platforms, Inc.",
         1,
         false
        ],
        [
         "http://www.pi4wag.nl/index.html",
         "defacement",
         "pi4wag.nl",
         "nl",
         "OVH",
         0,
         false
        ],
        [
         "http://www.newstudy.net/community/Web_nMngr.aspx?acaidx=0&board_idx=360&pn=1&sflag=1&mflag=NOT&where=&keyword=",
         "malware",
         "newstudy.net",
         "net",
         "TIME Education Co.,Ltd.",
         2,
         false
        ],
        [
         "http://dyetr.com/index.php?option=com_content&view=article&id=65&Itemid=56",
         "defacement",
         "dyetr.com",
         "com",
         null,
         1,
         false
        ],
        [
         "http://www.e-komotini.gr/index.php?option=com_mtree&task=rss&type=listnew&cat_id=0",
         "defacement",
         "e-komotini.gr",
         "gr",
         null,
         1,
         false
        ],
        [
         "discountcheapaccessories.com/rubies-costume-co/best-buy-rubies-costume-co-womens-secret-wishes-tarzan-hunter-jane-costume.html",
         "benign",
         "discountcheapaccessories.com",
         "com",
         null,
         3,
         true
        ],
        [
         "cartoonhalloffame.org/2005/12/iwerks-ub.html",
         "benign",
         "cartoonhalloffame.org",
         "org",
         "Privacy service provided by Withheld for Privacy ehf",
         1,
         true
        ],
        [
         "ohwy.com/mo/m/mocity.htm",
         "benign",
         "ohwy.com",
         "com",
         "GoDaddy.com, LLC",
         0,
         false
        ],
        [
         "aveleyman.com/ActorCredit.aspx?ActorID=3389",
         "benign",
         "aveleyman.com",
         "com",
         "Tucows Domains Inc.",
         2,
         false
        ],
        [
         "fraser.stlouisfed.org/publications/holc/",
         "benign",
         "stlouisfed.org",
         "org",
         "Domains By Proxy, LLC",
         1,
         false
        ],
        [
         "u.tv/Sport",
         "benign",
         "u.tv",
         "tv",
         "UTV Limited",
         0,
         false
        ],
        [
         "http://www.ic-delta.ru/portfolio/item/8",
         "defacement",
         "ic-delta.ru",
         "ru",
         null,
         1,
         true
        ],
        [
         "audiorecordingschool.com/blog/category/game-audio/",
         "benign",
         "audiorecordingschool.com",
         "com",
         "GoDaddy.com, LLC",
         1,
         false
        ],
        [
         "en.wikipedia.org/wiki/Bryan_Fogarty",
         "benign",
         "wikipedia.org",
         "org",
         "Wikimedia Foundation, Inc.",
         1,
         false
        ],
        [
         "direct.imagedepositgateway.com/sendpoint/",
         "benign",
         "imagedepositgateway.com",
         "com",
         "MarkMonitor Inc.",
         3,
         true
        ],
        [
         "guardian.co.uk/football/2011/mar/27/international-friendly-brazil-scotland",
         "benign",
         "guardian.co.uk",
         "co.uk",
         "GoDaddy.com, LLC. [Tag = GODADDY]",
         0,
         false
        ],
        [
         "en.wikipedia.org/wiki/Edward_L._Beach",
         "benign",
         "wikipedia.org",
         "org",
         "Wikimedia Foundation, Inc.",
         1,
         false
        ],
        [
         "linkedin.com/pub/dir/richard/geary",
         "benign",
         "linkedin.com",
         "com",
         "MarkMonitor Inc.",
         1,
         false
        ],
        [
         "familytreeassistant.com/surnames/Carpenter-family-tree.html",
         "benign",
         "familytreeassistant.com",
         "com",
         "REDACTED FOR PRIVACY",
         2,
         true
        ],
        [
         "http://rt.com/in-vision/nepal-earthquake-aftermath-ruins/nepal-besi-earthquake-dhading/",
         "benign",
         "rt.com",
         "com",
         "ANO TV-Novosti",
         0,
         false
        ],
        [
         "http://www.ibericoscalama.es/index.php?option=com_mailto&tmpl=component&link=55059afb44966eaabd75597a284a0e2a573f91fc",
         "defacement",
         "ibericoscalama.es",
         "es",
         null,
         2,
         false
        ],
        [
         "http://www.vco.org.au/professional-development.1",
         "defacement",
         "vco.org.au",
         "org.au",
         null,
         0,
         false
        ],
        [
         "investing.businessweek.com/research/stocks/private/snapshot.asp?privcapId=857569",
         "benign",
         "businessweek.com",
         "com",
         "CSC Corporate Domains, Inc.",
         3,
         false
        ],
        [
         "http://mahshov.com/index.php?option=com_content&view=article&id=21&Itemid=19",
         "defacement",
         "mahshov.com",
         "com",
         "CommuniGal Communication Ltd.",
         0,
         false
        ],
        [
         "local.yahoo.com/info-14553240-ymca-fort-myers",
         "benign",
         "yahoo.com",
         "com",
         "MarkMonitor Inc.",
         0,
         false
        ],
        [
         "http://web.de/magazine/unterhaltung/adel/royal-baby-2/daily-kate-augen-royalen-baby-bauch-30205922",
         "benign",
         "web.de",
         "de",
         null,
         2,
         false
        ],
        [
         "isthisyour.name/directory/fullnames/ma~batten.htm",
         "benign",
         "isthisyour.name",
         "name",
         null,
         1,
         true
        ],
        [
         "youtube.com/watch?v=mODdgpExRig",
         "benign",
         "youtube.com",
         "com",
         "MarkMonitor Inc.",
         1,
         false
        ],
        [
         "http://www.musimagen.com/index.php?option=com_content&view=category&layout=blog&id=1&Itemid=30&limitstart=20",
         "defacement",
         "musimagen.com",
         "com",
         "GDPR Masked",
         1,
         false
        ],
        [
         "dirtyhippiesoaps.com/?p=ingredientkey.html",
         "benign",
         "dirtyhippiesoaps.com",
         "com",
         null,
         1,
         true
        ],
        [
         "pul.se/Web-Rumblings-Buffalo-Bills-Links-12-29-Aaron-Carter-6ZW6eaHH8EZS",
         "benign",
         "pul.se",
         "se",
         "(not shown)",
         1,
         false
        ],
        [
         "russmeyer.com/",
         "benign",
         "russmeyer.com",
         "com",
         "Network Solutions, LLC",
         2,
         false
        ],
        [
         "hockeydb.com/ihdb/stats/pdisplay.php?pid=115417",
         "benign",
         "hockeydb.com",
         "com",
         "GDPR Redacted",
         1,
         false
        ],
        [
         "bleacherreport.com/articles/895379-texas-football-5-things-we-learned-from-the-longhorns-loss-vs-oklahoma-state",
         "benign",
         "bleacherreport.com",
         "com",
         "The Bleacher Report, Inc.",
         3,
         true
        ],
        [
         "http://www.thetunes.nl/tour/details/5-koninginnedag-2010",
         "defacement",
         "thetunes.nl",
         "nl",
         "Tool Domains OOD",
         2,
         false
        ],
        [
         "usidentify.com/l/ehle",
         "benign",
         "usidentify.com",
         "com",
         "GoDaddy.com, LLC",
         1,
         false
        ],
        [
         "bellingram.co.uk/properties/sale?area=Argyll+%26+Bute",
         "benign",
         "bellingram.co.uk",
         "co.uk",
         "Darren Summers t/a Hostworld Internet [Tag = EZEE]",
         1,
         false
        ],
        [
         "chacha.com/question/how-tall-is-john-mayberry-jr",
         "benign",
         "chacha.com",
         "com",
         "Alibaba Cloud Computing (Beijing) Co., Ltd.",
         0,
         false
        ],
        [
         "classmates.com/directory/college/Le%20Moyne%20College?org=17044951",
         "benign",
         "classmates.com",
         "com",
         "CSC Corporate Domains, Inc.",
         1,
         true
        ],
        [
         "poptower.com/chelsea-peretti-picture-35640.htm",
         "benign",
         "poptower.com",
         "com",
         "GoDaddy.com, LLC",
         1,
         false
        ],
        [
         "cduniverse.com/productinfo.asp?pid=7707999",
         "benign",
         "cduniverse.com",
         "com",
         "Register.com - Network Solutions, LLC",
         2,
         false
        ],
        [
         "vancouveradvertising.blogspot.com/",
         "benign",
         "blogspot.com",
         "com",
         "MarkMonitor Inc.",
         0,
         false
        ],
        [
         "http://anvari.co/index.php?option=com_morfeoshow&task=view&gallery=3&Itemid=683",
         "defacement",
         "anvari.co",
         "co",
         "Above.com Domain Privacy",
         0,
         false
        ],
        [
         "en.wikipedia.org/wiki/Lise_St-Denis",
         "benign",
         "wikipedia.org",
         "org",
         "Wikimedia Foundation, Inc.",
         1,
         false
        ],
        [
         "forums.corvetteforum.com/great-lakes/2935112-west-mich-covered-bridge-fallasburg-cruise-sat-oct-22-a.html",
         "benign",
         "corvetteforum.com",
         "com",
         "GoDaddy.com, LLC",
         2,
         false
        ],
        [
         "en.wikipedia.org/wiki/List_of_H_postal_codes_of_Canada",
         "benign",
         "wikipedia.org",
         "org",
         "Wikimedia Foundation, Inc.",
         1,
         false
        ],
        [
         "genforum.genealogy.com/wyatt/all.html",
         "benign",
         "genealogy.com",
         "com",
         "MarkMonitor Inc.",
         2,
         false
        ],
        [
         "flyfreedomaircharter.com/",
         "benign",
         "flyfreedomaircharter.com",
         "com",
         null,
         3,
         true
        ],
        [
         "flickr.com/photos/caseymckinnon/3121023513/",
         "benign",
         "flickr.com",
         "com",
         "GoDaddy Corporate Domains, LLC",
         0,
         false
        ],
        [
         "pipl.com/directory/people/Beryl/Anthony",
         "benign",
         "pipl.com",
         "com",
         "GoDaddy.com, LLC",
         0,
         false
        ],
        [
         "imdb.com/title/tt0409847/",
         "benign",
         "imdb.com",
         "com",
         "MarkMonitor Inc.",
         0,
         false
        ],
        [
         "stubhub.com/gilles-villeneuve-circuit-event-tickets/details/?venue_config_ID=7454",
         "benign",
         "stubhub.com",
         "com",
         "MarkMonitor Inc.",
         0,
         false
        ],
        [
         "fightingsioux.com/",
         "benign",
         "fightingsioux.com",
         "com",
         "GoDaddy.com, LLC",
         0,
         false
        ],
        [
         "thesubversivesounds.blogspot.com/2007/02/buggs-beetle-beat.html",
         "benign",
         "blogspot.com",
         "com",
         "MarkMonitor Inc.",
         0,
         false
        ],
        [
         "gamestats.com/objects/055/055042/",
         "benign",
         "gamestats.com",
         "com",
         "CSC Corporate Domains, Inc.",
         1,
         true
        ],
        [
         "http://www.711100.com/app/member/SportOption.php?uid=guest&langx=gb",
         "malware",
         "711100.com",
         "com",
         "REDACTED FOR PRIVACY",
         0,
         false
        ],
        [
         "facebook.com/maryseouellet.83",
         "benign",
         "facebook.com",
         "com",
         "Meta Platforms, Inc.",
         1,
         false
        ],
        [
         "videosurf.com/calcutta-india-242151",
         "benign",
         "videosurf.com",
         "com",
         "Privacy service provided by Withheld for Privacy ehf",
         1,
         false
        ],
        [
         "nikon.bungie.org/",
         "benign",
         "bungie.org",
         "org",
         "Domains By Proxy, LLC",
         1,
         false
        ],
        [
         "http://www.mariettachurchofgod.com/get-connected/missionsmarietta.html",
         "defacement",
         "mariettachurchofgod.com",
         "com",
         null,
         1,
         true
        ],
        [
         "facebook.com/KCURKansasCity",
         "benign",
         "facebook.com",
         "com",
         "Meta Platforms, Inc.",
         1,
         false
        ],
        [
         "gojukarate.biz",
         "phishing",
         "gojukarate.biz",
         "biz",
         null,
         1,
         true
        ],
        [
         "faqs.org/patents/app/20110047854",
         "benign",
         "faqs.org",
         "org",
         "Advameg, Inc.",
         0,
         false
        ],
        [
         "knac.com/article.asp?ArticleID=4653",
         "benign",
         "knac.com",
         "com",
         "Whois Privacy Service",
         0,
         false
        ],
        [
         "http://schertzauto.com/wp-content/plugins/gravityforms/css/formsmain.min.css?ver=1.9.11",
         "malware",
         "schertzauto.com",
         "com",
         "GKG.NET Domain Proxy Service",
         1,
         true
        ],
        [
         "lifeskate.com/skate/2010/09/nbc-sports-announces-2010-grand-prix-of-figure-skating-schedule.html",
         "benign",
         "lifeskate.com",
         "com",
         "Identity Protection Service",
         2,
         true
        ],
        [
         "http://www.bissfest-marburg.de/component/mailto/index.html?tmpl=component&link=aHR0cDovL3d3dy5iaXNzZmVzdC1tYXJidXJnLmRlL3Rlcm1pbmUuaHRtbA==",
         "defacement",
         "bissfest-marburg.de",
         "de",
         null,
         2,
         true
        ],
        [
         "en-gb.facebook.com/matthew.mulligan",
         "benign",
         "facebook.com",
         "com",
         "Meta Platforms, Inc.",
         1,
         false
        ],
        [
         "huskers.com/ViewArticle.dbml?DB_OEM_ID=100&ATCLID=68185",
         "benign",
         "huskers.com",
         "com",
         "NameCheap, Inc.",
         1,
         false
        ],
        [
         "http://nguyentandung.org/vu-viec-tranh-go-sua-o-ha-noi-xu-ly-cham-do-doi-interpol-tra-loi.html",
         "benign",
         "nguyentandung.org",
         "org",
         "Domains By Proxy, LLC",
         1,
         true
        ],
        [
         "http://zeitfeist.de/youtube/91-hip-hop/631-kool-savas-der-beste-tag-meines-lebens.html",
         "defacement",
         "zeitfeist.de",
         "de",
         null,
         3,
         false
        ],
        [
         "high-schools.com/schools/100696/notre-dame-de-sion.html",
         "benign",
         "high-schools.com",
         "com",
         "GoDaddy.com, LLC",
         0,
         false
        ],
        [
         "prosdyuqnsdwxm.intend-incredible.ru",
         "phishing",
         "intend-incredible.ru",
         "ru",
         null,
         3,
         false
        ],
        [
         "accesshollywood.com/denis-ohare",
         "benign",
         "accesshollywood.com",
         "com",
         "MarkMonitor Inc.",
         1,
         false
        ],
        [
         "a2zyp.com/Government+Offices-County/NJ.php",
         "benign",
         "a2zyp.com",
         "com",
         "GoDaddy.com, LLC",
         0,
         false
        ],
        [
         "http://gawker.com/report-north-korean-defense-minister-executed-for-slee-1704127405/module/",
         "benign",
         "gawker.com",
         "com",
         "Identity Protection Service",
         1,
         false
        ],
        [
         "http://www.tpsofficefurniture.co.uk/reception-waiting-room.1",
         "defacement",
         "tpsofficefurniture.co.uk",
         "co.uk",
         "Fasthosts Internet Ltd [Tag = LIVEDOMAINS]",
         2,
         false
        ],
        [
         "http://udn.com/news/story/7321/900837-%E9%AB%98%E9%9B%842%E8%AD%B0%E5%93%A1%E7%95%B6%E9%81%B8%E7%84%A1%E6%95%88%E4%B9%8B%E8%A8%B4-1%E5%AF%A9%E9%A7%81%E5%9B%9E",
         "benign",
         "udn.com",
         "com",
         "Network Solutions, LLC",
         0,
         false
        ],
        [
         "amazon.com/Asian-American-Actors-Histories-Television/dp/0786407301",
         "benign",
         "amazon.com",
         "com",
         "MarkMonitor Inc.",
         0,
         false
        ],
        [
         "en.wikipedia.org/wiki/Notre-Dame-de-Gr%C3%A2ce%E2%80%94Lachine",
         "benign",
         "wikipedia.org",
         "org",
         "Wikimedia Foundation, Inc.",
         1,
         false
        ],
        [
         "rentalboatcharters.com/264",
         "benign",
         "rentalboatcharters.com",
         "com",
         null,
         2,
         true
        ],
        [
         "wn.com/2011_IFAF_World_Cup",
         "benign",
         "wn.com",
         "com",
         "NameCheap, Inc.",
         0,
         false
        ],
        [
         "myspace.com/cinemalamour",
         "benign",
         "myspace.com",
         "com",
         "GoDaddy.com, LLC",
         1,
         false
        ],
        [
         "rollingstone.com/rockdaily/index.php/2009/04/13/pearl-jam-beastie-boys-dave-matthews-band-headlining-san-franciscos-outside-lands-festival",
         "benign",
         "rollingstone.com",
         "com",
         "CSC Corporate Domains, Inc.",
         1,
         false
        ],
        [
         "2.statcan.ca/census-recensement/2006/dp-pd/prof/92-595/p2c.cfm?TPL=INDX&LANG=E",
         "benign",
         "statcan.ca",
         "ca",
         "Geoff Worthing",
         0,
         true
        ],
        [
         "blackle.com/",
         "benign",
         "blackle.com",
         "com",
         "GoDaddy.com, LLC",
         1,
         false
        ],
        [
         "https://twitter.com/share?text=%D0%A4%D0%BE%D1%82%D0%BE%D0%BF%D0%BE%D0%B4%D0%B1%D0%BE%D1%80%D0%BA%D0%B0+%D0%B7%D0%B0+29.04.2015&url=http%3A%2F%2Ffishki.net%2Fphoto%2F1517170-fotopodborka-za-29042015.html%2Fgallery-1952358%2F",
         "benign",
         "twitter.com",
         "com",
         "CSC Corporate Domains, Inc.",
         1,
         false
        ],
        [
         "hobartcorp.com/Contact-Us/",
         "benign",
         "hobartcorp.com",
         "com",
         "MarkMonitor Inc.",
         0,
         true
        ],
        [
         "ipesbd.com/",
         "benign",
         "ipesbd.com",
         "com",
         null,
         1,
         false
        ],
        [
         "oregoncraftsmanllc.com",
         "phishing",
         "oregoncraftsmanllc.com",
         "com",
         null,
         1,
         true
        ],
        [
         "http://skat-vviztmhc.pepespizza.com/skat.dk/personlige-oplysninger.html",
         "phishing",
         "pepespizza.com",
         "com",
         "GoDaddy.com, LLC",
         2,
         false
        ],
        [
         "madhatters.me.uk/2010/03/07/sarah-phillips-autumn/",
         "benign",
         "madhatters.me.uk",
         "me.uk",
         "Tool Domains EOOD t/a Edoms.com [Tag = EDOMS]",
         2,
         true
        ],
        [
         "http://www.tirs-online.de/aktionen/demos-a-kundgebungen/312-aktionstage-gegen-den-versuchstierhandel-durch-klm-air-france",
         "defacement",
         "tirs-online.de",
         "de",
         null,
         2,
         false
        ],
        [
         "videosurf.com/wallace-beery-212797",
         "benign",
         "videosurf.com",
         "com",
         "Privacy service provided by Withheld for Privacy ehf",
         1,
         false
        ],
        [
         "http://creditmaster.eu/7416077659/241250503/",
         "phishing",
         "creditmaster.eu",
         "eu",
         "Albert Schimmel | Buymyname.com",
         3,
         true
        ],
        [
         "cfreference.net/",
         "benign",
         "cfreference.net",
         "net",
         "Privacy Protect, LLC (PrivacyProtect.org)",
         5,
         false
        ],
        [
         "linkedin.com/pub/janelle-rudie/a/330/a13",
         "benign",
         "linkedin.com",
         "com",
         "MarkMonitor Inc.",
         1,
         false
        ],
        [
         "borealpress.com/",
         "benign",
         "borealpress.com",
         "com",
         "NameCheap, Inc.",
         2,
         false
        ],
        [
         "en.wikipedia.org/wiki/Ryan_(film)",
         "benign",
         "wikipedia.org",
         "org",
         "Wikimedia Foundation, Inc.",
         1,
         false
        ],
        [
         "http://kotaku.com/the-classic-pc-games-you-must-play-1246823468/1440923931/@kirkhamilton",
         "benign",
         "kotaku.com",
         "com",
         "Kotaku USA LLC",
         0,
         true
        ],
        [
         "usageorge.com/Wallpapers/Commercial/CHOM.html",
         "benign",
         "usageorge.com",
         "com",
         "Privacy service provided by Withheld for Privacy ehf",
         2,
         false
        ],
        [
         "http://www.mgth.fi/etusivu-ryhmaen-artikkelit/36-uutiset-ajankohtaista/81-verkkokauppa-avattu",
         "defacement",
         "mgth.fi",
         "fi",
         "Ohjelmatoimisto-tuotantopalvelut Huviputki Tmi",
         0,
         false
        ],
        [
         "http://atwiki.jp/wiki/%E3%83%89%E3%83%A9%E3%82%B4%E3%83%B3%E3%82%BA%E3%83%89%E3%82%B0%E3%83%9E%20%E3%81%8F%E3%81%88%E3%81%99%E3%81%A8",
         "benign",
         "atwiki.jp",
         "jp",
         null,
         0,
         true
        ],
        [
         "http://www.egejewelry.com/index.php?option=com_rsgallery2&page=inline&gid=1&limit=1&limitstart=12",
         "defacement",
         "egejewelry.com",
         "com",
         "REDACTED FOR PRIVACY",
         4,
         false
        ],
        [
         "mpma28.com/page/page/2271350.htm",
         "benign",
         "mpma28.com",
         "com",
         "Withheld for Privacy Purposes",
         0,
         false
        ],
        [
         "http://www.cuxhaven.cc/index.php?option=com_flippingbook&view=book&id=6&page=12&Itemid=67",
         "defacement",
         "cuxhaven.cc",
         "cc",
         null,
         1,
         false
        ],
        [
         "http://yyydy.com/a/bjl/index.html",
         "defacement",
         "yyydy.com",
         "com",
         "Gname 124 Inc",
         0,
         false
        ],
        [
         "canadagazette.gc.ca/archives/p1/2002/2002-01-19/html/parliament-parlement-eng.html",
         "benign",
         "canadagazette.gc.ca",
         "gc.ca",
         null,
         2,
         true
        ],
        [
         "en.wikipedia.org/wiki/KREV",
         "benign",
         "wikipedia.org",
         "org",
         "Wikimedia Foundation, Inc.",
         1,
         false
        ],
        [
         "http://distrimarsanitarios.soydg.com/wp-content/themes/jay/178bccdcc72168f6eaeec8c4b3b336fe/",
         "phishing",
         "soydg.com",
         "com",
         "Bluehost Inc.",
         0,
         false
        ],
        [
         "http://www.shaborooz.ir/index.php?option=com_contact&view=contact&id=1&Itemid=3",
         "defacement",
         "shaborooz.ir",
         "ir",
         null,
         0,
         false
        ],
        [
         "answers.com/topic/joseph-o-neill",
         "benign",
         "answers.com",
         "com",
         "Whois Privacy Protection Service, Inc.",
         1,
         false
        ],
        [
         "readerfeedback.labs.wikimedia.org/wiki/California_State_Route_78",
         "benign",
         "wikimedia.org",
         "org",
         "Wikimedia Foundation, Inc.",
         1,
         false
        ],
        [
         "yatedo.com/s/Linda+Lee",
         "benign",
         "yatedo.com",
         "com",
         "Privacy service provided by Withheld for Privacy ehf",
         1,
         true
        ],
        [
         "http://www.qmcweb.com.br/index.php?option=com_jevents&task=day.listevents&year=2013&month=01&day=10&catids=38|34&Itemid=1&lang=pt",
         "defacement",
         "qmcweb.com.br",
         "com.br",
         null,
         1,
         false
        ],
        [
         "http://otomoto.pl/oferta/honda-jazz-jazz-1-2-klima-i-rej-05-2014-km-10-000-ID4pa1I9.html",
         "benign",
         "otomoto.pl",
         "pl",
         "Corporation Service Company",
         0,
         false
        ],
        [
         "http://www.kristall-zell.at/index.php/nl/preise/winter.html",
         "defacement",
         "kristall-zell.at",
         "at",
         "Appartement Kristall Langegger-Hollaus KG",
         1,
         true
        ],
        [
         "motherboard.ie/",
         "benign",
         "motherboard.ie",
         "ie",
         "Blacknight Solutions",
         2,
         true
        ],
        [
         "servericer.wellsfarg0t.com.aquisites.net",
         "phishing",
         "aquisites.net",
         "net",
         null,
         2,
         true
        ],
        [
         "http://www.romanovski.se/art/performances/3-performances/25-tomato-peel-with-hiroko-tsuchimoto-2011-pori",
         "defacement",
         "romanovski.se",
         "se",
         "(not shown)",
         1,
         false
        ],
        [
         "http://www.gottadanceonline.com/index.php/login?task=lostPassword",
         "defacement",
         "gottadanceonline.com",
         "com",
         "Tucows Domains Inc.",
         2,
         true
        ],
        [
         "timesofindia.indiatimes.com/topic/Colin-Ferguson-(actor)",
         "benign",
         "indiatimes.com",
         "com",
         "Tucows Domains Inc.",
         1,
         true
        ],
        [
         "montreal.about.com/od/sportsrecreation/ss/olympic_divers_8.htm",
         "benign",
         "about.com",
         "com",
         "MarkMonitor Inc.",
         0,
         true
        ],
        [
         "edperformance.com/",
         "benign",
         "edperformance.com",
         "com",
         "GoDaddy.com, LLC",
         3,
         false
        ],
        [
         "port-montreal.com/",
         "benign",
         "port-montreal.com",
         "com",
         "GoDaddy.com, LLC",
         1,
         true
        ],
        [
         "youtube.com/watch?v=d8IlHHK7oZ8",
         "benign",
         "youtube.com",
         "com",
         "MarkMonitor Inc.",
         1,
         false
        ],
        [
         "4shared.com/audio/vhD02W-g/01_Hatenai_Sora.html",
         "benign",
         "4shared.com",
         "com",
         null,
         1,
         false
        ],
        [
         "en.wikipedia.org/wiki/Category:Silent_films",
         "benign",
         "wikipedia.org",
         "org",
         "Wikimedia Foundation, Inc.",
         1,
         false
        ],
        [
         "http://www.jnpiraq.net/index.php?option=com_content&view=article&id=507:2010-02-08-08-46-15&catid=7:2009-02-14-18-17-11&Itemid=12",
         "defacement",
         "jnpiraq.net",
         "net",
         null,
         1,
         true
        ],
        [
         "morgancole.com/",
         "benign",
         "morgancole.com",
         "com",
         "GoDaddy.com, LLC",
         1,
         false
        ],
        [
         "http://portal.dddgaming.com/docs/rules/15022/cn/game_cn.html?amluMjAxNQ%3D%3D",
         "malware",
         "dddgaming.com",
         "com",
         "GoDaddy.com, LLC",
         0,
         false
        ],
        [
         "rootsweb.ancestry.com/~inallcem/jefferson/emmanuel/name-a.html",
         "benign",
         "ancestry.com",
         "com",
         "MarkMonitor Inc.",
         1,
         true
        ],
        [
         "amazon.com/Systematic-Chaos-W-Dvd-Spec/dp/B000PTYP5C",
         "benign",
         "amazon.com",
         "com",
         "MarkMonitor Inc.",
         0,
         false
        ],
        [
         "http://tuvanbatdongsan.vn/Tu-van-phong-thuy/index.html",
         "defacement",
         "tuvanbatdongsan.vn",
         "vn",
         null,
         0,
         true
        ],
        [
         "http://www.mueblesjoval.cl/index.php?option=com_morfeoshow&task=view&gallery=77&Itemid=62",
         "defacement",
         "mueblesjoval.cl",
         "cl",
         "SOC JOFRE E HIJOS LIMITADA",
         2,
         false
        ],
        [
         "nationalcatholicreporter.org/word/word103103.htm",
         "benign",
         "nationalcatholicreporter.org",
         "org",
         "NATIONAL CATHOLIC REPORTER",
         2,
         true
        ],
        [
         "amazon.com/Beauties-Mary-Troy/dp/188615774X",
         "benign",
         "amazon.com",
         "com",
         "MarkMonitor Inc.",
         0,
         false
        ],
        [
         "trivago.com/carcassonne-36191/amusement-park/complexe-de-loisirs-raymond-chesa-185771",
         "benign",
         "trivago.com",
         "com",
         "trivago N.V.",
         0,
         true
        ],
        [
         "perfectpeople.net/celebrity-star/306/mira-sorvino.htm",
         "benign",
         "perfectpeople.net",
         "net",
         "Dynadot Inc",
         5,
         false
        ],
        [
         "facebook.com/pages/Billie-Joe-Armstrong/21810736024",
         "benign",
         "facebook.com",
         "com",
         "Meta Platforms, Inc.",
         1,
         false
        ],
        [
         "youtube.com/watch?v=8nJCN3dUtO8",
         "benign",
         "youtube.com",
         "com",
         "MarkMonitor Inc.",
         1,
         false
        ],
        [
         "sitedefesta.com",
         "phishing",
         "sitedefesta.com",
         "com",
         null,
         3,
         true
        ],
        [
         "gettyimages.com/detail/news-photo/bob-steele-the-cowboy-star-and-american-character-actor-who-news-photo/3265035",
         "benign",
         "gettyimages.com",
         "com",
         "CSC Corporate Domains, Inc.",
         2,
         true
        ],
        [
         "names.whitepages.com/massachusetts/danielle/fournier",
         "benign",
         "whitepages.com",
         "com",
         "Identity Protection Service",
         2,
         true
        ],
        [
         "acadian-home.org/france-lesturgeon.html",
         "benign",
         "acadian-home.org",
         "org",
         "REDACTED",
         1,
         false
        ],
        [
         "http://www.sertex.com.br/index.html?page_id=7",
         "defacement",
         "sertex.com.br",
         "com.br",
         "SERTEX FIACAO E TECELAGEM LTDA",
         2,
         false
        ],
        [
         "mankato.craigslist.org/fuo/2682320424.html",
         "benign",
         "craigslist.org",
         "org",
         "Craigslist",
         0,
         true
        ],
        [
         "lib.berkeley.edu/MRC/imagesafam.html",
         "benign",
         "berkeley.edu",
         "edu",
         null,
         4,
         false
        ],
        [
         "johnbolenracing.com/",
         "benign",
         "johnbolenracing.com",
         "com",
         null,
         1,
         false
        ],
        [
         "linkedin.com/pub/eric-kubic/25/b5a/12b",
         "benign",
         "linkedin.com",
         "com",
         "MarkMonitor Inc.",
         1,
         false
        ],
        [
         "http://www.coopsalsipuedes.com.ar/index.php?view=article&catid=43:cultura&id=23:complejo-cultural-ancon&tmpl=component&print=1&layout=default&page=&option=com_content&Itemid=53",
         "defacement",
         "coopsalsipuedes.com.ar",
         "com.ar",
         "FRAPPA MAURICIO GUILLERMO",
         2,
         false
        ],
        [
         "ecoliteracy.org/essays/greening-k-12-curriculum",
         "benign",
         "ecoliteracy.org",
         "org",
         "Center for Ecoliteracy",
         2,
         true
        ],
        [
         "maxalbums.com/index.php?artist=Henry+Rollins&album=Everything",
         "benign",
         "maxalbums.com",
         "com",
         "PrivacyGuardian.org llc",
         0,
         false
        ],
        [
         "http://bjdfbh.com/Item/Show.asp?m=1&d=1048",
         "defacement",
         "bjdfbh.com",
         "com",
         "REDACTED FOR PRIVACY",
         0,
         false
        ],
        [
         "manta.com/c/mm73jsg/don-ferguson",
         "benign",
         "manta.com",
         "com",
         "Amazon Registrar, Inc.",
         0,
         true
        ],
        [
         "youtube.com/watch?v=EiSK-hrFZiE",
         "benign",
         "youtube.com",
         "com",
         "MarkMonitor Inc.",
         1,
         false
        ],
        [
         "imdb.com/title/tt1846155/",
         "benign",
         "imdb.com",
         "com",
         "MarkMonitor Inc.",
         0,
         false
        ],
        [
         "lillies-flowers.blogspot.com/",
         "benign",
         "blogspot.com",
         "com",
         "MarkMonitor Inc.",
         0,
         false
        ],
        [
         "http://www.khack.be/index.php?option=com_content&view=article&id=12&Itemid=9",
         "defacement",
         "khack.be",
         "be",
         "One.com A/S",
         1,
         false
        ],
        [
         "http://www.ekino-neureut.de/index.php?option=com_phocagallery&view=detail&catid=32:kindergottesdienst-engel-2&id=1919:1001765&tmpl=component&Itemid=49",
         "defacement",
         "ekino-neureut.de",
         "de",
         null,
         4,
         false
        ],
        [
         "tributes.com/show/John-Cossette-91317090",
         "benign",
         "tributes.com",
         "com",
         "GoDaddy.com, LLC",
         1,
         false
        ],
        [
         "verdunrestaurants.info/?abrowse=X",
         "benign",
         "verdunrestaurants.info",
         "info",
         null,
         2,
         true
        ],
        [
         "gohorsebetting.com/Monmouth+Park",
         "benign",
         "gohorsebetting.com",
         "com",
         "Your Whois Privacy Ltd",
         2,
         false
        ],
        [
         "thelostpenguin.wordpress.com/short-films/",
         "benign",
         "wordpress.com",
         "com",
         "MarkMonitor Inc.",
         1,
         false
        ],
        [
         "192.com/atoz/people/watkins/daniel/",
         "benign",
         "192.com",
         "com",
         "123-Reg Limited",
         0,
         false
        ],
        [
         "answers.yahoo.com/question/index?qid=20090527180401AA9KLjC",
         "benign",
         "yahoo.com",
         "com",
         "MarkMonitor Inc.",
         0,
         false
        ],
        [
         "rockerparis.blogspot.com/",
         "benign",
         "blogspot.com",
         "com",
         "MarkMonitor Inc.",
         0,
         false
        ],
        [
         "amazon.com/Senior-Trip-Jason-Alexander/dp/B000PKG8XI",
         "benign",
         "amazon.com",
         "com",
         "MarkMonitor Inc.",
         0,
         false
        ],
        [
         "fbitn.com/meigs-county/decatur/derek-starnes",
         "benign",
         "fbitn.com",
         "com",
         "Network Solutions, LLC",
         0,
         false
        ],
        [
         "http://www.lgk-luzern.ch/index.php?option=com_content&view=article&id=14&Itemid=57",
         "defacement",
         "lgk-luzern.ch",
         "ch",
         null,
         1,
         false
        ],
        [
         "http://bathurstbaptist.org.au/home/contact-us/8/14-young-adults-enquiries.html",
         "defacement",
         "bathurstbaptist.org.au",
         "org.au",
         "Bathurst Baptist Church",
         0,
         true
        ],
        [
         "http://schertzauto.com/wp-content/themes/NAPA%20AC%202014%20S/genericons/genericons.css?ver=3.0.2",
         "malware",
         "schertzauto.com",
         "com",
         "GKG.NET Domain Proxy Service",
         1,
         true
        ],
        [
         "letrs.indiana.edu/cgi/t/text/text-idx?c=wright2;cc=wright2;view=text;rgn=main;idno=wright2-1791",
         "benign",
         "indiana.edu",
         "edu",
         null,
         1,
         false
        ],
        [
         "http://www.verall.com.pl/sieci-radiowe-wlan.html",
         "defacement",
         "verall.com.pl",
         "com.pl",
         "Domena.pl sp. z o.o.",
         1,
         false
        ],
        [
         "williamsmorrisonlight.net/Bio/JohnLight.asp",
         "benign",
         "williamsmorrisonlight.net",
         "net",
         null,
         1,
         true
        ],
        [
         "theracinginquirer.blogspot.com/2011/09/freshman-pacers-featured-at-freehold.html",
         "benign",
         "blogspot.com",
         "com",
         "MarkMonitor Inc.",
         0,
         false
        ],
        [
         "northcarolinashandyman.com/",
         "benign",
         "northcarolinashandyman.com",
         "com",
         "GoDaddy.com, LLC",
         0,
         true
        ],
        [
         "yikesprospho.com.gridhosted.co.uk",
         "phishing",
         "gridhosted.co.uk",
         "co.uk",
         "123-Reg Limited t/a 123-reg [Tag = 123-REG]",
         1,
         false
        ],
        [
         "people.famouswhy.com/david_st__pierre/",
         "benign",
         "famouswhy.com",
         "com",
         "REDACTED FOR PRIVACY",
         0,
         false
        ],
        [
         "fargonorth91.com/",
         "benign",
         "fargonorth91.com",
         "com",
         null,
         0,
         true
        ],
        [
         "techlearning.com/article/38974",
         "benign",
         "techlearning.com",
         "com",
         "Lexsynergy Limited",
         2,
         true
        ],
        [
         "10starmovies.com/Watch-Movies-Online/Jackie_Bouvier_Kennedy_Onassis_2000/",
         "benign",
         "10starmovies.com",
         "com",
         "NameCheap, Inc.",
         1,
         true
        ],
        [
         "http://kreuzleger.net/de.html?el_mcal_month=1&el_mcal_year=2013",
         "defacement",
         "kreuzleger.net",
         "net",
         "System GmbH Produktionssysteme und Service für die Industrie & Co. KG",
         4,
         false
        ],
        [
         "allbrackets.com/",
         "benign",
         "allbrackets.com",
         "com",
         "GoDaddy.com, LLC",
         1,
         true
        ],
        [
         "zeitgeist-photo.com/galleries/2008_colors_of_the_world_collection/",
         "benign",
         "zeitgeist-photo.com",
         "com",
         "PrivateName Services Inc.",
         2,
         false
        ],
        [
         "southcarolina.hometownlocator.com/",
         "benign",
         "hometownlocator.com",
         "com",
         "REDACTED FOR PRIVACY",
         1,
         true
        ],
        [
         "http://www.gruendungsberater-steuerberater.de/index.php?option=com_content&view=article&id=7&Itemid=7",
         "defacement",
         "gruendungsberater-steuerberater.de",
         "de",
         null,
         8,
         true
        ],
        [
         "http://opttoys24.ru/index.php?option=com_user&view=register",
         "defacement",
         "opttoys24.ru",
         "ru",
         null,
         0,
         false
        ],
        [
         "tamilnewsnetwork.com/2010/10/18/birth-centenary-of-v-navaratnam-pioneer-of-tamil-eelam-polity/",
         "benign",
         "tamilnewsnetwork.com",
         "com",
         "DATA REDACTED",
         2,
         true
        ],
        [
         "dvdtalk.com/reviews/45691/legend-of-bruce-lee-the/",
         "benign",
         "dvdtalk.com",
         "com",
         "GoDaddy.com, LLC",
         0,
         true
        ],
        [
         "the-sugarandspice-in-you.blogspot.com/",
         "benign",
         "blogspot.com",
         "com",
         "MarkMonitor Inc.",
         0,
         false
        ],
        [
         "realtor.com/property-search/Bartlett_TN/Carrie-Brook-Cv",
         "benign",
         "realtor.com",
         "com",
         "Register.com - Network Solutions, LLC",
         1,
         true
        ],
        [
         "m.yahoo.com/w/sports/home/experts/article?offset=0&urn=urn%3Anewsml%3Asports.yahoo%2Cyhoo%3A20050301%3Apga%2Carticle%2Cbr-lateralhazard-murphy_cantley_is_future_star_082911%3A1&.ts=1314643797&.ysid=F8v9AuxNE6gvs9Vud6Bhyo3s&.intl=US&.lang=en",
         "benign",
         "yahoo.com",
         "com",
         "MarkMonitor Inc.",
         0,
         false
        ],
        [
         "cheapstheycome.wordpress.com/2011/11/30/vampiros-los-muertos-2002/",
         "benign",
         "wordpress.com",
         "com",
         "MarkMonitor Inc.",
         1,
         false
        ],
        [
         "cesarica.net/portal/urawa-red-diamonds-kashima-antlers-live-stream/football-en/9650/",
         "benign",
         "cesarica.net",
         "net",
         "NameCheap, Inc.",
         2,
         true
        ],
        [
         "arkhilario.com/2011/02/12/wwe-elimination-chamber-2011-live-stream-free/",
         "benign",
         "arkhilario.com",
         "com",
         "Redacted for privacy",
         0,
         false
        ],
        [
         "http://torcache.net/torrent/955C5FDBC91A9D4D79F8AB301F49B205BEBC4865.torrent?title=[kickass.to]the.originals.s02e18.hdtv.x264.lol.ettv",
         "benign",
         "torcache.net",
         "net",
         "Jewella Privacy LLC Privacy ID# 1183090",
         2,
         true
        ],
        [
         "harvestbiblechapel.org/content.aspx?site_id=10424&content_id=162811",
         "benign",
         "harvestbiblechapel.org",
         "org",
         "Contact Privacy Inc. Customer 0118731078",
         3,
         true
        ],
        [
         "myonlinetutor.bell.ca/",
         "benign",
         "bell.ca",
         "ca",
         "Bell Canada",
         1,
         false
        ],
        [
         "data.vanderbilt.edu/rapache/bbplot/BOS-1915.html",
         "benign",
         "vanderbilt.edu",
         "edu",
         null,
         2,
         true
        ],
        [
         "http://pastehtml.com/view/bfza8l1z0.html",
         "phishing",
         "pastehtml.com",
         "com",
         "Dynadot Inc",
         1,
         true
        ],
        [
         "http://wijzijnnietgevaarlijk.nl/baasjes/85-linda/profile.html",
         "defacement",
         "wijzijnnietgevaarlijk.nl",
         "nl",
         null,
         2,
         true
        ],
        [
         "en.wikipedia.org/wiki/Commerce_Bancshares",
         "benign",
         "wikipedia.org",
         "org",
         "Wikimedia Foundation, Inc.",
         1,
         false
        ],
        [
         "dfdrussell.org/",
         "benign",
         "dfdrussell.org",
         "org",
         "DFD Russell Medical Centers",
         1,
         false
        ],
        [
         "barnesandnoble.com/w/pediatric-clinical-skills-richard-b-goldbloom/1100213036",
         "benign",
         "barnesandnoble.com",
         "com",
         "CSC Corporate Domains, Inc.",
         2,
         false
        ],
        [
         "nytimes.com/1991/10/24/arts/review-dance-ted-shawn-s-legacy-men-tough-and-tender.html",
         "benign",
         "nytimes.com",
         "com",
         "MarkMonitor Inc.",
         1,
         false
        ],
        [
         "bizzyballoons.f2s.com/",
         "benign",
         "f2s.com",
         "com",
         "Register.com - Network Solutions, LLC",
         0,
         false
        ],
        [
         "http://www.fulig.com.br/index.php?option=com_content&view=article&id=6&Itemid=6&lang=en",
         "defacement",
         "fulig.com.br",
         "com.br",
         "Fulig Fundi��o de Ligas Ltda",
         0,
         false
        ],
        [
         "http://rus-master.com/\\321%80ะตะผะพะฝ\\321%82ะฝ\\321%8Bะต-\\321%80ะฐะฑะพ\\321%82\\321%8B/52-ะดะธะทะฐะนะฝ-ะบ\\321%83\\321%85ะฝะธ-ะฒะฐะฝะฝะพะน-ะบะพะผะฝะฐ\\321%82\\321%8B.html",
         "defacement",
         "rus-master.com",
         "com",
         "Elihov Viktor",
         1,
         true
        ],
        [
         "http://www.ambiani.nl/diensten/vergaderruimte-brabant/70-huwelijksfeest-brabant.html",
         "defacement",
         "ambiani.nl",
         "nl",
         "1API Gmbh",
         0,
         false
        ],
        [
         "findstructuredsettlements.blogspot.com/",
         "benign",
         "blogspot.com",
         "com",
         "MarkMonitor Inc.",
         0,
         false
        ],
        [
         "slu.edu/colleges/AS/ENG/ong/",
         "benign",
         "slu.edu",
         "edu",
         null,
         1,
         false
        ],
        [
         "http://www.kenltd.com/index.php?option=com_content&view=article&id=54&Itemid=69&lang=en",
         "defacement",
         "kenltd.com",
         "com",
         "GDPR Masked",
         1,
         false
        ],
        [
         "insiderpages.com/doctors/Michael-J-Meighen-MD-Concord",
         "benign",
         "insiderpages.com",
         "com",
         "CSC Corporate Domains, Inc.",
         2,
         false
        ],
        [
         "localhikes.com/Hikes/DnRCanal-BullsIsland_5602.asp",
         "benign",
         "localhikes.com",
         "com",
         "GoDaddy.com, LLC",
         1,
         false
        ],
        [
         "mediafire.com/?z2hjmmnnzm2",
         "benign",
         "mediafire.com",
         "com",
         "NameCheap, Inc.",
         2,
         false
        ],
        [
         "http://mlcdigital.com/index.php?view=article&id=44:welcome-to-mlc-digital&tmpl=component&print=1&page=",
         "defacement",
         "mlcdigital.com",
         "com",
         "REDACTED FOR PRIVACY",
         0,
         true
        ],
        [
         "partypop.com/d/Party/Temples-Synagogues/Kansas-City",
         "benign",
         "partypop.com",
         "com",
         "GoDaddy.com, LLC",
         0,
         true
        ],
        [
         "bbb.org/central-northern-western-arizona/business-reviews/air-conditioning-contractors-and-systems/al-riley-s-air-conditioning-and-sheet-metal-in-casa-grande-az-7002698/",
         "benign",
         "bbb.org",
         "org",
         "International Association of Better Business Bureaus, Inc.",
         0,
         false
        ],
        [
         "audible.com/pd?asin=B0042ZKVFI",
         "benign",
         "audible.com",
         "com",
         "CSC Corporate Domains, Inc.",
         1,
         false
        ],
        [
         "wordcustard.hubpages.com/",
         "benign",
         "hubpages.com",
         "com",
         "Amazon Registrar, Inc.",
         1,
         false
        ],
        [
         "onesongneedlearts.com/",
         "benign",
         "onesongneedlearts.com",
         "com",
         "Tucows Domains Inc.",
         4,
         true
        ],
        [
         "http://www.bhxx.net/xxgl/UploadFiles_7485/201304/2013042315380148.jpg",
         "malware",
         "bhxx.net",
         "net",
         "Redacted for privacy",
         1,
         false
        ],
        [
         "linkedin.com/in/jameswestcott",
         "benign",
         "linkedin.com",
         "com",
         "MarkMonitor Inc.",
         1,
         false
        ],
        [
         "videosurf.com/videos/los+angeles+galaxy+0+vs+0+kansas+city+wizards+game+highlights+04+24+10+week+5+2010+season?vnf=1",
         "benign",
         "videosurf.com",
         "com",
         "Privacy service provided by Withheld for Privacy ehf",
         1,
         false
        ],
        [
         "jmdphysiotronic.in",
         "phishing",
         "jmdphysiotronic.in",
         "in",
         null,
         0,
         false
        ],
        [
         "http://www.umeataxi.se/index.php?option=com_mailto&tmpl=component&link=aHR0cDovL3d3dy51bWVhdGF4aS5zZS9pbmRleC5waHA%2Fb3B0aW9uPWNvbV9jb250ZW50JnZpZXc9YXJ0aWNsZSZpZD00NDpoeWJyaWRiaWxhcg==",
         "defacement",
         "umeataxi.se",
         "se",
         "annume6510-00001",
         2,
         true
        ],
        [
         "goldstar.com/venues/washington-dc/sidney-harman-hall",
         "benign",
         "goldstar.com",
         "com",
         "GoDaddy.com, LLC",
         0,
         true
        ],
        [
         "im.indli.com/search/Singer%20Sunitha%20Sarathy%20Celebrity%20Photos%20Hot%20Pictures%20Stills%20Singer%20Sunitha%20Sarathy%20Celebrity%20Photos%20Images%20Gallery%20Singer%20Sunitha%20Sarathy%20Celebrity%20PhotosMovie%20Gallery%20Latest%20Tamil%20Movie%20Images%20Pictures%20Stills%20Actress%20Hot%20Gallery",
         "benign",
         "indli.com",
         "com",
         "Dynadot Inc",
         0,
         false
        ],
        [
         "http://jamminkidsweston.com/our-blog/how-to-learn-to-play-piano-before-the-holidays.html",
         "defacement",
         "jamminkidsweston.com",
         "com",
         null,
         1,
         true
        ],
        [
         "movies.totallyfreeonline.com/watch_idi-i-smotri-1985-3_online_for_free_in_HD/",
         "benign",
         "totallyfreeonline.com",
         "com",
         null,
         3,
         true
        ],
        [
         "universityguides.com/index.jsp?source=UG65k&OVRAW=list%20of%20delta%20sigma%20theta%20chapters&OVKEY=delta%20sigma%20theta%20undergraduate%20chapter&OVMTC=advanced&OVADID=5146222013&OVKWID=53821256513",
         "benign",
         "universityguides.com",
         "com",
         "GoDaddy Online Services Cayman Islands Ltd.",
         2,
         false
        ],
        [
         "caribou-canada.com/",
         "benign",
         "caribou-canada.com",
         "com",
         null,
         0,
         false
        ],
        [
         "http://superuser.com/questions/812639/troubleshooting-hardware-with-limited-resources",
         "benign",
         "superuser.com",
         "com",
         "CSC Corporate Domains, Inc.",
         2,
         false
        ],
        [
         "artloversnewyork.com/zine/the-bomb/2006/08/03/jason-rhoades-dead-at-41/",
         "benign",
         "artloversnewyork.com",
         "com",
         "REDACTED FOR PRIVACY",
         2,
         true
        ],
        [
         "youtube.com/watch?v=N0ykm1v9xbU",
         "benign",
         "youtube.com",
         "com",
         "MarkMonitor Inc.",
         1,
         false
        ],
        [
         "allstarpics.net/pic-gallery/mackenzie-foy-pics.htm",
         "benign",
         "allstarpics.net",
         "net",
         "REDACTED FOR PRIVACY",
         1,
         true
        ],
        [
         "copcusco.ml",
         "phishing",
         "copcusco.ml",
         "ml",
         null,
         0,
         false
        ],
        [
         "dea.seattle.gov/self/",
         "benign",
         "seattle.gov",
         "gov",
         "REDACTED FOR PRIVACY",
         2,
         true
        ],
        [
         "linkedin.com/pub/dir/kenneth/gilbert",
         "benign",
         "linkedin.com",
         "com",
         "MarkMonitor Inc.",
         1,
         false
        ],
        [
         "http://www.slaviacapital.cz/tlacove-spravy-eng/slavia-capital-sold-shares-of-investbanka-skopje",
         "defacement",
         "slaviacapital.cz",
         "cz",
         "SB:SLAVIACAPITAL",
         0,
         true
        ],
        [
         "http://www.umeataxi.se/index.html",
         "defacement",
         "umeataxi.se",
         "se",
         "annume6510-00001",
         2,
         true
        ],
        [
         "http://www.domusviatoris.com/index.php?option=com_mailto&tmpl=component&link=aHR0cDovL3d3dy5kb211c3ZpYXRvcmlzLmNvbS9pbmRleC5waHA%2Fb3B0aW9uPWNvbV9rMiZ2aWV3PWl0ZW0maWQ9ODI6bGl4bzItYWxvamFtaWVudG9jYWxpZGFkJkl0ZW1pZD0xMQ==",
         "defacement",
         "domusviatoris.com",
         "com",
         "REDACTED FOR PRIVACY",
         0,
         true
        ],
        [
         "http://nesn.com/2014/08/tom-brady-patriots-involved-in-competitive-situations-vs-redskins-video/",
         "benign",
         "nesn.com",
         "com",
         "Network Solutions, LLC",
         1,
         false
        ],
        [
         "narniafans.com/archives/12139",
         "benign",
         "narniafans.com",
         "com",
         "GoDaddy.com, LLC",
         0,
         false
        ],
        [
         "mma-core.com/videos/_Rampage_Jackson_Owns_Ariel_Helwani_On_Post_Fight_S?vid=10020847&tid=104",
         "benign",
         "mma-core.com",
         "com",
         "Privacy service provided by Withheld for Privacy ehf",
         1,
         false
        ],
        [
         "lepg.org/people.htm",
         "benign",
         "lepg.org",
         "org",
         "Lepg",
         1,
         false
        ],
        [
         "http://www.borg4x4.org/index.php?option=com_jcalpro&Itemid=61&extmode=view&extid=18",
         "defacement",
         "borg4x4.org",
         "org",
         "Borg 4x4",
         0,
         false
        ],
        [
         "http://www.spirit-house.de/index.php?option=com_content&view=category&id=11&Itemid=6",
         "defacement",
         "spirit-house.de",
         "de",
         null,
         2,
         false
        ],
        [
         "articlesbase.com/basketball-articles/watch-gonzaga-basketball-online-bulldogs-games-live-stream-on-the-internet-3818221.html",
         "benign",
         "articlesbase.com",
         "com",
         "GoDaddy.com, LLC",
         2,
         true
        ],
        [
         "modot.mo.gov/kansascity/major_projects/Heart_of_America.htm",
         "benign",
         "mo.gov",
         "gov",
         "REDACTED FOR PRIVACY",
         0,
         false
        ],
        [
         "http://www.sceg.ir/sanyeh-soft/civil-soft.html",
         "defacement",
         "sceg.ir",
         "ir",
         null,
         1,
         false
        ],
        [
         "http://slashdot.org/submission/2011137/the-optimum-attack-rate-for-ssh-bruteforce-1-per-10-seconds",
         "benign",
         "slashdot.org",
         "org",
         "Domains By Proxy, LLC",
         0,
         true
        ],
        [
         "http://grasslandhotel.com.vn/index.php/rooms/item/all/18-airticketservices",
         "malware",
         "grasslandhotel.com.vn",
         "com.vn",
         null,
         1,
         true
        ],
        [
         "kevinmooremusic.com/",
         "benign",
         "kevinmooremusic.com",
         "com",
         "Redacted for Privacy Purposes",
         2,
         false
        ],
        [
         "ehow.com/facts_5552739_western-auto-company-history.html",
         "benign",
         "ehow.com",
         "com",
         "TechnologyAdvice",
         1,
         false
        ],
        [
         "merriam-webster.com/dictionary/cleric",
         "benign",
         "merriam-webster.com",
         "com",
         "CSC Corporate Domains, Inc.",
         3,
         true
        ],
        [
         "usl1.uslsoccer.com/home/398646.html",
         "benign",
         "uslsoccer.com",
         "com",
         "Register.com - Network Solutions, LLC",
         1,
         false
        ],
        [
         "http://perezhilton.com/2014-12-31-joe-jonas-mystery-woman-the-nice-guy-west-hollywood/?from=readmore_perezhilton&",
         "benign",
         "perezhilton.com",
         "com",
         "GoDaddy.com, LLC",
         2,
         false
        ],
        [
         "blackjackinfo.com/blackjack-rules.php",
         "benign",
         "blackjackinfo.com",
         "com",
         "See PrivacyGuardian.org",
         0,
         false
        ],
        [
         "bizjournals.com/stlouis/stories/2008/06/23/focus7.html",
         "benign",
         "bizjournals.com",
         "com",
         "CSC Corporate Domains, Inc.",
         0,
         false
        ],
        [
         "http://www.kulgupuit.ee/index.php?option=com_phocagallery&view=detail&catid=2:foto&id=41:foto-7&tmpl=component&Itemid=5&lang=ru",
         "defacement",
         "kulgupuit.ee",
         "ee",
         null,
         2,
         false
        ],
        [
         "local.yahoo.com/info-19737823-ordway-building-supply-incorporated-ordway",
         "benign",
         "yahoo.com",
         "com",
         "MarkMonitor Inc.",
         0,
         false
        ],
        [
         "http://football-euro.net/kluby-rossii/373-rabota-rossijskix-futbolnyx-arbitrov-neudovletvoritelna-po-czelomu-ryadu-prichin.html",
         "defacement",
         "football-euro.net",
         "net",
         "Privacy service provided by Withheld for Privacy ehf",
         2,
         true
        ],
        [
         "http://motthegioi.vn/xa-hoi/trung-quoc-lai-dua-gian-khoan-hai-duong-981-vao-bien-dong-188586.html",
         "benign",
         "motthegioi.vn",
         "vn",
         null,
         1,
         false
        ]
       ],
       "datasetInfos": [
        {
         "name": "_sqldf",
         "schema": {
          "fields": [
           {
            "metadata": {},
            "name": "url",
            "nullable": true,
            "type": "string"
           },
           {
            "metadata": {},
            "name": "type",
            "nullable": true,
            "type": "string"
           },
           {
            "metadata": {},
            "name": "domain",
            "nullable": true,
            "type": "string"
           },
           {
            "metadata": {},
            "name": "tld",
            "nullable": true,
            "type": "string"
           },
           {
            "metadata": {},
            "name": "owner",
            "nullable": true,
            "type": "string"
           },
           {
            "metadata": {},
            "name": "e_count",
            "nullable": true,
            "type": "integer"
           },
           {
            "metadata": {},
            "name": "has_A_and_T",
            "nullable": true,
            "type": "boolean"
           }
          ],
          "type": "struct"
         },
         "tableIdentifier": null,
         "typeStr": "pyspark.sql.dataframe.DataFrame"
        }
       ],
       "dbfsResultPath": null,
       "isJsonSchema": true,
       "metadata": {
        "createTempViewForImplicitDf": true,
        "dataframeName": "_sqldf",
        "executionCount": 12
       },
       "overflow": false,
       "plotOptions": {
        "customPlotOptions": {},
        "displayType": "table",
        "pivotAggregation": null,
        "pivotColumns": null,
        "xColumns": null,
        "yColumns": null
       },
       "removedWidgets": [],
       "schema": [
        {
         "metadata": "{}",
         "name": "url",
         "type": "\"string\""
        },
        {
         "metadata": "{}",
         "name": "type",
         "type": "\"string\""
        },
        {
         "metadata": "{}",
         "name": "domain",
         "type": "\"string\""
        },
        {
         "metadata": "{}",
         "name": "tld",
         "type": "\"string\""
        },
        {
         "metadata": "{}",
         "name": "owner",
         "type": "\"string\""
        },
        {
         "metadata": "{}",
         "name": "e_count",
         "type": "\"integer\""
        },
        {
         "metadata": "{}",
         "name": "has_A_and_T",
         "type": "\"boolean\""
        }
       ],
       "type": "table"
      }
     },
     "output_type": "display_data"
    }
   ],
   "source": [
    "%sql\n",
    "select * from malicious_urls_project_catalog.enriched_data.malicious_urls_enriched\n"
   ]
  },
  {
   "cell_type": "markdown",
   "metadata": {
    "application/vnd.databricks.v1+cell": {
     "cellMetadata": {},
     "inputWidgets": {},
     "nuid": "49275c59-fa01-4a4f-878f-adf2df48e6dd",
     "showTitle": false,
     "tableResultSettingsMap": {},
     "title": ""
    }
   },
   "source": [
    "The following query calculates how many domains exist per type and what percentage each type represents of the total dataset."
   ]
  },
  {
   "cell_type": "code",
   "execution_count": 0,
   "metadata": {
    "application/vnd.databricks.v1+cell": {
     "cellMetadata": {
      "byteLimit": 2048000,
      "implicitDf": true,
      "rowLimit": 10000
     },
     "inputWidgets": {},
     "nuid": "2a3f0148-a0a3-4b83-8150-edf64c746fdf",
     "showTitle": false,
     "tableResultSettingsMap": {},
     "title": ""
    }
   },
   "outputs": [
    {
     "output_type": "display_data",
     "data": {
      "text/html": [
       "<style scoped>\n",
       "  .table-result-container {\n",
       "    max-height: 300px;\n",
       "    overflow: auto;\n",
       "  }\n",
       "  table, th, td {\n",
       "    border: 1px solid black;\n",
       "    border-collapse: collapse;\n",
       "  }\n",
       "  th, td {\n",
       "    padding: 5px;\n",
       "  }\n",
       "  th {\n",
       "    text-align: left;\n",
       "  }\n",
       "</style><div class='table-result-container'><table class='table-result'><thead style='background-color: white'><tr><th>type</th><th>domain_count</th><th>percentage_of_total</th></tr></thead><tbody><tr><td>benign</td><td>752</td><td>68.80</td></tr><tr><td>defacement</td><td>247</td><td>22.60</td></tr><tr><td>phishing</td><td>69</td><td>6.31</td></tr><tr><td>malware</td><td>25</td><td>2.29</td></tr></tbody></table></div>"
      ]
     },
     "metadata": {
      "application/vnd.databricks.v1+output": {
       "addedWidgets": {},
       "aggData": [],
       "aggError": "",
       "aggOverflow": false,
       "aggSchema": [],
       "aggSeriesLimitReached": false,
       "aggType": "",
       "arguments": {},
       "columnCustomDisplayInfos": {},
       "data": [
        [
         "benign",
         752,
         "68.80"
        ],
        [
         "defacement",
         247,
         "22.60"
        ],
        [
         "phishing",
         69,
         "6.31"
        ],
        [
         "malware",
         25,
         "2.29"
        ]
       ],
       "datasetInfos": [
        {
         "name": "_sqldf",
         "schema": {
          "fields": [
           {
            "metadata": {},
            "name": "type",
            "nullable": true,
            "type": "string"
           },
           {
            "metadata": {},
            "name": "domain_count",
            "nullable": false,
            "type": "long"
           },
           {
            "metadata": {},
            "name": "percentage_of_total",
            "nullable": true,
            "type": "decimal(27,2)"
           }
          ],
          "type": "struct"
         },
         "tableIdentifier": null,
         "typeStr": "pyspark.sql.dataframe.DataFrame"
        }
       ],
       "dbfsResultPath": null,
       "isJsonSchema": true,
       "metadata": {
        "createTempViewForImplicitDf": true,
        "dataframeName": "_sqldf",
        "executionCount": 13
       },
       "overflow": false,
       "plotOptions": {
        "customPlotOptions": {},
        "displayType": "table",
        "pivotAggregation": null,
        "pivotColumns": null,
        "xColumns": null,
        "yColumns": null
       },
       "removedWidgets": [],
       "schema": [
        {
         "metadata": "{}",
         "name": "type",
         "type": "\"string\""
        },
        {
         "metadata": "{}",
         "name": "domain_count",
         "type": "\"long\""
        },
        {
         "metadata": "{}",
         "name": "percentage_of_total",
         "type": "\"decimal(27,2)\""
        }
       ],
       "type": "table"
      }
     },
     "output_type": "display_data"
    }
   ],
   "source": [
    "%sql\n",
    "SELECT \n",
    "    type,\n",
    "    COUNT(DISTINCT domain) AS domain_count,\n",
    "    ROUND(\n",
    "        COUNT(DISTINCT domain) * 100.0 / SUM(COUNT(DISTINCT domain)) OVER (), \n",
    "        2\n",
    "    ) AS percentage_of_total\n",
    "FROM malicious_urls_project_catalog.enriched_data.malicious_urls_enriched\n",
    "GROUP BY type\n",
    "ORDER BY domain_count DESC;\n"
   ]
  },
  {
   "cell_type": "markdown",
   "metadata": {
    "application/vnd.databricks.v1+cell": {
     "cellMetadata": {},
     "inputWidgets": {},
     "nuid": "8bf95d42-e2fa-4544-b263-ede554be8f3e",
     "showTitle": false,
     "tableResultSettingsMap": {},
     "title": ""
    }
   },
   "source": [
    "The following query assigns a severity rank to each URL based on its type and orders the results by severity. Limit 50 rows"
   ]
  },
  {
   "cell_type": "code",
   "execution_count": 0,
   "metadata": {
    "application/vnd.databricks.v1+cell": {
     "cellMetadata": {
      "byteLimit": 2048000,
      "implicitDf": true,
      "rowLimit": 10000
     },
     "inputWidgets": {},
     "nuid": "e2bc28f1-1a13-4d5b-bfad-f8a81810d4d3",
     "showTitle": false,
     "tableResultSettingsMap": {},
     "title": ""
    }
   },
   "outputs": [
    {
     "output_type": "display_data",
     "data": {
      "text/html": [
       "<style scoped>\n",
       "  .table-result-container {\n",
       "    max-height: 300px;\n",
       "    overflow: auto;\n",
       "  }\n",
       "  table, th, td {\n",
       "    border: 1px solid black;\n",
       "    border-collapse: collapse;\n",
       "  }\n",
       "  th, td {\n",
       "    padding: 5px;\n",
       "  }\n",
       "  th {\n",
       "    text-align: left;\n",
       "  }\n",
       "</style><div class='table-result-container'><table class='table-result'><thead style='background-color: white'><tr><th>url</th><th>type</th><th>domain</th><th>severity_rank</th></tr></thead><tbody><tr><td>http://ak.imgfarm.com/images/nocache/vicinio/installers/205320000.S10570.1/507981-150710122501-S10570.1/VideoDownloadConvertAuto.exe_0</td><td>malware</td><td>imgfarm.com</td><td>High</td></tr><tr><td>http://www.824555.com/app/member/SportOption.php?uid=guest&langx=gb</td><td>malware</td><td>824555.com</td><td>High</td></tr><tr><td>http://9779.info/%E5%85%AD%E4%B8%80%E5%BF%AB%E4%B9%90%E7%B2%98%E8%B4%B4%E7%94%BB/</td><td>malware</td><td>9779.info</td><td>High</td></tr><tr><td>http://9779.info/%E6%8A%98%E7%BA%B8%E6%89%87%E5%AD%90%E6%8B%BC%E8%B4%B4%E7%94%BB/</td><td>malware</td><td>9779.info</td><td>High</td></tr><tr><td>http://www.0068555.com/cl/?module=System&method=LiveTop&args=livehall</td><td>malware</td><td>0068555.com</td><td>High</td></tr><tr><td>http://9779.info/%E5%84%BF%E7%AB%A5%E7%AB%8B%E4%BD%93%E7%BA%B8%E8%B4%B4%E7%94%BB/</td><td>malware</td><td>9779.info</td><td>High</td></tr><tr><td>http://9779.info/%E5%B9%BC%E5%84%BF%E5%9B%AD%E7%9A%B1%E7%BA%B9%E7%BA%B8%E7%B2%98%E8%B4%B4%E7%94%BB/</td><td>malware</td><td>9779.info</td><td>High</td></tr><tr><td>http://9779.info/%E6%A0%91%E5%8F%B6%E7%B2%98%E8%B4%B4%E7%94%BB/</td><td>malware</td><td>9779.info</td><td>High</td></tr><tr><td>http://www.easycaptchas.com/2F3F28039730C12A5C112FE0D5FEFA2E.captcha?width=132&height=42</td><td>malware</td><td>easycaptchas.com</td><td>High</td></tr><tr><td>http://9779.info/%E5%8F%A4%E4%BB%A3%E4%BA%8C%E5%8D%81%E5%9B%9B%E5%AD%9D%E5%B8%83%E8%B4%B4%E7%94%BB/</td><td>malware</td><td>9779.info</td><td>High</td></tr><tr><td>ru-net.cv.ua/wp-content/config/file.php</td><td>malware</td><td>ru-net.cv.ua</td><td>High</td></tr><tr><td>http://chinacxyy.com/piccodejs-000.asp?lm2=191&x=3&y=2&w=90&h=63&open=1&n=10&tj=0</td><td>malware</td><td>chinacxyy.com</td><td>High</td></tr><tr><td>proplast.co.nz</td><td>malware</td><td>proplast.co.nz</td><td>High</td></tr><tr><td>http://portal.dddgaming.com/docs/rules/15022/cn/game_cn.html?amluMjAxNQ%3D%3D</td><td>malware</td><td>dddgaming.com</td><td>High</td></tr><tr><td>http://9779.info/%E4%BA%94%E8%B0%B7%E6%9D%82%E7%B2%AE%E4%BA%BA%E7%89%A9%E7%B2%98%E8%B4%B4%E7%94%BB/</td><td>malware</td><td>9779.info</td><td>High</td></tr><tr><td>http://9779.info/%E7%AE%80%E5%8D%95%E6%8A%98%E7%BA%B8%E7%B2%98%E8%B4%B4%E7%94%BB/</td><td>malware</td><td>9779.info</td><td>High</td></tr><tr><td>http://haishundl.com/a/qinpengqipaiguanfangxiazai/20131019/263.html</td><td>malware</td><td>haishundl.com</td><td>High</td></tr><tr><td>http://9779.info/%E5%B9%BC%E5%84%BF%E7%B2%BD%E5%8F%B6%E8%B4%B4%E7%94%BB/</td><td>malware</td><td>9779.info</td><td>High</td></tr><tr><td>http://9779.info/%E5%8D%8A%E7%AB%8B%E4%BD%93%E5%B9%BC%E5%84%BF%E5%89%AA%E8%B4%B4%E7%94%BB/</td><td>malware</td><td>9779.info</td><td>High</td></tr><tr><td>http://grasslandhotel.com.vn/index.php/component/djcatalog2/items/6-services</td><td>malware</td><td>grasslandhotel.com.vn</td><td>High</td></tr><tr><td>http://9779.info/%E9%A3%9E%E6%9C%BA%E6%A0%91%E5%8F%B6%E7%B2%98%E8%B4%B4%E7%94%BB/</td><td>malware</td><td>9779.info</td><td>High</td></tr><tr><td>http://9779.info/%E4%BA%94%E8%B0%B7%E6%9D%82%E7%B2%AE%E4%BA%BA%E7%89%A9%E7%B2%98%E8%B4%B4%E7%94%BB/</td><td>malware</td><td>9779.info</td><td>High</td></tr><tr><td>http://9779.info/%E8%9D%8C%E8%9A%AA%E6%89%BE%E5%A6%88%E5%A6%88%E5%89%AA%E8%B4%B4%E7%94%BB/</td><td>malware</td><td>9779.info</td><td>High</td></tr><tr><td>http://9779.info/%E6%AF%9B%E7%BA%BF%E8%B4%B4%E7%94%BB%20%E5%9C%BA%E6%99%AF%E5%9B%BE/</td><td>malware</td><td>9779.info</td><td>High</td></tr><tr><td>http://zoetekroon.nl/wp-content/themes/simplo/js/jquery-1.4.2.min.js</td><td>malware</td><td>zoetekroon.nl</td><td>High</td></tr><tr><td>trtsport.cz</td><td>malware</td><td>trtsport.cz</td><td>High</td></tr><tr><td>http://3cf.ru/2015/07/20/cb-otozval-licenziu-y-gelendjik-banka/</td><td>malware</td><td>3cf.ru</td><td>High</td></tr><tr><td>http://style.org.hc360.com/css/detail/mysite/siteconfig/pro_control.css</td><td>malware</td><td>hc360.com</td><td>High</td></tr><tr><td>http://9779.info/%E5%B0%91%E5%84%BF%E7%A7%8D%E5%AD%90%E7%B2%98%E8%B4%B4%E7%94%BB/</td><td>malware</td><td>9779.info</td><td>High</td></tr><tr><td>http://img14.360buyimg.com/n12/g12/M00/07/06/rBEQYVGV9NMIAAAAAAC3mn17ud8AABZ_wDjtTAAALey000.jpg%21q70.jpg</td><td>malware</td><td>360buyimg.com</td><td>High</td></tr><tr><td>http://img010.hc360.cn/g1/M01/41/73/wKhQMVHabJKEHondAAAAAFmPcEE181.jpg</td><td>malware</td><td>hc360.cn</td><td>High</td></tr><tr><td>http://9779.info/%E6%89%8B%E5%B7%A5%E6%B2%BE%E8%B4%B4%E7%94%BB%E5%9B%BE%E7%89%87/</td><td>malware</td><td>9779.info</td><td>High</td></tr><tr><td>http://www.newstudy.net/community/Web_nMngr.aspx?acaidx=0&board_idx=360&pn=1&sflag=1&mflag=NOT&where=&keyword=</td><td>malware</td><td>newstudy.net</td><td>High</td></tr><tr><td>microencapsulation.readmyweather.com</td><td>malware</td><td>readmyweather.com</td><td>High</td></tr><tr><td>http://www.711100.com/app/member/SportOption.php?uid=guest&langx=gb</td><td>malware</td><td>711100.com</td><td>High</td></tr><tr><td>http://www.vilagnomad.com/tables/payday-loans-direct-lenders-only.php</td><td>malware</td><td>vilagnomad.com</td><td>High</td></tr><tr><td>http://schertzauto.com/wp-content/plugins/gravityforms/css/formsmain.min.css?ver=1.9.11</td><td>malware</td><td>schertzauto.com</td><td>High</td></tr><tr><td>xo3fhvm5lcvzy92q.download</td><td>malware</td><td>xo3fhvm5lcvzy92q.download</td><td>High</td></tr><tr><td>http://portal.dddgaming.com/docs/rules/15022/cn/game_cn.html?amluMjAxNQ%3D%3D</td><td>malware</td><td>dddgaming.com</td><td>High</td></tr><tr><td>http://www.wu8188.com/cl/tpl/five-star/ver1/css/five-star.css?v=ver15.32</td><td>malware</td><td>wu8188.com</td><td>High</td></tr><tr><td>http://schertzauto.com/wp-content/themes/NAPA%20AC%202014%20S/genericons/genericons.css?ver=3.0.2</td><td>malware</td><td>schertzauto.com</td><td>High</td></tr><tr><td>http://www.bhxx.net/xxgl/UploadFiles_7485/201304/2013042315380148.jpg</td><td>malware</td><td>bhxx.net</td><td>High</td></tr><tr><td>http://grasslandhotel.com.vn/index.php/rooms/item/all/18-airticketservices</td><td>malware</td><td>grasslandhotel.com.vn</td><td>High</td></tr><tr><td>http://sexshop-bg.biz/products?page=shop.browse&category_id=276</td><td>defacement</td><td>sexshop-bg.biz</td><td>Medium High</td></tr><tr><td>http://www.designreisende.de/index.php?option=com_content&view=category&layout=blog&id=35&Itemid=88</td><td>defacement</td><td>designreisende.de</td><td>Medium High</td></tr><tr><td>http://mueblesjulianjimenez.es/index.php?page=shop.browse&category_id=14&option=com_virtuemart&Itemid=9</td><td>defacement</td><td>mueblesjulianjimenez.es</td><td>Medium High</td></tr><tr><td>http://www.autoursdurock.info/index.php?option=com_content&view=article&id=106&Itemid=229</td><td>defacement</td><td>autoursdurock.info</td><td>Medium High</td></tr><tr><td>http://www.nabu-gaildorf.de/index.php?option=com_jevents&task=day.listevents&year=2013&month=01&day=01&Itemid=33</td><td>defacement</td><td>nabu-gaildorf.de</td><td>Medium High</td></tr><tr><td>http://www.fitasylum.com/index.php/reset.1</td><td>defacement</td><td>fitasylum.com</td><td>Medium High</td></tr><tr><td>http://fischereiverein.org/bildergalerie/category/45-faenge-oktober-2010</td><td>defacement</td><td>fischereiverein.org</td><td>Medium High</td></tr></tbody></table></div>"
      ]
     },
     "metadata": {
      "application/vnd.databricks.v1+output": {
       "addedWidgets": {},
       "aggData": [],
       "aggError": "",
       "aggOverflow": false,
       "aggSchema": [],
       "aggSeriesLimitReached": false,
       "aggType": "",
       "arguments": {},
       "columnCustomDisplayInfos": {},
       "data": [
        [
         "http://ak.imgfarm.com/images/nocache/vicinio/installers/205320000.S10570.1/507981-150710122501-S10570.1/VideoDownloadConvertAuto.exe_0",
         "malware",
         "imgfarm.com",
         "High"
        ],
        [
         "http://www.824555.com/app/member/SportOption.php?uid=guest&langx=gb",
         "malware",
         "824555.com",
         "High"
        ],
        [
         "http://9779.info/%E5%85%AD%E4%B8%80%E5%BF%AB%E4%B9%90%E7%B2%98%E8%B4%B4%E7%94%BB/",
         "malware",
         "9779.info",
         "High"
        ],
        [
         "http://9779.info/%E6%8A%98%E7%BA%B8%E6%89%87%E5%AD%90%E6%8B%BC%E8%B4%B4%E7%94%BB/",
         "malware",
         "9779.info",
         "High"
        ],
        [
         "http://www.0068555.com/cl/?module=System&method=LiveTop&args=livehall",
         "malware",
         "0068555.com",
         "High"
        ],
        [
         "http://9779.info/%E5%84%BF%E7%AB%A5%E7%AB%8B%E4%BD%93%E7%BA%B8%E8%B4%B4%E7%94%BB/",
         "malware",
         "9779.info",
         "High"
        ],
        [
         "http://9779.info/%E5%B9%BC%E5%84%BF%E5%9B%AD%E7%9A%B1%E7%BA%B9%E7%BA%B8%E7%B2%98%E8%B4%B4%E7%94%BB/",
         "malware",
         "9779.info",
         "High"
        ],
        [
         "http://9779.info/%E6%A0%91%E5%8F%B6%E7%B2%98%E8%B4%B4%E7%94%BB/",
         "malware",
         "9779.info",
         "High"
        ],
        [
         "http://www.easycaptchas.com/2F3F28039730C12A5C112FE0D5FEFA2E.captcha?width=132&height=42",
         "malware",
         "easycaptchas.com",
         "High"
        ],
        [
         "http://9779.info/%E5%8F%A4%E4%BB%A3%E4%BA%8C%E5%8D%81%E5%9B%9B%E5%AD%9D%E5%B8%83%E8%B4%B4%E7%94%BB/",
         "malware",
         "9779.info",
         "High"
        ],
        [
         "ru-net.cv.ua/wp-content/config/file.php",
         "malware",
         "ru-net.cv.ua",
         "High"
        ],
        [
         "http://chinacxyy.com/piccodejs-000.asp?lm2=191&x=3&y=2&w=90&h=63&open=1&n=10&tj=0",
         "malware",
         "chinacxyy.com",
         "High"
        ],
        [
         "proplast.co.nz",
         "malware",
         "proplast.co.nz",
         "High"
        ],
        [
         "http://portal.dddgaming.com/docs/rules/15022/cn/game_cn.html?amluMjAxNQ%3D%3D",
         "malware",
         "dddgaming.com",
         "High"
        ],
        [
         "http://9779.info/%E4%BA%94%E8%B0%B7%E6%9D%82%E7%B2%AE%E4%BA%BA%E7%89%A9%E7%B2%98%E8%B4%B4%E7%94%BB/",
         "malware",
         "9779.info",
         "High"
        ],
        [
         "http://9779.info/%E7%AE%80%E5%8D%95%E6%8A%98%E7%BA%B8%E7%B2%98%E8%B4%B4%E7%94%BB/",
         "malware",
         "9779.info",
         "High"
        ],
        [
         "http://haishundl.com/a/qinpengqipaiguanfangxiazai/20131019/263.html",
         "malware",
         "haishundl.com",
         "High"
        ],
        [
         "http://9779.info/%E5%B9%BC%E5%84%BF%E7%B2%BD%E5%8F%B6%E8%B4%B4%E7%94%BB/",
         "malware",
         "9779.info",
         "High"
        ],
        [
         "http://9779.info/%E5%8D%8A%E7%AB%8B%E4%BD%93%E5%B9%BC%E5%84%BF%E5%89%AA%E8%B4%B4%E7%94%BB/",
         "malware",
         "9779.info",
         "High"
        ],
        [
         "http://grasslandhotel.com.vn/index.php/component/djcatalog2/items/6-services",
         "malware",
         "grasslandhotel.com.vn",
         "High"
        ],
        [
         "http://9779.info/%E9%A3%9E%E6%9C%BA%E6%A0%91%E5%8F%B6%E7%B2%98%E8%B4%B4%E7%94%BB/",
         "malware",
         "9779.info",
         "High"
        ],
        [
         "http://9779.info/%E4%BA%94%E8%B0%B7%E6%9D%82%E7%B2%AE%E4%BA%BA%E7%89%A9%E7%B2%98%E8%B4%B4%E7%94%BB/",
         "malware",
         "9779.info",
         "High"
        ],
        [
         "http://9779.info/%E8%9D%8C%E8%9A%AA%E6%89%BE%E5%A6%88%E5%A6%88%E5%89%AA%E8%B4%B4%E7%94%BB/",
         "malware",
         "9779.info",
         "High"
        ],
        [
         "http://9779.info/%E6%AF%9B%E7%BA%BF%E8%B4%B4%E7%94%BB%20%E5%9C%BA%E6%99%AF%E5%9B%BE/",
         "malware",
         "9779.info",
         "High"
        ],
        [
         "http://zoetekroon.nl/wp-content/themes/simplo/js/jquery-1.4.2.min.js",
         "malware",
         "zoetekroon.nl",
         "High"
        ],
        [
         "trtsport.cz",
         "malware",
         "trtsport.cz",
         "High"
        ],
        [
         "http://3cf.ru/2015/07/20/cb-otozval-licenziu-y-gelendjik-banka/",
         "malware",
         "3cf.ru",
         "High"
        ],
        [
         "http://style.org.hc360.com/css/detail/mysite/siteconfig/pro_control.css",
         "malware",
         "hc360.com",
         "High"
        ],
        [
         "http://9779.info/%E5%B0%91%E5%84%BF%E7%A7%8D%E5%AD%90%E7%B2%98%E8%B4%B4%E7%94%BB/",
         "malware",
         "9779.info",
         "High"
        ],
        [
         "http://img14.360buyimg.com/n12/g12/M00/07/06/rBEQYVGV9NMIAAAAAAC3mn17ud8AABZ_wDjtTAAALey000.jpg%21q70.jpg",
         "malware",
         "360buyimg.com",
         "High"
        ],
        [
         "http://img010.hc360.cn/g1/M01/41/73/wKhQMVHabJKEHondAAAAAFmPcEE181.jpg",
         "malware",
         "hc360.cn",
         "High"
        ],
        [
         "http://9779.info/%E6%89%8B%E5%B7%A5%E6%B2%BE%E8%B4%B4%E7%94%BB%E5%9B%BE%E7%89%87/",
         "malware",
         "9779.info",
         "High"
        ],
        [
         "http://www.newstudy.net/community/Web_nMngr.aspx?acaidx=0&board_idx=360&pn=1&sflag=1&mflag=NOT&where=&keyword=",
         "malware",
         "newstudy.net",
         "High"
        ],
        [
         "microencapsulation.readmyweather.com",
         "malware",
         "readmyweather.com",
         "High"
        ],
        [
         "http://www.711100.com/app/member/SportOption.php?uid=guest&langx=gb",
         "malware",
         "711100.com",
         "High"
        ],
        [
         "http://www.vilagnomad.com/tables/payday-loans-direct-lenders-only.php",
         "malware",
         "vilagnomad.com",
         "High"
        ],
        [
         "http://schertzauto.com/wp-content/plugins/gravityforms/css/formsmain.min.css?ver=1.9.11",
         "malware",
         "schertzauto.com",
         "High"
        ],
        [
         "xo3fhvm5lcvzy92q.download",
         "malware",
         "xo3fhvm5lcvzy92q.download",
         "High"
        ],
        [
         "http://portal.dddgaming.com/docs/rules/15022/cn/game_cn.html?amluMjAxNQ%3D%3D",
         "malware",
         "dddgaming.com",
         "High"
        ],
        [
         "http://www.wu8188.com/cl/tpl/five-star/ver1/css/five-star.css?v=ver15.32",
         "malware",
         "wu8188.com",
         "High"
        ],
        [
         "http://schertzauto.com/wp-content/themes/NAPA%20AC%202014%20S/genericons/genericons.css?ver=3.0.2",
         "malware",
         "schertzauto.com",
         "High"
        ],
        [
         "http://www.bhxx.net/xxgl/UploadFiles_7485/201304/2013042315380148.jpg",
         "malware",
         "bhxx.net",
         "High"
        ],
        [
         "http://grasslandhotel.com.vn/index.php/rooms/item/all/18-airticketservices",
         "malware",
         "grasslandhotel.com.vn",
         "High"
        ],
        [
         "http://sexshop-bg.biz/products?page=shop.browse&category_id=276",
         "defacement",
         "sexshop-bg.biz",
         "Medium High"
        ],
        [
         "http://www.designreisende.de/index.php?option=com_content&view=category&layout=blog&id=35&Itemid=88",
         "defacement",
         "designreisende.de",
         "Medium High"
        ],
        [
         "http://mueblesjulianjimenez.es/index.php?page=shop.browse&category_id=14&option=com_virtuemart&Itemid=9",
         "defacement",
         "mueblesjulianjimenez.es",
         "Medium High"
        ],
        [
         "http://www.autoursdurock.info/index.php?option=com_content&view=article&id=106&Itemid=229",
         "defacement",
         "autoursdurock.info",
         "Medium High"
        ],
        [
         "http://www.nabu-gaildorf.de/index.php?option=com_jevents&task=day.listevents&year=2013&month=01&day=01&Itemid=33",
         "defacement",
         "nabu-gaildorf.de",
         "Medium High"
        ],
        [
         "http://www.fitasylum.com/index.php/reset.1",
         "defacement",
         "fitasylum.com",
         "Medium High"
        ],
        [
         "http://fischereiverein.org/bildergalerie/category/45-faenge-oktober-2010",
         "defacement",
         "fischereiverein.org",
         "Medium High"
        ]
       ],
       "datasetInfos": [
        {
         "name": "_sqldf",
         "schema": {
          "fields": [
           {
            "metadata": {},
            "name": "url",
            "nullable": true,
            "type": "string"
           },
           {
            "metadata": {},
            "name": "type",
            "nullable": true,
            "type": "string"
           },
           {
            "metadata": {},
            "name": "domain",
            "nullable": true,
            "type": "string"
           },
           {
            "metadata": {},
            "name": "severity_rank",
            "nullable": true,
            "type": "string"
           }
          ],
          "type": "struct"
         },
         "tableIdentifier": null,
         "typeStr": "pyspark.sql.dataframe.DataFrame"
        }
       ],
       "dbfsResultPath": null,
       "isJsonSchema": true,
       "metadata": {
        "createTempViewForImplicitDf": true,
        "dataframeName": "_sqldf",
        "executionCount": 16
       },
       "overflow": false,
       "plotOptions": {
        "customPlotOptions": {},
        "displayType": "table",
        "pivotAggregation": null,
        "pivotColumns": null,
        "xColumns": null,
        "yColumns": null
       },
       "removedWidgets": [],
       "schema": [
        {
         "metadata": "{}",
         "name": "url",
         "type": "\"string\""
        },
        {
         "metadata": "{}",
         "name": "type",
         "type": "\"string\""
        },
        {
         "metadata": "{}",
         "name": "domain",
         "type": "\"string\""
        },
        {
         "metadata": "{}",
         "name": "severity_rank",
         "type": "\"string\""
        }
       ],
       "type": "table"
      }
     },
     "output_type": "display_data"
    }
   ],
   "source": [
    "%sql\n",
    "SELECT\n",
    "    url,\n",
    "    type,\n",
    "    domain,\n",
    "    CASE \n",
    "        WHEN type = 'malware' THEN 'High'\n",
    "        WHEN type = 'defacement' THEN 'Medium High'\n",
    "        WHEN type = 'phishing' THEN 'Medium'\n",
    "        WHEN type = 'benign' THEN 'Low'\n",
    "    END AS severity_rank\n",
    "FROM malicious_urls_project_catalog.enriched_data.malicious_urls_enriched\n",
    "where type is not null and domain is not null\n",
    "ORDER BY \n",
    "    CASE \n",
    "        WHEN type = 'malware' THEN 1\n",
    "        WHEN type = 'defacement' THEN 2\n",
    "        WHEN type = 'phishing' THEN 3\n",
    "        WHEN type = 'benign' THEN 4\n",
    "    END\n",
    "    LIMIT 50\n",
    "\n",
    "\n",
    "\n"
   ]
  }
 ],
 "metadata": {
  "application/vnd.databricks.v1+notebook": {
   "computePreferences": null,
   "dashboards": [],
   "environmentMetadata": {
    "base_environment": "",
    "environment_version": "3"
   },
   "inputWidgetPreferences": null,
   "language": "python",
   "notebookMetadata": {
    "mostRecentlyExecutedCommandWithImplicitDF": {
     "commandId": 5187126717258374,
     "dataframes": [
      "_sqldf"
     ]
    },
    "pythonIndentUnit": 4
   },
   "notebookName": "Malicious URL Pipeline",
   "widgets": {}
  },
  "language_info": {
   "name": "python"
  }
 },
 "nbformat": 4,
 "nbformat_minor": 0
}
