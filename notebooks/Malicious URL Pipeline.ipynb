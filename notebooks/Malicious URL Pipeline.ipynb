{
 "cells": [
  {
   "cell_type": "markdown",
   "metadata": {
    "application/vnd.databricks.v1+cell": {
     "cellMetadata": {
      "byteLimit": 2048000,
      "rowLimit": 10000
     },
     "inputWidgets": {},
     "nuid": "a71f4336-2118-4f9b-b892-ee0c3bd39062",
     "showTitle": false,
     "tableResultSettingsMap": {},
     "title": ""
    }
   },
   "source": [
    "# Malicious URL Pipeline"
   ]
  },
  {
   "cell_type": "code",
   "execution_count": 0,
   "metadata": {
    "application/vnd.databricks.v1+cell": {
     "cellMetadata": {
      "byteLimit": 2048000,
      "rowLimit": 10000
     },
     "inputWidgets": {},
     "nuid": "752216c5-5915-41ef-a707-c062a9f7d96c",
     "showTitle": false,
     "tableResultSettingsMap": {},
     "title": ""
    }
   },
   "outputs": [],
   "source": [
    "#Install Packages\n",
    "%pip install tldextract python-whois\n",
    "\n",
    "from urllib.parse import urlparse\n",
    "import tldextract\n",
    "import whois\n",
    "from pyspark.sql import functions as F\n",
    "from pyspark.sql.types import StringType, IntegerType, BooleanType\n",
    "import pandas as pd"
   ]
  },
  {
   "cell_type": "code",
   "execution_count": 0,
   "metadata": {
    "application/vnd.databricks.v1+cell": {
     "cellMetadata": {
      "byteLimit": 2048000,
      "rowLimit": 10000
     },
     "inputWidgets": {},
     "nuid": "55e70c68-99d9-4a57-b261-3e09f1e6846c",
     "showTitle": false,
     "tableResultSettingsMap": {},
     "title": ""
    }
   },
   "outputs": [],
   "source": [
    "# Secrets to access storage\n",
    "processed_sas_token = dbutils.secrets.get(scope=\"trecombs\", key=\"ProcessedSASToken\")\n",
    "sas_url = dbutils.secrets.get(scope=\"trecombs\", key=\"sasurlvalue\")\n",
    "# Define storage account + container\n",
    "storage_account = \"formula1dl122334\"\n",
    "container_name = \"processed\"\n",
    "\n",
    "# -----------------------------\n",
    "# 3️⃣ Configure Spark with SAS token\n",
    "# -----------------------------\n",
    "spark.conf.set(\n",
    "    f\"fs.azure.sas.{container_name}.{storage_account}.blob.core.windows.net\",\n",
    "    processed_sas_token\n",
    ")\n",
    "spark.conf.set(\n",
    "    \"fs.azure.account.key.formula1dl122334.dfs.core.windows.net\",\n",
    "    dbutils.secrets.get(scope=\"trecombs\", key=\"azurestoragekey\")\n",
    ")"
   ]
  },
  {
   "cell_type": "code",
   "execution_count": 0,
   "metadata": {
    "application/vnd.databricks.v1+cell": {
     "cellMetadata": {
      "byteLimit": 2048000,
      "rowLimit": 10000
     },
     "inputWidgets": {},
     "nuid": "6bd36f3e-5797-4481-8620-207585fe09e4",
     "showTitle": false,
     "tableResultSettingsMap": {},
     "title": ""
    }
   },
   "outputs": [],
   "source": [
    "# Load CSV into Spark using pandas\n",
    "sas_url = dbutils.secrets.get(scope=\"trecombs\", key=\"sas_url\")\n",
    "pdf = pd.read_csv(\"sas_url\")\n",
    "\n",
    "# Convert Pandas DataFrame to Spark DataFrame\n",
    "df = spark.createDataFrame(pdf)\n",
    "\n",
    "# Helpers for URL parsing\n",
    "def extract_domain(url: str) -> str:\n",
    "    if not url:\n",
    "        return None\n",
    "    try:\n",
    "        parsed = urlparse(url if \"://\" in url else f\"http://{url}\")\n",
    "        host = parsed.netloc if parsed.netloc else parsed.path\n",
    "        ext = tldextract.extract(host)\n",
    "        if ext.domain and ext.suffix:\n",
    "            return f\"{ext.domain}.{ext.suffix}\".lower()\n",
    "        elif host:\n",
    "            return host.lower()\n",
    "        return None\n",
    "    except Exception:\n",
    "        return None\n",
    "\n",
    "def extract_tld(url: str) -> str:\n",
    "    if not url:\n",
    "        return None\n",
    "    try:\n",
    "        parsed = urlparse(url if \"://\" in url else f\"http://{url}\")\n",
    "        host = parsed.netloc if parsed.netloc else parsed.path\n",
    "        ext = tldextract.extract(host)\n",
    "        return ext.suffix.lower() if ext.suffix else None\n",
    "    except Exception:\n",
    "        return None\n",
    "\n",
    "def whois_owner(domain: str) -> str:\n",
    "    if not domain:\n",
    "        return None\n",
    "    try:\n",
    "        w = whois.whois(domain)\n",
    "        for key in [\"org\", \"organization\", \"registrant_name\", \"name\", \"registrant_organization\"]:\n",
    "            val = w.get(key)\n",
    "            if isinstance(val, list):\n",
    "                val = val[0] if val else None\n",
    "            if val:\n",
    "                return str(val)\n",
    "        registrar = w.get(\"registrar\")\n",
    "        if registrar:\n",
    "            return str(registrar)\n",
    "    except Exception:\n",
    "        pass\n",
    "    return None\n",
    "\n",
    "def count_e_in_domain(domain: str) -> int:\n",
    "    return domain.count(\"e\") if domain else 0\n",
    "\n",
    "def has_A_and_T(domain: str) -> bool:\n",
    "    if not domain:\n",
    "        return False\n",
    "    d = domain.upper()\n",
    "    return (\"A\" in d) and (\"T\" in d)\n",
    "\n",
    "# UDFs\n",
    "extract_domain_udf = F.udf(extract_domain, StringType())\n",
    "extract_tld_udf    = F.udf(extract_tld, StringType())\n",
    "owner_udf          = F.udf(whois_owner, StringType())\n",
    "count_e_udf        = F.udf(count_e_in_domain, IntegerType())\n",
    "has_AT_udf         = F.udf(has_A_and_T, BooleanType())\n",
    "\n",
    "\n",
    "# Transform Data\n",
    "enriched = (df\n",
    "    .withColumn(\"domain\", extract_domain_udf(F.col(\"url\")))\n",
    "    .withColumn(\"tld\", extract_tld_udf(F.col(\"url\")))\n",
    "    .withColumn(\"owner\", owner_udf(F.col(\"domain\")))        \n",
    "    .withColumn(\"e_count\", count_e_udf(F.col(\"domain\")))\n",
    "    .withColumn(\"has_A_and_T\", has_AT_udf(F.col(\"domain\")))\n",
    ")\n",
    "\n",
    "display(enriched.limit(10))\n",
    "\n",
    "# Count malware/phishing with A and T\n",
    "\n",
    "malware_phishing_AT = (enriched\n",
    "    .filter( (F.upper(F.col(\"type\")).isin(\"MALWARE\", \"PHISHING\")) & (F.col(\"has_A_and_T\") == True) )\n",
    "    .count()\n",
    ")\n",
    "\n",
    "print(f\"Records with A and T in domain that are malware or phishing: {malware_phishing_AT}\")\n",
    "\n",
    "table_name = \"malicious_urls_project_catalog.enriched_data.malicious_urls_enriched\"\n",
    "\n",
    "# Drop/create table using CREATE OR REPLACE TABLE\n",
    "enriched.createOrReplaceTempView(\"temp_enriched\")  # create a temp view\n",
    "\n",
    "spark.sql(f\"\"\"\n",
    "CREATE OR REPLACE TABLE {table_name}\n",
    "USING DELTA\n",
    "AS\n",
    "SELECT * FROM temp_enriched\n",
    "\"\"\")\n"
   ]
  },
  {
   "cell_type": "markdown",
   "metadata": {
    "application/vnd.databricks.v1+cell": {
     "cellMetadata": {
      "byteLimit": 2048000,
      "rowLimit": 10000
     },
     "inputWidgets": {},
     "nuid": "60bb5f87-6911-46d2-9ccb-dbf84c8b0119",
     "showTitle": false,
     "tableResultSettingsMap": {},
     "title": ""
    }
   },
   "source": [
    "The following query displays all records in the malicious_urls_enriched table"
   ]
  },
  {
   "cell_type": "code",
   "execution_count": 0,
   "metadata": {
    "application/vnd.databricks.v1+cell": {
     "cellMetadata": {
      "byteLimit": 2048000,
      "implicitDf": true,
      "rowLimit": 10000
     },
     "inputWidgets": {},
     "nuid": "9c998787-158e-42d8-b4bf-2b10fa8d0d84",
     "showTitle": false,
     "tableResultSettingsMap": {},
     "title": ""
    }
   },
   "outputs": [],
   "source": [
    "%sql\n",
    "select * from malicious_urls_project_catalog.enriched_data.malicious_urls_enriched\n"
   ]
  },
  {
   "cell_type": "markdown",
   "metadata": {
    "application/vnd.databricks.v1+cell": {
     "cellMetadata": {},
     "inputWidgets": {},
     "nuid": "49275c59-fa01-4a4f-878f-adf2df48e6dd",
     "showTitle": false,
     "tableResultSettingsMap": {},
     "title": ""
    }
   },
   "source": [
    "The following query calculates how many domains exist per type and what percentage each type represents of the total dataset."
   ]
  },
  {
   "cell_type": "code",
   "execution_count": 0,
   "metadata": {
    "application/vnd.databricks.v1+cell": {
     "cellMetadata": {
      "byteLimit": 2048000,
      "implicitDf": true,
      "rowLimit": 10000
     },
     "inputWidgets": {},
     "nuid": "2a3f0148-a0a3-4b83-8150-edf64c746fdf",
     "showTitle": false,
     "tableResultSettingsMap": {},
     "title": ""
    }
   },
   "outputs": [],
   "source": [
    "%sql\n",
    "SELECT \n",
    "    type,\n",
    "    COUNT(DISTINCT domain) AS domain_count,\n",
    "    ROUND(\n",
    "        COUNT(DISTINCT domain) * 100.0 / SUM(COUNT(DISTINCT domain)) OVER (), \n",
    "        2\n",
    "    ) AS percentage_of_total\n",
    "FROM malicious_urls_project_catalog.enriched_data.malicious_urls_enriched\n",
    "GROUP BY type\n",
    "ORDER BY domain_count DESC;\n"
   ]
  },
  {
   "cell_type": "markdown",
   "metadata": {
    "application/vnd.databricks.v1+cell": {
     "cellMetadata": {},
     "inputWidgets": {},
     "nuid": "8bf95d42-e2fa-4544-b263-ede554be8f3e",
     "showTitle": false,
     "tableResultSettingsMap": {},
     "title": ""
    }
   },
   "source": [
    "The following query assigns a severity rank to each URL based on its type and orders the results by severity."
   ]
  },
  {
   "cell_type": "code",
   "execution_count": 0,
   "metadata": {
    "application/vnd.databricks.v1+cell": {
     "cellMetadata": {
      "byteLimit": 2048000,
      "implicitDf": true,
      "rowLimit": 10000
     },
     "inputWidgets": {},
     "nuid": "e2bc28f1-1a13-4d5b-bfad-f8a81810d4d3",
     "showTitle": false,
     "tableResultSettingsMap": {},
     "title": ""
    }
   },
   "outputs": [],
   "source": [
    "%sql\n",
    "SELECT\n",
    "    url,\n",
    "    type,\n",
    "    domain,\n",
    "    CASE \n",
    "        WHEN type = 'malware' THEN 'High'\n",
    "        WHEN type = 'defacement' THEN 'Medium High'\n",
    "        WHEN type = 'phishing' THEN 'Medium'\n",
    "        WHEN type = 'benign' THEN 'Low'\n",
    "    END AS severity_rank\n",
    "FROM malicious_urls_project_catalog.enriched_data.malicious_urls_enriched\n",
    "where type is not null and domain is not null\n",
    "ORDER BY \n",
    "    CASE \n",
    "        WHEN type = 'malware' THEN 1\n",
    "        WHEN type = 'defacement' THEN 2\n",
    "        WHEN type = 'phishing' THEN 3\n",
    "        WHEN type = 'benign' THEN 4\n",
    "    END;\n",
    "\n",
    "\n",
    "\n"
   ]
  }
 ],
 "metadata": {
  "application/vnd.databricks.v1+notebook": {
   "computePreferences": null,
   "dashboards": [],
   "environmentMetadata": {
    "base_environment": "",
    "environment_version": "3"
   },
   "inputWidgetPreferences": null,
   "language": "python",
   "notebookMetadata": {
    "mostRecentlyExecutedCommandWithImplicitDF": {
     "commandId": 5187126717258374,
     "dataframes": [
      "_sqldf"
     ]
    },
    "pythonIndentUnit": 4
   },
   "notebookName": "Malicious URL Pipeline",
   "widgets": {}
  },
  "language_info": {
   "name": "python"
  }
 },
 "nbformat": 4,
 "nbformat_minor": 0
}
