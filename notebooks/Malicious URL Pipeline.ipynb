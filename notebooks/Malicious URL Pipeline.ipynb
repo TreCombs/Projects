{
 "cells": [
  {
   "cell_type": "markdown",
   "metadata": {
    "application/vnd.databricks.v1+cell": {
     "cellMetadata": {
      "byteLimit": 2048000,
      "rowLimit": 10000
     },
     "inputWidgets": {},
     "nuid": "a71f4336-2118-4f9b-b892-ee0c3bd39062",
     "showTitle": false,
     "tableResultSettingsMap": {},
     "title": ""
    }
   },
   "source": [
    "# Malicious URL Pipeline"
   ]
  },
  {
   "cell_type": "code",
   "execution_count": 0,
   "metadata": {
    "application/vnd.databricks.v1+cell": {
     "cellMetadata": {
      "byteLimit": 2048000,
      "rowLimit": 10000
     },
     "inputWidgets": {},
     "nuid": "752216c5-5915-41ef-a707-c062a9f7d96c",
     "showTitle": false,
     "tableResultSettingsMap": {},
     "title": ""
    }
   },
   "outputs": [],
   "source": [
    "#Install Python Packages\n",
    "%pip install tldextract python-whois\n",
    "\n",
    "from urllib.parse import urlparse\n",
    "import tldextract\n",
    "import whois\n",
    "from pyspark.sql import functions as F\n",
    "from pyspark.sql.types import StringType, IntegerType, BooleanType\n",
    "import pandas as pd"
   ]
  },
  {
   "cell_type": "code",
   "execution_count": 0,
   "metadata": {
    "application/vnd.databricks.v1+cell": {
     "cellMetadata": {
      "byteLimit": 2048000,
      "rowLimit": 10000
     },
     "inputWidgets": {},
     "nuid": "55e70c68-99d9-4a57-b261-3e09f1e6846c",
     "showTitle": false,
     "tableResultSettingsMap": {},
     "title": ""
    }
   },
   "outputs": [],
   "source": [
    "# Secrets to access storage\n",
    "processed_sas_token = dbutils.secrets.get(scope=\"trecombs\", key=\"ProcessedSASToken\")\n",
    "sas_url = dbutils.secrets.get(scope=\"trecombs\", key=\"sasurlvalue\")\n",
    "# Define storage account + container\n",
    "storage_account = \"formula1dl122334\"\n",
    "container_name = \"processed\"\n",
    "\n",
    "# -----------------------------\n",
    "# 3️⃣ Configure Spark with SAS token\n",
    "# -----------------------------\n",
    "spark.conf.set(\n",
    "    f\"fs.azure.sas.{container_name}.{storage_account}.blob.core.windows.net\",\n",
    "    processed_sas_token\n",
    ")\n",
    "spark.conf.set(\n",
    "    \"fs.azure.account.key.formula1dl122334.dfs.core.windows.net\",\n",
    "    dbutils.secrets.get(scope=\"trecombs\", key=\"azurestoragekey\")\n",
    ")"
   ]
  },
  {
   "cell_type": "code",
   "execution_count": 0,
   "metadata": {
    "application/vnd.databricks.v1+cell": {
     "cellMetadata": {
      "byteLimit": 2048000,
      "rowLimit": 10000
     },
     "inputWidgets": {},
     "nuid": "6bd36f3e-5797-4481-8620-207585fe09e4",
     "showTitle": false,
     "tableResultSettingsMap": {},
     "title": ""
    }
   },
   "outputs": [
    {
     "output_type": "display_data",
     "data": {
      "text/html": [
       "<style scoped>\n",
       "  .table-result-container {\n",
       "    max-height: 300px;\n",
       "    overflow: auto;\n",
       "  }\n",
       "  table, th, td {\n",
       "    border: 1px solid black;\n",
       "    border-collapse: collapse;\n",
       "  }\n",
       "  th, td {\n",
       "    padding: 5px;\n",
       "  }\n",
       "  th {\n",
       "    text-align: left;\n",
       "  }\n",
       "</style><div class='table-result-container'><table class='table-result'><thead style='background-color: white'><tr><th>url</th><th>type</th><th>domain</th><th>tld</th><th>owner</th><th>e_count</th><th>has_A_and_T</th></tr></thead><tbody><tr><td>br-icloud.com.br</td><td>phishing</td><td>br-icloud.com.br</td><td>com.br</td><td>Toweb Brasil LTDA EPP</td><td>0</td><td>false</td></tr><tr><td>mp3raid.com/music/krizz_kaliko.html</td><td>benign</td><td>mp3raid.com</td><td>com</td><td>GoDaddy.com, LLC</td><td>0</td><td>false</td></tr><tr><td>bopsecrets.org/rexroth/cr/1.htm</td><td>benign</td><td>bopsecrets.org</td><td>org</td><td>REDACTED</td><td>2</td><td>false</td></tr><tr><td>http://www.garage-pirenne.be/index.php?option=com_content&view=article&id=70&vsig70_0=15</td><td>defacement</td><td>garage-pirenne.be</td><td>be</td><td>Above.com Domain Privacy</td><td>4</td><td>false</td></tr><tr><td>http://adventure-nicaragua.net/index.php?option=com_mailto&tmpl=component&link=aHR0cDovL2FkdmVudHVyZS1uaWNhcmFndWEubmV0L2luZGV4LnBocD9vcHRpb249Y29tX2NvbnRlbnQmdmlldz1hcnRpY2xlJmlkPTQ3OmFib3V0JmNhdGlkPTM2OmRlbW8tYXJ0aWNsZXMmSXRlbWlkPTU0</td><td>defacement</td><td>adventure-nicaragua.net</td><td>net</td><td>Above.com Pty Ltd.</td><td>3</td><td>true</td></tr><tr><td>http://buzzfil.net/m/show-art/ils-etaient-loin-de-s-imaginer-que-le-hibou-allait-faire-ceci-quand-ils-filmaient-2.html</td><td>benign</td><td>buzzfil.net</td><td>net</td><td>REDACTED FOR PRIVACY</td><td>1</td><td>false</td></tr><tr><td>espn.go.com/nba/player/_/id/3457/brandon-rush</td><td>benign</td><td>go.com</td><td>com</td><td>CSC Corporate Domains, Inc.</td><td>0</td><td>false</td></tr><tr><td>yourbittorrent.com/?q=anthony-hamilton-soulife</td><td>benign</td><td>yourbittorrent.com</td><td>com</td><td>Whois Privacy Corp.</td><td>1</td><td>false</td></tr><tr><td>http://www.pashminaonline.com/pure-pashminas</td><td>defacement</td><td>pashminaonline.com</td><td>com</td><td>REDACTED FOR PRIVACY</td><td>1</td><td>false</td></tr><tr><td>allmusic.com/album/crazy-from-the-heat-r16990</td><td>benign</td><td>allmusic.com</td><td>com</td><td>All Media Network, LLC</td><td>0</td><td>false</td></tr></tbody></table></div>"
      ]
     },
     "metadata": {
      "application/vnd.databricks.v1+output": {
       "addedWidgets": {},
       "aggData": [],
       "aggError": "",
       "aggOverflow": false,
       "aggSchema": [],
       "aggSeriesLimitReached": false,
       "aggType": "",
       "arguments": {},
       "columnCustomDisplayInfos": {},
       "data": [
        [
         "br-icloud.com.br",
         "phishing",
         "br-icloud.com.br",
         "com.br",
         "Toweb Brasil LTDA EPP",
         0,
         false
        ],
        [
         "mp3raid.com/music/krizz_kaliko.html",
         "benign",
         "mp3raid.com",
         "com",
         "GoDaddy.com, LLC",
         0,
         false
        ],
        [
         "bopsecrets.org/rexroth/cr/1.htm",
         "benign",
         "bopsecrets.org",
         "org",
         "REDACTED",
         2,
         false
        ],
        [
         "http://www.garage-pirenne.be/index.php?option=com_content&view=article&id=70&vsig70_0=15",
         "defacement",
         "garage-pirenne.be",
         "be",
         "Above.com Domain Privacy",
         4,
         false
        ],
        [
         "http://adventure-nicaragua.net/index.php?option=com_mailto&tmpl=component&link=aHR0cDovL2FkdmVudHVyZS1uaWNhcmFndWEubmV0L2luZGV4LnBocD9vcHRpb249Y29tX2NvbnRlbnQmdmlldz1hcnRpY2xlJmlkPTQ3OmFib3V0JmNhdGlkPTM2OmRlbW8tYXJ0aWNsZXMmSXRlbWlkPTU0",
         "defacement",
         "adventure-nicaragua.net",
         "net",
         "Above.com Pty Ltd.",
         3,
         true
        ],
        [
         "http://buzzfil.net/m/show-art/ils-etaient-loin-de-s-imaginer-que-le-hibou-allait-faire-ceci-quand-ils-filmaient-2.html",
         "benign",
         "buzzfil.net",
         "net",
         "REDACTED FOR PRIVACY",
         1,
         false
        ],
        [
         "espn.go.com/nba/player/_/id/3457/brandon-rush",
         "benign",
         "go.com",
         "com",
         "CSC Corporate Domains, Inc.",
         0,
         false
        ],
        [
         "yourbittorrent.com/?q=anthony-hamilton-soulife",
         "benign",
         "yourbittorrent.com",
         "com",
         "Whois Privacy Corp.",
         1,
         false
        ],
        [
         "http://www.pashminaonline.com/pure-pashminas",
         "defacement",
         "pashminaonline.com",
         "com",
         "REDACTED FOR PRIVACY",
         1,
         false
        ],
        [
         "allmusic.com/album/crazy-from-the-heat-r16990",
         "benign",
         "allmusic.com",
         "com",
         "All Media Network, LLC",
         0,
         false
        ]
       ],
       "datasetInfos": [],
       "dbfsResultPath": null,
       "isJsonSchema": true,
       "metadata": {},
       "overflow": false,
       "plotOptions": {
        "customPlotOptions": {},
        "displayType": "table",
        "pivotAggregation": null,
        "pivotColumns": null,
        "xColumns": null,
        "yColumns": null
       },
       "removedWidgets": [],
       "schema": [
        {
         "metadata": "{}",
         "name": "url",
         "type": "\"string\""
        },
        {
         "metadata": "{}",
         "name": "type",
         "type": "\"string\""
        },
        {
         "metadata": "{}",
         "name": "domain",
         "type": "\"string\""
        },
        {
         "metadata": "{}",
         "name": "tld",
         "type": "\"string\""
        },
        {
         "metadata": "{}",
         "name": "owner",
         "type": "\"string\""
        },
        {
         "metadata": "{}",
         "name": "e_count",
         "type": "\"integer\""
        },
        {
         "metadata": "{}",
         "name": "has_A_and_T",
         "type": "\"boolean\""
        }
       ],
       "type": "table"
      }
     },
     "output_type": "display_data"
    },
    {
     "output_type": "stream",
     "name": "stdout",
     "output_type": "stream",
     "text": [
      "Records with A and T in domain that are malware or phishing: 42\n"
     ]
    },
    {
     "output_type": "execute_result",
     "data": {
      "text/plain": [
       "DataFrame[num_affected_rows: bigint, num_inserted_rows: bigint]"
      ]
     },
     "execution_count": 107,
     "metadata": {},
     "output_type": "execute_result"
    }
   ],
   "source": [
    "# Load CSV into Spark using pandas\n",
    "sas_url = dbutils.secrets.get(scope=\"trecombs\", key=\"sas_url\")\n",
    "pdf = pd.read_csv(\"sas_url\")\n",
    "\n",
    "# Convert Pandas DataFrame to Spark DataFrame\n",
    "df = spark.createDataFrame(pdf)\n",
    "\n",
    "# Helpers for URL parsing\n",
    "def extract_domain(url: str) -> str:\n",
    "    if not url:\n",
    "        return None\n",
    "    try:\n",
    "        parsed = urlparse(url if \"://\" in url else f\"http://{url}\")\n",
    "        host = parsed.netloc if parsed.netloc else parsed.path\n",
    "        ext = tldextract.extract(host)\n",
    "        if ext.domain and ext.suffix:\n",
    "            return f\"{ext.domain}.{ext.suffix}\".lower()\n",
    "        elif host:\n",
    "            return host.lower()\n",
    "        return None\n",
    "    except Exception:\n",
    "        return None\n",
    "\n",
    "def extract_tld(url: str) -> str:\n",
    "    if not url:\n",
    "        return None\n",
    "    try:\n",
    "        parsed = urlparse(url if \"://\" in url else f\"http://{url}\")\n",
    "        host = parsed.netloc if parsed.netloc else parsed.path\n",
    "        ext = tldextract.extract(host)\n",
    "        return ext.suffix.lower() if ext.suffix else None\n",
    "    except Exception:\n",
    "        return None\n",
    "\n",
    "def whois_owner(domain: str) -> str:\n",
    "    if not domain:\n",
    "        return None\n",
    "    try:\n",
    "        w = whois.whois(domain)\n",
    "        for key in [\"org\", \"organization\", \"registrant_name\", \"name\", \"registrant_organization\"]:\n",
    "            val = w.get(key)\n",
    "            if isinstance(val, list):\n",
    "                val = val[0] if val else None\n",
    "            if val:\n",
    "                return str(val)\n",
    "        registrar = w.get(\"registrar\")\n",
    "        if registrar:\n",
    "            return str(registrar)\n",
    "    except Exception:\n",
    "        pass\n",
    "    return None\n",
    "\n",
    "def count_e_in_domain(domain: str) -> int:\n",
    "    return domain.count(\"e\") if domain else 0\n",
    "\n",
    "def has_A_and_T(domain: str) -> bool:\n",
    "    if not domain:\n",
    "        return False\n",
    "    d = domain.upper()\n",
    "    return (\"A\" in d) and (\"T\" in d)\n",
    "\n",
    "# UDFs\n",
    "extract_domain_udf = F.udf(extract_domain, StringType())\n",
    "extract_tld_udf    = F.udf(extract_tld, StringType())\n",
    "owner_udf          = F.udf(whois_owner, StringType())\n",
    "count_e_udf        = F.udf(count_e_in_domain, IntegerType())\n",
    "has_AT_udf         = F.udf(has_A_and_T, BooleanType())\n",
    "\n",
    "\n",
    "# Transform Data\n",
    "enriched = (df\n",
    "    .withColumn(\"domain\", extract_domain_udf(F.col(\"url\")))\n",
    "    .withColumn(\"tld\", extract_tld_udf(F.col(\"url\")))\n",
    "    .withColumn(\"owner\", owner_udf(F.col(\"domain\")))        \n",
    "    .withColumn(\"e_count\", count_e_udf(F.col(\"domain\")))\n",
    "    .withColumn(\"has_A_and_T\", has_AT_udf(F.col(\"domain\")))\n",
    ")\n",
    "\n",
    "display(enriched.limit(10))\n",
    "\n",
    "# Count malware/phishing with A and T\n",
    "\n",
    "malware_phishing_AT = (enriched\n",
    "    .filter( (F.upper(F.col(\"type\")).isin(\"MALWARE\", \"PHISHING\")) & (F.col(\"has_A_and_T\") == True) )\n",
    "    .count()\n",
    ")\n",
    "\n",
    "print(f\"Records with A and T in domain that are malware or phishing: {malware_phishing_AT}\")\n",
    "\n",
    "table_name = \"malicious_urls_project_catalog.enriched_data.malicious_urls_enriched\"\n",
    "\n",
    "# Drop/create table using CREATE OR REPLACE TABLE\n",
    "enriched.createOrReplaceTempView(\"temp_enriched\")  # create a temp view\n",
    "\n",
    "spark.sql(f\"\"\"\n",
    "CREATE OR REPLACE TABLE {table_name}\n",
    "USING DELTA\n",
    "AS\n",
    "SELECT * FROM temp_enriched\n",
    "\"\"\")\n"
   ]
  },
  {
   "cell_type": "markdown",
   "metadata": {
    "application/vnd.databricks.v1+cell": {
     "cellMetadata": {},
     "inputWidgets": {},
     "nuid": "49275c59-fa01-4a4f-878f-adf2df48e6dd",
     "showTitle": false,
     "tableResultSettingsMap": {},
     "title": ""
    }
   },
   "source": [
    "The following query calculates how many domains exist per type and what percentage each type represents of the total dataset."
   ]
  },
  {
   "cell_type": "code",
   "execution_count": 0,
   "metadata": {
    "application/vnd.databricks.v1+cell": {
     "cellMetadata": {
      "byteLimit": 2048000,
      "implicitDf": true,
      "rowLimit": 10000
     },
     "inputWidgets": {},
     "nuid": "2a3f0148-a0a3-4b83-8150-edf64c746fdf",
     "showTitle": false,
     "tableResultSettingsMap": {},
     "title": ""
    }
   },
   "outputs": [
    {
     "output_type": "display_data",
     "data": {
      "text/html": [
       "<style scoped>\n",
       "  .table-result-container {\n",
       "    max-height: 300px;\n",
       "    overflow: auto;\n",
       "  }\n",
       "  table, th, td {\n",
       "    border: 1px solid black;\n",
       "    border-collapse: collapse;\n",
       "  }\n",
       "  th, td {\n",
       "    padding: 5px;\n",
       "  }\n",
       "  th {\n",
       "    text-align: left;\n",
       "  }\n",
       "</style><div class='table-result-container'><table class='table-result'><thead style='background-color: white'><tr><th>type</th><th>domain_count</th><th>percentage_of_total</th></tr></thead><tbody><tr><td>benign</td><td>752</td><td>68.80</td></tr><tr><td>defacement</td><td>247</td><td>22.60</td></tr><tr><td>phishing</td><td>69</td><td>6.31</td></tr><tr><td>malware</td><td>25</td><td>2.29</td></tr></tbody></table></div>"
      ]
     },
     "metadata": {
      "application/vnd.databricks.v1+output": {
       "addedWidgets": {},
       "aggData": [],
       "aggError": "",
       "aggOverflow": false,
       "aggSchema": [],
       "aggSeriesLimitReached": false,
       "aggType": "",
       "arguments": {},
       "columnCustomDisplayInfos": {},
       "data": [
        [
         "benign",
         752,
         "68.80"
        ],
        [
         "defacement",
         247,
         "22.60"
        ],
        [
         "phishing",
         69,
         "6.31"
        ],
        [
         "malware",
         25,
         "2.29"
        ]
       ],
       "datasetInfos": [
        {
         "name": "_sqldf",
         "schema": {
          "fields": [
           {
            "metadata": {},
            "name": "type",
            "nullable": true,
            "type": "string"
           },
           {
            "metadata": {},
            "name": "domain_count",
            "nullable": false,
            "type": "long"
           },
           {
            "metadata": {},
            "name": "percentage_of_total",
            "nullable": true,
            "type": "decimal(27,2)"
           }
          ],
          "type": "struct"
         },
         "tableIdentifier": null,
         "typeStr": "pyspark.sql.dataframe.DataFrame"
        }
       ],
       "dbfsResultPath": null,
       "isJsonSchema": true,
       "metadata": {
        "createTempViewForImplicitDf": true,
        "dataframeName": "_sqldf",
        "executionCount": 13
       },
       "overflow": false,
       "plotOptions": {
        "customPlotOptions": {},
        "displayType": "table",
        "pivotAggregation": null,
        "pivotColumns": null,
        "xColumns": null,
        "yColumns": null
       },
       "removedWidgets": [],
       "schema": [
        {
         "metadata": "{}",
         "name": "type",
         "type": "\"string\""
        },
        {
         "metadata": "{}",
         "name": "domain_count",
         "type": "\"long\""
        },
        {
         "metadata": "{}",
         "name": "percentage_of_total",
         "type": "\"decimal(27,2)\""
        }
       ],
       "type": "table"
      }
     },
     "output_type": "display_data"
    }
   ],
   "source": [
    "%sql\n",
    "SELECT \n",
    "    type,\n",
    "    COUNT(DISTINCT domain) AS domain_count,\n",
    "    ROUND(\n",
    "        COUNT(DISTINCT domain) * 100.0 / SUM(COUNT(DISTINCT domain)) OVER (), \n",
    "        2\n",
    "    ) AS percentage_of_total\n",
    "FROM malicious_urls_project_catalog.enriched_data.malicious_urls_enriched\n",
    "GROUP BY type\n",
    "ORDER BY domain_count DESC;\n"
   ]
  },
  {
   "cell_type": "markdown",
   "metadata": {
    "application/vnd.databricks.v1+cell": {
     "cellMetadata": {},
     "inputWidgets": {},
     "nuid": "8bf95d42-e2fa-4544-b263-ede554be8f3e",
     "showTitle": false,
     "tableResultSettingsMap": {},
     "title": ""
    }
   },
   "source": [
    "The following query assigns a severity rank to each URL based on its type and orders the results by severity. Limit 50 rows"
   ]
  },
  {
   "cell_type": "code",
   "execution_count": 0,
   "metadata": {
    "application/vnd.databricks.v1+cell": {
     "cellMetadata": {
      "byteLimit": 2048000,
      "implicitDf": true,
      "rowLimit": 10000
     },
     "inputWidgets": {},
     "nuid": "e2bc28f1-1a13-4d5b-bfad-f8a81810d4d3",
     "showTitle": false,
     "tableResultSettingsMap": {},
     "title": ""
    }
   },
   "outputs": [
    {
     "output_type": "display_data",
     "data": {
      "text/html": [
       "<style scoped>\n",
       "  .table-result-container {\n",
       "    max-height: 300px;\n",
       "    overflow: auto;\n",
       "  }\n",
       "  table, th, td {\n",
       "    border: 1px solid black;\n",
       "    border-collapse: collapse;\n",
       "  }\n",
       "  th, td {\n",
       "    padding: 5px;\n",
       "  }\n",
       "  th {\n",
       "    text-align: left;\n",
       "  }\n",
       "</style><div class='table-result-container'><table class='table-result'><thead style='background-color: white'><tr><th>url</th><th>type</th><th>domain</th><th>severity_rank</th></tr></thead><tbody><tr><td>http://ak.imgfarm.com/images/nocache/vicinio/installers/205320000.S10570.1/507981-150710122501-S10570.1/VideoDownloadConvertAuto.exe_0</td><td>malware</td><td>imgfarm.com</td><td>High</td></tr><tr><td>http://www.824555.com/app/member/SportOption.php?uid=guest&langx=gb</td><td>malware</td><td>824555.com</td><td>High</td></tr><tr><td>http://9779.info/%E5%85%AD%E4%B8%80%E5%BF%AB%E4%B9%90%E7%B2%98%E8%B4%B4%E7%94%BB/</td><td>malware</td><td>9779.info</td><td>High</td></tr><tr><td>http://9779.info/%E6%8A%98%E7%BA%B8%E6%89%87%E5%AD%90%E6%8B%BC%E8%B4%B4%E7%94%BB/</td><td>malware</td><td>9779.info</td><td>High</td></tr><tr><td>http://www.0068555.com/cl/?module=System&method=LiveTop&args=livehall</td><td>malware</td><td>0068555.com</td><td>High</td></tr><tr><td>http://9779.info/%E5%84%BF%E7%AB%A5%E7%AB%8B%E4%BD%93%E7%BA%B8%E8%B4%B4%E7%94%BB/</td><td>malware</td><td>9779.info</td><td>High</td></tr><tr><td>http://9779.info/%E5%B9%BC%E5%84%BF%E5%9B%AD%E7%9A%B1%E7%BA%B9%E7%BA%B8%E7%B2%98%E8%B4%B4%E7%94%BB/</td><td>malware</td><td>9779.info</td><td>High</td></tr><tr><td>http://9779.info/%E6%A0%91%E5%8F%B6%E7%B2%98%E8%B4%B4%E7%94%BB/</td><td>malware</td><td>9779.info</td><td>High</td></tr><tr><td>http://www.easycaptchas.com/2F3F28039730C12A5C112FE0D5FEFA2E.captcha?width=132&height=42</td><td>malware</td><td>easycaptchas.com</td><td>High</td></tr><tr><td>http://9779.info/%E5%8F%A4%E4%BB%A3%E4%BA%8C%E5%8D%81%E5%9B%9B%E5%AD%9D%E5%B8%83%E8%B4%B4%E7%94%BB/</td><td>malware</td><td>9779.info</td><td>High</td></tr><tr><td>ru-net.cv.ua/wp-content/config/file.php</td><td>malware</td><td>ru-net.cv.ua</td><td>High</td></tr><tr><td>http://chinacxyy.com/piccodejs-000.asp?lm2=191&x=3&y=2&w=90&h=63&open=1&n=10&tj=0</td><td>malware</td><td>chinacxyy.com</td><td>High</td></tr><tr><td>proplast.co.nz</td><td>malware</td><td>proplast.co.nz</td><td>High</td></tr><tr><td>http://portal.dddgaming.com/docs/rules/15022/cn/game_cn.html?amluMjAxNQ%3D%3D</td><td>malware</td><td>dddgaming.com</td><td>High</td></tr><tr><td>http://9779.info/%E4%BA%94%E8%B0%B7%E6%9D%82%E7%B2%AE%E4%BA%BA%E7%89%A9%E7%B2%98%E8%B4%B4%E7%94%BB/</td><td>malware</td><td>9779.info</td><td>High</td></tr><tr><td>http://9779.info/%E7%AE%80%E5%8D%95%E6%8A%98%E7%BA%B8%E7%B2%98%E8%B4%B4%E7%94%BB/</td><td>malware</td><td>9779.info</td><td>High</td></tr><tr><td>http://haishundl.com/a/qinpengqipaiguanfangxiazai/20131019/263.html</td><td>malware</td><td>haishundl.com</td><td>High</td></tr><tr><td>http://9779.info/%E5%B9%BC%E5%84%BF%E7%B2%BD%E5%8F%B6%E8%B4%B4%E7%94%BB/</td><td>malware</td><td>9779.info</td><td>High</td></tr><tr><td>http://9779.info/%E5%8D%8A%E7%AB%8B%E4%BD%93%E5%B9%BC%E5%84%BF%E5%89%AA%E8%B4%B4%E7%94%BB/</td><td>malware</td><td>9779.info</td><td>High</td></tr><tr><td>http://grasslandhotel.com.vn/index.php/component/djcatalog2/items/6-services</td><td>malware</td><td>grasslandhotel.com.vn</td><td>High</td></tr><tr><td>http://9779.info/%E9%A3%9E%E6%9C%BA%E6%A0%91%E5%8F%B6%E7%B2%98%E8%B4%B4%E7%94%BB/</td><td>malware</td><td>9779.info</td><td>High</td></tr><tr><td>http://9779.info/%E4%BA%94%E8%B0%B7%E6%9D%82%E7%B2%AE%E4%BA%BA%E7%89%A9%E7%B2%98%E8%B4%B4%E7%94%BB/</td><td>malware</td><td>9779.info</td><td>High</td></tr><tr><td>http://9779.info/%E8%9D%8C%E8%9A%AA%E6%89%BE%E5%A6%88%E5%A6%88%E5%89%AA%E8%B4%B4%E7%94%BB/</td><td>malware</td><td>9779.info</td><td>High</td></tr><tr><td>http://9779.info/%E6%AF%9B%E7%BA%BF%E8%B4%B4%E7%94%BB%20%E5%9C%BA%E6%99%AF%E5%9B%BE/</td><td>malware</td><td>9779.info</td><td>High</td></tr><tr><td>http://zoetekroon.nl/wp-content/themes/simplo/js/jquery-1.4.2.min.js</td><td>malware</td><td>zoetekroon.nl</td><td>High</td></tr><tr><td>trtsport.cz</td><td>malware</td><td>trtsport.cz</td><td>High</td></tr><tr><td>http://3cf.ru/2015/07/20/cb-otozval-licenziu-y-gelendjik-banka/</td><td>malware</td><td>3cf.ru</td><td>High</td></tr><tr><td>http://style.org.hc360.com/css/detail/mysite/siteconfig/pro_control.css</td><td>malware</td><td>hc360.com</td><td>High</td></tr><tr><td>http://9779.info/%E5%B0%91%E5%84%BF%E7%A7%8D%E5%AD%90%E7%B2%98%E8%B4%B4%E7%94%BB/</td><td>malware</td><td>9779.info</td><td>High</td></tr><tr><td>http://img14.360buyimg.com/n12/g12/M00/07/06/rBEQYVGV9NMIAAAAAAC3mn17ud8AABZ_wDjtTAAALey000.jpg%21q70.jpg</td><td>malware</td><td>360buyimg.com</td><td>High</td></tr><tr><td>http://img010.hc360.cn/g1/M01/41/73/wKhQMVHabJKEHondAAAAAFmPcEE181.jpg</td><td>malware</td><td>hc360.cn</td><td>High</td></tr><tr><td>http://9779.info/%E6%89%8B%E5%B7%A5%E6%B2%BE%E8%B4%B4%E7%94%BB%E5%9B%BE%E7%89%87/</td><td>malware</td><td>9779.info</td><td>High</td></tr><tr><td>http://www.newstudy.net/community/Web_nMngr.aspx?acaidx=0&board_idx=360&pn=1&sflag=1&mflag=NOT&where=&keyword=</td><td>malware</td><td>newstudy.net</td><td>High</td></tr><tr><td>microencapsulation.readmyweather.com</td><td>malware</td><td>readmyweather.com</td><td>High</td></tr><tr><td>http://www.711100.com/app/member/SportOption.php?uid=guest&langx=gb</td><td>malware</td><td>711100.com</td><td>High</td></tr><tr><td>http://www.vilagnomad.com/tables/payday-loans-direct-lenders-only.php</td><td>malware</td><td>vilagnomad.com</td><td>High</td></tr><tr><td>http://schertzauto.com/wp-content/plugins/gravityforms/css/formsmain.min.css?ver=1.9.11</td><td>malware</td><td>schertzauto.com</td><td>High</td></tr><tr><td>xo3fhvm5lcvzy92q.download</td><td>malware</td><td>xo3fhvm5lcvzy92q.download</td><td>High</td></tr><tr><td>http://portal.dddgaming.com/docs/rules/15022/cn/game_cn.html?amluMjAxNQ%3D%3D</td><td>malware</td><td>dddgaming.com</td><td>High</td></tr><tr><td>http://www.wu8188.com/cl/tpl/five-star/ver1/css/five-star.css?v=ver15.32</td><td>malware</td><td>wu8188.com</td><td>High</td></tr><tr><td>http://schertzauto.com/wp-content/themes/NAPA%20AC%202014%20S/genericons/genericons.css?ver=3.0.2</td><td>malware</td><td>schertzauto.com</td><td>High</td></tr><tr><td>http://www.bhxx.net/xxgl/UploadFiles_7485/201304/2013042315380148.jpg</td><td>malware</td><td>bhxx.net</td><td>High</td></tr><tr><td>http://grasslandhotel.com.vn/index.php/rooms/item/all/18-airticketservices</td><td>malware</td><td>grasslandhotel.com.vn</td><td>High</td></tr><tr><td>http://sexshop-bg.biz/products?page=shop.browse&category_id=276</td><td>defacement</td><td>sexshop-bg.biz</td><td>Medium High</td></tr><tr><td>http://www.designreisende.de/index.php?option=com_content&view=category&layout=blog&id=35&Itemid=88</td><td>defacement</td><td>designreisende.de</td><td>Medium High</td></tr><tr><td>http://mueblesjulianjimenez.es/index.php?page=shop.browse&category_id=14&option=com_virtuemart&Itemid=9</td><td>defacement</td><td>mueblesjulianjimenez.es</td><td>Medium High</td></tr><tr><td>http://www.autoursdurock.info/index.php?option=com_content&view=article&id=106&Itemid=229</td><td>defacement</td><td>autoursdurock.info</td><td>Medium High</td></tr><tr><td>http://www.nabu-gaildorf.de/index.php?option=com_jevents&task=day.listevents&year=2013&month=01&day=01&Itemid=33</td><td>defacement</td><td>nabu-gaildorf.de</td><td>Medium High</td></tr><tr><td>http://www.fitasylum.com/index.php/reset.1</td><td>defacement</td><td>fitasylum.com</td><td>Medium High</td></tr><tr><td>http://fischereiverein.org/bildergalerie/category/45-faenge-oktober-2010</td><td>defacement</td><td>fischereiverein.org</td><td>Medium High</td></tr></tbody></table></div>"
      ]
     },
     "metadata": {
      "application/vnd.databricks.v1+output": {
       "addedWidgets": {},
       "aggData": [],
       "aggError": "",
       "aggOverflow": false,
       "aggSchema": [],
       "aggSeriesLimitReached": false,
       "aggType": "",
       "arguments": {},
       "columnCustomDisplayInfos": {},
       "data": [
        [
         "http://ak.imgfarm.com/images/nocache/vicinio/installers/205320000.S10570.1/507981-150710122501-S10570.1/VideoDownloadConvertAuto.exe_0",
         "malware",
         "imgfarm.com",
         "High"
        ],
        [
         "http://www.824555.com/app/member/SportOption.php?uid=guest&langx=gb",
         "malware",
         "824555.com",
         "High"
        ],
        [
         "http://9779.info/%E5%85%AD%E4%B8%80%E5%BF%AB%E4%B9%90%E7%B2%98%E8%B4%B4%E7%94%BB/",
         "malware",
         "9779.info",
         "High"
        ],
        [
         "http://9779.info/%E6%8A%98%E7%BA%B8%E6%89%87%E5%AD%90%E6%8B%BC%E8%B4%B4%E7%94%BB/",
         "malware",
         "9779.info",
         "High"
        ],
        [
         "http://www.0068555.com/cl/?module=System&method=LiveTop&args=livehall",
         "malware",
         "0068555.com",
         "High"
        ],
        [
         "http://9779.info/%E5%84%BF%E7%AB%A5%E7%AB%8B%E4%BD%93%E7%BA%B8%E8%B4%B4%E7%94%BB/",
         "malware",
         "9779.info",
         "High"
        ],
        [
         "http://9779.info/%E5%B9%BC%E5%84%BF%E5%9B%AD%E7%9A%B1%E7%BA%B9%E7%BA%B8%E7%B2%98%E8%B4%B4%E7%94%BB/",
         "malware",
         "9779.info",
         "High"
        ],
        [
         "http://9779.info/%E6%A0%91%E5%8F%B6%E7%B2%98%E8%B4%B4%E7%94%BB/",
         "malware",
         "9779.info",
         "High"
        ],
        [
         "http://www.easycaptchas.com/2F3F28039730C12A5C112FE0D5FEFA2E.captcha?width=132&height=42",
         "malware",
         "easycaptchas.com",
         "High"
        ],
        [
         "http://9779.info/%E5%8F%A4%E4%BB%A3%E4%BA%8C%E5%8D%81%E5%9B%9B%E5%AD%9D%E5%B8%83%E8%B4%B4%E7%94%BB/",
         "malware",
         "9779.info",
         "High"
        ],
        [
         "ru-net.cv.ua/wp-content/config/file.php",
         "malware",
         "ru-net.cv.ua",
         "High"
        ],
        [
         "http://chinacxyy.com/piccodejs-000.asp?lm2=191&x=3&y=2&w=90&h=63&open=1&n=10&tj=0",
         "malware",
         "chinacxyy.com",
         "High"
        ],
        [
         "proplast.co.nz",
         "malware",
         "proplast.co.nz",
         "High"
        ],
        [
         "http://portal.dddgaming.com/docs/rules/15022/cn/game_cn.html?amluMjAxNQ%3D%3D",
         "malware",
         "dddgaming.com",
         "High"
        ],
        [
         "http://9779.info/%E4%BA%94%E8%B0%B7%E6%9D%82%E7%B2%AE%E4%BA%BA%E7%89%A9%E7%B2%98%E8%B4%B4%E7%94%BB/",
         "malware",
         "9779.info",
         "High"
        ],
        [
         "http://9779.info/%E7%AE%80%E5%8D%95%E6%8A%98%E7%BA%B8%E7%B2%98%E8%B4%B4%E7%94%BB/",
         "malware",
         "9779.info",
         "High"
        ],
        [
         "http://haishundl.com/a/qinpengqipaiguanfangxiazai/20131019/263.html",
         "malware",
         "haishundl.com",
         "High"
        ],
        [
         "http://9779.info/%E5%B9%BC%E5%84%BF%E7%B2%BD%E5%8F%B6%E8%B4%B4%E7%94%BB/",
         "malware",
         "9779.info",
         "High"
        ],
        [
         "http://9779.info/%E5%8D%8A%E7%AB%8B%E4%BD%93%E5%B9%BC%E5%84%BF%E5%89%AA%E8%B4%B4%E7%94%BB/",
         "malware",
         "9779.info",
         "High"
        ],
        [
         "http://grasslandhotel.com.vn/index.php/component/djcatalog2/items/6-services",
         "malware",
         "grasslandhotel.com.vn",
         "High"
        ],
        [
         "http://9779.info/%E9%A3%9E%E6%9C%BA%E6%A0%91%E5%8F%B6%E7%B2%98%E8%B4%B4%E7%94%BB/",
         "malware",
         "9779.info",
         "High"
        ],
        [
         "http://9779.info/%E4%BA%94%E8%B0%B7%E6%9D%82%E7%B2%AE%E4%BA%BA%E7%89%A9%E7%B2%98%E8%B4%B4%E7%94%BB/",
         "malware",
         "9779.info",
         "High"
        ],
        [
         "http://9779.info/%E8%9D%8C%E8%9A%AA%E6%89%BE%E5%A6%88%E5%A6%88%E5%89%AA%E8%B4%B4%E7%94%BB/",
         "malware",
         "9779.info",
         "High"
        ],
        [
         "http://9779.info/%E6%AF%9B%E7%BA%BF%E8%B4%B4%E7%94%BB%20%E5%9C%BA%E6%99%AF%E5%9B%BE/",
         "malware",
         "9779.info",
         "High"
        ],
        [
         "http://zoetekroon.nl/wp-content/themes/simplo/js/jquery-1.4.2.min.js",
         "malware",
         "zoetekroon.nl",
         "High"
        ],
        [
         "trtsport.cz",
         "malware",
         "trtsport.cz",
         "High"
        ],
        [
         "http://3cf.ru/2015/07/20/cb-otozval-licenziu-y-gelendjik-banka/",
         "malware",
         "3cf.ru",
         "High"
        ],
        [
         "http://style.org.hc360.com/css/detail/mysite/siteconfig/pro_control.css",
         "malware",
         "hc360.com",
         "High"
        ],
        [
         "http://9779.info/%E5%B0%91%E5%84%BF%E7%A7%8D%E5%AD%90%E7%B2%98%E8%B4%B4%E7%94%BB/",
         "malware",
         "9779.info",
         "High"
        ],
        [
         "http://img14.360buyimg.com/n12/g12/M00/07/06/rBEQYVGV9NMIAAAAAAC3mn17ud8AABZ_wDjtTAAALey000.jpg%21q70.jpg",
         "malware",
         "360buyimg.com",
         "High"
        ],
        [
         "http://img010.hc360.cn/g1/M01/41/73/wKhQMVHabJKEHondAAAAAFmPcEE181.jpg",
         "malware",
         "hc360.cn",
         "High"
        ],
        [
         "http://9779.info/%E6%89%8B%E5%B7%A5%E6%B2%BE%E8%B4%B4%E7%94%BB%E5%9B%BE%E7%89%87/",
         "malware",
         "9779.info",
         "High"
        ],
        [
         "http://www.newstudy.net/community/Web_nMngr.aspx?acaidx=0&board_idx=360&pn=1&sflag=1&mflag=NOT&where=&keyword=",
         "malware",
         "newstudy.net",
         "High"
        ],
        [
         "microencapsulation.readmyweather.com",
         "malware",
         "readmyweather.com",
         "High"
        ],
        [
         "http://www.711100.com/app/member/SportOption.php?uid=guest&langx=gb",
         "malware",
         "711100.com",
         "High"
        ],
        [
         "http://www.vilagnomad.com/tables/payday-loans-direct-lenders-only.php",
         "malware",
         "vilagnomad.com",
         "High"
        ],
        [
         "http://schertzauto.com/wp-content/plugins/gravityforms/css/formsmain.min.css?ver=1.9.11",
         "malware",
         "schertzauto.com",
         "High"
        ],
        [
         "xo3fhvm5lcvzy92q.download",
         "malware",
         "xo3fhvm5lcvzy92q.download",
         "High"
        ],
        [
         "http://portal.dddgaming.com/docs/rules/15022/cn/game_cn.html?amluMjAxNQ%3D%3D",
         "malware",
         "dddgaming.com",
         "High"
        ],
        [
         "http://www.wu8188.com/cl/tpl/five-star/ver1/css/five-star.css?v=ver15.32",
         "malware",
         "wu8188.com",
         "High"
        ],
        [
         "http://schertzauto.com/wp-content/themes/NAPA%20AC%202014%20S/genericons/genericons.css?ver=3.0.2",
         "malware",
         "schertzauto.com",
         "High"
        ],
        [
         "http://www.bhxx.net/xxgl/UploadFiles_7485/201304/2013042315380148.jpg",
         "malware",
         "bhxx.net",
         "High"
        ],
        [
         "http://grasslandhotel.com.vn/index.php/rooms/item/all/18-airticketservices",
         "malware",
         "grasslandhotel.com.vn",
         "High"
        ],
        [
         "http://sexshop-bg.biz/products?page=shop.browse&category_id=276",
         "defacement",
         "sexshop-bg.biz",
         "Medium High"
        ],
        [
         "http://www.designreisende.de/index.php?option=com_content&view=category&layout=blog&id=35&Itemid=88",
         "defacement",
         "designreisende.de",
         "Medium High"
        ],
        [
         "http://mueblesjulianjimenez.es/index.php?page=shop.browse&category_id=14&option=com_virtuemart&Itemid=9",
         "defacement",
         "mueblesjulianjimenez.es",
         "Medium High"
        ],
        [
         "http://www.autoursdurock.info/index.php?option=com_content&view=article&id=106&Itemid=229",
         "defacement",
         "autoursdurock.info",
         "Medium High"
        ],
        [
         "http://www.nabu-gaildorf.de/index.php?option=com_jevents&task=day.listevents&year=2013&month=01&day=01&Itemid=33",
         "defacement",
         "nabu-gaildorf.de",
         "Medium High"
        ],
        [
         "http://www.fitasylum.com/index.php/reset.1",
         "defacement",
         "fitasylum.com",
         "Medium High"
        ],
        [
         "http://fischereiverein.org/bildergalerie/category/45-faenge-oktober-2010",
         "defacement",
         "fischereiverein.org",
         "Medium High"
        ]
       ],
       "datasetInfos": [
        {
         "name": "_sqldf",
         "schema": {
          "fields": [
           {
            "metadata": {},
            "name": "url",
            "nullable": true,
            "type": "string"
           },
           {
            "metadata": {},
            "name": "type",
            "nullable": true,
            "type": "string"
           },
           {
            "metadata": {},
            "name": "domain",
            "nullable": true,
            "type": "string"
           },
           {
            "metadata": {},
            "name": "severity_rank",
            "nullable": true,
            "type": "string"
           }
          ],
          "type": "struct"
         },
         "tableIdentifier": null,
         "typeStr": "pyspark.sql.dataframe.DataFrame"
        }
       ],
       "dbfsResultPath": null,
       "isJsonSchema": true,
       "metadata": {
        "createTempViewForImplicitDf": true,
        "dataframeName": "_sqldf",
        "executionCount": 16
       },
       "overflow": false,
       "plotOptions": {
        "customPlotOptions": {},
        "displayType": "table",
        "pivotAggregation": null,
        "pivotColumns": null,
        "xColumns": null,
        "yColumns": null
       },
       "removedWidgets": [],
       "schema": [
        {
         "metadata": "{}",
         "name": "url",
         "type": "\"string\""
        },
        {
         "metadata": "{}",
         "name": "type",
         "type": "\"string\""
        },
        {
         "metadata": "{}",
         "name": "domain",
         "type": "\"string\""
        },
        {
         "metadata": "{}",
         "name": "severity_rank",
         "type": "\"string\""
        }
       ],
       "type": "table"
      }
     },
     "output_type": "display_data"
    }
   ],
   "source": [
    "%sql\n",
    "SELECT\n",
    "    url,\n",
    "    type,\n",
    "    domain,\n",
    "    CASE \n",
    "        WHEN type = 'malware' THEN 'High'\n",
    "        WHEN type = 'defacement' THEN 'Medium High'\n",
    "        WHEN type = 'phishing' THEN 'Medium'\n",
    "        WHEN type = 'benign' THEN 'Low'\n",
    "    END AS severity_rank\n",
    "FROM malicious_urls_project_catalog.enriched_data.malicious_urls_enriched\n",
    "where type is not null and domain is not null\n",
    "ORDER BY \n",
    "    CASE \n",
    "        WHEN type = 'malware' THEN 1\n",
    "        WHEN type = 'defacement' THEN 2\n",
    "        WHEN type = 'phishing' THEN 3\n",
    "        WHEN type = 'benign' THEN 4\n",
    "    END\n",
    "    LIMIT 50\n",
    "\n",
    "\n",
    "\n"
   ]
  }
 ],
 "metadata": {
  "application/vnd.databricks.v1+notebook": {
   "computePreferences": null,
   "dashboards": [],
   "environmentMetadata": {
    "base_environment": "",
    "environment_version": "3"
   },
   "inputWidgetPreferences": null,
   "language": "python",
   "notebookMetadata": {
    "mostRecentlyExecutedCommandWithImplicitDF": {
     "commandId": 5187126717258374,
     "dataframes": [
      "_sqldf"
     ]
    },
    "pythonIndentUnit": 4
   },
   "notebookName": "Malicious URL Pipeline",
   "widgets": {}
  },
  "language_info": {
   "name": "python"
  }
 },
 "nbformat": 4,
 "nbformat_minor": 0
}
